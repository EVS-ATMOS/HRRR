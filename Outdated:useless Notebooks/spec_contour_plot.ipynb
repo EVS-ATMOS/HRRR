{
 "metadata": {
  "name": "",
  "signature": "sha256:af3c60c1db413100af169f42cf23bf4e4175b8e8748506d8efbcdd6d6745cd1c"
 },
 "nbformat": 3,
 "nbformat_minor": 0,
 "worksheets": [
  {
   "cells": [
    {
     "cell_type": "code",
     "collapsed": false,
     "input": [
      "import os\n",
      "import matplotlib\n",
      "import matplotlib.pyplot as plt\n",
      "import datetime\n",
      "\n",
      "%matplotlib inline\n",
      "\n",
      "wkdir = os.getcwd()\n",
      "\n",
      "directory = wkdir[:]\n",
      "\n",
      "while \"HRRR\" in directory:\n",
      "    os.chdir(os.path.abspath('..'))\n",
      "    directory = os.getcwd()\n",
      "\n",
      "dirpath = os.path.abspath(\"HRRR\")\n",
      "\n",
      "dirpath2 = dirpath+'/functions/'\n",
      "    \n",
      "filenames = os.listdir(dirpath2)\n",
      "    \n",
      "for name in filenames:\n",
      "    execfile(dirpath2+'/'+name)\n",
      "\n",
      "os.chdir(wkdir)"
     ],
     "language": "python",
     "metadata": {},
     "outputs": [],
     "prompt_number": 1
    },
    {
     "cell_type": "code",
     "collapsed": false,
     "input": [
      "directory = '/Users/mattjohnson/HRRRs/'\n",
      "\n",
      "x = gather_hrrr_files(directory)\n",
      "\n",
      "parameter = 'Cloud mixing ratio'\n"
     ],
     "language": "python",
     "metadata": {},
     "outputs": [],
     "prompt_number": 2
    },
    {
     "cell_type": "code",
     "collapsed": false,
     "input": [
      "datetimestart = x[1][1]"
     ],
     "language": "python",
     "metadata": {},
     "outputs": [],
     "prompt_number": 3
    },
    {
     "cell_type": "code",
     "collapsed": false,
     "input": [
      "datetimeend = x[1][-2]"
     ],
     "language": "python",
     "metadata": {},
     "outputs": [],
     "prompt_number": 4
    },
    {
     "cell_type": "code",
     "collapsed": false,
     "input": [
      "hour = 1"
     ],
     "language": "python",
     "metadata": {},
     "outputs": [],
     "prompt_number": 5
    },
    {
     "cell_type": "code",
     "collapsed": false,
     "input": [
      "loc = [-97.485,36.605]\n",
      "plot_modelhours = False"
     ],
     "language": "python",
     "metadata": {},
     "outputs": [],
     "prompt_number": 6
    },
    {
     "cell_type": "code",
     "collapsed": false,
     "input": [
      "if plot_modelhours:\n",
      "    y = []\n",
      "    for i in hour:\n",
      "        string = 'hrrr.3d.'\n",
      "        string = string+str(datetimestart.year)\n",
      "        if datetimestart.month<10:\n",
      "            string = string+'0'\n",
      "        string = string+str(datetimestart.month)\n",
      "        if datetimestart.day<10:\n",
      "           string =string+'0'\n",
      "        string = string+str(datetimestart.day)\n",
      "        string = string +str(datetimestart.hour)+'00f0'\n",
      "        if i<10:\n",
      "            string = string+'0'\n",
      "        string = string+str(i)+'.grib2'\n",
      "        y.append(string)\n",
      "            \n",
      "        times = [datetime.datetime(datetimestart.year,datetimestart.month,datetimestart.day,datetimestart.hour+i) for i in hour]\n",
      "else:\n",
      "    x = gather_hrrr_files(directory)\n",
      "    y = np.array(x[0])\n",
      "    y = y.transpose()\n",
      "    y = y[hour]\n",
      "\n",
      "    dates = x[1]\n",
      "\n",
      "    if datetimestart == None != datetimeend:\n",
      "        print 'error datetimestart and datetime end must both not be or both be none'\n",
      "    elif datetimestart == None:\n",
      "        startindex = 0\n",
      "        endindex = len(dates)\n",
      "    else:\n",
      "        startindex = dates.index(datetimestart)\n",
      "        endindex = dates.index(datetimeend) \n",
      "\n",
      "        \n",
      "\n",
      "    y = y[startindex:endindex]\n",
      "    times = []"
     ],
     "language": "python",
     "metadata": {},
     "outputs": [],
     "prompt_number": 7
    },
    {
     "cell_type": "code",
     "collapsed": false,
     "input": [
      "wkdir = os.getcwd()\n",
      "os.chdir(directory)\n",
      "    \n",
      "values = []\n",
      "    \n",
      "for i in range(len(y)):\n",
      "    info = read_Hrrr_spec_loc(y[i], [parameter],loc = [-97.485,36.605], max = False)\n",
      "    values.append(info[0][0])\n",
      "    if not plot_modelhours:\n",
      "        times.append(x[1][i])"
     ],
     "language": "python",
     "metadata": {},
     "outputs": [],
     "prompt_number": 8
    },
    {
     "cell_type": "code",
     "collapsed": false,
     "input": [
      "times = np.array(times)\n",
      "\n",
      "times = [(i-times[0]).total_seconds()/60/60 for i in times]"
     ],
     "language": "python",
     "metadata": {},
     "outputs": [],
     "prompt_number": 9
    },
    {
     "cell_type": "code",
     "collapsed": false,
     "input": [],
     "language": "python",
     "metadata": {},
     "outputs": [],
     "prompt_number": 9
    },
    {
     "cell_type": "code",
     "collapsed": false,
     "input": [
      "times = np.array(times)"
     ],
     "language": "python",
     "metadata": {},
     "outputs": [],
     "prompt_number": 10
    },
    {
     "cell_type": "code",
     "collapsed": false,
     "input": [
      "hinp = np.array(info[2])\n"
     ],
     "language": "python",
     "metadata": {},
     "outputs": [],
     "prompt_number": 11
    },
    {
     "cell_type": "code",
     "collapsed": false,
     "input": [
      "values = np.array(values)\n"
     ],
     "language": "python",
     "metadata": {},
     "outputs": [],
     "prompt_number": 12
    },
    {
     "cell_type": "code",
     "collapsed": false,
     "input": [
      "%matplotlib inline"
     ],
     "language": "python",
     "metadata": {},
     "outputs": [],
     "prompt_number": 13
    },
    {
     "cell_type": "code",
     "collapsed": false,
     "input": [
      "units = info[-1]\n",
      "\n",
      "pc = plt.pcolormesh(times,hinp,values.transpose())\n",
      "\n",
      "plt.colorbar(mappable = pc)\n",
      "    \n",
      "plt.xlabel('Time')\n",
      "plt.ylabel(info[1][0]+' '+units[0])\n",
      "\n",
      "    \n",
      "os.chdir(wkdir)"
     ],
     "language": "python",
     "metadata": {},
     "outputs": [
      {
       "output_type": "stream",
       "stream": "stderr",
       "text": [
        "/Users/mattjohnson/anaconda/lib/python2.7/site-packages/matplotlib/colorbar.py:829: RuntimeWarning: invalid value encountered in divide\n",
        "  z = np.take(y, i0) + (xn - np.take(b, i0)) * dy / db\n",
        "/Users/mattjohnson/anaconda/lib/python2.7/site-packages/matplotlib/colorbar.py:581: RuntimeWarning: invalid value encountered in greater\n",
        "  inrange = (ticks > -0.001) & (ticks < 1.001)\n",
        "/Users/mattjohnson/anaconda/lib/python2.7/site-packages/matplotlib/colorbar.py:581: RuntimeWarning: invalid value encountered in less\n",
        "  inrange = (ticks > -0.001) & (ticks < 1.001)\n"
       ]
      },
      {
       "metadata": {},
       "output_type": "display_data",
       "png": "[encoded data removed]",
       "text": [
        "<matplotlib.figure.Figure at 0x102bb8710>"
       ]
      }
     ],
     "prompt_number": 14
    },
    {
     "cell_type": "code",
     "collapsed": false,
     "input": [],
     "language": "python",
     "metadata": {},
     "outputs": [],
     "prompt_number": 16
    },
    {
     "cell_type": "code",
     "collapsed": false,
     "input": [],
     "language": "python",
     "metadata": {},
     "outputs": []
    }
   ],
   "metadata": {}
  }
 ]
}