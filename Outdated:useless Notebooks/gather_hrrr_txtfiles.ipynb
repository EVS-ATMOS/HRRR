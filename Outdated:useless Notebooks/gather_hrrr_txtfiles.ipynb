{
 "metadata": {
  "name": "",
  "signature": "sha256:a036b5ce277feb8e3a3fb60dd974106d7b7df3cfaa9af35975c7b349efba2dd7"
 },
 "nbformat": 3,
 "nbformat_minor": 0,
 "worksheets": [
  {
   "cells": [
    {
     "cell_type": "code",
     "collapsed": false,
     "input": [
      "import datetime\n",
      "import numpy as np\n",
      "import pyhrrr"
     ],
     "language": "python",
     "metadata": {},
     "outputs": [],
     "prompt_number": 1
    },
    {
     "cell_type": "code",
     "collapsed": false,
     "input": [],
     "language": "python",
     "metadata": {},
     "outputs": []
    }
   ],
   "metadata": {}
  }
 ]
}