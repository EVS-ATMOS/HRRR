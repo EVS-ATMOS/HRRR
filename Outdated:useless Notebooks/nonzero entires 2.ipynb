{
 "metadata": {
  "name": "",
  "signature": "sha256:c185adc9bd82ac621727e97698a1ef1527a378bebdbe9d56047346850d0aeb8e"
 },
 "nbformat": 3,
 "nbformat_minor": 0,
 "worksheets": [
  {
   "cells": [
    {
     "cell_type": "code",
     "collapsed": false,
     "input": [
      "import pyhrrr\n",
      "import numpy as np\n",
      "import pygrib\n",
      "import os"
     ],
     "language": "python",
     "metadata": {},
     "outputs": [],
     "prompt_number": 1
    },
    {
     "cell_type": "code",
     "collapsed": false,
     "input": [
      "filename = 'hrrr.3d.201405291000f001.grib2'\n",
      "parameter = 'Cloud mixing ratio'\n",
      "directory = '/Users/mattjohnson/HRRRs'"
     ],
     "language": "python",
     "metadata": {},
     "outputs": [],
     "prompt_number": 2
    },
    {
     "cell_type": "code",
     "collapsed": false,
     "input": [],
     "language": "python",
     "metadata": {},
     "outputs": [],
     "prompt_number": 2
    },
    {
     "cell_type": "code",
     "collapsed": false,
     "input": [],
     "language": "python",
     "metadata": {},
     "outputs": [],
     "prompt_number": 2
    },
    {
     "cell_type": "code",
     "collapsed": false,
     "input": [
      "\n",
      "\n",
      "\n",
      "os.chdir(directory)\n",
      "[data,parameterlist,datah,dataloc,units] = pyhrrr.read_hrrr(filename,[parameter], directory = directory)\n",
      "    \n",
      "data = np.array(data)\n",
      "data = data[0]\n",
      "lats = dataloc[0]\n",
      "lons = dataloc[1]\n",
      "goodlocs = []\n",
      "goodcoords = []\n",
      "    \n",
      "                    \n",
      "    "
     ],
     "language": "python",
     "metadata": {},
     "outputs": [],
     "prompt_number": 3
    },
    {
     "cell_type": "code",
     "collapsed": false,
     "input": [
      "datatest = data!=0"
     ],
     "language": "python",
     "metadata": {},
     "outputs": [],
     "prompt_number": 4
    },
    {
     "cell_type": "code",
     "collapsed": false,
     "input": [
      "datatest"
     ],
     "language": "python",
     "metadata": {},
     "outputs": [
      {
       "metadata": {},
       "output_type": "pyout",
       "prompt_number": 5,
       "text": [
        "array([[[False, False, False, ..., False, False, False],\n",
        "        [False, False, False, ..., False, False, False],\n",
        "        [False, False, False, ..., False, False, False],\n",
        "        ..., \n",
        "        [False, False, False, ..., False, False, False],\n",
        "        [False, False, False, ..., False, False, False],\n",
        "        [False, False, False, ..., False, False, False]],\n",
        "\n",
        "       [[False, False, False, ..., False, False, False],\n",
        "        [False, False, False, ..., False, False, False],\n",
        "        [False, False, False, ..., False, False, False],\n",
        "        ..., \n",
        "        [False, False, False, ...,  True,  True,  True],\n",
        "        [False, False, False, ...,  True,  True,  True],\n",
        "        [False, False, False, ...,  True,  True,  True]],\n",
        "\n",
        "       [[False, False, False, ..., False, False, False],\n",
        "        [False, False, False, ..., False, False, False],\n",
        "        [False, False, False, ..., False, False, False],\n",
        "        ..., \n",
        "        [False, False, False, ..., False, False, False],\n",
        "        [False, False, False, ..., False, False,  True],\n",
        "        [False, False, False, ..., False,  True,  True]],\n",
        "\n",
        "       ..., \n",
        "       [[ True,  True,  True, ...,  True,  True,  True],\n",
        "        [ True,  True,  True, ...,  True,  True,  True],\n",
        "        [ True,  True,  True, ...,  True,  True,  True],\n",
        "        ..., \n",
        "        [ True,  True,  True, ...,  True,  True,  True],\n",
        "        [ True,  True,  True, ...,  True,  True,  True],\n",
        "        [ True,  True,  True, ...,  True,  True,  True]],\n",
        "\n",
        "       [[ True,  True,  True, ...,  True,  True,  True],\n",
        "        [ True,  True,  True, ...,  True,  True,  True],\n",
        "        [ True,  True,  True, ...,  True,  True,  True],\n",
        "        ..., \n",
        "        [ True,  True,  True, ...,  True,  True,  True],\n",
        "        [ True,  True,  True, ...,  True,  True,  True],\n",
        "        [ True,  True,  True, ...,  True,  True,  True]],\n",
        "\n",
        "       [[ True,  True,  True, ...,  True,  True,  True],\n",
        "        [ True,  True,  True, ...,  True,  True,  True],\n",
        "        [ True,  True,  True, ...,  True,  True,  True],\n",
        "        ..., \n",
        "        [ True,  True,  True, ...,  True,  True,  True],\n",
        "        [ True,  True,  True, ...,  True,  True,  True],\n",
        "        [ True,  True,  True, ...,  True,  True,  True]]], dtype=bool)"
       ]
      }
     ],
     "prompt_number": 5
    },
    {
     "cell_type": "code",
     "collapsed": false,
     "input": [],
     "language": "python",
     "metadata": {},
     "outputs": [],
     "prompt_number": 5
    },
    {
     "cell_type": "code",
     "collapsed": false,
     "input": [],
     "language": "python",
     "metadata": {},
     "outputs": [],
     "prompt_number": 5
    },
    {
     "cell_type": "code",
     "collapsed": false,
     "input": [
      "count = 0\n",
      "for i in range(data.shape[0]):\n",
      "        for j in range(data.shape[1]):\n",
      "            for k in range(data.shape[2]):\n",
      "                if datatest[i][j][k]:\n",
      "                    count = count+1\n",
      "                    goodcoords.append((j,k))\n",
      "                    goodlocs.append((lats[j][k],lons[j][k]))"
     ],
     "language": "python",
     "metadata": {},
     "outputs": [],
     "prompt_number": 6
    },
    {
     "cell_type": "code",
     "collapsed": false,
     "input": [
      "len(goodlocs)"
     ],
     "language": "python",
     "metadata": {},
     "outputs": [
      {
       "metadata": {},
       "output_type": "pyout",
       "prompt_number": 7,
       "text": [
        "19416429"
       ]
      }
     ],
     "prompt_number": 7
    },
    {
     "cell_type": "code",
     "collapsed": false,
     "input": [
      "data.shape[0]*data.shape[1]*data.shape[2]"
     ],
     "language": "python",
     "metadata": {},
     "outputs": [
      {
       "metadata": {},
       "output_type": "pyout",
       "prompt_number": 8,
       "text": [
        "76205640"
       ]
      }
     ],
     "prompt_number": 8
    },
    {
     "cell_type": "code",
     "collapsed": false,
     "input": [
      "goodlocs = list(set(goodlocs))\n",
      "goodcoords = list(set(goodcoords))                    \n"
     ],
     "language": "python",
     "metadata": {},
     "outputs": [],
     "prompt_number": 9
    },
    {
     "cell_type": "code",
     "collapsed": false,
     "input": [
      "len(goodlocs)"
     ],
     "language": "python",
     "metadata": {},
     "outputs": [
      {
       "metadata": {},
       "output_type": "pyout",
       "prompt_number": 10,
       "text": [
        "1905141"
       ]
      }
     ],
     "prompt_number": 10
    },
    {
     "cell_type": "code",
     "collapsed": false,
     "input": [
      "c = goodcoords[5]"
     ],
     "language": "python",
     "metadata": {},
     "outputs": [],
     "prompt_number": 12
    },
    {
     "cell_type": "code",
     "collapsed": false,
     "input": [
      "c"
     ],
     "language": "python",
     "metadata": {},
     "outputs": [
      {
       "metadata": {},
       "output_type": "pyout",
       "prompt_number": 17,
       "text": [
        "(491, 1141)"
       ]
      }
     ],
     "prompt_number": 17
    },
    {
     "cell_type": "code",
     "collapsed": false,
     "input": [
      "datat = np.transpose(data)"
     ],
     "language": "python",
     "metadata": {},
     "outputs": [],
     "prompt_number": 14
    },
    {
     "cell_type": "code",
     "collapsed": false,
     "input": [
      "datat.shape"
     ],
     "language": "python",
     "metadata": {},
     "outputs": [
      {
       "metadata": {},
       "output_type": "pyout",
       "prompt_number": 15,
       "text": [
        "(1799, 1059, 40)"
       ]
      }
     ],
     "prompt_number": 15
    },
    {
     "cell_type": "code",
     "collapsed": false,
     "input": [
      "datat[c[1]][c[0]][:]"
     ],
     "language": "python",
     "metadata": {},
     "outputs": [
      {
       "metadata": {},
       "output_type": "pyout",
       "prompt_number": 18,
       "text": [
        "array([  0.00000000e+00,   0.00000000e+00,   0.00000000e+00,\n",
        "         0.00000000e+00,   0.00000000e+00,   0.00000000e+00,\n",
        "         0.00000000e+00,   0.00000000e+00,   0.00000000e+00,\n",
        "         0.00000000e+00,   0.00000000e+00,   0.00000000e+00,\n",
        "         0.00000000e+00,   0.00000000e+00,   0.00000000e+00,\n",
        "         0.00000000e+00,   0.00000000e+00,   0.00000000e+00,\n",
        "         0.00000000e+00,   0.00000000e+00,   0.00000000e+00,\n",
        "         0.00000000e+00,   0.00000000e+00,   0.00000000e+00,\n",
        "         0.00000000e+00,   0.00000000e+00,   0.00000000e+00,\n",
        "         0.00000000e+00,   0.00000000e+00,   0.00000000e+00,\n",
        "         0.00000000e+00,   1.00000043e-12,   1.00000043e-12,\n",
        "         1.00000043e-12,   1.00000043e-12,   1.00000043e-12,\n",
        "         1.00000043e-12,   1.00000043e-12,   1.00000043e-12,\n",
        "         1.00000043e-12])"
       ]
      }
     ],
     "prompt_number": 18
    },
    {
     "cell_type": "code",
     "collapsed": false,
     "input": [],
     "language": "python",
     "metadata": {},
     "outputs": []
    }
   ],
   "metadata": {}
  }
 ]
}