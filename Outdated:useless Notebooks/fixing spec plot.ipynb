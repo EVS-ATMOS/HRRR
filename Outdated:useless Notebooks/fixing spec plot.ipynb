{
 "metadata": {
  "name": "",
  "signature": "sha256:7e73644262801bd0b1dd62bd7187f24b9b2f6e98c00625b558af42a2ba9c707d"
 },
 "nbformat": 3,
 "nbformat_minor": 0,
 "worksheets": [
  {
   "cells": [
    {
     "cell_type": "code",
     "collapsed": false,
     "input": [
      "import numpy as np\n",
      "import matplotlib\n",
      "import os\n",
      "import matplotlib.pyplot as plt\n",
      "import datetime\n",
      "import pyhrrr\n",
      "\n",
      "directory = '/Users/mattjohnson/HRRRs'\n",
      "parameter = 'Cloud mixing ratio'\n",
      "loc = [-90,40]\n",
      "plot_modelhours = False\n",
      "hour = 1\n",
      "datetimestart = None\n",
      "datetimeend = None\n",
      "hinp = None\n",
      "#if contour:\n",
      " #   return plot_hrrr_contour_spec(directory=directory,parameter=parameter,datetimestart = datetimestart,datetimeend=datetimeend,scaling = scaling,hour = hour,loc = loc,plot_modelhours = plot_modelhours,vmin = vmin, vmax = vmax)\n",
      "if plot_modelhours:\n",
      "    y = []\n",
      "    for i in hour:\n",
      "        string = 'hrrr.3d.'\n",
      "        string = string+str(datetimestart.year)\n",
      "        if datetimestart.month<10:\n",
      "            string = string+'0'\n",
      "        string = string+str(datetimestart.month)            \n",
      "        if datetimestart.day<10:\n",
      "            string =string+'0'\n",
      "        string = string+str(datetimestart.day)\n",
      "        string = string +str(datetimestart.hour)+'00f0'\n",
      "        if i<10:\n",
      "            string = string+'0'\n",
      "        string = string+str(i)+'.grib2'\n",
      "        y.append(string)\n",
      "            \n",
      "    times = [datetime.datetime(datetimestart.year,datetimestart.month,datetimestart.day,datetimestart.hour+i) for i in hour]\n",
      "else:\n",
      "    x = pyhrrr.gather_hrrr_files(directory)\n",
      "    y = np.array(x[0])\n",
      "    y = y.transpose()\n",
      "    y = y[hour]\n",
      "        \n",
      "    dates = x[1]\n",
      "\n",
      "#    if datetimestart == None != datetimeend:\n",
      "#      print 'error datetimestart and datetime end must both not be or both be none'\n",
      " #       return\n",
      "    if datetimestart == None: #el\n",
      "        startindex = 0\n",
      "        endindex = len(dates)\n",
      "    else:\n",
      "        startindex = dates.index(datetimestart)\n",
      "        endindex = dates.index(datetimeend) \n",
      "\n",
      "        \n",
      "\n",
      "    y = y[startindex:endindex]\n",
      "    times = []\n",
      "        \n",
      "    \n",
      "wkdir = os.getcwd()\n",
      "os.chdir(directory)\n",
      "    \n",
      "values = []\n",
      "    \n"
     ],
     "language": "python",
     "metadata": {},
     "outputs": [],
     "prompt_number": 2
    },
    {
     "cell_type": "code",
     "collapsed": false,
     "input": [
      "values = []\n",
      "times = []\n",
      "\n",
      "for i in range(len(y)):\n",
      "    if y[i] == None:\n",
      "        continue \n",
      "    else:\n",
      "        if hinp != None:\n",
      "            info = pyhrrr.read_hrrr_spec(y[i], [parameter],loc = loc, max = False)\n",
      "            index = info[2].tolist().index(hinp)\n",
      "            datart = info[0][0]\n",
      "            datarts = datart[index]\n",
      "        else:\n",
      "            info = pyhrrr.read_hrrr_spec(y[i], [parameter],loc = loc, max = True)\n",
      "            datarts = info[0][0]\n",
      "        values.append(datarts)\n",
      "        if not plot_modelhours:\n",
      "            times.append(x[1][i])\n",
      "    \n"
     ],
     "language": "python",
     "metadata": {},
     "outputs": [],
     "prompt_number": 23
    },
    {
     "cell_type": "code",
     "collapsed": false,
     "input": [
      "times"
     ],
     "language": "python",
     "metadata": {},
     "outputs": [
      {
       "metadata": {},
       "output_type": "pyout",
       "prompt_number": 25,
       "text": [
        "[datetime.datetime(2014, 5, 29, 10, 0),\n",
        " datetime.datetime(2014, 5, 29, 11, 0),\n",
        " datetime.datetime(2014, 5, 29, 12, 0),\n",
        " datetime.datetime(2014, 5, 29, 13, 0),\n",
        " datetime.datetime(2014, 5, 29, 14, 0),\n",
        " datetime.datetime(2014, 5, 29, 15, 0),\n",
        " datetime.datetime(2014, 5, 29, 16, 0),\n",
        " datetime.datetime(2014, 5, 29, 17, 0)]"
       ]
      }
     ],
     "prompt_number": 25
    },
    {
     "cell_type": "code",
     "collapsed": false,
     "input": [
      "\n",
      "%matplotlib inline\n",
      "final_unit = ''\n",
      "scaling = float(10**12)\n",
      "if final_unit == '':\n",
      "    final_unit = info[-1]\n",
      "    \n",
      "plt.plot(times, scaling*np.array(values))\n",
      "plt.xlabel('Time hrs')\n",
      "plt.ylabel(parameter+' '+final_unit[0])\n",
      "    \n",
      "    \n",
      "    \n",
      "os.chdir(wkdir)"
     ],
     "language": "python",
     "metadata": {},
     "outputs": [
      {
       "metadata": {},
       "output_type": "display_data",
       "png": "[encoded data removed]",
       "text": [
        "<matplotlib.figure.Figure at 0x10cf11710>"
       ]
      }
     ],
     "prompt_number": 26
    },
    {
     "cell_type": "code",
     "collapsed": false,
     "input": [
      "values"
     ],
     "language": "python",
     "metadata": {},
     "outputs": [
      {
       "metadata": {},
       "output_type": "pyout",
       "prompt_number": 13,
       "text": [
        "[0.0,\n",
        " 0.0,\n",
        " 0.0,\n",
        " 0.0,\n",
        " 0.0,\n",
        " 0.0,\n",
        " 0.0,\n",
        " 0.0,\n",
        " None,\n",
        " 0.0,\n",
        " 0.0,\n",
        " 0.0,\n",
        " 0.0,\n",
        " 0.0,\n",
        " 0.0,\n",
        " 0.0,\n",
        " 0.0,\n",
        " nan,\n",
        " 0.0,\n",
        " 0.0,\n",
        " 0.0,\n",
        " 0.0,\n",
        " 0.0,\n",
        " 0.0,\n",
        " 0.0,\n",
        " 0.0,\n",
        " 0.0]"
       ]
      }
     ],
     "prompt_number": 13
    },
    {
     "cell_type": "code",
     "collapsed": false,
     "input": [],
     "language": "python",
     "metadata": {},
     "outputs": []
    }
   ],
   "metadata": {}
  }
 ]
}