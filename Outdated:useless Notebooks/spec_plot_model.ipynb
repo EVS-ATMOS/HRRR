{
 "metadata": {
  "name": "",
  "signature": "sha256:374bb61d58eb6068ebbafdfea4bcbbf5e4bc92692dd6a46db8e3b622028fdd82"
 },
 "nbformat": 3,
 "nbformat_minor": 0,
 "worksheets": [
  {
   "cells": [
    {
     "cell_type": "code",
     "collapsed": false,
     "input": [
      "import os\n",
      "import matplotlib\n",
      "%matplotlib inline\n",
      "\n",
      "wkdir = os.getcwd()\n",
      "\n",
      "directory = wkdir[:]\n",
      "\n",
      "while \"HRRR\" in directory:\n",
      "    os.chdir(os.path.abspath('..'))\n",
      "    directory = os.getcwd()\n",
      "\n",
      "dirpath = os.path.abspath(\"HRRR\")\n",
      "\n",
      "dirpath2 = dirpath+'/functions/'\n",
      "    \n",
      "filenames = os.listdir(dirpath2)\n",
      "    \n",
      "for name in filenames:\n",
      "    execfile(dirpath2+'/'+name)\n",
      "\n",
      "os.chdir(wkdir)"
     ],
     "language": "python",
     "metadata": {},
     "outputs": [],
     "prompt_number": 1
    },
    {
     "cell_type": "code",
     "collapsed": false,
     "input": [
      "directory = '/Users/mattjohnson/HRRRs/'\n",
      "\n",
      "x = gather_hrrr_files(directory)"
     ],
     "language": "python",
     "metadata": {},
     "outputs": [],
     "prompt_number": 2
    },
    {
     "cell_type": "code",
     "collapsed": false,
     "input": [
      "parameter = 'Relative humidity'"
     ],
     "language": "python",
     "metadata": {},
     "outputs": [],
     "prompt_number": 3
    },
    {
     "cell_type": "code",
     "collapsed": false,
     "input": [],
     "language": "python",
     "metadata": {},
     "outputs": [],
     "prompt_number": 3
    },
    {
     "cell_type": "code",
     "collapsed": false,
     "input": [
      "hour = [1,3,4]"
     ],
     "language": "python",
     "metadata": {},
     "outputs": [],
     "prompt_number": 4
    },
    {
     "cell_type": "code",
     "collapsed": false,
     "input": [
      "datestarttime = x[1][2]"
     ],
     "language": "python",
     "metadata": {},
     "outputs": [],
     "prompt_number": 5
    },
    {
     "cell_type": "code",
     "collapsed": false,
     "input": [
      "spec_hrrr_plot(directory=directory,parameter = parameter,hinp = 100,hour = hour,plot_modelhours=True,datetimestart = datestarttime)"
     ],
     "language": "python",
     "metadata": {},
     "outputs": [
      {
       "metadata": {},
       "output_type": "display_data",
       "png": "[encoded data removed]",
       "text": [
        "<matplotlib.figure.Figure at 0x10358b090>"
       ]
      }
     ],
     "prompt_number": 6
    },
    {
     "cell_type": "code",
     "collapsed": false,
     "input": [],
     "language": "python",
     "metadata": {},
     "outputs": [
      {
       "metadata": {},
       "output_type": "pyout",
       "prompt_number": 9,
       "text": [
        "u'/Users/mattjohnson'"
       ]
      }
     ],
     "prompt_number": 9
    },
    {
     "cell_type": "code",
     "collapsed": false,
     "input": [],
     "language": "python",
     "metadata": {},
     "outputs": []
    }
   ],
   "metadata": {}
  }
 ]
}