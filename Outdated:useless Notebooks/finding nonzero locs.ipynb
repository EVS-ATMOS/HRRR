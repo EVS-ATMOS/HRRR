{
 "metadata": {
  "name": "",
  "signature": "sha256:70dfa81bf56e43ce3936f6a60ff3879c14146ddd88a7d79895ea87ed754efef3"
 },
 "nbformat": 3,
 "nbformat_minor": 0,
 "worksheets": [
  {
   "cells": [
    {
     "cell_type": "code",
     "collapsed": false,
     "input": [
      "\n",
      "import os\n",
      "import numpy as np\n",
      "import pyhrrr\n",
      "\n"
     ],
     "language": "python",
     "metadata": {},
     "outputs": [],
     "prompt_number": 2
    },
    {
     "cell_type": "code",
     "collapsed": false,
     "input": [
      "parameter = 'Cloud mixing ratio'"
     ],
     "language": "python",
     "metadata": {},
     "outputs": [],
     "prompt_number": 3
    },
    {
     "cell_type": "code",
     "collapsed": false,
     "input": [
      "filename = 'hrrr.3d.201405291000f001.grib2'"
     ],
     "language": "python",
     "metadata": {},
     "outputs": [],
     "prompt_number": 4
    },
    {
     "cell_type": "code",
     "collapsed": false,
     "input": [
      "import pygrib"
     ],
     "language": "python",
     "metadata": {},
     "outputs": [],
     "prompt_number": 5
    },
    {
     "cell_type": "code",
     "collapsed": false,
     "input": [
      "[data,parameterlist,datah,dataloc,units] = pyhrrr.read_hrrr(filename,[parameter], directory = '/Users/mattjohnson/HRRRs')"
     ],
     "language": "python",
     "metadata": {},
     "outputs": [],
     "prompt_number": 6
    },
    {
     "cell_type": "code",
     "collapsed": false,
     "input": [
      "data = np.array(data)\n",
      "data = data[0]\n",
      "\n",
      "goodcoords = data.nonzero()"
     ],
     "language": "python",
     "metadata": {},
     "outputs": [],
     "prompt_number": 7
    },
    {
     "cell_type": "code",
     "collapsed": false,
     "input": [
      "lats = dataloc[0]\n",
      "lons = dataloc[1]"
     ],
     "language": "python",
     "metadata": {},
     "outputs": [],
     "prompt_number": 8
    },
    {
     "cell_type": "code",
     "collapsed": false,
     "input": [
      "goodlocs = []\n",
      "\n",
      "\n",
      "for i in range(len(goodcoords[0])):\n",
      "    z = goodcoords[0][i]\n",
      "    x = goodcoords[1][i]\n",
      "    y = goodcoords[2][i]\n",
      "    goodlocs.append((lats[x][y],lons[x][y]))"
     ],
     "language": "python",
     "metadata": {},
     "outputs": [],
     "prompt_number": 11
    },
    {
     "cell_type": "code",
     "collapsed": false,
     "input": [
      "goodlocs = list(set(goodlocs))"
     ],
     "language": "python",
     "metadata": {},
     "outputs": [],
     "prompt_number": 13
    },
    {
     "cell_type": "code",
     "collapsed": false,
     "input": [
      "len(goodlocs)"
     ],
     "language": "python",
     "metadata": {},
     "outputs": [
      {
       "metadata": {},
       "output_type": "pyout",
       "prompt_number": 14,
       "text": [
        "1905141"
       ]
      }
     ],
     "prompt_number": 14
    },
    {
     "cell_type": "code",
     "collapsed": false,
     "input": [],
     "language": "python",
     "metadata": {},
     "outputs": [
      {
       "metadata": {},
       "output_type": "pyout",
       "prompt_number": 15,
       "text": [
        "(24.82915490192925, -91.261495473029242)"
       ]
      }
     ],
     "prompt_number": 15
    },
    {
     "cell_type": "code",
     "collapsed": false,
     "input": [
      "data.shape"
     ],
     "language": "python",
     "metadata": {},
     "outputs": [
      {
       "metadata": {},
       "output_type": "pyout",
       "prompt_number": 16,
       "text": [
        "(40, 1059, 1799)"
       ]
      }
     ],
     "prompt_number": 16
    },
    {
     "cell_type": "code",
     "collapsed": false,
     "input": [
      "1059*1799"
     ],
     "language": "python",
     "metadata": {},
     "outputs": [
      {
       "metadata": {},
       "output_type": "pyout",
       "prompt_number": 17,
       "text": [
        "1905141"
       ]
      }
     ],
     "prompt_number": 17
    },
    {
     "cell_type": "code",
     "collapsed": false,
     "input": [
      "data = np.transpose(data)"
     ],
     "language": "python",
     "metadata": {},
     "outputs": [],
     "prompt_number": 36
    },
    {
     "cell_type": "code",
     "collapsed": false,
     "input": [
      "data[200][50][:]"
     ],
     "language": "python",
     "metadata": {},
     "outputs": [
      {
       "metadata": {},
       "output_type": "pyout",
       "prompt_number": 42,
       "text": [
        "array([  0.00000000e+00,   0.00000000e+00,   0.00000000e+00,\n",
        "         0.00000000e+00,   0.00000000e+00,   0.00000000e+00,\n",
        "         0.00000000e+00,   0.00000000e+00,   0.00000000e+00,\n",
        "         0.00000000e+00,   0.00000000e+00,   0.00000000e+00,\n",
        "         0.00000000e+00,   0.00000000e+00,   0.00000000e+00,\n",
        "         0.00000000e+00,   0.00000000e+00,   0.00000000e+00,\n",
        "         0.00000000e+00,   0.00000000e+00,   0.00000000e+00,\n",
        "         0.00000000e+00,   0.00000000e+00,   0.00000000e+00,\n",
        "         0.00000000e+00,   0.00000000e+00,   0.00000000e+00,\n",
        "         0.00000000e+00,   0.00000000e+00,   0.00000000e+00,\n",
        "         0.00000000e+00,   1.00000043e-12,   1.00000043e-12,\n",
        "         1.00000043e-12,   1.00000043e-12,   1.00000043e-12,\n",
        "         1.00000043e-12,   1.00000043e-12,   1.00000043e-12,\n",
        "         1.00000043e-12])"
       ]
      }
     ],
     "prompt_number": 42
    },
    {
     "cell_type": "code",
     "collapsed": false,
     "input": [],
     "language": "python",
     "metadata": {},
     "outputs": [],
     "prompt_number": 26
    },
    {
     "cell_type": "code",
     "collapsed": false,
     "input": [],
     "language": "python",
     "metadata": {},
     "outputs": []
    }
   ],
   "metadata": {}
  }
 ]
}