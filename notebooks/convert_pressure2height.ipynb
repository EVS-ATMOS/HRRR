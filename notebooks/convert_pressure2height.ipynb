{
 "metadata": {
  "name": "",
  "signature": "sha256:04ea2e57bb40dd6d7056af4c9b1c9251c9eec5a55f8ea1deb8b2d54810dd2635"
 },
 "nbformat": 3,
 "nbformat_minor": 0,
 "worksheets": [
  {
   "cells": [
    {
     "cell_type": "code",
     "collapsed": false,
     "input": [
      "import os\n",
      "\n",
      "wkdir = os.getcwd()\n",
      "\n",
      "directory = wkdir[:]\n",
      "\n",
      "while \"HRRR\" in directory:\n",
      "    os.chdir(os.path.abspath('..'))\n",
      "    directory = os.getcwd()\n",
      "\n",
      "dirpath = os.path.abspath(\"HRRR\")\n",
      "\n",
      "dirpath2 = dirpath+'/functions/'\n",
      "    \n",
      "filenames = os.listdir(dirpath2)\n",
      "    \n",
      "for name in filenames:\n",
      "    execfile(dirpath2+'/'+name)\n",
      "\n",
      "os.chdir(wkdir)"
     ],
     "language": "python",
     "metadata": {},
     "outputs": [],
     "prompt_number": 28
    },
    {
     "cell_type": "code",
     "collapsed": false,
     "input": [
      "cd HRRRs"
     ],
     "language": "python",
     "metadata": {},
     "outputs": [
      {
       "output_type": "stream",
       "stream": "stdout",
       "text": [
        "/Users/mattjohnson/HRRRs\n"
       ]
      }
     ],
     "prompt_number": 23
    },
    {
     "cell_type": "code",
     "collapsed": false,
     "input": [
      "filename = 'hrrr.3d.201405291000f001.grib2'"
     ],
     "language": "python",
     "metadata": {},
     "outputs": [],
     "prompt_number": 24
    },
    {
     "cell_type": "code",
     "collapsed": false,
     "input": [
      "parameters = ['Temperature']"
     ],
     "language": "python",
     "metadata": {},
     "outputs": [],
     "prompt_number": 25
    },
    {
     "cell_type": "code",
     "collapsed": false,
     "input": [
      "x = read_hrrr_spec(filename,parameters, directory = '/Users/mattjohnson/HRRRs')"
     ],
     "language": "python",
     "metadata": {},
     "outputs": [
      {
       "output_type": "stream",
       "stream": "stdout",
       "text": [
        "/Users/mattjohnson/HRRRs\n"
       ]
      }
     ],
     "prompt_number": 27
    },
    {
     "cell_type": "code",
     "collapsed": false,
     "input": [
      "temps = x[0]"
     ],
     "language": "python",
     "metadata": {},
     "outputs": [],
     "prompt_number": 29
    },
    {
     "cell_type": "code",
     "collapsed": false,
     "input": [
      "temps"
     ],
     "language": "python",
     "metadata": {},
     "outputs": [
      {
       "metadata": {},
       "output_type": "pyout",
       "prompt_number": 30,
       "text": [
        "[array([ 298.23779297,  298.30029297,  298.30029297,  298.36279297,\n",
        "         298.36279297,  298.42529297,  298.42529297,  298.42529297,\n",
        "         298.42529297,  298.48779297,  298.48779297,  298.48779297,\n",
        "         298.55029297,  298.55029297,  298.55029297,  298.55029297,\n",
        "         298.55029297,  298.55029297,  298.55029297,  298.48779297,\n",
        "         298.48779297,  298.48779297,  298.48779297,  298.48779297,\n",
        "         298.48779297,  298.42529297,  298.42529297,  298.42529297,\n",
        "         298.42529297,  298.42529297,  298.42529297,  298.42529297,\n",
        "         298.42529297,  298.42529297,  298.42529297,  298.42529297,\n",
        "         298.42529297,  298.48779297,  298.48779297,  298.48779297])]"
       ]
      }
     ],
     "prompt_number": 30
    },
    {
     "cell_type": "code",
     "collapsed": false,
     "input": [
      "press = x[2]"
     ],
     "language": "python",
     "metadata": {},
     "outputs": [],
     "prompt_number": 31
    },
    {
     "cell_type": "code",
     "collapsed": false,
     "input": [
      "import math"
     ],
     "language": "python",
     "metadata": {},
     "outputs": [],
     "prompt_number": 32
    },
    {
     "cell_type": "code",
     "collapsed": false,
     "input": [
      "z = [math.log(press[i]/1013.25)/-9.81*temps[0][i]*8.31447/.0289644 for i in range(len(press))]"
     ],
     "language": "python",
     "metadata": {},
     "outputs": [],
     "prompt_number": 39
    },
    {
     "cell_type": "code",
     "collapsed": false,
     "input": [
      "z"
     ],
     "language": "python",
     "metadata": {},
     "outputs": [
      {
       "metadata": {},
       "output_type": "pyout",
       "prompt_number": 40,
       "text": [
        "[2.1534792045012825,\n",
        " 114.89712015489856,\n",
        " 335.89128589545271,\n",
        " 562.74407885828714,\n",
        " 795.57473440105321,\n",
        " 1035.0018626960382,\n",
        " 1281.0029476877812,\n",
        " 1534.1354834795654,\n",
        " 1794.8253204953617,\n",
        " 2063.9698024573654,\n",
        " 2341.2721369059168,\n",
        " 2627.6679546139449,\n",
        " 2924.386139899214,\n",
        " 3230.9480766621787,\n",
        " 3548.6601345867998,\n",
        " 3878.3641212910925,\n",
        " 4221.0009286314917,\n",
        " 4577.6267201366954,\n",
        " 4949.4325654078884,\n",
        " 5336.6510066806732,\n",
        " 5742.9703085405117,\n",
        " 6169.1177457756976,\n",
        " 6617.1282479477632,\n",
        " 7089.367031624397,\n",
        " 7588.6051872849412,\n",
        " 8116.418365194093,\n",
        " 8679.998485272512,\n",
        " 9282.4760461432888,\n",
        " 9929.62102419654,\n",
        " 10628.590848836544,\n",
        " 11388.414306635865,\n",
        " 12220.706736521541,\n",
        " 13140.763332478993,\n",
        " 14169.299100085571,\n",
        " 15335.356781034767,\n",
        " 16681.47158372802,\n",
        " 18273.587471413019,\n",
        " 20226.415019693173,\n",
        " 22739.113634276684,\n",
        " 26280.563425438439]"
       ]
      }
     ],
     "prompt_number": 40
    },
    {
     "cell_type": "code",
     "collapsed": false,
     "input": [
      "len(temps)"
     ],
     "language": "python",
     "metadata": {},
     "outputs": [
      {
       "metadata": {},
       "output_type": "pyout",
       "prompt_number": 38,
       "text": [
        "1"
       ]
      }
     ],
     "prompt_number": 38
    },
    {
     "cell_type": "code",
     "collapsed": false,
     "input": [
      "press"
     ],
     "language": "python",
     "metadata": {},
     "outputs": [
      {
       "metadata": {},
       "output_type": "pyout",
       "prompt_number": 41,
       "text": [
        "array([1013, 1000,  975,  950,  925,  900,  875,  850,  825,  800,  775,\n",
        "        750,  725,  700,  675,  650,  625,  600,  575,  550,  525,  500,\n",
        "        475,  450,  425,  400,  375,  350,  325,  300,  275,  250,  225,\n",
        "        200,  175,  150,  125,  100,   75,   50])"
       ]
      }
     ],
     "prompt_number": 41
    },
    {
     "cell_type": "code",
     "collapsed": false,
     "input": [],
     "language": "python",
     "metadata": {},
     "outputs": []
    }
   ],
   "metadata": {}
  }
 ]
}