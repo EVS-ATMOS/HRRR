{
 "metadata": {
  "name": "",
  "signature": "sha256:d2da5bf856f1cbc45747e96e847597646831ac0ed1c55847a4be26e6d66f5b71"
 },
 "nbformat": 3,
 "nbformat_minor": 0,
 "worksheets": [
  {
   "cells": [
    {
     "cell_type": "code",
     "collapsed": false,
     "input": [
      "import os\n",
      "\n",
      "dirpath = os.getcwd()\n",
      "dirpath = dirpath+'/HRRR'\n",
      "dirfiles = os.listdir(dirpath)\n",
      "\n",
      "\n",
      "dirpath2 = dirpath+'/functions/'\n",
      "    \n",
      "filenames = os.listdir(dirpath2)\n",
      "    \n",
      "for name in filenames:\n",
      "    execfile(dirpath2+'/'+name)"
     ],
     "language": "python",
     "metadata": {},
     "outputs": [],
     "prompt_number": 1
    },
    {
     "cell_type": "code",
     "collapsed": false,
     "input": [],
     "language": "python",
     "metadata": {},
     "outputs": [],
     "prompt_number": 3
    },
    {
     "cell_type": "code",
     "collapsed": false,
     "input": [],
     "language": "python",
     "metadata": {},
     "outputs": [
      {
       "metadata": {},
       "output_type": "pyout",
       "prompt_number": 3,
       "text": [
        "['.bash_history',\n",
        " '.bash_profile',\n",
        " '.bash_profile-anaconda.bak',\n",
        " '.bash_profile.macports-saved_2014-05-29_at_15:12:42',\n",
        " '.cache',\n",
        " '.CFUserTextEncoding',\n",
        " '.config',\n",
        " '.continuum',\n",
        " '.distlib',\n",
        " '.DS_Store',\n",
        " '.git',\n",
        " '.gitconfig',\n",
        " '.ipynb_checkpoints',\n",
        " '.ipython',\n",
        " '.matplotlib',\n",
        " '.spyder2',\n",
        " '.ssh',\n",
        " '.Trash',\n",
        " '.viminfo',\n",
        " 'anaconda',\n",
        " 'Applications',\n",
        " 'classpractice.py',\n",
        " 'CoherentLabs',\n",
        " 'dataanalysis.py',\n",
        " 'datafiles',\n",
        " 'datetime collector.py',\n",
        " 'Desktop',\n",
        " 'Documents',\n",
        " 'Downloads',\n",
        " 'evs',\n",
        " 'filecataloguing.py',\n",
        " 'generatefiles.py',\n",
        " 'HRRR',\n",
        " 'HRRRs',\n",
        " 'Library',\n",
        " 'Movies',\n",
        " 'Music',\n",
        " 'Pictures',\n",
        " 'Public',\n",
        " 'pyart',\n",
        " 'pygribread.py',\n",
        " 'sgpkazrgeC1.a1.20140419.000001.cdf',\n",
        " 'story',\n",
        " 'SusSoPrac',\n",
        " 'test script.py',\n",
        " 'Untitled.py',\n",
        " 'Untitled1.ipynb']"
       ]
      }
     ],
     "prompt_number": 3
    },
    {
     "cell_type": "code",
     "collapsed": false,
     "input": [],
     "language": "python",
     "metadata": {},
     "outputs": []
    }
   ],
   "metadata": {}
  }
 ]
}