{
 "metadata": {
  "name": "",
  "signature": "sha256:fd874e1d9edf74b63d573ea978492a27dc2c1a538b378bcf58b9374cce1fe23d"
 },
 "nbformat": 3,
 "nbformat_minor": 0,
 "worksheets": [
  {
   "cells": [
    {
     "cell_type": "code",
     "collapsed": false,
     "input": [
      "# -*- coding: utf-8 -*-\n",
      "\"\"\"\n",
      "Created on Wed Jun 18 11:19:26 2014\n",
      "\n",
      "@author: mattjohnson\n",
      "\"\"\"\n",
      "import numpy as np\n",
      "import datetime\n",
      "\"\"\"\n",
      "Warning the dst if statements have not been extensively tested as they aren't vital to our project\n",
      "\"\"\"\n",
      "def get_sun(date = datetime.datetime.now(),loc = [36.605,-97.485],timezoneshift = 0,estimate_timezone = False):\n",
      "    \"\"\"\n",
      "    equations from:   http://www.esrl.noaa.gov/gmd/grad/solcalc/solareqns.PDF\n",
      "    \n",
      "    takes in the date, location, daylight savings time boolean and the timeshift for the timezone\n",
      "    returns the fractional hour of sunrise and sunset and the datetimes of sunrise and sunset accurate to a minute\n",
      "    \n",
      "    The timezone calculation is only an approximation and only work when loc is a decent distance from timezone borders\n",
      "    for example chicago, IL, US will be put in the wrong timezone by this function\n",
      "    \"\"\"\n",
      "    #approximation of timezone by longitude\n",
      "    if estimate_timezone:\n",
      "        timezoneshift = -np.floor(abs(loc[1]/15))\n",
      "        \n",
      "    hour = 0\n",
      "    day_of_year = date.timetuple().tm_yday\n",
      "    loc = np.array(loc[:])\n",
      "\n",
      "    \n",
      "    gamma = np.pi*2./365.*(day_of_year-1.+(hour-12)/24.)\n",
      "    \n",
      "    eqtime=229.18*(0.000075+0.001868*np.cos(gamma)-0.032077*np.sin(gamma)-0.014615*np.cos(2*gamma)-0.040849*np.sin(2*gamma))\n",
      "    decl = .006918-.399912*np.cos(gamma)+.070257*np.sin(gamma)-.006758*np.cos(2*gamma)+.000907*np.sin(2*gamma)-.0026967*np.cos(3*gamma)+.00148*np.sin(3*gamma)\n",
      "    \n",
      "    print decl\n",
      "    \n",
      "    prearccos = (np.cos(90.833*2.*np.pi/360.0)/(np.cos(loc[0]*np.pi*2./360.0)*np.cos(decl)))-np.tan(loc[0]*2*np.pi/360)*np.tan(decl)\n",
      "    \n",
      "    if abs(prearccos)>1:\n",
      "        prearccos =-1*np.tan(loc[0]*np.pi/180.)*np.tan(decl)\n",
      "        if abs(prearccos)>1:\n",
      "            print 'sunrise/sunset equation calculation failed'\n",
      "            return [[None,None],[None,None]]\n",
      "    \n",
      "    ha = np.arccos(prearccos)\n",
      "    \n",
      "    \n",
      "    snoon = 720+4*loc[1]-eqtime\n",
      "    sunrise = 720+4*(loc[1]-ha*360/(2*np.pi))-eqtime\n",
      "    sunset = 720+4*(loc[1]+ha*360/(2*np.pi))-eqtime\n",
      "    \n",
      "    if date.month>3 and date.month<11:\n",
      "        dst = 1\n",
      "    elif date.month<3 or date.month == 12:\n",
      "        dst = 0\n",
      "    elif date.month == 3:\n",
      "        day = date.day\n",
      "        dayssincesun = date.isoweekday()\n",
      "        week = day/7\n",
      "        dayofweek = day%7\n",
      "        if week == 1:\n",
      "            dst = 0\n",
      "        elif week >2:\n",
      "            dst = 1\n",
      "        elif dayssincesun == 7:\n",
      "            dst = 1\n",
      "        elif dayofweek-dayssincesun>0:\n",
      "            dst = 1\n",
      "        else:\n",
      "            dst = 0\n",
      "            \n",
      "    \n",
      "    snoon = snoon/60\n",
      "    sunrise = sunrise/60+timezoneshift+dst\n",
      "    sunset = sunset/60+timezoneshift+dst\n",
      "    \n",
      "    if not np.isnan(sunrise):\n",
      "        daychangerise = int(np.floor(sunrise/24))\n",
      "        sunrise = sunrise - daychangerise*24\n",
      "        sunrisedate = datetime.datetime(2014,6,19+daychangerise,int(sunrise),int((sunrise-int(sunrise))*60))\n",
      "    else:\n",
      "        sunrise = None\n",
      "        sunrisedate = None\n",
      "    \n",
      "    if not np.isnan(sunset):\n",
      "        daychangeset = int(np.floor(sunset/24))\n",
      "        sunset = sunset - daychangeset*24\n",
      "        sunsetdate = datetime.datetime(2014,6,19+daychangeset,int(sunset),int((sunset-int(sunset))*60))\n",
      "    else:\n",
      "        sunset = None\n",
      "        sunsetdate = None\n",
      "\n",
      "    \n",
      "    return[[sunrise,sunset],[sunrisedate,sunsetdate]]"
     ],
     "language": "python",
     "metadata": {},
     "outputs": [],
     "prompt_number": 5
    },
    {
     "cell_type": "code",
     "collapsed": false,
     "input": [
      "import pyhrrr"
     ],
     "language": "python",
     "metadata": {},
     "outputs": [],
     "prompt_number": 7
    },
    {
     "cell_type": "code",
     "collapsed": false,
     "input": [
      "pyhrrr.get_sun(datetime.datetime(2014,5,27))"
     ],
     "language": "python",
     "metadata": {},
     "outputs": [
      {
       "output_type": "stream",
       "stream": "stdout",
       "text": [
        "0.367853475098\n"
       ]
      },
      {
       "metadata": {},
       "output_type": "pyout",
       "prompt_number": 8,
       "text": [
        "[[23.25984275549893, 13.633059182961992],\n",
        " [datetime.datetime(2014, 6, 18, 23, 15),\n",
        "  datetime.datetime(2014, 6, 19, 13, 37)]]"
       ]
      }
     ],
     "prompt_number": 8
    },
    {
     "cell_type": "code",
     "collapsed": false,
     "input": [],
     "language": "python",
     "metadata": {},
     "outputs": []
    }
   ],
   "metadata": {}
  }
 ]
}