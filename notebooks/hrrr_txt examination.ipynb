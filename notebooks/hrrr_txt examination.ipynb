{
 "metadata": {
  "name": "",
  "signature": "sha256:d82fcc6ae538eceff9dec401cc29d73e06208163332192c8b5a1be2974e13a50"
 },
 "nbformat": 3,
 "nbformat_minor": 0,
 "worksheets": [
  {
   "cells": [
    {
     "cell_type": "code",
     "collapsed": false,
     "input": [
      "directory = '/Users/mattjohnson/hrrr_txt/'"
     ],
     "language": "python",
     "metadata": {},
     "outputs": [],
     "prompt_number": 1
    },
    {
     "cell_type": "code",
     "collapsed": false,
     "input": [
      "import pyhrrr"
     ],
     "language": "python",
     "metadata": {},
     "outputs": [],
     "prompt_number": 2
    },
    {
     "cell_type": "code",
     "collapsed": false,
     "input": [],
     "language": "python",
     "metadata": {},
     "outputs": [],
     "prompt_number": 2
    },
    {
     "cell_type": "code",
     "collapsed": false,
     "input": [
      "import os"
     ],
     "language": "python",
     "metadata": {},
     "outputs": [],
     "prompt_number": 3
    },
    {
     "cell_type": "code",
     "collapsed": false,
     "input": [
      "l = os.listdir(directory)"
     ],
     "language": "python",
     "metadata": {},
     "outputs": [],
     "prompt_number": 4
    },
    {
     "cell_type": "code",
     "collapsed": false,
     "input": [
      "l.remove('.DS_Store')"
     ],
     "language": "python",
     "metadata": {},
     "outputs": [],
     "prompt_number": 5
    },
    {
     "cell_type": "code",
     "collapsed": false,
     "input": [
      "l"
     ],
     "language": "python",
     "metadata": {},
     "outputs": [
      {
       "metadata": {},
       "output_type": "pyout",
       "prompt_number": 6,
       "text": [
        "['hrrr.3d.20140315t000024r001L459899.txt',\n",
        " 'hrrr.3d.20140315t000024r002L459899.txt',\n",
        " 'hrrr.3d.20140315t000024r003L459899.txt',\n",
        " 'hrrr.3d.20140315t000024r004L459899.txt',\n",
        " 'hrrr.3d.20140316t000024r001L459899.txt',\n",
        " 'hrrr.3d.20140316t000024r002L459899.txt',\n",
        " 'hrrr.3d.20140316t000024r003L459899.txt',\n",
        " 'hrrr.3d.20140316t000024r004L459899.txt',\n",
        " 'hrrr.3d.20140317t000024r001L459899.txt',\n",
        " 'hrrr.3d.20140317t000024r002L459899.txt',\n",
        " 'hrrr.3d.20140317t000024r003L459899.txt',\n",
        " 'hrrr.3d.20140317t000024r004L459899.txt',\n",
        " 'hrrr.3d.20140318t000024r001L459899.txt',\n",
        " 'hrrr.3d.20140318t000024r002L459899.txt',\n",
        " 'hrrr.3d.20140318t000024r003L459899.txt',\n",
        " 'hrrr.3d.20140318t000024r004L459899.txt',\n",
        " 'hrrr.3d.20140319t000024r001L459899.txt',\n",
        " 'hrrr.3d.20140319t000024r002L459899.txt',\n",
        " 'hrrr.3d.20140319t000024r004L459899.txt',\n",
        " 'hrrr.3d.20140320t000024r001L459899.txt',\n",
        " 'hrrr.3d.20140320t000024r004L459899.txt',\n",
        " 'hrrr.3d.20140321t000024r001L459899.txt',\n",
        " 'hrrr.3d.20140322t000024r001L459899.txt',\n",
        " 'hrrr.3d.20140323t000024r001L459899.txt',\n",
        " 'hrrr.3d.20140324t000024r001L459899.txt',\n",
        " 'hrrr.3d.20140325t000024r001L459899.txt',\n",
        " 'hrrr.3d.20140326t000024r001L459899.txt',\n",
        " 'hrrr.3d.20140327t000024r001L459899.txt',\n",
        " 'hrrr.3d.20140328t000024r001L459899.txt',\n",
        " 'hrrr.3d.20140329t000024r001L459899.txt',\n",
        " 'hrrr.3d.20140330t000024r001L459899.txt',\n",
        " 'hrrr.3d.20140331t000024r001L459899.txt',\n",
        " 'hrrr.3d.20140401t000024r001L459899.txt',\n",
        " 'hrrr.3d.20140402t000024r001L459899.txt',\n",
        " 'hrrr.3d.20140403t000024r001L459899.txt',\n",
        " 'hrrr.3d.20140404t000024r001L459899.txt',\n",
        " 'hrrr.3d.20140405t000024r001L459899.txt',\n",
        " 'hrrr.3d.20140406t000024r001L459899.txt',\n",
        " 'hrrr.3d.20140407t000024r001L459899.txt',\n",
        " 'hrrr.3d.20140408t000024r001L459899.txt',\n",
        " 'hrrr.3d.20140410t000024r000L459899.txt',\n",
        " 'hrrr.3d.20140410t000024r001L459899.txt',\n",
        " 'hrrr.3d.20140410t000024r002L459899.txt',\n",
        " 'hrrr.3d.20140410t000024r003L459899.txt',\n",
        " 'hrrr.3d.20140410t000024r004L459899.txt',\n",
        " 'hrrr.3d.20140411t000024r000L459899.txt',\n",
        " 'hrrr.3d.20140411t000024r001L459899.txt',\n",
        " 'hrrr.3d.20140411t000024r004L459899.txt',\n",
        " 'hrrr.3d.20140412t000024r000L459899.txt',\n",
        " 'hrrr.3d.20140412t000024r001L459899.txt',\n",
        " 'hrrr.3d.20140413t000024r001L459899.txt',\n",
        " 'hrrr.3d.20140415t000024r001L459899.txt',\n",
        " 'hrrr.3d.20140416t000024r001L459899.txt',\n",
        " 'hrrr.3d.20140417t000024r001L459899.txt',\n",
        " 'hrrr.3d.20140418t000024r001L459899.txt',\n",
        " 'hrrr.3d.20140419t000024r001L459899.txt',\n",
        " 'hrrr.3d.20140420t000024r001L459899.txt',\n",
        " 'hrrr.3d.20140421t000024r001L459899.txt',\n",
        " 'hrrr.3d.20140422t000024r001L459899.txt',\n",
        " 'hrrr.3d.20140423t000024r001L459899.txt',\n",
        " 'hrrr.3d.20140424t000024r001L459899.txt',\n",
        " 'hrrr.3d.20140425t000024r001L459899.txt',\n",
        " 'hrrr.3d.20140427t000024r001L459899.txt',\n",
        " 'hrrr.3d.20140428t000024r001L459899.txt',\n",
        " 'hrrr.3d.20140429t000024r001L459899.txt',\n",
        " 'hrrr.3d.20140430t000024r001L459899.txt',\n",
        " 'hrrr.3d.20140501t000024r001L459899.txt',\n",
        " 'hrrr.3d.20140502t000024r001L459899.txt',\n",
        " 'hrrr.3d.20140503t000024r001L459899.txt',\n",
        " 'hrrr.3d.20140504t000024r001L459899.txt',\n",
        " 'hrrr.3d.20140506t000024r000L459899.txt',\n",
        " 'hrrr.3d.20140506t000024r001L459899.txt',\n",
        " 'hrrr.3d.20140506t000024r002L459899.txt',\n",
        " 'hrrr.3d.20140506t000024r004L459899.txt',\n",
        " 'hrrr.3d.20140507t000024r000L459899.txt',\n",
        " 'hrrr.3d.20140507t000024r004L459899.txt',\n",
        " 'hrrr.3d.20140510t000024r001L459899.txt',\n",
        " 'hrrr.3d.20140511t000024r001L459899.txt',\n",
        " 'hrrr.3d.20140513t000024r001L459899.txt',\n",
        " 'hrrr.3d.20140514t000024r001L459899.txt',\n",
        " 'hrrr.3d.20140515t000024r001L459899.txt',\n",
        " 'hrrr.3d.20140516t000024r001L459899.txt',\n",
        " 'hrrr.3d.20140517t000024r001L459899.txt',\n",
        " 'hrrr.3d.20140518t000024r001L459899.txt',\n",
        " 'hrrr.3d.20140519t000024r001L459899.txt',\n",
        " 'hrrr.3d.20140520t000024r001L459899.txt',\n",
        " 'hrrr.3d.20140521t000024r001L459899.txt',\n",
        " 'hrrr.3d.20140522t000024r001L459899.txt',\n",
        " 'hrrr.3d.20140523t000024r001L459899.txt',\n",
        " 'hrrr.3d.20140524t000024r001L459899.txt',\n",
        " 'hrrr.3d.20140526t000024r001L459899.txt',\n",
        " 'hrrr.3d.20140527t000024r001L459899.txt',\n",
        " 'hrrr.3d.20140528t000024r001L459899.txt',\n",
        " 'hrrr.3d.20140529t000024r001L459899.txt',\n",
        " 'hrrr.3d.20140530t000024r001L459899.txt',\n",
        " 'hrrr.3d.20140601t000024r001L459899.txt',\n",
        " 'hrrr.3d.20140601t000024r004L459899.txt',\n",
        " 'hrrr.3d.20140602t000024r001L459899.txt',\n",
        " 'hrrr.3d.20140603t000024r001L459899.txt',\n",
        " 'hrrr.3d.20140604t000024r001L459899.txt',\n",
        " 'hrrr.3d.20140605t000024r001L459899.txt',\n",
        " 'hrrr.3d.20140606t000024r001L459899.txt',\n",
        " 'hrrr.3d.20140607t000024r001L459899.txt',\n",
        " 'hrrr.3d.20140608t000024r001L459899.txt',\n",
        " 'hrrr.3d.20140609t000024r001L459899.txt',\n",
        " 'hrrr.3d.20140610t000024r001L459899.txt',\n",
        " 'hrrr.3d.20140611t000024r001L459899.txt',\n",
        " 'hrrr.3d.20140612t000024r001L459899.txt',\n",
        " 'hrrr.3d.20140613t000024r001L459899.txt',\n",
        " 'hrrr.3d.20140614t000024r001L459899.txt',\n",
        " 'hrrr.3d.20140615t000024r001L459899.txt',\n",
        " 'hrrr.3d.20140617t000024r001L459899.txt',\n",
        " 'hrrr.3d.20140618t000024r001L459899.txt',\n",
        " 'hrrr.3d.20140619t000024r001L459899.txt',\n",
        " 'hrrr.3d.20140621t000024r001L459899.txt',\n",
        " 'hrrr.3d.20140622t000024r001L459899.txt',\n",
        " 'hrrr.3d.20140623t000024r001L459899.txt',\n",
        " 'hrrr.3d.20140624t000024r001L459899.txt',\n",
        " 'hrrr.3d.20140625t000024r001L459899.txt']"
       ]
      }
     ],
     "prompt_number": 6
    },
    {
     "cell_type": "code",
     "collapsed": false,
     "input": [
      "dates = []\n",
      "datelengths = []\n",
      "for i in l:\n",
      "    x = pyhrrr.read_hrrr_txt(filename = i,directory = directory)\n",
      "    dates.append(x[1])\n",
      "    datelengths.append(len(x[1]))\n",
      "    print i"
     ],
     "language": "python",
     "metadata": {},
     "outputs": [
      {
       "output_type": "stream",
       "stream": "stdout",
       "text": [
        "hrrr.3d.20140315t000024r001L459899.txt\n",
        "hrrr.3d.20140315t000024r002L459899.txt\n",
        "hrrr.3d.20140315t000024r003L459899.txt\n",
        "hrrr.3d.20140315t000024r004L459899.txt\n",
        "hrrr.3d.20140316t000024r001L459899.txt\n",
        "hrrr.3d.20140316t000024r002L459899.txt\n",
        "hrrr.3d.20140316t000024r003L459899.txt\n",
        "hrrr.3d.20140316t000024r004L459899.txt\n",
        "hrrr.3d.20140317t000024r001L459899.txt\n",
        "hrrr.3d.20140317t000024r002L459899.txt\n",
        "hrrr.3d.20140317t000024r003L459899.txt\n",
        "hrrr.3d.20140317t000024r004L459899.txt\n",
        "hrrr.3d.20140318t000024r001L459899.txt\n",
        "hrrr.3d.20140318t000024r002L459899.txt\n",
        "hrrr.3d.20140318t000024r003L459899.txt\n",
        "hrrr.3d.20140318t000024r004L459899.txt\n",
        "hrrr.3d.20140319t000024r001L459899.txt\n",
        "hrrr.3d.20140319t000024r002L459899.txt\n",
        "hrrr.3d.20140319t000024r004L459899.txt\n",
        "hrrr.3d.20140320t000024r001L459899.txt\n",
        "hrrr.3d.20140320t000024r004L459899.txt\n",
        "hrrr.3d.20140321t000024r001L459899.txt\n",
        "hrrr.3d.20140322t000024r001L459899.txt"
       ]
      },
      {
       "output_type": "stream",
       "stream": "stdout",
       "text": [
        "\n",
        "hrrr.3d.20140323t000024r001L459899.txt\n",
        "hrrr.3d.20140324t000024r001L459899.txt\n",
        "hrrr.3d.20140325t000024r001L459899.txt\n",
        "hrrr.3d.20140326t000024r001L459899.txt\n",
        "hrrr.3d.20140327t000024r001L459899.txt\n",
        "hrrr.3d.20140328t000024r001L459899.txt\n",
        "hrrr.3d.20140329t000024r001L459899.txt\n",
        "hrrr.3d.20140330t000024r001L459899.txt\n",
        "hrrr.3d.20140331t000024r001L459899.txt\n",
        "hrrr.3d.20140401t000024r001L459899.txt\n",
        "hrrr.3d.20140402t000024r001L459899.txt\n",
        "hrrr.3d.20140403t000024r001L459899.txt\n",
        "hrrr.3d.20140404t000024r001L459899.txt\n",
        "hrrr.3d.20140405t000024r001L459899.txt\n",
        "hrrr.3d.20140406t000024r001L459899.txt\n",
        "hrrr.3d.20140407t000024r001L459899.txt\n",
        "hrrr.3d.20140408t000024r001L459899.txt\n",
        "hrrr.3d.20140410t000024r000L459899.txt"
       ]
      },
      {
       "output_type": "stream",
       "stream": "stdout",
       "text": [
        "\n",
        "hrrr.3d.20140410t000024r001L459899.txt\n",
        "hrrr.3d.20140410t000024r002L459899.txt\n",
        "hrrr.3d.20140410t000024r003L459899.txt\n",
        "hrrr.3d.20140410t000024r004L459899.txt\n",
        "hrrr.3d.20140411t000024r000L459899.txt\n",
        "hrrr.3d.20140411t000024r001L459899.txt\n",
        "hrrr.3d.20140411t000024r004L459899.txt\n",
        "hrrr.3d.20140412t000024r000L459899.txt\n",
        "hrrr.3d.20140412t000024r001L459899.txt\n",
        "hrrr.3d.20140413t000024r001L459899.txt\n",
        "hrrr.3d.20140415t000024r001L459899.txt\n",
        "hrrr.3d.20140416t000024r001L459899.txt\n",
        "hrrr.3d.20140417t000024r001L459899.txt\n",
        "hrrr.3d.20140418t000024r001L459899.txt\n",
        "hrrr.3d.20140419t000024r001L459899.txt\n",
        "hrrr.3d.20140420t000024r001L459899.txt\n",
        "hrrr.3d.20140421t000024r001L459899.txt"
       ]
      },
      {
       "output_type": "stream",
       "stream": "stdout",
       "text": [
        "\n",
        "hrrr.3d.20140422t000024r001L459899.txt\n",
        "hrrr.3d.20140423t000024r001L459899.txt\n",
        "hrrr.3d.20140424t000024r001L459899.txt\n",
        "hrrr.3d.20140425t000024r001L459899.txt\n",
        "hrrr.3d.20140427t000024r001L459899.txt\n",
        "hrrr.3d.20140428t000024r001L459899.txt\n",
        "hrrr.3d.20140429t000024r001L459899.txt\n",
        "hrrr.3d.20140430t000024r001L459899.txt\n",
        "hrrr.3d.20140501t000024r001L459899.txt\n",
        "hrrr.3d.20140502t000024r001L459899.txt\n",
        "hrrr.3d.20140503t000024r001L459899.txt\n",
        "hrrr.3d.20140504t000024r001L459899.txt\n",
        "hrrr.3d.20140506t000024r000L459899.txt\n",
        "hrrr.3d.20140506t000024r001L459899.txt\n",
        "hrrr.3d.20140506t000024r002L459899.txt\n",
        "hrrr.3d.20140506t000024r004L459899.txt\n",
        "hrrr.3d.20140507t000024r000L459899.txt"
       ]
      },
      {
       "output_type": "stream",
       "stream": "stdout",
       "text": [
        "\n",
        "hrrr.3d.20140507t000024r004L459899.txt\n",
        "hrrr.3d.20140510t000024r001L459899.txt\n",
        "hrrr.3d.20140511t000024r001L459899.txt\n",
        "hrrr.3d.20140513t000024r001L459899.txt\n",
        "hrrr.3d.20140514t000024r001L459899.txt\n",
        "hrrr.3d.20140515t000024r001L459899.txt\n",
        "hrrr.3d.20140516t000024r001L459899.txt\n",
        "hrrr.3d.20140517t000024r001L459899.txt\n",
        "hrrr.3d.20140518t000024r001L459899.txt\n",
        "hrrr.3d.20140519t000024r001L459899.txt\n",
        "hrrr.3d.20140520t000024r001L459899.txt\n",
        "hrrr.3d.20140521t000024r001L459899.txt\n",
        "hrrr.3d.20140522t000024r001L459899.txt\n",
        "hrrr.3d.20140523t000024r001L459899.txt\n",
        "hrrr.3d.20140524t000024r001L459899.txt\n",
        "hrrr.3d.20140526t000024r001L459899.txt"
       ]
      },
      {
       "output_type": "stream",
       "stream": "stdout",
       "text": [
        "\n",
        "hrrr.3d.20140527t000024r001L459899.txt\n",
        "hrrr.3d.20140528t000024r001L459899.txt\n",
        "hrrr.3d.20140529t000024r001L459899.txt\n",
        "hrrr.3d.20140530t000024r001L459899.txt\n",
        "hrrr.3d.20140601t000024r001L459899.txt\n",
        "hrrr.3d.20140601t000024r004L459899.txt\n",
        "hrrr.3d.20140602t000024r001L459899.txt\n",
        "hrrr.3d.20140603t000024r001L459899.txt\n",
        "hrrr.3d.20140604t000024r001L459899.txt\n",
        "hrrr.3d.20140605t000024r001L459899.txt\n",
        "hrrr.3d.20140606t000024r001L459899.txt\n",
        "hrrr.3d.20140607t000024r001L459899.txt\n",
        "hrrr.3d.20140608t000024r001L459899.txt\n",
        "hrrr.3d.20140609t000024r001L459899.txt\n",
        "hrrr.3d.20140610t000024r001L459899.txt\n",
        "hrrr.3d.20140611t000024r001L459899.txt"
       ]
      },
      {
       "output_type": "stream",
       "stream": "stdout",
       "text": [
        "\n",
        "hrrr.3d.20140612t000024r001L459899.txt\n",
        "hrrr.3d.20140613t000024r001L459899.txt\n",
        "hrrr.3d.20140614t000024r001L459899.txt\n",
        "hrrr.3d.20140615t000024r001L459899.txt\n",
        "hrrr.3d.20140617t000024r001L459899.txt\n",
        "hrrr.3d.20140618t000024r001L459899.txt\n",
        "hrrr.3d.20140619t000024r001L459899.txt\n",
        "hrrr.3d.20140621t000024r001L459899.txt\n",
        "hrrr.3d.20140622t000024r001L459899.txt\n",
        "hrrr.3d.20140623t000024r001L459899.txt\n",
        "hrrr.3d.20140624t000024r001L459899.txt\n",
        "hrrr.3d.20140625t000024r001L459899.txt\n"
       ]
      }
     ],
     "prompt_number": 7
    },
    {
     "cell_type": "code",
     "collapsed": false,
     "input": [
      "i"
     ],
     "language": "python",
     "metadata": {},
     "outputs": [
      {
       "metadata": {},
       "output_type": "pyout",
       "prompt_number": 8,
       "text": [
        "'hrrr.3d.20140625t000024r001L459899.txt'"
       ]
      }
     ],
     "prompt_number": 8
    },
    {
     "cell_type": "code",
     "collapsed": false,
     "input": [],
     "language": "python",
     "metadata": {},
     "outputs": [],
     "prompt_number": 9
    },
    {
     "cell_type": "code",
     "collapsed": false,
     "input": [],
     "language": "python",
     "metadata": {},
     "outputs": []
    }
   ],
   "metadata": {}
  }
 ]
}