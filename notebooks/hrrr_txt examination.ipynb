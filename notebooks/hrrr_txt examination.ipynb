{
 "metadata": {
  "name": "",
  "signature": "sha256:ed81d70c0fddcc0c65e0b97678fddd2ea9367d966799594ee0c287a411aea153"
 },
 "nbformat": 3,
 "nbformat_minor": 0,
 "worksheets": [
  {
   "cells": [
    {
     "cell_type": "code",
     "collapsed": false,
     "input": [
      "directory = '/Users/mattjohnson/hrrr_txt/'"
     ],
     "language": "python",
     "metadata": {},
     "outputs": [],
     "prompt_number": 1
    },
    {
     "cell_type": "code",
     "collapsed": false,
     "input": [
      "import pyhrrr"
     ],
     "language": "python",
     "metadata": {},
     "outputs": [],
     "prompt_number": 2
    },
    {
     "cell_type": "code",
     "collapsed": false,
     "input": [
      "import os"
     ],
     "language": "python",
     "metadata": {},
     "outputs": [],
     "prompt_number": 3
    },
    {
     "cell_type": "code",
     "collapsed": false,
     "input": [
      "l = os.listdir(directory)"
     ],
     "language": "python",
     "metadata": {},
     "outputs": [],
     "prompt_number": 4
    },
    {
     "cell_type": "code",
     "collapsed": false,
     "input": [
      "l.remove('.DS_Store')"
     ],
     "language": "python",
     "metadata": {},
     "outputs": [],
     "prompt_number": 5
    },
    {
     "cell_type": "code",
     "collapsed": false,
     "input": [
      "dates = []\n",
      "datelengths = []\n",
      "for i in l:\n",
      "    x = pyhrrr.read_hrrr_txt(filename = i,directory = directory)\n",
      "    dates.append(x[1])\n",
      "    datelengths.append(len(x[1]))"
     ],
     "language": "python",
     "metadata": {},
     "outputs": [],
     "prompt_number": 6
    },
    {
     "cell_type": "code",
     "collapsed": false,
     "input": [
      "i"
     ],
     "language": "python",
     "metadata": {},
     "outputs": [
      {
       "metadata": {},
       "output_type": "pyout",
       "prompt_number": 7,
       "text": [
        "'hrrr.3d.20140625t000024r001L459899.txt'"
       ]
      }
     ],
     "prompt_number": 7
    },
    {
     "cell_type": "code",
     "collapsed": false,
     "input": [
      "datelengths"
     ],
     "language": "python",
     "metadata": {},
     "outputs": [
      {
       "metadata": {},
       "output_type": "pyout",
       "prompt_number": 8,
       "text": [
        "[14,\n",
        " 14,\n",
        " 14,\n",
        " 14,\n",
        " 18,\n",
        " 18,\n",
        " 19,\n",
        " 21,\n",
        " 16,\n",
        " 16,\n",
        " 16,\n",
        " 15,\n",
        " 11,\n",
        " 13,\n",
        " 14,\n",
        " 14,\n",
        " 4,\n",
        " 3,\n",
        " 3,\n",
        " 17,\n",
        " 13,\n",
        " 20,\n",
        " 19,\n",
        " 13,\n",
        " 18,\n",
        " 9,\n",
        " 12,\n",
        " 24,\n",
        " 22,\n",
        " 22,\n",
        " 24,\n",
        " 22,\n",
        " 24,\n",
        " 24,\n",
        " 24,\n",
        " 24,\n",
        " 24,\n",
        " 24,\n",
        " 22,\n",
        " 22,\n",
        " 22,\n",
        " 23,\n",
        " 23,\n",
        " 22,\n",
        " 22,\n",
        " 23,\n",
        " 23,\n",
        " 23,\n",
        " 24,\n",
        " 24,\n",
        " 24,\n",
        " 10,\n",
        " 17,\n",
        " 12,\n",
        " 22,\n",
        " 23,\n",
        " 17,\n",
        " 19,\n",
        " 24,\n",
        " 21,\n",
        " 24,\n",
        " 21,\n",
        " 24,\n",
        " 24,\n",
        " 24,\n",
        " 24,\n",
        " 23,\n",
        " 2,\n",
        " 18,\n",
        " 18,\n",
        " 20,\n",
        " 20,\n",
        " 20,\n",
        " 20,\n",
        " 21,\n",
        " 21,\n",
        " 23,\n",
        " 12,\n",
        " 24,\n",
        " 24,\n",
        " 22,\n",
        " 23,\n",
        " 20,\n",
        " 24,\n",
        " 24,\n",
        " 24,\n",
        " 24,\n",
        " 21,\n",
        " 23,\n",
        " 24,\n",
        " 24,\n",
        " 23,\n",
        " 22,\n",
        " 24,\n",
        " 23,\n",
        " 15,\n",
        " 17,\n",
        " 21,\n",
        " 21,\n",
        " 23,\n",
        " 24,\n",
        " 24,\n",
        " 24,\n",
        " 24,\n",
        " 24,\n",
        " 13,\n",
        " 18,\n",
        " 23,\n",
        " 22,\n",
        " 22,\n",
        " 23,\n",
        " 24,\n",
        " 19,\n",
        " 23,\n",
        " 24,\n",
        " 24,\n",
        " 24,\n",
        " 13,\n",
        " 13]"
       ]
      }
     ],
     "prompt_number": 8
    },
    {
     "cell_type": "code",
     "collapsed": false,
     "input": [],
     "language": "python",
     "metadata": {},
     "outputs": []
    }
   ],
   "metadata": {}
  }
 ]
}