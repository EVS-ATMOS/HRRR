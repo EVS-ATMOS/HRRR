{
 "metadata": {
  "name": "",
  "signature": "sha256:9781b1a79dbc3ff6d023eabf01df18a011c4c4a45830feefd2b6b71d9ccfca74"
 },
 "nbformat": 3,
 "nbformat_minor": 0,
 "worksheets": [
  {
   "cells": [
    {
     "cell_type": "code",
     "collapsed": false,
     "input": [
      "import numpy as np\n",
      "from scipy.io import netcdf\n",
      "import pyhrrr\n",
      "import datetime\n",
      "import matplotlib as mpl\n",
      "import matplotlib.pyplot as plt\n",
      "from matplotlib.ticker import MultipleLocator, FormatStrFormatter\n",
      "\n",
      "# Gather files and capture date\n",
      "radar = 'sgpkazrgeC1.a1.20140527.000002.cdf'\n",
      "sounding = 'sgpsondewnpnC1.b1.20140527.052800.custom.cdf'\n",
      "year = int(radar[15:19])\n",
      "month = int(radar[19:21])\n",
      "day = int(radar[21:23])\n",
      "f = netcdf.netcdf_file(radar, 'r')\n",
      "s = netcdf.netcdf_file(sounding, 'r')\n",
      "\n",
      "%matplotlib inline"
     ],
     "language": "python",
     "metadata": {},
     "outputs": [],
     "prompt_number": 196
    },
    {
     "cell_type": "code",
     "collapsed": false,
     "input": [
      "#Define Radar and Sounding Heights and Pressure\n",
      "psnd = s.variables['pres'][:]\n",
      "hsnd = s.variables['alt'][:]\n",
      "hrdr = (f.variables['range'][:])+320 # Correction for height above mean sea level\n",
      "prdr = []\n",
      "\n",
      "#Interpolation of radar pressure from the balloon sounding data\n",
      "prdr = np.interp(hrdr,hsnd,psnd)"
     ],
     "language": "python",
     "metadata": {},
     "outputs": [],
     "prompt_number": 197
    },
    {
     "cell_type": "code",
     "collapsed": false,
     "input": [
      "# Create htfinal from hrdr so indecies match refectivity, flatten arrays for histogram  \n",
      "good = np.where(f.variables['reflectivity_copol'][:,:].flatten() > 0.2)[0]\n",
      "ht = np.matrix(hrdr)\n",
      "onemat = np.matrix(np.ones(f.variables['reflectivity_copol'].shape[0]))\n",
      "onemat = onemat[0][:]\n",
      "htfinal = ht.T*onemat\n",
      "htfinal = htfinal.T\n",
      "htfinal = np.array(htfinal).flatten().T[good]\n",
      "copol = f.variables['reflectivity_copol'][:,:].flatten()[good]"
     ],
     "language": "python",
     "metadata": {},
     "outputs": [],
     "prompt_number": 198
    },
    {
     "cell_type": "code",
     "collapsed": false,
     "input": [
      "print htfinal"
     ],
     "language": "python",
     "metadata": {},
     "outputs": [
      {
       "output_type": "stream",
       "stream": "stdout",
       "text": [
        "[ 4647.75146484  4677.73046875  4707.70947266 ...,  8245.23242188\n",
        "  8305.18945312  8095.33691406]\n"
       ]
      }
     ],
     "prompt_number": 199
    },
    {
     "cell_type": "code",
     "collapsed": false,
     "input": [
      "H, xedges, yedges = np.histogram2d(htfinal,\n",
      "    copol, bins=(62, 60), range=([0,10000],[-10,50]))"
     ],
     "language": "python",
     "metadata": {},
     "outputs": [],
     "prompt_number": 200
    },
    {
     "cell_type": "code",
     "collapsed": false,
     "input": [
      "fig = plt.figure(figsize=[9,9])\n",
      "plt.pcolormesh(yedges, xedges, H)\n",
      "plt.xlabel('Copol Reflectivity (dBZ)')\n",
      "plt.ylabel('height (m)')\n",
      "cb=plt.colorbar()\n",
      "cb.set_label('ngates')\n",
      "plt.title('CFAD for KAZR, 5/27/14')"
     ],
     "language": "python",
     "metadata": {},
     "outputs": [
      {
       "metadata": {},
       "output_type": "pyout",
       "prompt_number": 201,
       "text": [
        "<matplotlib.text.Text at 0x7facd2c69650>"
       ]
      },
      {
       "metadata": {},
       "output_type": "display_data",
       "png": "[encoded data removed]",
       "text": [
        "<matplotlib.figure.Figure at 0x7facd130e990>"
       ]
      }
     ],
     "prompt_number": 201
    },
    {
     "cell_type": "code",
     "collapsed": false,
     "input": [],
     "language": "python",
     "metadata": {},
     "outputs": []
    }
   ],
   "metadata": {}
  }
 ]
}