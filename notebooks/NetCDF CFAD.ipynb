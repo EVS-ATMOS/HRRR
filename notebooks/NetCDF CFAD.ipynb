{
 "metadata": {
  "name": "",
  "signature": "sha256:3a74e8b90575b6dafaa1493d31d617cf4df2084e19e0b68001ed1bff80096b26"
 },
 "nbformat": 3,
 "nbformat_minor": 0,
 "worksheets": [
  {
   "cells": [
    {
     "cell_type": "code",
     "collapsed": false,
     "input": [
      "import numpy as np\n",
      "from scipy.io import netcdf\n",
      "import pyhrrr\n",
      "import datetime\n",
      "import matplotlib as mpl\n",
      "import matplotlib.pyplot as plt\n",
      "from matplotlib.ticker import MultipleLocator, FormatStrFormatter\n",
      "\n",
      "# Gather files and capture date\n",
      "radar = 'sgpkazrgeC1.a1.20140527.000002.cdf'\n",
      "sounding = 'sgpsondewnpnC1.b1.20140527.052800.custom.cdf'\n",
      "year = int(radar[15:19])\n",
      "month = int(radar[19:21])\n",
      "day = int(radar[21:23])\n",
      "f = netcdf.netcdf_file(radar, 'r')\n",
      "s = netcdf.netcdf_file(sounding, 'r')\n",
      "\n",
      "%matplotlib inline"
     ],
     "language": "python",
     "metadata": {},
     "outputs": [],
     "prompt_number": 1
    },
    {
     "cell_type": "code",
     "collapsed": false,
     "input": [
      "#Define Radar and Sounding Heights and Pressure\n",
      "rng = f.variables['range'][:]\n",
      "psnd = s.variables['pres'][:]\n",
      "hsnd = s.variables['alt'][:]\n",
      "hrdr = (rng)+320 # Correction for height above mean sea level\n",
      "prdr = []\n",
      "\n",
      "#Interpolation of radar pressure from the balloon sounding data\n",
      "prdr = np.interp(hrdr,hsnd,psnd)"
     ],
     "language": "python",
     "metadata": {},
     "outputs": [],
     "prompt_number": 25
    },
    {
     "cell_type": "code",
     "collapsed": false,
     "input": [
      "# Create htfinal from hrdr so indecies match refectivity, flatten arrays for histogram  \n",
      "good = np.where(f.variables['reflectivity_copol'][:,:].flatten() > -70)[0]\n",
      "ht = np.matrix(hrdr)\n",
      "onemat = np.matrix(np.ones(f.variables['reflectivity_copol'].shape[0]))\n",
      "onemat = onemat[0][:]\n",
      "htfinal = ht.T*onemat\n",
      "htfinal = htfinal.T\n",
      "htfinal = np.array(htfinal).flatten().T[good]\n",
      "copol = f.variables['reflectivity_copol'][:,:].flatten()[good]"
     ],
     "language": "python",
     "metadata": {},
     "outputs": [],
     "prompt_number": 26
    },
    {
     "cell_type": "code",
     "collapsed": false,
     "input": [
      "print htfinal"
     ],
     "language": "python",
     "metadata": {},
     "outputs": [
      {
       "output_type": "stream",
       "stream": "stdout",
       "text": [
        "[   420.67926025    450.6585083     480.63775635 ...,  20656.609375\n",
        "  20686.58789062  20716.56640625]\n"
       ]
      }
     ],
     "prompt_number": 27
    },
    {
     "cell_type": "code",
     "collapsed": false,
     "input": [
      "H, xedges, yedges = np.histogram2d(htfinal,\n",
      "    copol, bins=(62, 60), range=([0,max(rng)],[-70,40]))"
     ],
     "language": "python",
     "metadata": {},
     "outputs": [],
     "prompt_number": 33
    },
    {
     "cell_type": "code",
     "collapsed": false,
     "input": [
      "fig = plt.figure(figsize=[9,9])\n",
      "plt.pcolormesh(yedges, xedges, H)\n",
      "plt.xlabel('Copol Reflectivity (dBZ)')\n",
      "plt.ylabel('height (m)')\n",
      "\n",
      "# set axes scales and limits\n",
      "ax1 = plt.gca()\n",
      "ax1.set_ylim([0,max(rng)])\n",
      "ax1.set_xlim([-70, 40])\n",
      "\n",
      "# y axis\n",
      "ymajorLocator = MultipleLocator(2500)\n",
      "ax1.yaxis.set_major_locator(ymajorLocator)\n",
      "ymajorFormatter = FormatStrFormatter('%d')\n",
      "ax1.yaxis.set_major_formatter(ymajorFormatter)\n",
      "\n",
      "cb=plt.colorbar()\n",
      "cb.set_label('ngates')\n",
      "plt.title('CFAD for KAZR, 5/27/14')"
     ],
     "language": "python",
     "metadata": {},
     "outputs": [
      {
       "metadata": {},
       "output_type": "pyout",
       "prompt_number": 34,
       "text": [
        "<matplotlib.text.Text at 0x7f0ecd2c8150>"
       ]
      },
      {
       "metadata": {},
       "output_type": "display_data",
       "png": "[encoded data removed]",
       "text": [
        "<matplotlib.figure.Figure at 0x7f0ecd3040d0>"
       ]
      }
     ],
     "prompt_number": 34
    },
    {
     "cell_type": "code",
     "collapsed": false,
     "input": [],
     "language": "python",
     "metadata": {},
     "outputs": []
    }
   ],
   "metadata": {}
  }
 ]
}