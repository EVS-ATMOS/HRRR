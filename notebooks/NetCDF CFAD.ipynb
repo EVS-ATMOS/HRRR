{
 "metadata": {
  "name": "",
  "signature": "sha256:3904a1d846a5ee224c9db90b3757a3d6b1d80aed7f1e8110924d1107b0fabd36"
 },
 "nbformat": 3,
 "nbformat_minor": 0,
 "worksheets": [
  {
   "cells": [
    {
     "cell_type": "code",
     "collapsed": false,
     "input": [
      "import numpy as np\n",
      "from scipy.io import netcdf\n",
      "import pyhrrr\n",
      "import datetime\n",
      "import matplotlib as mpl\n",
      "import matplotlib.pyplot as plt\n",
      "from matplotlib.ticker import MultipleLocator, FormatStrFormatter\n",
      "\n",
      "# Gather files and capture date\n",
      "radar = 'sgpkazrgeC1.a1.20140527.000002.cdf'\n",
      "sounding = 'sgpsondewnpnC1.b1.20140527.052800.custom.cdf'\n",
      "year = int(radar[15:19])\n",
      "month = int(radar[19:21])\n",
      "day = int(radar[21:23])\n",
      "f = netcdf.netcdf_file(radar, 'r')\n",
      "s = netcdf.netcdf_file(sounding, 'r')\n",
      "\n",
      "%matplotlib inline"
     ],
     "language": "python",
     "metadata": {},
     "outputs": [],
     "prompt_number": 111
    },
    {
     "cell_type": "code",
     "collapsed": false,
     "input": [
      "#Define Radar and Sounding Heights and Pressure\n",
      "psnd = s.variables['pres'][:]\n",
      "hsnd = s.variables['alt'][:]\n",
      "hrdr = (f.variables['range'][:])+320 # Correction for height above mean sea level\n",
      "prdr = []\n",
      "\n",
      "#Interpolation of radar pressure from the balloon sounding data\n",
      "prdr = np.interp(hrdr,hsnd,psnd)"
     ],
     "language": "python",
     "metadata": {},
     "outputs": [],
     "prompt_number": 128
    },
    {
     "cell_type": "code",
     "collapsed": false,
     "input": [
      "good = np.where(f.variables['reflectivity_copol'][:,:].flatten() > 0.5)[0]"
     ],
     "language": "python",
     "metadata": {},
     "outputs": [],
     "prompt_number": 129
    },
    {
     "cell_type": "code",
     "collapsed": false,
     "input": [
      "ht = np.matrix(hrdr)"
     ],
     "language": "python",
     "metadata": {},
     "outputs": [],
     "prompt_number": 130
    },
    {
     "cell_type": "code",
     "collapsed": false,
     "input": [
      "onemat = np.matrix(np.ones(f.variables['reflectivity_copol'].shape[0]))"
     ],
     "language": "python",
     "metadata": {},
     "outputs": [],
     "prompt_number": 131
    },
    {
     "cell_type": "code",
     "collapsed": false,
     "input": [
      "onemat = onemat[0][:]"
     ],
     "language": "python",
     "metadata": {},
     "outputs": [],
     "prompt_number": 132
    },
    {
     "cell_type": "code",
     "collapsed": false,
     "input": [
      "htfinal = ht.T*onemat"
     ],
     "language": "python",
     "metadata": {},
     "outputs": [],
     "prompt_number": 133
    },
    {
     "cell_type": "code",
     "collapsed": false,
     "input": [
      "htfinal = htfinal.T"
     ],
     "language": "python",
     "metadata": {},
     "outputs": [],
     "prompt_number": 134
    },
    {
     "cell_type": "code",
     "collapsed": false,
     "input": [
      "htfinal = np.array(htfinal).flatten().T[good]"
     ],
     "language": "python",
     "metadata": {},
     "outputs": [],
     "prompt_number": 135
    },
    {
     "cell_type": "code",
     "collapsed": false,
     "input": [
      "copol = f.variables['reflectivity_copol'][:,:].flatten()[good]"
     ],
     "language": "python",
     "metadata": {},
     "outputs": [],
     "prompt_number": 136
    },
    {
     "cell_type": "code",
     "collapsed": false,
     "input": [
      "print htfinal"
     ],
     "language": "python",
     "metadata": {},
     "outputs": [
      {
       "output_type": "stream",
       "stream": "stdout",
       "text": [
        "[ 4677.73046875  4707.70947266  4827.62548828 ...,  7915.46289062\n",
        "  7975.42089844  8275.2109375 ]\n"
       ]
      }
     ],
     "prompt_number": 137
    },
    {
     "cell_type": "code",
     "collapsed": false,
     "input": [
      "H, xedges, yedges = np.histogram2d(htfinal,\n",
      "    copol, bins=(62, 60), range=([0,10000],[-10,50]))"
     ],
     "language": "python",
     "metadata": {},
     "outputs": [],
     "prompt_number": 166
    },
    {
     "cell_type": "code",
     "collapsed": false,
     "input": [
      "fig = plt.figure(figsize=[9,9])\n",
      "plt.pcolormesh(yedges, xedges, H)\n",
      "plt.xlabel('Refl fac (dBZ)')\n",
      "plt.ylabel('height (m)')\n",
      "cb=plt.colorbar()\n",
      "cb.set_label('ngates')\n",
      "plt.title('CFAD for KAZR')"
     ],
     "language": "python",
     "metadata": {},
     "outputs": [
      {
       "metadata": {},
       "output_type": "pyout",
       "prompt_number": 170,
       "text": [
        "<matplotlib.text.Text at 0x7facd180ed90>"
       ]
      },
      {
       "metadata": {},
       "output_type": "display_data",
       "png": "[encoded data removed]",
       "text": [
        "<matplotlib.figure.Figure at 0x7facd1b22e90>"
       ]
      }
     ],
     "prompt_number": 170
    },
    {
     "cell_type": "code",
     "collapsed": false,
     "input": [],
     "language": "python",
     "metadata": {},
     "outputs": []
    }
   ],
   "metadata": {}
  }
 ]
}