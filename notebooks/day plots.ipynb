{
 "metadata": {
  "name": "",
  "signature": "sha256:57ba0948eebf2419227aab9b8f23e65245210aed36558af9154c50fc306073cd"
 },
 "nbformat": 3,
 "nbformat_minor": 0,
 "worksheets": [
  {
   "cells": [
    {
     "cell_type": "code",
     "collapsed": false,
     "input": [
      "import os\n",
      "import matplotlib\n",
      "import matplotlib.pyplot as plt\n",
      "%matplotlib inline\n",
      "\n",
      "wkdir = os.getcwd()\n",
      "\n",
      "directory = wkdir[:]\n",
      "\n",
      "while \"HRRR\" in directory:\n",
      "    os.chdir(os.path.abspath('..'))\n",
      "    directory = os.getcwd()\n",
      "\n",
      "dirpath = os.path.abspath(\"HRRR\")\n",
      "\n",
      "dirpath2 = dirpath+'/functions/'\n",
      "    \n",
      "filenames = os.listdir(dirpath2)\n",
      "    \n",
      "for name in filenames:\n",
      "    execfile(dirpath2+'/'+name)\n",
      "\n",
      "os.chdir(wkdir)\n"
     ],
     "language": "python",
     "metadata": {},
     "outputs": [],
     "prompt_number": 1
    },
    {
     "cell_type": "code",
     "collapsed": false,
     "input": [
      "import sys, os, urllib, urllib2\n",
      "def fetch_HRRR(forecast_time = 'f000', time = '', dimensionality = '3d', outdir = '/data/HRRR/'):\n",
      "    HRRR_url = 'http://hrrr.agron.iastate.edu/data/hrrr/'\n",
      "    all_files = urllib.urlopen(HRRR_url).read()\n",
      "    all_times = []\n",
      "    for item in all_files.split(\"\\n\"):\n",
      "        if \"a href\" in item:\n",
      "            idx = item.find('a href=\"')\n",
      "            all_times.append(item[idx + 8 : idx + 20])\n",
      "    last_dir = HRRR_url + time\n",
      "    print last_dir\n",
      "    filename = 'hrrr.' + dimensionality + '.' + time + 'f001' + '.grib2'\n",
      "    print filename\n",
      "    exising_hrrr_files = os.listdir(outdir)\n",
      "    outfile = outdir + filename\n",
      "    if filename in exising_hrrr_files:\n",
      "        print('File exists, saving bandwidth')\n",
      "    else:\n",
      "        print('fetching')\n",
      "        try:    \n",
      "            req = urllib2.urlopen(last_dir + '/' + filename)\n",
      "            outobj=open(outfile, 'wb')\n",
      "            outobj.write(req.read())\n",
      "            outobj.close()\n",
      "        except:\n",
      "            outfile = 'null'\n",
      "            print('File not found, skipping')\n",
      "    return outfile\n"
     ],
     "language": "python",
     "metadata": {},
     "outputs": []
    },
    {
     "cell_type": "code",
     "collapsed": false,
     "input": [
      "os.chdir('/Users/mattjohnson/HRRRs')"
     ],
     "language": "python",
     "metadata": {},
     "outputs": [],
     "prompt_number": 8
    },
    {
     "cell_type": "code",
     "collapsed": false,
     "input": [
      "sys.argv"
     ],
     "language": "python",
     "metadata": {},
     "outputs": []
    },
    {
     "cell_type": "code",
     "collapsed": false,
     "input": [
      "\n",
      "\n",
      "if __name__ == '__main__':\n",
      "    print('HRRR fetching')\n",
      "    r_outdir = os.getcwd()\n",
      "    n_hours = 9\n",
      "    forecast_str = 'f%(dd)03d'\n",
      "    f_strs = [forecast_str % {'dd' : k } for k in range(n_hours)]\n",
      "    times = [201406111100+i*100 for i in range(25)]\n",
      "    print(f_strs)\n",
      "    fnames = [fetch_HRRR(forecast_time = fs, time = str(times[f_strs.index(fs)]),outdir = r_outdir) for fs in f_strs]"
     ],
     "language": "python",
     "metadata": {},
     "outputs": [
      {
       "output_type": "stream",
       "stream": "stdout",
       "text": [
        "HRRR fetching\n",
        "['f000', 'f001', 'f002', 'f003', 'f004', 'f005', 'f006', 'f007', 'f008']\n",
        "http://hrrr.agron.iastate.edu/data/hrrr/201406111100"
       ]
      },
      {
       "output_type": "stream",
       "stream": "stdout",
       "text": [
        "\n",
        "hrrr.3d.201406111100f001.grib2\n",
        "fetching\n",
        "http://hrrr.agron.iastate.edu/data/hrrr/201406111200"
       ]
      },
      {
       "output_type": "stream",
       "stream": "stdout",
       "text": [
        "\n",
        "hrrr.3d.201406111200f001.grib2\n",
        "fetching\n",
        "http://hrrr.agron.iastate.edu/data/hrrr/201406111300"
       ]
      },
      {
       "output_type": "stream",
       "stream": "stdout",
       "text": [
        "\n",
        "hrrr.3d.201406111300f001.grib2\n",
        "fetching\n",
        "File not found, skipping"
       ]
      },
      {
       "output_type": "stream",
       "stream": "stdout",
       "text": [
        "\n",
        "http://hrrr.agron.iastate.edu/data/hrrr/201406111400"
       ]
      },
      {
       "output_type": "stream",
       "stream": "stdout",
       "text": [
        "\n",
        "hrrr.3d.201406111400f001.grib2\n",
        "fetching\n",
        "http://hrrr.agron.iastate.edu/data/hrrr/201406111500"
       ]
      }
     ]
    },
    {
     "cell_type": "code",
     "collapsed": false,
     "input": [
      "spec_hrrr_plot(directory = '/Users/mattjohnson/HRRR2',parameter = 'Relative humidity', hour = 1, loc = [-87.6278,41.8819])"
     ],
     "language": "python",
     "metadata": {},
     "outputs": [
      {
       "metadata": {},
       "output_type": "display_data",
       "png": "[encoded data removed]",
       "text": [
        "<matplotlib.figure.Figure at 0x102b9b8d0>"
       ]
      }
     ],
     "prompt_number": 5
    },
    {
     "cell_type": "code",
     "collapsed": false,
     "input": [],
     "language": "python",
     "metadata": {},
     "outputs": []
    }
   ],
   "metadata": {}
  }
 ]
}