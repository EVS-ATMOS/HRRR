{
 "metadata": {
  "name": "",
<<<<<<< HEAD
  "signature": "sha256:f2d31f2fc3405f8dc4505b49b39499c0aa8d28a8c2fb4906df4b41dde6da1f76"
=======
  "signature": "sha256:de929ad335c19fba64b226e5f69447cca2a5209fef3ab39e1ec8b2acfd7bcddf"
>>>>>>> 2b6231a02e7de8266cb5642dc167940a86fc577d
 },
 "nbformat": 3,
 "nbformat_minor": 0,
 "worksheets": [
  {
   "cells": [
    {
     "cell_type": "code",
     "collapsed": false,
     "input": [
      "import numpy as np\n",
      "from scipy.io import netcdf\n",
      "\n",
      "string = 'sgpkazrgeC1.a1.20140527.000002.cdf'\n",
      "year = int(string[15:19])\n",
      "month = int(string[19:21])\n",
      "day = int(string[21:23])\n",
      "f = netcdf.netcdf_file('sgpkazrgeC1.a1.20140527.000002.cdf', 'r')  # Cloud Radar\n",
      "s = netcdf.netcdf_file('sgpsondewnpnC1.b1.20140527.052800.custom.cdf', 'r')  # Balloon Sounding"
     ],
     "language": "python",
     "metadata": {},
     "outputs": [],
     "prompt_number": 30
    },
    {
     "cell_type": "code",
     "collapsed": false,
     "input": [
      "import numpy as np\n",
      "import datetime\n",
      "\"\"\"\n",
      "Warning the dst if statements have not been extensively tested as they aren't vital to our project\n",
      "\"\"\"\n",
      "def get_sun(date = datetime.datetime.now(),loc = [36.605,-97.485],timeshift = None):\n",
      "    \"\"\"\n",
      "    takes in the date, location, daylight savings time boolean and the timeshift for the timezone\n",
      "    returns the fractional hour of sunrise and sunset and the datetimes of sunrise and sunset accurate to a minute\n",
      "    \"\"\"\n",
      "    #approximation of timezone by longitude\n",
      "    if timeshift == None:\n",
      "        timeshift = -np.floor(abs(loc[1]/15))\n",
      "        \n",
      "    hour = 0\n",
      "    day_of_year = date.timetuple().tm_yday\n",
      "    loc = np.array(loc[:])\n",
      "    loc[1] = -loc[1]\n",
      "    \n",
      "    gamma = np.pi*2/365*(day_of_year-1+(hour-12)/24)\n",
      "    \n",
      "    eqtime=229.18*(0.000075+0.001868*np.cos(gamma)-0.032077*np.sin(gamma)-0.014615*np.cos(2*gamma)-0.040849*np.sin(2*gamma))\n",
      "    decl = .006918-.399912*np.cos(gamma)+.070257*np.sin(gamma)-.006758*np.cos(2*gamma)+.000907*np.sin(2*gamma)-.0026967*np.cos(3*gamma)+.00148*np.sin(3*gamma)\n",
      "    \n",
      "    ha = np.arccos((np.cos(90.833*2*np.pi/360.0)/(np.cos(loc[0]*np.pi*2/360.0)*np.cos(decl)))-np.tan(loc[0]*2*np.pi/360)*\n",
      "               np.tan(decl))\n",
      "    \n",
      "    sunrise = 720+4*(loc[1]-ha*360/(2*np.pi))-eqtime\n",
      "    sunset = 720+4*(loc[1]+ha*360/(2*np.pi))-eqtime\n",
      "    \n",
      "    if date.month>3 and date.month<11:\n",
      "        dst = 1\n",
      "    elif date.month<3 or date.month == 12:\n",
      "        dst = 0\n",
      "    elif date.month == 3:\n",
      "        day = date.day\n",
      "        dayssincesun = date.isoweekday()\n",
      "        week = day/7\n",
      "        dayofweek = day%7\n",
      "        if week == 1:\n",
      "            dst = 0\n",
      "        elif week >2:\n",
      "            dst = 1\n",
      "        elif dayssincesun == 7:\n",
      "            dst = 1\n",
      "        elif dayofweek-dayssincesun>0:\n",
      "            dst = 1\n",
      "        else:\n",
      "            dst = 0\n",
      "            \n",
      "    \n",
      "    sunrise = sunrise/60+timeshift+dst\n",
      "    sunset = sunset/60+timeshift+dst\n",
      "    \n",
      "    daychangerise = int(np.floor(sunrise/24))\n",
      "    daychangeset = int(np.floor(sunset/24))\n",
      "    \n",
      "    sunrise = sunrise - daychangerise*24\n",
      "    sunset = sunset - daychangeset*24\n",
      "    \n",
      "    sunrisedate = datetime.datetime(2014,6,19+daychangerise,int(sunrise),int((sunrise-int(sunrise))*60))\n",
      "    sunsetdate = datetime.datetime(2014,6,19+daychangeset,int(sunset),int((sunset-int(sunset))*60))\n",
      "    \n",
      "\n",
      "    \n",
      "    return[[sunrise,sunset],[sunrisedate,sunsetdate]]"
     ],
     "language": "python",
     "metadata": {},
     "outputs": [],
<<<<<<< HEAD
     "prompt_number": 31
=======
     "prompt_number": 1
    },
    {
     "cell_type": "code",
     "collapsed": false,
     "input": [
      "\n",
      "date = datetime.datetime(2014,6,19)\n",
      "loc = (41,-87)"
     ],
     "language": "python",
     "metadata": {},
     "outputs": [],
     "prompt_number": 2
    },
    {
     "cell_type": "code",
     "collapsed": false,
     "input": [
      "x = get_sun(date = date,loc=loc,timeshift = -6)"
     ],
     "language": "python",
     "metadata": {},
     "outputs": [],
     "prompt_number": 3
>>>>>>> 2b6231a02e7de8266cb5642dc167940a86fc577d
    },
    {
     "cell_type": "code",
     "collapsed": false,
     "input": [
      "date = datetime.datetime(year,month,day)\n",
      "x = get_sun(date = date,timeshift = -5)\n",
      "print 'Sunrise at', x[0][0]\n",
      "print 'Sunset at', x[0][1]"
     ],
     "language": "python",
     "metadata": {},
     "outputs": [
      {
<<<<<<< HEAD
       "output_type": "stream",
       "stream": "stdout",
       "text": [
        "Sunrise at 6.26229871738\n",
        "Sunset at 20.6248498323\n"
       ]
      }
     ],
     "prompt_number": 45
=======
       "metadata": {},
       "output_type": "pyout",
       "prompt_number": 4,
       "text": [
        "5.2511438275958273"
       ]
      }
     ],
     "prompt_number": 4
    },
    {
     "cell_type": "code",
     "collapsed": false,
     "input": [
      "x[0][1]"
     ],
     "language": "python",
     "metadata": {},
     "outputs": [
      {
       "metadata": {},
       "output_type": "pyout",
       "prompt_number": 5,
       "text": [
        "20.371273252461638"
       ]
      }
     ],
     "prompt_number": 5
    },
    {
     "cell_type": "code",
     "collapsed": false,
     "input": [
      "(x[0][1]-1)*60"
     ],
     "language": "python",
     "metadata": {},
     "outputs": [
      {
       "metadata": {},
       "output_type": "pyout",
       "prompt_number": 69,
       "text": [
        "22.276395147698267"
       ]
      }
     ],
     "prompt_number": 69
>>>>>>> 2b6231a02e7de8266cb5642dc167940a86fc577d
    },
    {
     "cell_type": "code",
     "collapsed": false,
     "input": [],
     "language": "python",
     "metadata": {},
     "outputs": [],
     "prompt_number": 42
    }
   ],
   "metadata": {}
  }
 ]
}