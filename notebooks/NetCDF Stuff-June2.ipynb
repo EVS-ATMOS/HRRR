{
 "metadata": {
  "name": "",
  "signature": "sha256:1efce1fd0db8cc762c16eaddd90c06221ee8787b4d8194e4aaabe5c1faf7279b"
 },
 "nbformat": 3,
 "nbformat_minor": 0,
 "worksheets": [
  {
   "cells": [
    {
     "cell_type": "code",
     "collapsed": false,
     "input": [
      "import numpy as np\n",
      "from scipy.io import netcdf\n",
      "f = netcdf.netcdf_file('sgpkazrgeC1.a1.20140602.000001.cdf', 'r')"
     ],
     "language": "python",
     "metadata": {},
     "outputs": [],
     "prompt_number": 1
    },
    {
     "cell_type": "code",
     "collapsed": false,
     "input": [
      "for v in f.variables:\n",
      "    print(v)"
     ],
     "language": "python",
     "metadata": {},
     "outputs": [
      {
       "output_type": "stream",
       "stream": "stdout",
       "text": [
        "base_time\n",
        "reflectivity_copol\n",
        "cal_constant_copol\n",
        "mean_doppler_velocity_xpol\n",
        "sky_noise_xpol\n",
        "alt\n",
        "rx_noise\n",
        "hot_noise_copol\n",
        "cold_noise_copol\n",
        "lon\n",
        "signal_to_noise_ratio_xpol\n",
        "cold_noise_xpol\n",
        "sky_noise_copol\n",
        "spectral_width_xpol\n",
        "hot_noise_xpol\n",
        "spectral_width_copol\n",
        "lat\n",
        "cal_constant_xpol\n",
        "reflectivity_xpol\n",
        "signal_to_noise_ratio_copol\n",
        "range\n",
        "time\n",
        "mean_doppler_velocity_copol\n",
        "time_offset\n"
       ]
      }
     ],
     "prompt_number": 2
    },
    {
     "cell_type": "code",
     "collapsed": false,
     "input": [
      "# Read netCDF variables\n",
      "refc = f.variables['reflectivity_copol'].data\n",
      "mdvc = f.variables['mean_doppler_velocity_xpol'].data\n",
      "snx = f.variables['sky_noise_xpol'].data\n",
      "snc = f.variables['sky_noise_copol'].data\n",
      "time = f.variables['time'].data"
     ],
     "language": "python",
     "metadata": {},
     "outputs": [],
     "prompt_number": 3
    },
    {
     "cell_type": "code",
     "collapsed": false,
     "input": [
      "refc = refc.transpose()\n",
      "refc = refc.tolist()\n",
      "time = time.tolist()\n"
     ],
     "language": "python",
     "metadata": {},
     "outputs": []
    },
    {
     "cell_type": "code",
     "collapsed": false,
     "input": [
      "import matplotlib.pyplot as plt\n",
      "plt.plot(time,snc) \n",
      "plt.show()"
     ],
     "language": "python",
     "metadata": {},
     "outputs": []
    },
    {
     "cell_type": "code",
     "collapsed": false,
     "input": [
      "import matplotlib.pyplot as plt\n",
      "plt.plot(time,snx) \n",
      "plt.show()"
     ],
     "language": "python",
     "metadata": {},
     "outputs": [],
     "prompt_number": 24
    },
    {
     "cell_type": "code",
     "collapsed": false,
     "input": [
      "x = f.variables['range'].data"
     ],
     "language": "python",
     "metadata": {},
     "outputs": []
    },
    {
     "cell_type": "code",
     "collapsed": false,
     "input": [
      "f.variables['sky_noise_xpol'].units"
     ],
     "language": "python",
     "metadata": {},
     "outputs": [
      {
       "metadata": {},
       "output_type": "pyout",
       "prompt_number": 19,
       "text": [
        "'dBm'"
       ]
      }
     ],
     "prompt_number": 19
    },
    {
     "cell_type": "code",
     "collapsed": false,
     "input": [
      "x.shape"
     ],
     "language": "python",
     "metadata": {},
     "outputs": []
    },
    {
     "cell_type": "code",
     "collapsed": false,
     "input": [
      "help (f.getvalue)"
     ],
     "language": "python",
     "metadata": {},
     "outputs": []
    },
    {
     "cell_type": "code",
     "collapsed": false,
     "input": [],
     "language": "python",
     "metadata": {},
     "outputs": []
    }
   ],
   "metadata": {}
  }
 ]
}