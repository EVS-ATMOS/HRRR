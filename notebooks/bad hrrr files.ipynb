{
 "metadata": {
  "name": "",
  "signature": "sha256:ea9d5c0d73d6eb0cef16ef3dd1e34f25ffc3dbabce971d77b5c9974ad3b4a3a4"
 },
 "nbformat": 3,
 "nbformat_minor": 0,
 "worksheets": [
  {
   "cells": [
    {
     "cell_type": "code",
     "collapsed": false,
     "input": [
      "import os\n",
      "import json\n",
      "directory = '/home/mjohnson/python/hrrr_txt'\n",
      "\n",
      "wkdir = os.getcwd()\n",
      "bads = []\n",
      "os.chdir(directory)\n",
      "for i in os.listdir(directory):\n",
      "    f = open(i,'r')\n",
      "    try:\n",
      "        u = json.load(f)\n",
      "    except ValueError:\n",
      "        os.remove(directory+'/'+i)\n",
      "os.chdir(wkdir)\n"
     ],
     "language": "python",
     "metadata": {},
     "outputs": [],
     "prompt_number": 12
    },
    {
     "cell_type": "code",
     "collapsed": false,
     "input": [
      "len(bads)"
     ],
     "language": "python",
     "metadata": {},
     "outputs": [
      {
       "metadata": {},
       "output_type": "pyout",
       "prompt_number": 13,
       "text": [
        "0"
       ]
      }
     ],
     "prompt_number": 13
    },
    {
     "cell_type": "code",
     "collapsed": false,
     "input": [
      "len(os.listdir(directory))"
     ],
     "language": "python",
     "metadata": {},
     "outputs": [
      {
       "metadata": {},
       "output_type": "pyout",
       "prompt_number": 7,
       "text": [
        "458"
       ]
      }
     ],
     "prompt_number": 7
    },
    {
     "cell_type": "code",
     "collapsed": false,
     "input": [],
     "language": "python",
     "metadata": {},
     "outputs": [
      {
       "metadata": {},
       "output_type": "pyout",
       "prompt_number": 8,
       "text": [
        "0.16593886462882096"
       ]
      }
     ],
     "prompt_number": 8
    },
    {
     "cell_type": "code",
     "collapsed": false,
     "input": [
      "sorted(bads)"
     ],
     "language": "python",
     "metadata": {},
     "outputs": [
      {
       "metadata": {},
       "output_type": "pyout",
       "prompt_number": 10,
       "text": [
        "['hrrr.3d.20140321t000024r004L459899.txt',\n",
        " 'hrrr.3d.20140325t000024r003L459899.txt',\n",
        " 'hrrr.3d.20140327t000024r004L459899.txt',\n",
        " 'hrrr.3d.20140328t000024r003L459899.txt',\n",
        " 'hrrr.3d.20140401t000024r003L459899.txt',\n",
        " 'hrrr.3d.20140401t000024r004L459899.txt',\n",
        " 'hrrr.3d.20140404t000024r004L459899.txt',\n",
        " 'hrrr.3d.20140406t000024r004L459899.txt',\n",
        " 'hrrr.3d.20140407t000024r000L459899.txt',\n",
        " 'hrrr.3d.20140412t000024r004L459899.txt',\n",
        " 'hrrr.3d.20140413t000024r000L459899.txt',\n",
        " 'hrrr.3d.20140414t000024r001L459899.txt',\n",
        " 'hrrr.3d.20140415t000024r000L459899.txt',\n",
        " 'hrrr.3d.20140416t000024r000L459899.txt',\n",
        " 'hrrr.3d.20140416t000024r004L459899.txt',\n",
        " 'hrrr.3d.20140417t000024r000L459899.txt',\n",
        " 'hrrr.3d.20140420t000024r003L459899.txt',\n",
        " 'hrrr.3d.20140421t000024r000L459899.txt',\n",
        " 'hrrr.3d.20140421t000024r004L459899.txt',\n",
        " 'hrrr.3d.20140423t000024r000L459899.txt',\n",
        " 'hrrr.3d.20140425t000024r000L459899.txt',\n",
        " 'hrrr.3d.20140510t000024r000L459899.txt',\n",
        " 'hrrr.3d.20140511t000024r000L459899.txt',\n",
        " 'hrrr.3d.20140512t000024r000L459899.txt',\n",
        " 'hrrr.3d.20140512t000024r001L459899.txt',\n",
        " 'hrrr.3d.20140513t000024r000L459899.txt',\n",
        " 'hrrr.3d.20140514t000024r000L459899.txt',\n",
        " 'hrrr.3d.20140516t000024r000L459899.txt',\n",
        " 'hrrr.3d.20140520t000024r000L459899.txt',\n",
        " 'hrrr.3d.20140601t000024r000L459899.txt',\n",
        " 'hrrr.3d.20140602t000024r000L459899.txt',\n",
        " 'hrrr.3d.20140604t000024r000L459899.txt',\n",
        " 'hrrr.3d.20140606t000024r000L459899.txt',\n",
        " 'hrrr.3d.20140607t000024r000L459899.txt',\n",
        " 'hrrr.3d.20140608t000024r000L459899.txt',\n",
        " 'hrrr.3d.20140610t000024r000L459899.txt',\n",
        " 'hrrr.3d.20140613t000024r000L459899.txt',\n",
        " 'hrrr.3d.20140614t000024r000L459899.txt',\n",
        " 'hrrr.3d.20140615t000024r000L459899.txt',\n",
        " 'hrrr.3d.20140615t000024r002L459899.txt',\n",
        " 'hrrr.3d.20140615t000024r003L459899.txt',\n",
        " 'hrrr.3d.20140616t000024r000L459899.txt',\n",
        " 'hrrr.3d.20140616t000024r001L459899.txt',\n",
        " 'hrrr.3d.20140617t000024r004L459899.txt',\n",
        " 'hrrr.3d.20140618t000024r000L459899.txt',\n",
        " 'hrrr.3d.20140619t000024r000L459899.txt',\n",
        " 'hrrr.3d.20140620t000024r000L459899.txt',\n",
        " 'hrrr.3d.20140620t000024r001L459899.txt',\n",
        " 'hrrr.3d.20140621t000024r000L459899.txt',\n",
        " 'hrrr.3d.20140622t000024r000L459899.txt',\n",
        " 'hrrr.3d.20140623t000024r000L459899.txt',\n",
        " 'hrrr.3d.20140624t000024r000L459899.txt',\n",
        " 'hrrr.3d.20140626t000024r001L459899.txt',\n",
        " 'hrrr.3d.20140626t000024r002L459899.txt',\n",
        " 'hrrr.3d.20140627t000024r000L459899.txt',\n",
        " 'hrrr.3d.20140627t000024r002L459899.txt',\n",
        " 'hrrr.3d.20140628t000024r000L459899.txt',\n",
        " 'hrrr.3d.20140628t000024r001L459899.txt',\n",
        " 'hrrr.3d.20140629t000024r000L459899.txt',\n",
        " 'hrrr.3d.20140629t000024r001L459899.txt',\n",
        " 'hrrr.3d.20140701t000024r000L459899.txt',\n",
        " 'hrrr.3d.20140701t000024r001L459899.txt',\n",
        " 'hrrr.3d.20140703t000024r000L459899.txt',\n",
        " 'hrrr.3d.20140704t000024r000L459899.txt',\n",
        " 'hrrr.3d.20140704t000024r002L459899.txt',\n",
        " 'hrrr.3d.20140704t000024r003L459899.txt',\n",
        " 'hrrr.3d.20140704t000024r004L459899.txt',\n",
        " 'hrrr.3d.20140705t000024r000L459899.txt',\n",
        " 'hrrr.3d.20140707t000024r000L459899.txt',\n",
        " 'hrrr.3d.20140707t000024r001L459899.txt',\n",
        " 'hrrr.3d.20140708t000024r001L459899.txt',\n",
        " 'hrrr.3d.20140710t000024r000L459899.txt',\n",
        " 'hrrr.3d.20140710t000024r001L459899.txt',\n",
        " 'hrrr.3d.20140719t000024r001L459899.txt',\n",
        " 'hrrr.3d.20140720t000024r001L459899.txt',\n",
        " 'hrrr.3d.20140721t000024r001L459899.txt']"
       ]
      }
     ],
     "prompt_number": 10
    },
    {
     "cell_type": "code",
     "collapsed": false,
     "input": [],
     "language": "python",
     "metadata": {},
     "outputs": []
    }
   ],
   "metadata": {}
  }
 ]
}