{
 "metadata": {
  "name": "",
  "signature": "sha256:2e55f1f70f1f71af7a65afb64ee9c4094b0434ef1aeeb5737c24d54570cfac5e"
 },
 "nbformat": 3,
 "nbformat_minor": 0,
 "worksheets": [
  {
   "cells": [
    {
     "cell_type": "code",
     "collapsed": false,
     "input": [
      "import pyhrrr\n",
      "import matplotlib"
     ],
     "language": "python",
     "metadata": {},
     "outputs": [
      {
       "output_type": "stream",
       "stream": "stdout",
       "text": [
        "function added to pyhrrr\n"
       ]
      }
     ],
     "prompt_number": 3
    },
    {
     "cell_type": "code",
     "collapsed": false,
     "input": [
      "radar_filename = 'sgpkazrgeC1.a1.20140419.000001.cdf'\n",
      "sounding_filename = 'sgpsondewnpnC1.b1.20140419.052400.cdf'"
     ],
     "language": "python",
     "metadata": {},
     "outputs": [],
     "prompt_number": 4
    },
    {
     "cell_type": "code",
     "collapsed": false,
     "input": [
      "radar_directory = '/data/san_store/gmckercher/kazr2/mckercherg1/160107'\n",
      "sounding_directory = '/data/san_store/soundings/sgp/mckercherg1/159821'"
     ],
     "language": "python",
     "metadata": {},
     "outputs": [],
     "prompt_number": 5
    },
    {
     "cell_type": "code",
     "collapsed": false,
     "input": [
      "import numpy as np\n",
      "print 'first'\n",
      "def compress_radartohrrr(radar_filename, sounding_filename, radar_directory, sounding_directory, tsinds = None, psinds = None):\n",
      "    print 'made to first function'\n",
      "    copol = pyhrrr.get_netcdf_variables(filename = radar_filename, directory = radar_directory,variablelist=\n",
      "                                ['reflectivity_copol'])\n",
      "    print 'get_netcdf finished'\n",
      "    copol = copol[0][0]\n",
      "    print 'got copol'\n",
      "    ran = pyhrrr.get_netcdf_variables(filename = radar_filename, directory = radar_directory,variablelist=\n",
      "                                ['range'])\n",
      "    ran = ran[0][0]\n",
      "    print 'got ran'\n",
      "    times = pyhrrr.get_netcdf_variables(filename = radar_filename, directory = radar_directory,variablelist=\n",
      "                                ['time'])\n",
      "    times = times[0][0]\n",
      "    \n",
      "    print 'finished file1'              \n",
      "    [[sdata,sdim,sunits],sdate] = pyhrrr.get_netcdf_variables(filename=sounding_filename,directory=sounding_directory,variablelist=['pres','alt'])\n",
      "    \n",
      "    print 'finished files'      \n",
      "                      \n",
      "    pres = np.interp(ran,sdata[1],sdata[0])\n",
      "    \n",
      "    print 'finished interp'\n",
      "    \n",
      "    \n",
      "    if tsinds == None and psinds == None:\n",
      "        [psinds,tsinds] = calc_radar2hrrr_inds(times,pres)\n",
      "    \n",
      "    print 'finished calc inds'\n",
      "    \n",
      "    copol = np.array(copol)\n",
      "    x = []\n",
      "    y = []\n",
      "    for i in range(len(tsinds)):\n",
      "        for j in range(len(psinds)):\n",
      "            y.append(np.mean(np.mean(copol[tsinds[i]+1:tsinds[i+1]][psinds[i]+1:psinds[i+1]],axis=1),axis=0))\n",
      "        x.append(y)\n",
      "        y = []\n",
      "        \n",
      "    return [x,tsinds,psinds]\n",
      "        \n",
      "def calc_radar2hrrr_inds(times,pres):\n",
      "    \"\"\"\n",
      "    works out indicies closest to each pressure level and hour and thus the matrices that need to be compressed to one value\n",
      "    \"\"\"\n",
      "    timesf = range(0,24)\n",
      "    presf = np.log(HRRR_PS)\n",
      "    pres = np.log(pres)\n",
      "    \n",
      "    hpsave = []\n",
      "    for i in range(len(presf.tolist())):\n",
      "        if i == 0:\n",
      "                hpsave.append(presf[0])\n",
      "        elif i == len(presf.tolist())-1:\n",
      "                hpsave.append(presf[-1])\n",
      "        else:\n",
      "                hpsave.append((presf[i]+presf[i+1])/2)\n",
      "                \n",
      "    pres = set(pres)\n",
      "    prestest = pres.union(hpsave)\n",
      "    prestest = list(prestest)\n",
      "        \n",
      "    hpsave = list(set(hpsave))\n",
      "    psinds = []\n",
      "    for i in hpsave:\n",
      "        psinds.append(prestest.index(i))\n",
      "            \n",
      "    timesave = []\n",
      "    for i in range(len(timesf)):\n",
      "        if i == 0:\n",
      "            timesave.append(timesf[0])\n",
      "        elif i == len(timesf)-1:\n",
      "            timesave.append(timesf[-1])\n",
      "        else:\n",
      "            timesave.append((timesf[i]+timesf[i+1])/2)\n",
      "                \n",
      "    timestest = set(times)\n",
      "    timestest = timestest.union(set(timesave))\n",
      "    tsinds= []\n",
      "    for i in timesave:\n",
      "        tsinds.append(timestest.index(i))\n",
      "        \n",
      "    return [psinds,tsinds]"
     ],
     "language": "python",
     "metadata": {},
     "outputs": [
      {
       "output_type": "stream",
       "stream": "stdout",
       "text": [
        "first\n"
       ]
      }
     ],
     "prompt_number": 4
    },
    {
     "cell_type": "code",
     "collapsed": false,
     "input": [],
     "language": "python",
     "metadata": {},
     "outputs": [],
     "prompt_number": 4
    },
    {
     "cell_type": "code",
     "collapsed": false,
     "input": [
      "copol = pyhrrr.get_netcdf_variables(radar_filename,directory = radar_directory,variablelist = ['reflectivity_copol'])"
     ],
     "language": "python",
     "metadata": {},
     "outputs": [
      {
       "output_type": "stream",
       "stream": "stdout",
       "text": [
        "made to function get\n",
        "directories finished\n",
        "imports finished\n",
        "file accessed\n",
        "date\n",
        "data gathered\n",
        "file closed\n"
       ]
      }
     ],
     "prompt_number": 6
    },
    {
     "cell_type": "code",
     "collapsed": false,
     "input": [
      "[x,tsinds,psinds] = compress_radartohrrr(radar_filename=radar_filename, sounding_filename=sounding_filename, \n",
      "                                         radar_directory=radar_directory,sounding_directory=sounding_directory,\n",
      "                                         tsinds = None,psinds = None)"
     ],
     "language": "python",
     "metadata": {},
     "outputs": []
    },
    {
     "cell_type": "code",
     "collapsed": false,
     "input": [],
     "language": "python",
     "metadata": {},
     "outputs": [
      {
       "ename": "NameError",
       "evalue": "name 'copol' is not defined",
       "output_type": "pyerr",
       "traceback": [
        "\u001b[1;31m---------------------------------------------------------------------------\u001b[0m\n\u001b[1;31mNameError\u001b[0m                                 Traceback (most recent call last)",
        "\u001b[1;32m<ipython-input-1-7f9a93a1cf05>\u001b[0m in \u001b[0;36m<module>\u001b[1;34m()\u001b[0m\n\u001b[1;32m----> 1\u001b[1;33m \u001b[0mcopol\u001b[0m\u001b[1;33m[\u001b[0m\u001b[1;36m0\u001b[0m\u001b[1;33m]\u001b[0m\u001b[1;33m\u001b[0m\u001b[0m\n\u001b[0m",
        "\u001b[1;31mNameError\u001b[0m: name 'copol' is not defined"
       ]
      }
     ],
     "prompt_number": 1
    },
    {
     "cell_type": "code",
     "collapsed": false,
     "input": [],
     "language": "python",
     "metadata": {},
     "outputs": []
    }
   ],
   "metadata": {}
  }
 ]
}