{
 "metadata": {
  "name": "",
  "signature": "sha256:c3273bf578293b338db8ac16c7f39b41d1876e4b3b5f3a92498928bede3e890b"
 },
 "nbformat": 3,
 "nbformat_minor": 0,
 "worksheets": [
  {
   "cells": [
    {
     "cell_type": "code",
     "collapsed": false,
     "input": [
      "import pyhrrr"
     ],
     "language": "python",
     "metadata": {},
     "outputs": [],
     "prompt_number": 1
    },
    {
     "cell_type": "code",
     "collapsed": false,
     "input": [
      "radar_filename = 'sgpkazrgeC1.a1.20140419.000001.cdf'\n",
      "sounding_filename = 'sgpsondewnpnC1.b1.20140419.052400.cdf'"
     ],
     "language": "python",
     "metadata": {},
     "outputs": [],
     "prompt_number": 2
    },
    {
     "cell_type": "code",
     "collapsed": false,
     "input": [
      "directory = '/Users/mattjohnson/'\n",
      "radar_directory = directory\n",
      "sounding_directory = directory"
     ],
     "language": "python",
     "metadata": {},
     "outputs": [],
     "prompt_number": 3
    },
    {
     "cell_type": "code",
     "collapsed": false,
     "input": [
      "[x,timesf,presf,tsinds,psinds] = pyhrrr.compress_radartohrrr(radar_filename, sounding_filename, radar_directory,sounding_directory)"
     ],
     "language": "python",
     "metadata": {},
     "outputs": []
    },
    {
     "cell_type": "code",
     "collapsed": false,
     "input": [],
     "language": "python",
     "metadata": {},
     "outputs": []
    }
   ],
   "metadata": {}
  }
 ]
}