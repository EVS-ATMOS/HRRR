{
 "metadata": {
  "name": "",
  "signature": "sha256:f943854cca1e96004b9e064e6c0ecb01f09588c6e7eef9afd4521b47941115ab"
 },
 "nbformat": 3,
 "nbformat_minor": 0,
 "worksheets": [
  {
   "cells": [
    {
     "cell_type": "code",
     "collapsed": false,
     "input": [
      "import pyhrrr"
     ],
     "language": "python",
     "metadata": {},
     "outputs": [],
     "prompt_number": 1
    },
    {
     "cell_type": "code",
     "collapsed": false,
     "input": [
      "radar_filename = 'sgpkazrgeC1.a1.20140419.000001.cdf'\n",
      "sounding_filename = 'sgpsondewnpnC1.b1.20140419.052400.cdf'"
     ],
     "language": "python",
     "metadata": {},
     "outputs": [],
     "prompt_number": 2
    },
    {
     "cell_type": "code",
     "collapsed": false,
     "input": [
      "radar_directory = '/Users/mattjohnson/'\n",
      "sounding_directory = '/Users/mattjohnson/'"
     ],
     "language": "python",
     "metadata": {},
     "outputs": [],
     "prompt_number": 3
    },
    {
     "cell_type": "code",
     "collapsed": false,
     "input": [],
     "language": "python",
     "metadata": {},
     "outputs": [],
     "prompt_number": 3
    },
    {
     "cell_type": "code",
     "collapsed": false,
     "input": [
      "[x,tsinds,psinds] = pyhrrr.compress_radartohrrr(radar_filename=radar_filename,sounding_filename=sounding_filename,\n",
      "                                                radar_directory=radar_directory,sounding_directory=sounding_directory,\n",
      "                                                tsinds = None, psinds = None)"
     ],
     "language": "python",
     "metadata": {},
     "outputs": []
    },
    {
     "cell_type": "code",
     "collapsed": false,
     "input": [],
     "language": "python",
     "metadata": {},
     "outputs": [
      {
       "metadata": {},
       "output_type": "pyout",
       "prompt_number": 1,
       "text": [
        "{'In': ['', u'vars()'],\n",
        " 'Out': {},\n",
        " '_': '',\n",
        " '__': '',\n",
        " '___': '',\n",
        " '__builtin__': <module '__builtin__' (built-in)>,\n",
        " '__builtins__': <module '__builtin__' (built-in)>,\n",
        " '__doc__': 'Automatically created module for IPython interactive environment',\n",
        " '__name__': '__main__',\n",
        " '_dh': [u'/Users/mattjohnson/HRRR/notebooks'],\n",
        " '_i': u'',\n",
        " '_i1': u'vars()',\n",
        " '_ih': ['', u'vars()'],\n",
        " '_ii': u'',\n",
        " '_iii': u'',\n",
        " '_oh': {},\n",
        " '_sh': <module 'IPython.core.shadowns' from '/Users/mattjohnson/anaconda/lib/python2.7/site-packages/IPython/core/shadowns.pyc'>,\n",
        " 'exit': <IPython.core.autocall.ZMQExitAutocall at 0x10339b890>,\n",
        " 'get_ipython': <bound method ZMQInteractiveShell.get_ipython of <IPython.kernel.zmq.zmqshell.ZMQInteractiveShell object at 0x102fdd8d0>>,\n",
        " 'quit': <IPython.core.autocall.ZMQExitAutocall at 0x10339b890>}"
       ]
      }
     ],
     "prompt_number": 1
    },
    {
     "cell_type": "code",
     "collapsed": false,
     "input": [],
     "language": "python",
     "metadata": {},
     "outputs": [],
     "prompt_number": 3
    },
    {
     "cell_type": "code",
     "collapsed": false,
     "input": [],
     "language": "python",
     "metadata": {},
     "outputs": []
    },
    {
     "cell_type": "code",
     "collapsed": false,
     "input": [],
     "language": "python",
     "metadata": {},
     "outputs": []
    }
   ],
   "metadata": {}
  }
 ]
}