{
 "metadata": {
  "name": ""
 },
 "nbformat": 3,
 "nbformat_minor": 0,
 "worksheets": [
  {
   "cells": [
    {
     "cell_type": "code",
     "collapsed": false,
     "input": [
      "import pyart, pygrib\n",
      "import sys, os, urllib, urllib2\n"
     ],
     "language": "python",
     "metadata": {},
     "outputs": [],
     "prompt_number": 28
    },
    {
     "cell_type": "code",
     "collapsed": false,
     "input": [
      "def fetch_and_convert_nexrad(url, tmp_dir='/data/tmp/'):\n",
      "    last_file=urllib.urlopen(url+'dir.list').read().split('\\n')[-3].split(' ')[-1]\n",
      "    outfile=tmp_dir+last_file\n",
      "    req = urllib2.urlopen(url+last_file)\n",
      "    outobj=open(outfile, 'wb')\n",
      "    outobj.write(req.read())\n",
      "    outobj.close()\n",
      "    command=\"/usr/local/bin/RadxConvert -const_ngates -outdir \"+ tmp_dir+\" -f \" + outfile\n",
      "    os.system(command)\n",
      "    dump_dir=tmp_dir+last_file.split('_')[1]\n",
      "    files=os.listdir(dump_dir)\n",
      "    ofilename=last_file.split('_')[0]+'_latest.nc'\n",
      "    os.system('mv '+dump_dir+'/'+files[0]+' /data/tmp/'+ofilename)\n",
      "    os.rmdir(dump_dir)\n",
      "    os.remove(outfile)\n",
      "    return ofilename\n"
     ],
     "language": "python",
     "metadata": {},
     "outputs": []
    },
    {
     "cell_type": "code",
     "collapsed": false,
     "input": [
      "HRRR_url = 'http://hrrr.agron.iastate.edu/data/hrrr/'\n",
      "all_files = urllib.urlopen(HRRR_url).read()\n",
      "all_times = []\n",
      "for item in all_files.split(\"\\n\"):\n",
      "    if \"a href\" in item:\n",
      "        idx = item.find('a href=\"')\n",
      "        all_times.append(item[idx + 8 : idx + 20])\n",
      "last_dir = HRRR_url + all_times[-1]"
     ],
     "language": "python",
     "metadata": {},
     "outputs": [],
     "prompt_number": 22
    },
    {
     "cell_type": "code",
     "collapsed": false,
     "input": [
      "print last_dir\n",
      "forecast_time = 'f000'\n",
      "dimensionality = '3d'\n",
      "filename = 'hrrr.' + dimensionality + '.' + all_times[-1] + forecast_time + '.grib2'"
     ],
     "language": "python",
     "metadata": {},
     "outputs": [
      {
       "output_type": "stream",
       "stream": "stdout",
       "text": [
        "http://hrrr.agron.iastate.edu/data/hrrr/201401222100\n"
       ]
      }
     ],
     "prompt_number": 26
    },
    {
     "cell_type": "code",
     "collapsed": false,
     "input": [
      "print filename\n",
      "req = urllib2.urlopen(last_dir + '/' + filename)\n",
      "outdir = '/data/HRRR/'\n",
      "exising_hrrr_files = os.listdir(outdir)\n",
      "if filename in exising_hrrr_files:\n",
      "    print('File exists, saving bandwidth')\n",
      "else:\n",
      "    print('fetching')\n",
      "    outfile = outdir + filename\n",
      "    req = urllib2.urlopen(last_dir + '/' + filename)\n",
      "    outobj=open(outfile, 'wb')\n",
      "    outobj.write(req.read())\n",
      "    outobj.close()\n"
     ],
     "language": "python",
     "metadata": {},
     "outputs": [
      {
       "output_type": "stream",
       "stream": "stdout",
       "text": [
        "hrrr.3d.201401222100f000.grib2\n",
        "File exists, saving bandwidth"
       ]
      },
      {
       "output_type": "stream",
       "stream": "stdout",
       "text": [
        "\n"
       ]
      }
     ],
     "prompt_number": 30
    },
    {
     "cell_type": "code",
     "collapsed": false,
     "input": [],
     "language": "python",
     "metadata": {},
     "outputs": [
      {
       "output_type": "stream",
       "stream": "stdout",
       "text": [
        "<!DOCTYPE HTML PUBLIC \"-//W3C//DTD HTML 3.2 Final//EN\">\n",
        "<html>\n",
        " <head>\n",
        "  <title>Index of /data/hrrr/201401222100</title>\n",
        " </head>\n",
        " <body>\n",
        "<h1>Index of /data/hrrr/201401222100</h1>\n",
        "<table><tr><th><img src=\"/icons/blank.gif\" alt=\"[ICO]\"></th><th><a href=\"?C=N;O=D\">Name</a></th><th><a href=\"?C=M;O=A\">Last modified</a></th><th><a href=\"?C=S;O=A\">Size</a></th><th><a href=\"?C=D;O=A\">Description</a></th></tr><tr><th colspan=\"5\"><hr></th></tr>\n",
        "<tr><td valign=\"top\"><img src=\"/icons/back.gif\" alt=\"[DIR]\"></td><td><a href=\"/data/hrrr/\">Parent Directory</a></td><td>&nbsp;</td><td align=\"right\">  - </td><td>&nbsp;</td></tr>\n",
        "<tr><td valign=\"top\"><img src=\"/icons/unknown.gif\" alt=\"[   ]\"></td><td><a href=\"hrrr.2d.201401222100f000.grib2\">hrrr.2d.201401222100f000.grib2</a></td><td align=\"right\">22-Jan-2014 16:26  </td><td align=\"right\"> 73M</td><td>&nbsp;</td></tr>\n",
        "<tr><td valign=\"top\"><img src=\"/icons/unknown.gif\" alt=\"[   ]\"></td><td><a href=\"hrrr.2d.201401222100f000.grib2.idx\">hrrr.2d.201401222100f000.grib2.idx</a></td><td align=\"right\">22-Jan-2014 17:15  </td><td align=\"right\">8.2K</td><td>&nbsp;</td></tr>\n",
        "<tr><td valign=\"top\"><img src=\"/icons/unknown.gif\" alt=\"[   ]\"></td><td><a href=\"hrrr.2d.201401222100f001.grib2\">hrrr.2d.201401222100f001.grib2</a></td><td align=\"right\">22-Jan-2014 16:33  </td><td align=\"right\"> 79M</td><td>&nbsp;</td></tr>\n",
        "<tr><td valign=\"top\"><img src=\"/icons/unknown.gif\" alt=\"[   ]\"></td><td><a href=\"hrrr.2d.201401222100f001.grib2.idx\">hrrr.2d.201401222100f001.grib2.idx</a></td><td align=\"right\">22-Jan-2014 17:15  </td><td align=\"right\">9.0K</td><td>&nbsp;</td></tr>\n",
        "<tr><td valign=\"top\"><img src=\"/icons/unknown.gif\" alt=\"[   ]\"></td><td><a href=\"hrrr.2d.201401222100f002.grib2\">hrrr.2d.201401222100f002.grib2</a></td><td align=\"right\">22-Jan-2014 16:33  </td><td align=\"right\"> 80M</td><td>&nbsp;</td></tr>\n",
        "<tr><td valign=\"top\"><img src=\"/icons/unknown.gif\" alt=\"[   ]\"></td><td><a href=\"hrrr.2d.201401222100f002.grib2.idx\">hrrr.2d.201401222100f002.grib2.idx</a></td><td align=\"right\">22-Jan-2014 17:15  </td><td align=\"right\">9.1K</td><td>&nbsp;</td></tr>\n",
        "<tr><td valign=\"top\"><img src=\"/icons/unknown.gif\" alt=\"[   ]\"></td><td><a href=\"hrrr.2d.201401222100f003.grib2\">hrrr.2d.201401222100f003.grib2</a></td><td align=\"right\">22-Jan-2014 16:36  </td><td align=\"right\"> 79M</td><td>&nbsp;</td></tr>\n",
        "<tr><td valign=\"top\"><img src=\"/icons/unknown.gif\" alt=\"[   ]\"></td><td><a href=\"hrrr.2d.201401222100f003.grib2.idx\">hrrr.2d.201401222100f003.grib2.idx</a></td><td align=\"right\">22-Jan-2014 17:15  </td><td align=\"right\">9.1K</td><td>&nbsp;</td></tr>\n",
        "<tr><td valign=\"top\"><img src=\"/icons/unknown.gif\" alt=\"[   ]\"></td><td><a href=\"hrrr.2d.201401222100f004.grib2\">hrrr.2d.201401222100f004.grib2</a></td><td align=\"right\">22-Jan-2014 16:42  </td><td align=\"right\"> 80M</td><td>&nbsp;</td></tr>\n",
        "<tr><td valign=\"top\"><img src=\"/icons/unknown.gif\" alt=\"[   ]\"></td><td><a href=\"hrrr.2d.201401222100f004.grib2.idx\">hrrr.2d.201401222100f004.grib2.idx</a></td><td align=\"right\">22-Jan-2014 17:15  </td><td align=\"right\">9.1K</td><td>&nbsp;</td></tr>\n",
        "<tr><td valign=\"top\"><img src=\"/icons/unknown.gif\" alt=\"[   ]\"></td><td><a href=\"hrrr.2d.201401222100f005.grib2\">hrrr.2d.201401222100f005.grib2</a></td><td align=\"right\">22-Jan-2014 16:42  </td><td align=\"right\"> 81M</td><td>&nbsp;</td></tr>\n",
        "<tr><td valign=\"top\"><img src=\"/icons/unknown.gif\" alt=\"[   ]\"></td><td><a href=\"hrrr.2d.201401222100f005.grib2.idx\">hrrr.2d.201401222100f005.grib2.idx</a></td><td align=\"right\">22-Jan-2014 17:15  </td><td align=\"right\">9.1K</td><td>&nbsp;</td></tr>\n",
        "<tr><td valign=\"top\"><img src=\"/icons/unknown.gif\" alt=\"[   ]\"></td><td><a href=\"hrrr.2d.201401222100f006.grib2\">hrrr.2d.201401222100f006.grib2</a></td><td align=\"right\">22-Jan-2014 16:46  </td><td align=\"right\"> 84M</td><td>&nbsp;</td></tr>\n",
        "<tr><td valign=\"top\"><img src=\"/icons/unknown.gif\" alt=\"[   ]\"></td><td><a href=\"hrrr.2d.201401222100f006.grib2.idx\">hrrr.2d.201401222100f006.grib2.idx</a></td><td align=\"right\">22-Jan-2014 17:15  </td><td align=\"right\">9.1K</td><td>&nbsp;</td></tr>\n",
        "<tr><td valign=\"top\"><img src=\"/icons/unknown.gif\" alt=\"[   ]\"></td><td><a href=\"hrrr.2d.201401222100f007.grib2\">hrrr.2d.201401222100f007.grib2</a></td><td align=\"right\">22-Jan-2014 16:46  </td><td align=\"right\"> 84M</td><td>&nbsp;</td></tr>\n",
        "<tr><td valign=\"top\"><img src=\"/icons/unknown.gif\" alt=\"[   ]\"></td><td><a href=\"hrrr.2d.201401222100f007.grib2.idx\">hrrr.2d.201401222100f007.grib2.idx</a></td><td align=\"right\">22-Jan-2014 17:15  </td><td align=\"right\">9.1K</td><td>&nbsp;</td></tr>\n",
        "<tr><td valign=\"top\"><img src=\"/icons/unknown.gif\" alt=\"[   ]\"></td><td><a href=\"hrrr.2d.201401222100f008.grib2\">hrrr.2d.201401222100f008.grib2</a></td><td align=\"right\">22-Jan-2014 16:58  </td><td align=\"right\"> 84M</td><td>&nbsp;</td></tr>\n",
        "<tr><td valign=\"top\"><img src=\"/icons/unknown.gif\" alt=\"[   ]\"></td><td><a href=\"hrrr.2d.201401222100f008.grib2.idx\">hrrr.2d.201401222100f008.grib2.idx</a></td><td align=\"right\">22-Jan-2014 17:15  </td><td align=\"right\">9.1K</td><td>&nbsp;</td></tr>\n",
        "<tr><td valign=\"top\"><img src=\"/icons/unknown.gif\" alt=\"[   ]\"></td><td><a href=\"hrrr.2d.201401222100f009.grib2\">hrrr.2d.201401222100f009.grib2</a></td><td align=\"right\">22-Jan-2014 16:58  </td><td align=\"right\"> 85M</td><td>&nbsp;</td></tr>\n",
        "<tr><td valign=\"top\"><img src=\"/icons/unknown.gif\" alt=\"[   ]\"></td><td><a href=\"hrrr.2d.201401222100f009.grib2.idx\">hrrr.2d.201401222100f009.grib2.idx</a></td><td align=\"right\">22-Jan-2014 17:15  </td><td align=\"right\">9.1K</td><td>&nbsp;</td></tr>\n",
        "<tr><td valign=\"top\"><img src=\"/icons/unknown.gif\" alt=\"[   ]\"></td><td><a href=\"hrrr.2d.201401222100f010.grib2\">hrrr.2d.201401222100f010.grib2</a></td><td align=\"right\">22-Jan-2014 16:59  </td><td align=\"right\"> 85M</td><td>&nbsp;</td></tr>\n",
        "<tr><td valign=\"top\"><img src=\"/icons/unknown.gif\" alt=\"[   ]\"></td><td><a href=\"hrrr.2d.201401222100f010.grib2.idx\">hrrr.2d.201401222100f010.grib2.idx</a></td><td align=\"right\">22-Jan-2014 17:15  </td><td align=\"right\">9.2K</td><td>&nbsp;</td></tr>\n",
        "<tr><td valign=\"top\"><img src=\"/icons/unknown.gif\" alt=\"[   ]\"></td><td><a href=\"hrrr.2d.201401222100f011.grib2\">hrrr.2d.201401222100f011.grib2</a></td><td align=\"right\">22-Jan-2014 17:02  </td><td align=\"right\"> 86M</td><td>&nbsp;</td></tr>\n",
        "<tr><td valign=\"top\"><img src=\"/icons/unknown.gif\" alt=\"[   ]\"></td><td><a href=\"hrrr.2d.201401222100f011.grib2.idx\">hrrr.2d.201401222100f011.grib2.idx</a></td><td align=\"right\">22-Jan-2014 17:15  </td><td align=\"right\">9.2K</td><td>&nbsp;</td></tr>\n",
        "<tr><td valign=\"top\"><img src=\"/icons/unknown.gif\" alt=\"[   ]\"></td><td><a href=\"hrrr.2d.201401222100f012.grib2\">hrrr.2d.201401222100f012.grib2</a></td><td align=\"right\">22-Jan-2014 17:06  </td><td align=\"right\"> 86M</td><td>&nbsp;</td></tr>\n",
        "<tr><td valign=\"top\"><img src=\"/icons/unknown.gif\" alt=\"[   ]\"></td><td><a href=\"hrrr.2d.201401222100f012.grib2.idx\">hrrr.2d.201401222100f012.grib2.idx</a></td><td align=\"right\">22-Jan-2014 17:15  </td><td align=\"right\">9.2K</td><td>&nbsp;</td></tr>\n",
        "<tr><td valign=\"top\"><img src=\"/icons/unknown.gif\" alt=\"[   ]\"></td><td><a href=\"hrrr.2d.201401222100f013.grib2\">hrrr.2d.201401222100f013.grib2</a></td><td align=\"right\">22-Jan-2014 17:06  </td><td align=\"right\"> 86M</td><td>&nbsp;</td></tr>\n",
        "<tr><td valign=\"top\"><img src=\"/icons/unknown.gif\" alt=\"[   ]\"></td><td><a href=\"hrrr.2d.201401222100f013.grib2.idx\">hrrr.2d.201401222100f013.grib2.idx</a></td><td align=\"right\">22-Jan-2014 17:15  </td><td align=\"right\">9.2K</td><td>&nbsp;</td></tr>\n",
        "<tr><td valign=\"top\"><img src=\"/icons/unknown.gif\" alt=\"[   ]\"></td><td><a href=\"hrrr.2d.201401222100f014.grib2\">hrrr.2d.201401222100f014.grib2</a></td><td align=\"right\">22-Jan-2014 17:12  </td><td align=\"right\"> 87M</td><td>&nbsp;</td></tr>\n",
        "<tr><td valign=\"top\"><img src=\"/icons/unknown.gif\" alt=\"[   ]\"></td><td><a href=\"hrrr.2d.201401222100f014.grib2.idx\">hrrr.2d.201401222100f014.grib2.idx</a></td><td align=\"right\">22-Jan-2014 17:15  </td><td align=\"right\">9.2K</td><td>&nbsp;</td></tr>\n",
        "<tr><td valign=\"top\"><img src=\"/icons/unknown.gif\" alt=\"[   ]\"></td><td><a href=\"hrrr.2d.201401222100f015.grib2\">hrrr.2d.201401222100f015.grib2</a></td><td align=\"right\">22-Jan-2014 17:16  </td><td align=\"right\"> 87M</td><td>&nbsp;</td></tr>\n",
        "<tr><td valign=\"top\"><img src=\"/icons/unknown.gif\" alt=\"[   ]\"></td><td><a href=\"hrrr.3d.201401222100f000.grib2\">hrrr.3d.201401222100f000.grib2</a></td><td align=\"right\">22-Jan-2014 16:30  </td><td align=\"right\">224M</td><td>&nbsp;</td></tr>\n",
        "<tr><td valign=\"top\"><img src=\"/icons/unknown.gif\" alt=\"[   ]\"></td><td><a href=\"hrrr.3d.201401222100f000.grib2.idx\">hrrr.3d.201401222100f000.grib2.idx</a></td><td align=\"right\">22-Jan-2014 17:15  </td><td align=\"right\"> 24K</td><td>&nbsp;</td></tr>\n",
        "<tr><td valign=\"top\"><img src=\"/icons/unknown.gif\" alt=\"[   ]\"></td><td><a href=\"hrrr.3d.201401222100f001.grib2\">hrrr.3d.201401222100f001.grib2</a></td><td align=\"right\">22-Jan-2014 16:33  </td><td align=\"right\">238M</td><td>&nbsp;</td></tr>\n",
        "<tr><td valign=\"top\"><img src=\"/icons/unknown.gif\" alt=\"[   ]\"></td><td><a href=\"hrrr.3d.201401222100f001.grib2.idx\">hrrr.3d.201401222100f001.grib2.idx</a></td><td align=\"right\">22-Jan-2014 17:15  </td><td align=\"right\"> 28K</td><td>&nbsp;</td></tr>\n",
        "<tr><td valign=\"top\"><img src=\"/icons/unknown.gif\" alt=\"[   ]\"></td><td><a href=\"hrrr.3d.201401222100f002.grib2\">hrrr.3d.201401222100f002.grib2</a></td><td align=\"right\">22-Jan-2014 16:36  </td><td align=\"right\">240M</td><td>&nbsp;</td></tr>\n",
        "<tr><td valign=\"top\"><img src=\"/icons/unknown.gif\" alt=\"[   ]\"></td><td><a href=\"hrrr.3d.201401222100f002.grib2.idx\">hrrr.3d.201401222100f002.grib2.idx</a></td><td align=\"right\">22-Jan-2014 17:15  </td><td align=\"right\"> 28K</td><td>&nbsp;</td></tr>\n",
        "<tr><td valign=\"top\"><img src=\"/icons/unknown.gif\" alt=\"[   ]\"></td><td><a href=\"hrrr.3d.201401222100f003.grib2\">hrrr.3d.201401222100f003.grib2</a></td><td align=\"right\">22-Jan-2014 16:42  </td><td align=\"right\">241M</td><td>&nbsp;</td></tr>\n",
        "<tr><td valign=\"top\"><img src=\"/icons/unknown.gif\" alt=\"[   ]\"></td><td><a href=\"hrrr.3d.201401222100f003.grib2.idx\">hrrr.3d.201401222100f003.grib2.idx</a></td><td align=\"right\">22-Jan-2014 17:15  </td><td align=\"right\"> 28K</td><td>&nbsp;</td></tr>\n",
        "<tr><td valign=\"top\"><img src=\"/icons/unknown.gif\" alt=\"[   ]\"></td><td><a href=\"hrrr.3d.201401222100f004.grib2\">hrrr.3d.201401222100f004.grib2</a></td><td align=\"right\">22-Jan-2014 16:43  </td><td align=\"right\">242M</td><td>&nbsp;</td></tr>\n",
        "<tr><td valign=\"top\"><img src=\"/icons/unknown.gif\" alt=\"[   ]\"></td><td><a href=\"hrrr.3d.201401222100f004.grib2.idx\">hrrr.3d.201401222100f004.grib2.idx</a></td><td align=\"right\">22-Jan-2014 17:15  </td><td align=\"right\"> 28K</td><td>&nbsp;</td></tr>\n",
        "<tr><td valign=\"top\"><img src=\"/icons/unknown.gif\" alt=\"[   ]\"></td><td><a href=\"hrrr.3d.201401222100f005.grib2\">hrrr.3d.201401222100f005.grib2</a></td><td align=\"right\">22-Jan-2014 16:46  </td><td align=\"right\">242M</td><td>&nbsp;</td></tr>\n",
        "<tr><td valign=\"top\"><img src=\"/icons/unknown.gif\" alt=\"[   ]\"></td><td><a href=\"hrrr.3d.201401222100f005.grib2.idx\">hrrr.3d.201401222100f005.grib2.idx</a></td><td align=\"right\">22-Jan-2014 17:15  </td><td align=\"right\"> 28K</td><td>&nbsp;</td></tr>\n",
        "<tr><td valign=\"top\"><img src=\"/icons/unknown.gif\" alt=\"[   ]\"></td><td><a href=\"hrrr.3d.201401222100f006.grib2\">hrrr.3d.201401222100f006.grib2</a></td><td align=\"right\">22-Jan-2014 16:46  </td><td align=\"right\">244M</td><td>&nbsp;</td></tr>\n",
        "<tr><td valign=\"top\"><img src=\"/icons/unknown.gif\" alt=\"[   ]\"></td><td><a href=\"hrrr.3d.201401222100f006.grib2.idx\">hrrr.3d.201401222100f006.grib2.idx</a></td><td align=\"right\">22-Jan-2014 17:15  </td><td align=\"right\"> 28K</td><td>&nbsp;</td></tr>\n",
        "<tr><td valign=\"top\"><img src=\"/icons/unknown.gif\" alt=\"[   ]\"></td><td><a href=\"hrrr.3d.201401222100f007.grib2\">hrrr.3d.201401222100f007.grib2</a></td><td align=\"right\">22-Jan-2014 16:50  </td><td align=\"right\">243M</td><td>&nbsp;</td></tr>\n",
        "<tr><td valign=\"top\"><img src=\"/icons/unknown.gif\" alt=\"[   ]\"></td><td><a href=\"hrrr.3d.201401222100f007.grib2.idx\">hrrr.3d.201401222100f007.grib2.idx</a></td><td align=\"right\">22-Jan-2014 17:15  </td><td align=\"right\"> 28K</td><td>&nbsp;</td></tr>\n",
        "<tr><td valign=\"top\"><img src=\"/icons/unknown.gif\" alt=\"[   ]\"></td><td><a href=\"hrrr.3d.201401222100f008.grib2\">hrrr.3d.201401222100f008.grib2</a></td><td align=\"right\">22-Jan-2014 17:02  </td><td align=\"right\">243M</td><td>&nbsp;</td></tr>\n",
        "<tr><td valign=\"top\"><img src=\"/icons/unknown.gif\" alt=\"[   ]\"></td><td><a href=\"hrrr.3d.201401222100f008.grib2.idx\">hrrr.3d.201401222100f008.grib2.idx</a></td><td align=\"right\">22-Jan-2014 17:15  </td><td align=\"right\"> 28K</td><td>&nbsp;</td></tr>\n",
        "<tr><td valign=\"top\"><img src=\"/icons/unknown.gif\" alt=\"[   ]\"></td><td><a href=\"hrrr.3d.201401222100f009.grib2\">hrrr.3d.201401222100f009.grib2</a></td><td align=\"right\">22-Jan-2014 16:52  </td><td align=\"right\">244M</td><td>&nbsp;</td></tr>\n",
        "<tr><td valign=\"top\"><img src=\"/icons/unknown.gif\" alt=\"[   ]\"></td><td><a href=\"hrrr.3d.201401222100f009.grib2.idx\">hrrr.3d.201401222100f009.grib2.idx</a></td><td align=\"right\">22-Jan-2014 17:15  </td><td align=\"right\"> 28K</td><td>&nbsp;</td></tr>\n",
        "<tr><td valign=\"top\"><img src=\"/icons/unknown.gif\" alt=\"[   ]\"></td><td><a href=\"hrrr.3d.201401222100f010.grib2\">hrrr.3d.201401222100f010.grib2</a></td><td align=\"right\">22-Jan-2014 17:02  </td><td align=\"right\">244M</td><td>&nbsp;</td></tr>\n",
        "<tr><td valign=\"top\"><img src=\"/icons/unknown.gif\" alt=\"[   ]\"></td><td><a href=\"hrrr.3d.201401222100f010.grib2.idx\">hrrr.3d.201401222100f010.grib2.idx</a></td><td align=\"right\">22-Jan-2014 17:15  </td><td align=\"right\"> 29K</td><td>&nbsp;</td></tr>\n",
        "<tr><td valign=\"top\"><img src=\"/icons/unknown.gif\" alt=\"[   ]\"></td><td><a href=\"hrrr.3d.201401222100f011.grib2\">hrrr.3d.201401222100f011.grib2</a></td><td align=\"right\">22-Jan-2014 17:06  </td><td align=\"right\">243M</td><td>&nbsp;</td></tr>\n",
        "<tr><td valign=\"top\"><img src=\"/icons/unknown.gif\" alt=\"[   ]\"></td><td><a href=\"hrrr.3d.201401222100f011.grib2.idx\">hrrr.3d.201401222100f011.grib2.idx</a></td><td align=\"right\">22-Jan-2014 17:15  </td><td align=\"right\"> 29K</td><td>&nbsp;</td></tr>\n",
        "<tr><td valign=\"top\"><img src=\"/icons/unknown.gif\" alt=\"[   ]\"></td><td><a href=\"hrrr.3d.201401222100f012.grib2\">hrrr.3d.201401222100f012.grib2</a></td><td align=\"right\">22-Jan-2014 17:06  </td><td align=\"right\">244M</td><td>&nbsp;</td></tr>\n",
        "<tr><td valign=\"top\"><img src=\"/icons/unknown.gif\" alt=\"[   ]\"></td><td><a href=\"hrrr.3d.201401222100f012.grib2.idx\">hrrr.3d.201401222100f012.grib2.idx</a></td><td align=\"right\">22-Jan-2014 17:15  </td><td align=\"right\"> 29K</td><td>&nbsp;</td></tr>\n",
        "<tr><td valign=\"top\"><img src=\"/icons/unknown.gif\" alt=\"[   ]\"></td><td><a href=\"hrrr.3d.201401222100f013.grib2\">hrrr.3d.201401222100f013.grib2</a></td><td align=\"right\">22-Jan-2014 17:10  </td><td align=\"right\">243M</td><td>&nbsp;</td></tr>\n",
        "<tr><td valign=\"top\"><img src=\"/icons/unknown.gif\" alt=\"[   ]\"></td><td><a href=\"hrrr.3d.201401222100f013.grib2.idx\">hrrr.3d.201401222100f013.grib2.idx</a></td><td align=\"right\">22-Jan-2014 17:15  </td><td align=\"right\"> 29K</td><td>&nbsp;</td></tr>\n",
        "<tr><td valign=\"top\"><img src=\"/icons/unknown.gif\" alt=\"[   ]\"></td><td><a href=\"hrrr.3d.201401222100f014.grib2\">hrrr.3d.201401222100f014.grib2</a></td><td align=\"right\">22-Jan-2014 17:16  </td><td align=\"right\">242M</td><td>&nbsp;</td></tr>\n",
        "<tr><td valign=\"top\"><img src=\"/icons/unknown.gif\" alt=\"[   ]\"></td><td><a href=\"hrrr.3d.201401222100f015.grib2\">hrrr.3d.201401222100f015.grib2</a></td><td align=\"right\">22-Jan-2014 17:16  </td><td align=\"right\">245M</td><td>&nbsp;</td></tr>\n",
        "<tr><th colspan=\"5\"><hr></th></tr>\n",
        "</table>\n",
        "<address>Apache/2.2.15 (Red Hat) Server at hrrr.agron.iastate.edu Port 80</address>\n",
        "</body></html>\n",
        "\n"
       ]
      }
     ],
     "prompt_number": 25
    },
    {
     "cell_type": "code",
     "collapsed": false,
     "input": [],
     "language": "python",
     "metadata": {},
     "outputs": []
    }
   ],
   "metadata": {}
  }
 ]
}