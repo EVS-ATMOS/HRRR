{
 "metadata": {
  "name": "",
  "signature": "sha256:f0cb0882c812b76a16481a303a88e308a81ab6d02d665753c7a3d5dbc4f1c74e"
 },
 "nbformat": 3,
 "nbformat_minor": 0,
 "worksheets": [
  {
   "cells": [
    {
     "cell_type": "code",
     "collapsed": false,
     "input": [
      "directory = '/data/san_store/HRRR/'\n",
      "parameter = 'Cloud mixing ratio'"
     ],
     "language": "python",
     "metadata": {},
     "outputs": [],
     "prompt_number": 1
    },
    {
     "cell_type": "code",
     "collapsed": false,
     "input": [
      "import numpy as np\n",
      "import os\n",
      "import pyhrrr\n",
      "import datetime\n",
      "\n",
      "%matplotlib inline"
     ],
     "language": "python",
     "metadata": {},
     "outputs": []
    },
    {
     "cell_type": "code",
     "collapsed": false,
     "input": [
      "pyhrrr.plot_hrrr_spec(datetimestart = datetime.datetime(2014, 5, 27),\n",
      "                       datetimeend = datetime.datetime(2014,5,28), scaling = 10**3,final_unit = 'g kg**-1',\n",
      "                       parameter = parameter, directory = directory, contour = True, hour = 1)"
     ],
     "language": "python",
     "metadata": {},
     "outputs": []
    },
    {
     "cell_type": "code",
     "collapsed": false,
     "input": [
      "pyhrrr.plot_hrrr_spec(datetimestart = datetime.datetime(2014, 5, 27,0,0), datetimeend = datetime.datetime(2014,5,28,0,0), scaling = 10**3,final_unit = 'g kg**-1',parameter = parameter, directory = directory, hour = 1)"
     ],
     "language": "python",
     "metadata": {},
     "outputs": []
    },
    {
     "cell_type": "code",
     "collapsed": false,
     "input": [
      "pyhrrr.plot_hrrr_spec(datetimestart = datetime.datetime(2014, 5, 27,12,0), datetimeend = datetime.datetime(2014,5,27,12,0), parameter = parameter, directory = directory, plot_modelhours = True, hour = [1,2,3,4])"
     ],
     "language": "python",
     "metadata": {},
     "outputs": []
    },
    {
     "cell_type": "code",
     "collapsed": false,
     "input": [
      "pyhrrr.plot_hrrr(filename = 'hrrr.3d.201405271200f001.grib2',parameter = parameter, directory = directory)"
     ],
     "language": "python",
     "metadata": {},
     "outputs": []
    },
    {
     "cell_type": "code",
     "collapsed": false,
     "input": [],
     "language": "python",
     "metadata": {},
     "outputs": [],
     "prompt_number": 102
    },
    {
     "cell_type": "code",
     "collapsed": false,
     "input": [],
     "language": "python",
     "metadata": {},
     "outputs": []
    }
   ],
   "metadata": {}
  }
 ]
}