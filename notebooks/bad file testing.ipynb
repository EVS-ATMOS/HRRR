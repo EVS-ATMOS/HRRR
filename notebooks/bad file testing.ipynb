{
 "metadata": {
  "name": "",
  "signature": "sha256:df02150d5c2f50f89f7a15efd328b3fd69b10e11c108f6e24a920b935180a6a4"
 },
 "nbformat": 3,
 "nbformat_minor": 0,
 "worksheets": [
  {
   "cells": [
    {
     "cell_type": "code",
     "collapsed": false,
     "input": [
      "filename = 'hrrr.3d.201403301400f001.grib2'"
     ],
     "language": "python",
     "metadata": {},
     "outputs": [],
     "prompt_number": 1
    },
    {
     "cell_type": "code",
     "collapsed": false,
     "input": [
      "import pyhrrr"
     ],
     "language": "python",
     "metadata": {},
     "outputs": [],
     "prompt_number": 2
    },
    {
     "cell_type": "code",
     "collapsed": false,
     "input": [],
     "language": "python",
     "metadata": {},
     "outputs": [
      {
       "ename": "IOError",
       "evalue": "[Errno could not open %s] hrrr.3d.201403301400f001.grib2",
       "output_type": "pyerr",
       "traceback": [
        "\u001b[0;31m---------------------------------------------------------------------------\u001b[0m\n\u001b[0;31mIOError\u001b[0m                                   Traceback (most recent call last)",
        "\u001b[0;32m<ipython-input-7-0932817d9f38>\u001b[0m in \u001b[0;36m<module>\u001b[0;34m()\u001b[0m\n\u001b[0;32m----> 1\u001b[0;31m \u001b[0mx\u001b[0m \u001b[0;34m=\u001b[0m \u001b[0mpyhrrr\u001b[0m\u001b[0;34m.\u001b[0m\u001b[0mread_hrrr\u001b[0m\u001b[0;34m(\u001b[0m\u001b[0mfilename\u001b[0m\u001b[0;34m)\u001b[0m\u001b[0;34m\u001b[0m\u001b[0m\n\u001b[0m",
        "\u001b[0;32m/Users/mattjohnson/HRRR/pyhrrr.py\u001b[0m in \u001b[0;36mread_hrrr\u001b[0;34m(filename, parameters, directory, max)\u001b[0m\n\u001b[1;32m     38\u001b[0m         \u001b[0mos\u001b[0m\u001b[0;34m.\u001b[0m\u001b[0mchdir\u001b[0m\u001b[0;34m(\u001b[0m\u001b[0mdirectory\u001b[0m\u001b[0;34m)\u001b[0m\u001b[0;34m\u001b[0m\u001b[0m\n\u001b[1;32m     39\u001b[0m \u001b[0;34m\u001b[0m\u001b[0m\n\u001b[0;32m---> 40\u001b[0;31m     \u001b[0mmyfile\u001b[0m \u001b[0;34m=\u001b[0m \u001b[0mpygrib\u001b[0m\u001b[0;34m.\u001b[0m\u001b[0mopen\u001b[0m\u001b[0;34m(\u001b[0m\u001b[0mfilename\u001b[0m\u001b[0;34m)\u001b[0m\u001b[0;34m\u001b[0m\u001b[0m\n\u001b[0m\u001b[1;32m     41\u001b[0m     parameterlist = ['Geopotential Height','Temperature','Relative humidity','Dew point temperature',\n\u001b[1;32m     42\u001b[0m         \u001b[0;34m'Specific humidity'\u001b[0m\u001b[0;34m,\u001b[0m\u001b[0;34m'Vertical velocity'\u001b[0m\u001b[0;34m,\u001b[0m\u001b[0;34m'U component of wind'\u001b[0m\u001b[0;34m,\u001b[0m\u001b[0;34m'V component of wind'\u001b[0m\u001b[0;34m,\u001b[0m\u001b[0;34m\u001b[0m\u001b[0m\n",
        "\u001b[0;32m/Users/mattjohnson/anaconda/lib/python2.7/site-packages/pygrib.so\u001b[0m in \u001b[0;36mpygrib.open.__cinit__ (pygrib.c:2736)\u001b[0;34m()\u001b[0m\n",
        "\u001b[0;31mIOError\u001b[0m: [Errno could not open %s] hrrr.3d.201403301400f001.grib2"
       ]
      }
     ],
     "prompt_number": 7
    },
    {
     "cell_type": "code",
     "collapsed": false,
     "input": [
      "pwd"
     ],
     "language": "python",
     "metadata": {},
     "outputs": [
      {
       "metadata": {},
       "output_type": "pyout",
       "prompt_number": 4,
       "text": [
        "u'/Users/mattjohnson/HRRR'"
       ]
      }
     ],
     "prompt_number": 4
    },
    {
     "cell_type": "code",
     "collapsed": false,
     "input": [
      "cd .."
     ],
     "language": "python",
     "metadata": {},
     "outputs": [
      {
       "output_type": "stream",
       "stream": "stdout",
       "text": [
        "/Users/mattjohnson\n"
       ]
      }
     ],
     "prompt_number": 12
    },
    {
     "cell_type": "code",
     "collapsed": false,
     "input": [
      "cd HRRRbad"
     ],
     "language": "python",
     "metadata": {},
     "outputs": [
      {
       "output_type": "stream",
       "stream": "stdout",
       "text": [
        "/Users/mattjohnson/HRRRbad\n"
       ]
      }
     ],
     "prompt_number": 13
    },
    {
     "cell_type": "code",
     "collapsed": false,
     "input": [
      "os.listdir(os.getcwd())"
     ],
     "language": "python",
     "metadata": {},
     "outputs": [
      {
       "metadata": {},
       "output_type": "pyout",
       "prompt_number": 14,
       "text": [
        "['hrrr.3d.201403301400f001.grib2', 'hrrr.3d.201405291200f000.grib2']"
       ]
      }
     ],
     "prompt_number": 14
    },
    {
     "cell_type": "code",
     "collapsed": false,
     "input": [
      "x = pyhrrr.read_hrrr(_[0])"
     ],
     "language": "python",
     "metadata": {},
     "outputs": [
      {
       "ename": "IOError",
       "evalue": "[Errno could not open %s] hrrr.3d.201403301400f001.grib2",
       "output_type": "pyerr",
       "traceback": [
        "\u001b[0;31m---------------------------------------------------------------------------\u001b[0m\n\u001b[0;31mIOError\u001b[0m                                   Traceback (most recent call last)",
        "\u001b[0;32m<ipython-input-15-b79d6b9b0478>\u001b[0m in \u001b[0;36m<module>\u001b[0;34m()\u001b[0m\n\u001b[0;32m----> 1\u001b[0;31m \u001b[0mx\u001b[0m \u001b[0;34m=\u001b[0m \u001b[0mpyhrrr\u001b[0m\u001b[0;34m.\u001b[0m\u001b[0mread_hrrr\u001b[0m\u001b[0;34m(\u001b[0m\u001b[0m_\u001b[0m\u001b[0;34m[\u001b[0m\u001b[0;36m0\u001b[0m\u001b[0;34m]\u001b[0m\u001b[0;34m)\u001b[0m\u001b[0;34m\u001b[0m\u001b[0m\n\u001b[0m",
        "\u001b[0;32m/Users/mattjohnson/HRRR/pyhrrr.py\u001b[0m in \u001b[0;36mread_hrrr\u001b[0;34m(filename, parameters, directory, max)\u001b[0m\n\u001b[1;32m     38\u001b[0m         \u001b[0mos\u001b[0m\u001b[0;34m.\u001b[0m\u001b[0mchdir\u001b[0m\u001b[0;34m(\u001b[0m\u001b[0mdirectory\u001b[0m\u001b[0;34m)\u001b[0m\u001b[0;34m\u001b[0m\u001b[0m\n\u001b[1;32m     39\u001b[0m \u001b[0;34m\u001b[0m\u001b[0m\n\u001b[0;32m---> 40\u001b[0;31m     \u001b[0mmyfile\u001b[0m \u001b[0;34m=\u001b[0m \u001b[0mpygrib\u001b[0m\u001b[0;34m.\u001b[0m\u001b[0mopen\u001b[0m\u001b[0;34m(\u001b[0m\u001b[0mfilename\u001b[0m\u001b[0;34m)\u001b[0m\u001b[0;34m\u001b[0m\u001b[0m\n\u001b[0m\u001b[1;32m     41\u001b[0m     parameterlist = ['Geopotential Height','Temperature','Relative humidity','Dew point temperature',\n\u001b[1;32m     42\u001b[0m         \u001b[0;34m'Specific humidity'\u001b[0m\u001b[0;34m,\u001b[0m\u001b[0;34m'Vertical velocity'\u001b[0m\u001b[0;34m,\u001b[0m\u001b[0;34m'U component of wind'\u001b[0m\u001b[0;34m,\u001b[0m\u001b[0;34m'V component of wind'\u001b[0m\u001b[0;34m,\u001b[0m\u001b[0;34m\u001b[0m\u001b[0m\n",
        "\u001b[0;32m/Users/mattjohnson/anaconda/lib/python2.7/site-packages/pygrib.so\u001b[0m in \u001b[0;36mpygrib.open.__cinit__ (pygrib.c:2736)\u001b[0;34m()\u001b[0m\n",
        "\u001b[0;31mIOError\u001b[0m: [Errno could not open %s] hrrr.3d.201403301400f001.grib2"
       ]
      }
     ],
     "prompt_number": 15
    },
    {
     "cell_type": "code",
     "collapsed": false,
     "input": [],
     "language": "python",
     "metadata": {},
     "outputs": [
      {
       "metadata": {},
       "output_type": "pyout",
       "prompt_number": 10,
       "text": [
        "['.git',\n",
        " 'dataloc',\n",
        " 'functions',\n",
        " 'iastate_fetch_hrrr.py',\n",
        " 'notebooks',\n",
        " 'processing',\n",
        " 'pyhrrr.py',\n",
        " 'pyhrrr.pyc']"
       ]
      }
     ],
     "prompt_number": 10
    },
    {
     "cell_type": "code",
     "collapsed": false,
     "input": [],
     "language": "python",
     "metadata": {},
     "outputs": [
      {
       "metadata": {},
       "output_type": "pyout",
       "prompt_number": 11,
       "text": [
        "u'/Users/mattjohnson/HRRR'"
       ]
      }
     ],
     "prompt_number": 11
    },
    {
     "cell_type": "code",
     "collapsed": false,
     "input": [],
     "language": "python",
     "metadata": {},
     "outputs": []
    }
   ],
   "metadata": {}
  }
 ]
}