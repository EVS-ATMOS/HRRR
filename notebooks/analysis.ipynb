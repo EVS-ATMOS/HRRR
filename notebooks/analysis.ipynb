{
 "metadata": {
  "name": "",
  "signature": "sha256:51ea25fcab93aca6197b9e161116a75732a402919e2b237b44d376ac09c49cc6"
 },
 "nbformat": 3,
 "nbformat_minor": 0,
 "worksheets": [
  {
   "cells": [
    {
     "cell_type": "code",
     "collapsed": false,
     "input": [
      "radar_directory = '/home/mjohnson/python/radar_txt'\n",
      "hrrr_directory = '/home/mjohnson/python/hrrr_txt'\n",
      "\n"
     ],
     "language": "python",
     "metadata": {},
     "outputs": [],
     "prompt_number": 1
    },
    {
     "cell_type": "code",
     "collapsed": false,
     "input": [
      "import datetime\n",
      "import pyhrrr\n",
      "import json\n",
      "import os\n",
      "import matplotlib.dates\n",
      "import matplotlib.pyplot as plt\n",
      "import numpy as np\n",
      "%matplotlib inline"
     ],
     "language": "python",
     "metadata": {},
     "outputs": [],
     "prompt_number": 2
    },
    {
     "cell_type": "code",
     "collapsed": false,
     "input": [
      "hrrr_fracts = []\n",
      "radar_fracts = []\n",
      "rh_fracts = []\n",
      "dates = []\n",
      "total_hours = 0\n",
      "\n",
      "for date in [datetime.datetime(2014,3,10)+datetime.timedelta(days=i) for i in range(200)]:\n",
      "    \n",
      "    #get filenames\n",
      "    radar_string = pyhrrr.produce_radar_txt_string(date)\n",
      "    hrrr_string = pyhrrr.produce_hrrr_txt_string(date,filenum = 24,hour = 1,loc=[36.605, -97.485], indexes = None,\n",
      "                                          modelhours = False)\n",
      "    \n",
      "    if not (hrrr_string in os.listdir(hrrr_directory) and radar_string in os.listdir(radar_directory)):\n",
      "        continue\n",
      "        \n",
      "    #get data\n",
      "    wkdir = os.getcwd()\n",
      "    os.chdir(hrrr_directory)\n",
      "    try:\n",
      "        hrrrf = open(hrrr_string,'r')\n",
      "    except IOError:\n",
      "        continue\n",
      "    try:\n",
      "        hrrr = json.load(hrrrf)\n",
      "    except ValueError:\n",
      "        continue\n",
      "    os.chdir(radar_directory)\n",
      "    try:\n",
      "        radarf = open(radar_string,'r')\n",
      "    except IOError:\n",
      "        continue\n",
      "    try:\n",
      "        radar = json.load(radarf)\n",
      "    except ValueError:\n",
      "        continue\n",
      "    \n",
      "    #filtering\n",
      "    \n",
      "    hrrr_data = np.array(hrrr[0])\n",
      "    #k = 0\n",
      "    #while len(hrrr_data.shape)<3:\n",
      "        #if hrrr_data[k,:].shape[0] != 40:\n",
      "            #np.delete(hrrr_data,k,axis=0)\n",
      "            #np.delete(hrrr[1],i)\n",
      "        #hrrr_data = np.array(hrrr_data.tolist())\n",
      "        #k = k+1\n",
      "    \n",
      "    if len(hrrr_data.shape)<3:\n",
      "        continue\n",
      "    \n",
      "   \n",
      "    ceil_pres = np.array(radar[2])\n",
      "    hrrr_times = matplotlib.dates.num2date(np.array(hrrr[1]))\n",
      "    hrrr_times = [(i+datetime.timedelta(hours=1)).hour for i in hrrr_times]\n",
      "    ceil_pres = ceil_pres[hrrr_times]\n",
      "    \n",
      "        \n",
      "    if len(hrrr_times)<6:\n",
      "        continue\n",
      "    \n",
      "    heights = radar[2]\n",
      "    snr = np.array(radar[1])\n",
      "    hrrr_tot = np.array(hrrr_data[:,-5,:])+np.array(hrrr_data[:,-4,:])+np.array(hrrr_data[:,-3,:])+np.array(hrrr_data[:,-2,:])+np.array(hrrr_data[:,-1,:])\n",
      "    radar_data = np.array(radar[0])\n",
      "    radar_data = radar_data[hrrr_times,:]\n",
      "    snr = snr[hrrr_times,:]\n",
      "    hrrr_tot_m = pyhrrr.filter_mask(hrrr_tot,hrrr_tot,10**-5)\n",
      "\n",
      "    radar_m = pyhrrr.filter_mask(radar_data,snr,-14)\n",
      "    radar_m = np.ma.masked_where(radar_m==-np.inf,radar_m)\n",
      "    \n",
      "    rh = np.ma.masked_where(hrrr_data[:,2,:]<80,hrrr_data[:,2,:])\n",
      "    \n",
      "    if radar_m.shape[1] != 38:\n",
      "        continue\n",
      "        \n",
      "    total_hours = total_hours+len(hrrr_times)\n",
      "    \n",
      "    for k in range(radar_data.shape[0]):\n",
      "        if ceil_pres[k] == 2000.:\n",
      "            radar_m[k,:] = np.ma.masked_where(radar_m[k,:]!=-5000,radar_m[k,:])\n",
      "        else:\n",
      "            boolean = ceil_pres[k]<pyhrrr.HRRR_PS[2:40] \n",
      "            boolean = np.multiply(boolean,radar_m[k,:]<-15)\n",
      "            radar_m[k,:] = np.ma.masked_where(boolean,radar_data[k,:])     \n",
      "         \n",
      "    #analysis\n",
      "    hs = hrrr_tot_m.shape\n",
      "    rs = radar_m.shape\n",
      "    rhs = rh.shape\n",
      "    hrrr_c = float((hrrr_tot_m.mask-1).any(axis=1).sum(axis=0)/float(hs[0]))\n",
      "    radar_c = float((radar_m.mask-1).any(axis=1).sum(axis=0)/float(rs[0]))\n",
      "    if hrrr_c == np.nan:\n",
      "        print date\n",
      "        print 'hrrr_c is nan'\n",
      "        raise ValueError\n",
      "    if radar_c == np.nan:\n",
      "        print date\n",
      "        print 'radar_c is nan'\n",
      "        raise ValueError\n",
      "    rh_c = float(rh.any(axis=1).sum(axis=0)/float(rhs[0]))\n",
      "    \n",
      "\n",
      "    \n",
      "    hrrr_fracts.append(hrrr_c)\n",
      "    radar_fracts.append(radar_c)\n",
      "    dates.append(date)\n",
      "    rh_fracts.append(rh_c)\n",
      "    \n",
      "while np.nan in hrrr_fracts:\n",
      "    hrrr_fracts[hrrr_fracts.index(np.nan)] = 0\n",
      "while np.nan in radar_fracts:\n",
      "    radar_fracts[radar_fracts.index(np.nan)] = 0 \n",
      "while np.nan in rh_fracts:\n",
      "    rh_fracts[rh_fracts.index(np.nan)] = 0"
     ],
     "language": "python",
     "metadata": {},
     "outputs": [
      {
       "output_type": "stream",
       "stream": "stderr",
       "text": [
        "/home/jhelmus/anaconda/lib/python2.7/site-packages/numpy/ma/core.py:3847: UserWarning: Warning: converting a masked element to nan.\n",
        "  warnings.warn(\"Warning: converting a masked element to nan.\")\n",
        "pyhrrr.py:14: RuntimeWarning: invalid value encountered in less_equal\n"
       ]
      },
      {
       "output_type": "stream",
       "stream": "stderr",
       "text": [
        "-c:85: RuntimeWarning: invalid value encountered in less\n"
       ]
      }
     ],
     "prompt_number": 3
    },
    {
     "cell_type": "code",
     "collapsed": false,
     "input": [
      "hrrr_fracts = np.array(hrrr_fracts)\n",
      "radar_fracts = np.array(radar_fracts)\n",
      "dates = np.array(dates)\n",
      "rh_fracts = np.array(rh_fracts)"
     ],
     "language": "python",
     "metadata": {},
     "outputs": [],
     "prompt_number": 4
    },
    {
     "cell_type": "code",
     "collapsed": false,
     "input": [
      "rh_dif = radar_fracts-rh_fracts"
     ],
     "language": "python",
     "metadata": {},
     "outputs": [],
     "prompt_number": 5
    },
    {
     "cell_type": "code",
     "collapsed": false,
     "input": [],
     "language": "python",
     "metadata": {},
     "outputs": [],
     "prompt_number": 5
    },
    {
     "cell_type": "code",
     "collapsed": false,
     "input": [],
     "language": "python",
     "metadata": {},
     "outputs": [],
     "prompt_number": 5
    },
    {
     "cell_type": "code",
     "collapsed": false,
     "input": [
      "hrrr_fracts"
     ],
     "language": "python",
     "metadata": {},
     "outputs": [
      {
       "metadata": {},
       "output_type": "pyout",
       "prompt_number": 6,
       "text": [
        "array([ 0.28571429,  0.88235294,  0.2       ,  0.5       ,  0.68181818,\n",
        "        0.5       ,  0.45833333,  0.41666667,  0.5       ,  0.125     ,\n",
        "        0.54545455,  0.13636364,  0.2173913 ,  0.04347826,  0.08333333,\n",
        "        0.66666667,  0.        ,  0.58333333,  0.29411765,  0.47368421,\n",
        "        0.        ,  0.04761905,  0.41666667,  0.        ,  0.125     ,\n",
        "        0.45833333,  0.58333333,  0.13043478,  0.        ,  0.        ,\n",
        "        0.        ,  0.        ,  0.08333333,  0.65      ,  0.16666667,\n",
        "        0.16666667,  0.29166667,  0.19047619,  0.69565217,  0.75      ,\n",
        "        0.54166667,  0.7826087 ,  0.36363636,  0.16666667,  0.30434783,\n",
        "        0.4       ,  0.47619048,  0.0952381 ,  0.13043478,  0.375     ,\n",
        "        0.54166667,  0.45833333,  0.66666667,  0.79166667,  0.61538462,\n",
        "        0.        ,  0.        ,  0.04545455,  0.39130435,  0.        ,\n",
        "        0.15789474,  0.39130435,  0.04166667,  0.20833333,  0.625     ,\n",
        "        0.30769231,  0.        ,  0.30434783,  0.2173913 ,  0.        ,\n",
        "        0.08695652,  0.125     ,  1.        ])"
       ]
      }
     ],
     "prompt_number": 6
    },
    {
     "cell_type": "code",
     "collapsed": false,
     "input": [
      "dif = radar_fracts-hrrr_fracts"
     ],
     "language": "python",
     "metadata": {},
     "outputs": [],
     "prompt_number": 7
    },
    {
     "cell_type": "code",
     "collapsed": false,
     "input": [
      "dif"
     ],
     "language": "python",
     "metadata": {},
     "outputs": [
      {
       "metadata": {},
       "output_type": "pyout",
       "prompt_number": 8,
       "text": [
        "array([ 0.21428571, -0.05882353, -0.06666667,  0.16666667, -0.13636364,\n",
        "        0.2       , -0.08333333,  0.20833333, -0.5       ,  0.04166667,\n",
        "        0.22727273,  0.40909091,  0.2173913 ,  0.2173913 ,  0.29166667,\n",
        "        0.16666667,  0.52941176,  0.16666667,  0.64705882,  0.36842105,\n",
        "        0.        ,  0.19047619,  0.29166667,  0.0952381 ,  0.54166667,\n",
        "        0.33333333,  0.125     ,  0.34782609,  0.        ,  0.        ,\n",
        "        0.25      ,  0.52173913, -0.08333333,  0.25      ,  0.04166667,\n",
        "        0.        ,  0.29166667,  0.19047619,  0.26086957,  0.125     ,\n",
        "        0.33333333,  0.08695652,  0.09090909,  0.08333333,  0.13043478,\n",
        "        0.13333333,  0.19047619,  0.57142857,  0.26086957,  0.33333333,\n",
        "        0.41666667,  0.41666667,  0.33333333,  0.04166667,  0.15384615,\n",
        "        0.        ,  0.13636364,  0.31818182,  0.        ,  0.45833333,\n",
        "        0.36842105,  0.43478261,  0.29166667,  0.16666667,  0.33333333,\n",
        "        0.23076923,  0.25      , -0.26086957,  0.17391304,  0.33333333,\n",
        "        0.17391304,  0.75      , -0.08695652])"
       ]
      }
     ],
     "prompt_number": 8
    },
    {
     "cell_type": "code",
     "collapsed": false,
     "input": [
      "dates[(np.multiply((dif<=.23),(dif>=.17))).nonzero()]"
     ],
     "language": "python",
     "metadata": {},
     "outputs": [
      {
       "metadata": {},
       "output_type": "pyout",
       "prompt_number": 9,
       "text": [
        "array([datetime.datetime(2014, 3, 15, 0, 0),\n",
        "       datetime.datetime(2014, 3, 28, 0, 0),\n",
        "       datetime.datetime(2014, 4, 2, 0, 0),\n",
        "       datetime.datetime(2014, 4, 7, 0, 0),\n",
        "       datetime.datetime(2014, 4, 10, 0, 0),\n",
        "       datetime.datetime(2014, 4, 11, 0, 0),\n",
        "       datetime.datetime(2014, 4, 23, 0, 0),\n",
        "       datetime.datetime(2014, 5, 22, 0, 0),\n",
        "       datetime.datetime(2014, 6, 2, 0, 0),\n",
        "       datetime.datetime(2014, 7, 9, 0, 0),\n",
        "       datetime.datetime(2014, 7, 13, 0, 0)], dtype=object)"
       ]
      }
     ],
     "prompt_number": 9
    },
    {
     "cell_type": "code",
     "collapsed": false,
     "input": [
      "radar_fracts"
     ],
     "language": "python",
     "metadata": {},
     "outputs": [
      {
       "metadata": {},
       "output_type": "pyout",
       "prompt_number": 10,
       "text": [
        "array([ 0.5       ,  0.82352941,  0.13333333,  0.66666667,  0.54545455,\n",
        "        0.7       ,  0.375     ,  0.625     ,  0.        ,  0.16666667,\n",
        "        0.77272727,  0.54545455,  0.43478261,  0.26086957,  0.375     ,\n",
        "        0.83333333,  0.52941176,  0.75      ,  0.94117647,  0.84210526,\n",
        "        0.        ,  0.23809524,  0.70833333,  0.0952381 ,  0.66666667,\n",
        "        0.79166667,  0.70833333,  0.47826087,  0.        ,  0.        ,\n",
        "        0.25      ,  0.52173913,  0.        ,  0.9       ,  0.20833333,\n",
        "        0.16666667,  0.58333333,  0.38095238,  0.95652174,  0.875     ,\n",
        "        0.875     ,  0.86956522,  0.45454545,  0.25      ,  0.43478261,\n",
        "        0.53333333,  0.66666667,  0.66666667,  0.39130435,  0.70833333,\n",
        "        0.95833333,  0.875     ,  1.        ,  0.83333333,  0.76923077,\n",
        "        0.        ,  0.13636364,  0.36363636,  0.39130435,  0.45833333,\n",
        "        0.52631579,  0.82608696,  0.33333333,  0.375     ,  0.95833333,\n",
        "        0.53846154,  0.25      ,  0.04347826,  0.39130435,  0.33333333,\n",
        "        0.26086957,  0.875     ,  0.91304348])"
       ]
      }
     ],
     "prompt_number": 10
    },
    {
     "cell_type": "code",
     "collapsed": false,
     "input": [
      "np.sqrt(np.mean(dif**2))"
     ],
     "language": "python",
     "metadata": {},
     "outputs": [
      {
       "metadata": {},
       "output_type": "pyout",
       "prompt_number": 11,
       "text": [
        "0.28697955384517015"
       ]
      }
     ],
     "prompt_number": 11
    },
    {
     "cell_type": "code",
     "collapsed": false,
     "input": [
      "np.std(dif)"
     ],
     "language": "python",
     "metadata": {},
     "outputs": [
      {
       "metadata": {},
       "output_type": "pyout",
       "prompt_number": 12,
       "text": [
        "0.20516062293534057"
       ]
      }
     ],
     "prompt_number": 12
    },
    {
     "cell_type": "code",
     "collapsed": false,
     "input": [
      "np.mean(dif)"
     ],
     "language": "python",
     "metadata": {},
     "outputs": [
      {
       "metadata": {},
       "output_type": "pyout",
       "prompt_number": 13,
       "text": [
        "0.20066485273200163"
       ]
      }
     ],
     "prompt_number": 13
    },
    {
     "cell_type": "code",
     "collapsed": false,
     "input": [
      "np.median(dif)"
     ],
     "language": "python",
     "metadata": {},
     "outputs": [
      {
       "metadata": {},
       "output_type": "pyout",
       "prompt_number": 14,
       "text": [
        "0.19999999999999996"
       ]
      }
     ],
     "prompt_number": 14
    },
    {
     "cell_type": "code",
     "collapsed": false,
     "input": [
      "np.mean(abs(dif))"
     ],
     "language": "python",
     "metadata": {},
     "outputs": [
      {
       "metadata": {},
       "output_type": "pyout",
       "prompt_number": 15,
       "text": [
        "0.23563325235022778"
       ]
      }
     ],
     "prompt_number": 15
    },
    {
     "cell_type": "code",
     "collapsed": false,
     "input": [
      "np.var(dif)"
     ],
     "language": "python",
     "metadata": {},
     "outputs": [
      {
       "metadata": {},
       "output_type": "pyout",
       "prompt_number": 16,
       "text": [
        "0.042090881203216995"
       ]
      }
     ],
     "prompt_number": 16
    },
    {
     "cell_type": "code",
     "collapsed": false,
     "input": [
      "%matplotlib inline\n",
      "times = [(i-datetime.datetime(2014,3,28)).total_seconds() for i in dates]\n",
      "times = np.array(times)\n",
      "times = times/60/60/24\n",
      "plt.figure(figsize = [15,8])\n",
      "plt.scatter(dates,dif)\n",
      "plt.xlabel('Date',fontsize = 20)\n",
      "plt.ylabel('Cloud Prescence Metric (CPM)',fontsize = 20)\n",
      "plt.xticks(fontsize = 15)\n",
      "plt.yticks(fontsize = 15)\n",
      "plt.title('Radar-HRRR CPM',fontsize = 26)\n",
      "times = str(dates)\n",
      "plt.show()"
     ],
     "language": "python",
     "metadata": {},
     "outputs": [
      {
       "metadata": {},
       "output_type": "display_data",
       "png": "[encoded data removed]",
       "text": [
        "<matplotlib.figure.Figure at 0x2aab5665b7d0>"
       ]
      }
     ],
     "prompt_number": 46
    },
    {
     "cell_type": "code",
     "collapsed": false,
     "input": [
      "times = [i.total_seconds() for i in (dates-datetime.datetime(2014,3,15))]\n",
      "np.corrcoef(np.array(times),dif)\n"
     ],
     "language": "python",
     "metadata": {},
     "outputs": [
      {
       "metadata": {},
       "output_type": "pyout",
       "prompt_number": 18,
       "text": [
        "array([[ 1.        ,  0.18572549],\n",
        "       [ 0.18572549,  1.        ]])"
       ]
      }
     ],
     "prompt_number": 18
    },
    {
     "cell_type": "code",
     "collapsed": false,
     "input": [
      "np.polyfit(np.array(times),dif,1)"
     ],
     "language": "python",
     "metadata": {},
     "outputs": [
      {
       "metadata": {},
       "output_type": "pyout",
       "prompt_number": 19,
       "text": [
        "array([  1.33297026e-08,   1.29134090e-01])"
       ]
      }
     ],
     "prompt_number": 19
    },
    {
     "cell_type": "code",
     "collapsed": false,
     "input": [
      "dif.shape"
     ],
     "language": "python",
     "metadata": {},
     "outputs": [
      {
       "metadata": {},
       "output_type": "pyout",
       "prompt_number": 20,
       "text": [
        "(73,)"
       ]
      }
     ],
     "prompt_number": 20
    },
    {
     "cell_type": "code",
     "collapsed": false,
     "input": [
      "plt.plot(times,dif)"
     ],
     "language": "python",
     "metadata": {},
     "outputs": [
      {
       "metadata": {},
       "output_type": "pyout",
       "prompt_number": 21,
       "text": [
        "[<matplotlib.lines.Line2D at 0x2aab567043d0>]"
       ]
      },
      {
       "metadata": {},
       "output_type": "display_data",
       "png": "[encoded data removed]",
       "text": [
        "<matplotlib.figure.Figure at 0x2aab5654bc50>"
       ]
      }
     ],
     "prompt_number": 21
    },
    {
     "cell_type": "code",
     "collapsed": false,
     "input": [
      "bins = np.array(range(-60,100,10))/100.\n",
      "#bin margin of .1 from -.6 to .9"
     ],
     "language": "python",
     "metadata": {},
     "outputs": [],
     "prompt_number": 22
    },
    {
     "cell_type": "code",
     "collapsed": false,
     "input": [
      "bin_values = []\n",
      "for i in range(bins.shape[0]-1):\n",
      "    bin_values.append(np.multiply(dif>=bins[i],dif<bins[i+1]).sum(axis=0))\n"
     ],
     "language": "python",
     "metadata": {},
     "outputs": [],
     "prompt_number": 23
    },
    {
     "cell_type": "code",
     "collapsed": false,
     "input": [
      "bin_values"
     ],
     "language": "python",
     "metadata": {},
     "outputs": [
      {
       "metadata": {},
       "output_type": "pyout",
       "prompt_number": 24,
       "text": [
        "[0, 1, 0, 1, 1, 5, 13, 16, 15, 10, 5, 4, 1, 1, 0]"
       ]
      }
     ],
     "prompt_number": 24
    },
    {
     "cell_type": "code",
     "collapsed": false,
     "input": [],
     "language": "python",
     "metadata": {},
     "outputs": [],
     "prompt_number": 24
    },
    {
     "cell_type": "code",
     "collapsed": false,
     "input": [
      "bincenter = [(bins[i]+bins[i+1])/2 for i in range(len(bins)-1)]"
     ],
     "language": "python",
     "metadata": {},
     "outputs": [],
     "prompt_number": 25
    },
    {
     "cell_type": "code",
     "collapsed": false,
     "input": [
      "plt.figure(figsize = [15,8])\n",
      "plt.plot(bincenter,bin_values)\n",
      "plt.xlabel('Cloud Presence Metric Bin Midpoint (.1 CPM diameter bins)',fontsize = 20)\n",
      "plt.ylabel('Points Within Bin',fontsize = 20)\n",
      "plt.title('Radar-HRRR CPM Distribution',fontsize = 26)\n",
      "plt.xticks(fontsize = 15)\n",
      "plt.yticks(fontsize = 15)"
     ],
     "language": "python",
     "metadata": {},
     "outputs": [
      {
       "metadata": {},
       "output_type": "pyout",
       "prompt_number": 47,
       "text": [
        "(array([  0.,   2.,   4.,   6.,   8.,  10.,  12.,  14.,  16.]),\n",
        " <a list of 9 Text yticklabel objects>)"
       ]
      },
      {
       "metadata": {},
       "output_type": "display_data",
       "png": "[encoded data removed]",
       "text": [
        "<matplotlib.figure.Figure at 0x2aab56b8e910>"
       ]
      }
     ],
     "prompt_number": 47
    },
    {
     "cell_type": "code",
     "collapsed": false,
     "input": [
      "bin_values"
     ],
     "language": "python",
     "metadata": {},
     "outputs": [
      {
       "metadata": {},
       "output_type": "pyout",
       "prompt_number": 27,
       "text": [
        "[0, 1, 0, 1, 1, 5, 13, 16, 15, 10, 5, 4, 1, 1, 0]"
       ]
      }
     ],
     "prompt_number": 27
    },
    {
     "cell_type": "code",
     "collapsed": false,
     "input": [
      "sum(bin_values)"
     ],
     "language": "python",
     "metadata": {},
     "outputs": [
      {
       "metadata": {},
       "output_type": "pyout",
       "prompt_number": 28,
       "text": [
        "73"
       ]
      }
     ],
     "prompt_number": 28
    },
    {
     "cell_type": "code",
     "collapsed": false,
     "input": [
      "total_hours"
     ],
     "language": "python",
     "metadata": {},
     "outputs": [
      {
       "metadata": {},
       "output_type": "pyout",
       "prompt_number": 29,
       "text": [
        "1556"
       ]
      }
     ],
     "prompt_number": 29
    },
    {
     "cell_type": "code",
     "collapsed": false,
     "input": [
      "total_hours/len(dates)"
     ],
     "language": "python",
     "metadata": {},
     "outputs": [
      {
       "metadata": {},
       "output_type": "pyout",
       "prompt_number": 30,
       "text": [
        "21"
       ]
      }
     ],
     "prompt_number": 30
    },
    {
     "cell_type": "code",
     "collapsed": false,
     "input": [
      "xs = np.linspace(-.6,1,90)\n",
      "plt.figure(figsize = [15,8])\n",
      "plt.plot(xs,8.2*matplotlib.mlab.normpdf(xs,np.mean(dif),np.std(dif)))\n",
      "plt.xlim(-.6,1)"
     ],
     "language": "python",
     "metadata": {},
     "outputs": [
      {
       "metadata": {},
       "output_type": "pyout",
       "prompt_number": 31,
       "text": [
        "(-0.6, 1)"
       ]
      },
      {
       "metadata": {},
       "output_type": "display_data",
       "png": "[encoded data removed]",
       "text": [
        "<matplotlib.figure.Figure at 0x2aab5680b710>"
       ]
      }
     ],
     "prompt_number": 31
    },
    {
     "cell_type": "code",
     "collapsed": false,
     "input": [
      "dates.tolist().index(datetime.datetime(2014, 4, 2, 0, 0))"
     ],
     "language": "python",
     "metadata": {},
     "outputs": [
      {
       "metadata": {},
       "output_type": "pyout",
       "prompt_number": 50,
       "text": [
        "7"
       ]
      }
     ],
     "prompt_number": 50
    },
    {
     "cell_type": "code",
     "collapsed": false,
     "input": [
      "dif[7]"
     ],
     "language": "python",
     "metadata": {},
     "outputs": [
      {
       "metadata": {},
       "output_type": "pyout",
       "prompt_number": 51,
       "text": [
        "0.20833333333333331"
       ]
      }
     ],
     "prompt_number": 51
    },
    {
     "cell_type": "code",
     "collapsed": false,
     "input": [],
     "language": "python",
     "metadata": {},
     "outputs": [],
     "prompt_number": 31
    },
    {
     "cell_type": "code",
     "collapsed": false,
     "input": [],
     "language": "python",
     "metadata": {},
     "outputs": []
    }
   ],
   "metadata": {}
  }
 ]
}