{
 "metadata": {
  "name": "",
  "signature": "sha256:3aecc1c5a5cd38efdf8161a3df82a17f0c916ea47f0effad58db4c18aa720acd"
 },
 "nbformat": 3,
 "nbformat_minor": 0,
 "worksheets": [
  {
   "cells": [
    {
     "cell_type": "code",
     "collapsed": false,
     "input": [
      "radar_directory = '/home/mjohnson/python/radar_txt'\n",
      "hrrr_directory = '/home/mjohnson/python/hrrr_txt'"
     ],
     "language": "python",
     "metadata": {},
     "outputs": [],
     "prompt_number": 1
    },
    {
     "cell_type": "code",
     "collapsed": false,
     "input": [
      "import datetime\n",
      "import pyhrrr\n",
      "import json\n",
      "import os\n",
      "import matplotlib.dates\n",
      "import matplotlib.pyplot as plt\n",
      "import numpy as np\n",
      "%matplotlib inline"
     ],
     "language": "python",
     "metadata": {},
     "outputs": [],
     "prompt_number": 2
    },
    {
     "cell_type": "code",
     "collapsed": false,
     "input": [
      "hrrr_fracts = []\n",
      "radar_fracts = []\n",
      "rh_fracts = []\n",
      "dates = []\n",
      "\n",
      "for date in [datetime.datetime(2014,3,10)+datetime.timedelta(days=i) for i in range(200)]:\n",
      "    \n",
      "    #get filenames\n",
      "    radar_string = pyhrrr.produce_radar_txt_string(date)\n",
      "    hrrr_string = pyhrrr.produce_hrrr_txt_string(date,filenum = 24,hour = 1,loc=[36.605, -97.485], indexes = None,\n",
      "                                          modelhours = False)\n",
      "    \n",
      "    if not (hrrr_string in os.listdir(hrrr_directory) and radar_string in os.listdir(radar_directory)):\n",
      "        continue\n",
      "        \n",
      "    #get data\n",
      "    wkdir = os.getcwd()\n",
      "    os.chdir(hrrr_directory)\n",
      "    try:\n",
      "        hrrrf = open(hrrr_string,'r')\n",
      "    except IOError:\n",
      "        continue\n",
      "    try:\n",
      "        hrrr = json.load(hrrrf)\n",
      "    except ValueError:\n",
      "        continue\n",
      "    os.chdir(radar_directory)\n",
      "    try:\n",
      "        radarf = open(radar_string,'r')\n",
      "    except IOError:\n",
      "        continue\n",
      "    try:\n",
      "        radar = json.load(radarf)\n",
      "    except ValueError:\n",
      "        continue\n",
      "    \n",
      "    #filtering\n",
      "    \n",
      "    hrrr_data = np.array(hrrr[0])\n",
      "    #k = 0\n",
      "    #while len(hrrr_data.shape)<3:\n",
      "        #if hrrr_data[k,:].shape[0] != 40:\n",
      "            #np.delete(hrrr_data,k,axis=0)\n",
      "            #np.delete(hrrr[1],i)\n",
      "        #hrrr_data = np.array(hrrr_data.tolist())\n",
      "        #k = k+1\n",
      "    if len(hrrr_data.shape)<3:\n",
      "        continue\n",
      "    \n",
      "    \n",
      "    press_index = pyhrrr.HRRR_PS.tolist().index(800)\n",
      "    heights = radar[2]\n",
      "    snr = np.array(radar[1])\n",
      "    hrrr_tot = np.array(hrrr_data[:,-5,:])+np.array(hrrr_data[:,-4,:])+np.array(hrrr_data[:,-3,:])+np.array(hrrr_data[:,-2,:])+np.array(hrrr_data[:,-1,:])\n",
      "    radar_data = np.array(radar[0])\n",
      "    hrrr_tot_m = pyhrrr.filter_mask(hrrr_tot,hrrr_tot,10**-5)\n",
      "\n",
      "    radar_m = pyhrrr.filter_mask(radar_data,snr,-14)\n",
      "    radar_m = np.ma.masked_where(radar_m==-np.inf,radar_m)\n",
      "    \n",
      "    rh = np.ma.masked_where(hrrr_data[:,2,:]>75,hrrr_data[:,2,:])\n",
      "    \n",
      "    for k in range(radar_data.shape[0]):\n",
      "        if radar[2][k] == 2000.:\n",
      "            radar_m[k,:] = np.ma.masked_where(radar_data[k,:]!=-5000,radar_data[k,:])\n",
      "         \n",
      "    #analysis\n",
      "    hs = hrrr_tot_m.shape\n",
      "    rs = radar_m.shape\n",
      "    rhs = rh.shape\n",
      "    hrrr_c = float(hrrr_tot_m.any(axis=1).sum(axis=0)/float(hs[0]))\n",
      "    radar_c = float(radar_m.any(axis=1).sum(axis=0)/float(rs[0]))\n",
      "    rh_c = float(rh.any(axis=1).sum(axis=0)/float(rhs[0]))\n",
      "    \n",
      "    hrrr_fracts.append(hrrr_c)\n",
      "    radar_fracts.append(radar_c)\n",
      "    dates.append(date)\n",
      "    rh_fracts.append(rh_c)\n",
      "    \n",
      "while np.nan in hrrr_fracts:\n",
      "    hrrr_fracts[hrrr_fracts.index(np.nan)] = 0\n",
      "while np.nan in radar_fracts:\n",
      "    radar_fracts[radar_fracts.index(np.nan)] = 0 \n",
      "while np.nan in rh_fracts:\n",
      "    rh_fracts[rh_fracts.index(np.nan)] = 0"
     ],
     "language": "python",
     "metadata": {},
     "outputs": [
      {
       "output_type": "stream",
       "stream": "stderr",
       "text": [
        "/home/jhelmus/anaconda/lib/python2.7/site-packages/numpy/ma/core.py:3847: UserWarning: Warning: converting a masked element to nan.\n",
        "  warnings.warn(\"Warning: converting a masked element to nan.\")\n"
       ]
      }
     ],
     "prompt_number": 4
    },
    {
     "cell_type": "code",
     "collapsed": false,
     "input": [
      "hrrr_fracts = np.array(hrrr_fracts)\n",
      "radar_fracts = np.array(radar_fracts)\n",
      "dates = np.array(dates)\n",
      "rh_fracts = np.array(rh_fracts)"
     ],
     "language": "python",
     "metadata": {},
     "outputs": [],
     "prompt_number": 5
    },
    {
     "cell_type": "code",
     "collapsed": false,
     "input": [
      "rh_dif = radar_fracts-rh_fracts"
     ],
     "language": "python",
     "metadata": {},
     "outputs": [],
     "prompt_number": 6
    },
    {
     "cell_type": "code",
     "collapsed": false,
     "input": [
      "hrrr_fracts[dates.tolist().index(datetime.datetime(2014,4,20))]"
     ],
     "language": "python",
     "metadata": {},
     "outputs": [
      {
       "metadata": {},
       "output_type": "pyout",
       "prompt_number": 7,
       "text": [
        "0.29411764705882354"
       ]
      }
     ],
     "prompt_number": 7
    },
    {
     "cell_type": "code",
     "collapsed": false,
     "input": [
      "radar_fracts[dates.tolist().index(datetime.datetime(2014,4,20))]"
     ],
     "language": "python",
     "metadata": {},
     "outputs": [
      {
       "metadata": {},
       "output_type": "pyout",
       "prompt_number": 8,
       "text": [
        "0.91666666666666663"
       ]
      }
     ],
     "prompt_number": 8
    },
    {
     "cell_type": "code",
     "collapsed": false,
     "input": [
      "hrrr_fracts"
     ],
     "language": "python",
     "metadata": {},
     "outputs": [
      {
       "metadata": {},
       "output_type": "pyout",
       "prompt_number": 9,
       "text": [
        "array([ 0.28571429,  0.88235294,  0.2       ,  0.25      ,  0.        ,\n",
        "        0.5       ,  0.08333333,  0.        ,  0.        ,  0.68181818,\n",
        "        0.5       ,  0.1       ,  0.45833333,  0.41666667,  0.5       ,\n",
        "        0.125     ,  0.125     ,  0.54166667,  0.54545455,  0.13636364,\n",
        "        0.        ,  0.2173913 ,  0.04347826,  0.08333333,  0.66666667,\n",
        "        0.        ,  0.        ,  0.58333333,  0.        ,  0.17391304,\n",
        "        0.29411765,  0.47368421,  0.        ,  0.04761905,  0.41666667,\n",
        "        0.        ,  0.41666667,  0.125     ,  0.45833333,  0.58333333,\n",
        "        0.13043478,  0.5       ,  0.        ,  0.        ,  0.        ,\n",
        "        0.        ,  0.08333333,  0.58333333,  0.375     ,  0.        ,\n",
        "        0.04347826,  0.65      ,  0.29166667,  0.16666667,  0.16666667,\n",
        "        0.29166667,  0.19047619,  0.69565217,  0.75      ,  0.54166667,\n",
        "        0.7826087 ,  0.36363636])"
       ]
      }
     ],
     "prompt_number": 9
    },
    {
     "cell_type": "code",
     "collapsed": false,
     "input": [
      "dif = radar_fracts-hrrr_fracts"
     ],
     "language": "python",
     "metadata": {},
     "outputs": [],
     "prompt_number": 10
    },
    {
     "cell_type": "code",
     "collapsed": false,
     "input": [
      "dif"
     ],
     "language": "python",
     "metadata": {},
     "outputs": [
      {
       "metadata": {},
       "output_type": "pyout",
       "prompt_number": 11,
       "text": [
        "array([ 0.04761905, -0.09068627, -0.075     , -0.08333333,  0.        ,\n",
        "        0.125     ,  0.625     ,  0.375     ,  0.08333333,  0.02651515,\n",
        "        0.20833333,  0.06666667, -0.04166667,  0.41666667, -0.25      ,\n",
        "        0.04166667,  0.5       ,  0.41666667,  0.24621212,  0.36363636,\n",
        "        0.04166667,  0.19927536,  0.20652174,  0.29166667,  0.25      ,\n",
        "        0.        ,  0.45833333,  0.20833333,  0.16666667,  0.11775362,\n",
        "        0.62254902,  0.52631579,  0.        ,  0.20238095,  0.29166667,\n",
        "        0.08333333,  0.125     ,  0.54166667,  0.33333333,  0.125     ,\n",
        "        0.36956522, -0.375     ,  0.        ,  0.        ,  0.375     ,\n",
        "        0.54166667,  0.16666667,  0.16666667,  0.41666667,  0.79166667,\n",
        "        0.58152174,  0.30833333,  0.45833333,  0.04166667,  0.        ,\n",
        "        0.29166667,  0.18452381,  0.26268116,  0.20833333,  0.33333333,\n",
        "        0.2173913 ,  0.09469697])"
       ]
      }
     ],
     "prompt_number": 11
    },
    {
     "cell_type": "code",
     "collapsed": false,
     "input": [
      "dates[(abs(dif)>=.4).nonzero()]"
     ],
     "language": "python",
     "metadata": {},
     "outputs": [
      {
       "metadata": {},
       "output_type": "pyout",
       "prompt_number": 12,
       "text": [
        "array([datetime.datetime(2014, 3, 23, 0, 0),\n",
        "       datetime.datetime(2014, 4, 2, 0, 0),\n",
        "       datetime.datetime(2014, 4, 5, 0, 0),\n",
        "       datetime.datetime(2014, 4, 6, 0, 0),\n",
        "       datetime.datetime(2014, 4, 16, 0, 0),\n",
        "       datetime.datetime(2014, 4, 20, 0, 0),\n",
        "       datetime.datetime(2014, 4, 21, 0, 0),\n",
        "       datetime.datetime(2014, 4, 28, 0, 0),\n",
        "       datetime.datetime(2014, 5, 10, 0, 0),\n",
        "       datetime.datetime(2014, 5, 14, 0, 0),\n",
        "       datetime.datetime(2014, 5, 15, 0, 0),\n",
        "       datetime.datetime(2014, 5, 16, 0, 0),\n",
        "       datetime.datetime(2014, 5, 18, 0, 0)], dtype=object)"
       ]
      }
     ],
     "prompt_number": 12
    },
    {
     "cell_type": "code",
     "collapsed": false,
     "input": [
      "radar_fracts"
     ],
     "language": "python",
     "metadata": {},
     "outputs": [
      {
       "metadata": {},
       "output_type": "pyout",
       "prompt_number": 13,
       "text": [
        "array([ 0.33333333,  0.79166667,  0.125     ,  0.16666667,  0.        ,\n",
        "        0.625     ,  0.70833333,  0.375     ,  0.08333333,  0.70833333,\n",
        "        0.70833333,  0.16666667,  0.41666667,  0.83333333,  0.25      ,\n",
        "        0.16666667,  0.625     ,  0.95833333,  0.79166667,  0.5       ,\n",
        "        0.04166667,  0.41666667,  0.25      ,  0.375     ,  0.91666667,\n",
        "        0.        ,  0.45833333,  0.79166667,  0.16666667,  0.29166667,\n",
        "        0.91666667,  1.        ,  0.        ,  0.25      ,  0.70833333,\n",
        "        0.08333333,  0.54166667,  0.66666667,  0.79166667,  0.70833333,\n",
        "        0.5       ,  0.125     ,  0.        ,  0.        ,  0.375     ,\n",
        "        0.54166667,  0.25      ,  0.75      ,  0.79166667,  0.79166667,\n",
        "        0.625     ,  0.95833333,  0.75      ,  0.20833333,  0.16666667,\n",
        "        0.58333333,  0.375     ,  0.95833333,  0.95833333,  0.875     ,\n",
        "        1.        ,  0.45833333])"
       ]
      }
     ],
     "prompt_number": 13
    },
    {
     "cell_type": "code",
     "collapsed": false,
     "input": [
      "np.sqrt(np.mean(dif**2))"
     ],
     "language": "python",
     "metadata": {},
     "outputs": [
      {
       "metadata": {},
       "output_type": "pyout",
       "prompt_number": 14,
       "text": [
        "0.30724080555948768"
       ]
      }
     ],
     "prompt_number": 14
    },
    {
     "cell_type": "code",
     "collapsed": false,
     "input": [
      "sum(radar_fracts==1)/float(radar_fracts.shape[0])"
     ],
     "language": "python",
     "metadata": {},
     "outputs": [
      {
       "metadata": {},
       "output_type": "pyout",
       "prompt_number": 15,
       "text": [
        "0.032258064516129031"
       ]
      }
     ],
     "prompt_number": 15
    },
    {
     "cell_type": "code",
     "collapsed": false,
     "input": [
      "sum(hrrr_fracts==1)/float(hrrr_fracts.shape[0])"
     ],
     "language": "python",
     "metadata": {},
     "outputs": [
      {
       "metadata": {},
       "output_type": "pyout",
       "prompt_number": 16,
       "text": [
        "0.0"
       ]
      }
     ],
     "prompt_number": 16
    },
    {
     "cell_type": "code",
     "collapsed": false,
     "input": [
      "plt.plot(sorted(dif))"
     ],
     "language": "python",
     "metadata": {},
     "outputs": [
      {
       "metadata": {},
       "output_type": "pyout",
       "prompt_number": 17,
       "text": [
        "[<matplotlib.lines.Line2D at 0x2b031dea9290>]"
       ]
      },
      {
       "metadata": {},
       "output_type": "display_data",
       "png": "[encoded data removed]",
       "text": [
        "<matplotlib.figure.Figure at 0x2b0304a2c090>"
       ]
      }
     ],
     "prompt_number": 17
    },
    {
     "cell_type": "code",
     "collapsed": false,
     "input": [
      "dates[dif.tolist().index(sorted(dif)[-1])]"
     ],
     "language": "python",
     "metadata": {},
     "outputs": [
      {
       "metadata": {},
       "output_type": "pyout",
       "prompt_number": 18,
       "text": [
        "datetime.datetime(2014, 5, 15, 0, 0)"
       ]
      }
     ],
     "prompt_number": 18
    },
    {
     "cell_type": "code",
     "collapsed": false,
     "input": [
      "rh_dif"
     ],
     "language": "python",
     "metadata": {},
     "outputs": [
      {
       "metadata": {},
       "output_type": "pyout",
       "prompt_number": 19,
       "text": [
        "array([-0.66666667, -0.20833333, -0.875     , -0.83333333, -1.        ,\n",
        "       -0.375     , -0.29166667, -0.625     , -0.91666667, -0.29166667,\n",
        "       -0.29166667, -0.83333333, -0.58333333, -0.16666667, -0.75      ,\n",
        "       -0.83333333, -0.375     , -0.04166667, -0.20833333, -0.5       ,\n",
        "       -0.95833333, -0.58333333, -0.75      , -0.625     , -0.08333333,\n",
        "       -1.        , -0.54166667, -0.20833333, -0.83333333, -0.70833333,\n",
        "       -0.08333333,  0.        , -1.        , -0.75      , -0.29166667,\n",
        "       -0.91666667, -0.45833333, -0.33333333, -0.20833333, -0.29166667,\n",
        "       -0.5       , -0.875     , -1.        , -1.        , -0.625     ,\n",
        "       -0.45833333, -0.75      , -0.25      , -0.20833333, -0.20833333,\n",
        "       -0.375     , -0.04166667, -0.25      , -0.79166667, -0.83333333,\n",
        "       -0.41666667, -0.625     , -0.04166667, -0.04166667, -0.125     ,\n",
        "        0.        , -0.54166667])"
       ]
      }
     ],
     "prompt_number": 19
    },
    {
     "cell_type": "code",
     "collapsed": false,
     "input": [],
     "language": "python",
     "metadata": {},
     "outputs": []
    }
   ],
   "metadata": {}
  }
 ]
}