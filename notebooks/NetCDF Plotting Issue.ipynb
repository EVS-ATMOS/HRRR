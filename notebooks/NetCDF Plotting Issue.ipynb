{
 "metadata": {
  "name": "",
  "signature": "sha256:a4997af354fefe2602069c3fb0c18a7cb582358e4dd75e5dece3ac798b1fa7ee"
 },
 "nbformat": 3,
 "nbformat_minor": 0,
 "worksheets": [
  {
   "cells": [
    {
     "cell_type": "code",
     "collapsed": false,
     "input": [
      "import numpy as np\n",
      "from scipy.io import netcdf\n",
      "import matplotlib as mpl\n",
      "import matplotlib.pyplot as plt\n",
      "from matplotlib.ticker import MultipleLocator, FormatStrFormatter\n",
      "import numpy.ma as ma\n",
      "\n",
      "# Gather files and capture date\n",
      "radar = '/data/san_store/radar/sgp/kazr/mckercherg1/160107/sgpkazrgeC1.a1.20140527.000002.cdf'\n",
      "sounding = '/data/san_store/soundings/sgp/mckercherg1/159821/sgpsondewnpnC1.b1.20140527.052800.cdf'\n",
      "f = netcdf.netcdf_file(radar, 'r')\n",
      "s = netcdf.netcdf_file(sounding, 'r')\n",
      "\n",
      "%matplotlib inline"
     ],
     "language": "python",
     "metadata": {},
     "outputs": [
      {
       "output_type": "stream",
       "stream": "stdout",
       "text": [
        "ERROR! Session/line number was not unique in database. History logging moved to new session 176\n"
       ]
      }
     ],
     "prompt_number": 2
    },
    {
     "cell_type": "code",
     "collapsed": false,
     "input": [
      "rng = f.variables['range'].data\n",
      "refc = f.variables['reflectivity_copol'].data\n",
      "mdvc = f.variables['mean_doppler_velocity_copol'].data\n",
      "swc = f.variables['spectral_width_copol'].data\n",
      "    \n",
      "#fig = plt.figure(figsize = [25,18])\n",
      "\n",
      "# Plot radar reflectivity\n",
      "t = f.variables['time'][:]\n",
      "day = [t[i]/3600 for i in range(len(t))]\n",
      "pc1 = plt.pcolormesh(np.array(day), rng, refc.T, cmap='jet')"
     ],
     "language": "python",
     "metadata": {},
     "outputs": [
      {
       "ename": "KeyboardInterrupt",
       "evalue": "",
       "output_type": "pyerr",
       "traceback": [
        "Traceback (most recent call last):\n",
        "  File \"/home/jhelmus/anaconda/lib/python2.7/site-packages/IPython/kernel/zmq/ipkernel.py\", line 389, in execute_request\n    shell.run_cell(code, store_history=store_history, silent=silent)\n",
        "  File \"/home/jhelmus/anaconda/lib/python2.7/site-packages/IPython/core/interactiveshell.py\", line 2743, in run_cell\n    self.events.trigger('post_execute')\n",
        "  File \"/home/jhelmus/anaconda/lib/python2.7/site-packages/IPython/core/events.py\", line 82, in trigger\n    func(*args, **kwargs)\n",
        "  File \"/home/jhelmus/anaconda/lib/python2.7/site-packages/IPython/kernel/zmq/pylab/backend_inline.py\", line 118, in flush_figures\n    return show(True)\n",
        "  File \"/home/jhelmus/anaconda/lib/python2.7/site-packages/IPython/kernel/zmq/pylab/backend_inline.py\", line 43, in show\n    display(figure_manager.canvas.figure)\n",
        "  File \"/home/jhelmus/anaconda/lib/python2.7/site-packages/IPython/core/display.py\", line 131, in display\n    format_dict, md_dict = format(obj, include=include, exclude=exclude)\n",
        "  File \"/home/jhelmus/anaconda/lib/python2.7/site-packages/IPython/core/formatters.py\", line 200, in format\n    data = formatter(obj)\n",
        "  File \"<string>\", line 2, in __call__\n",
        "  File \"/home/jhelmus/anaconda/lib/python2.7/site-packages/IPython/core/formatters.py\", line 233, in warn_format_error\n    r = method(self, *args, **kwargs)\n",
        "  File \"/home/jhelmus/anaconda/lib/python2.7/site-packages/IPython/core/formatters.py\", line 350, in __call__\n    return printer(obj)\n",
        "  File \"/home/jhelmus/anaconda/lib/python2.7/site-packages/IPython/core/pylabtools.py\", line 220, in <lambda>\n    png_formatter.for_type(Figure, lambda fig: print_figure(fig, 'png', **kwargs))\n",
        "  File \"/home/jhelmus/anaconda/lib/python2.7/site-packages/IPython/core/pylabtools.py\", line 130, in print_figure\n    fig.canvas.print_figure(bytes_io, **kw)\n",
        "  File \"/home/jhelmus/anaconda/lib/python2.7/site-packages/matplotlib/backend_bases.py\", line 2149, in print_figure\n    bbox = a.get_window_extent(renderer)\n",
        "  File \"/home/jhelmus/anaconda/lib/python2.7/site-packages/matplotlib/collections.py\", line 207, in get_window_extent\n    return self.get_datalim(transforms.IdentityTransform())\n",
        "  File \"/home/jhelmus/anaconda/lib/python2.7/site-packages/matplotlib/collections.py\", line 180, in get_datalim\n    paths = self.get_paths()\n",
        "  File \"/home/jhelmus/anaconda/lib/python2.7/site-packages/matplotlib/collections.py\", line 1665, in get_paths\n    self.set_paths()\n",
        "  File \"/home/jhelmus/anaconda/lib/python2.7/site-packages/matplotlib/collections.py\", line 1670, in set_paths\n    self._meshWidth, self._meshHeight, self._coordinates)\n",
        "  File \"/home/jhelmus/anaconda/lib/python2.7/site-packages/matplotlib/collections.py\", line 1696, in convert_mesh_to_paths\n    return [Path(x) for x in points]\n",
        "  File \"/home/jhelmus/anaconda/lib/python2.7/site-packages/matplotlib/path.py\", line 151, in __init__\n    assert vertices.ndim == 2\n",
        "KeyboardInterrupt\n"
       ]
      }
     ],
     "prompt_number": 1
    },
    {
     "cell_type": "code",
     "collapsed": false,
     "input": [],
     "language": "python",
     "metadata": {},
     "outputs": []
    }
   ],
   "metadata": {}
  }
 ]
}