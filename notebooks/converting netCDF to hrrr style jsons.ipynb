{
 "metadata": {
  "name": "",
  "signature": "sha256:e2eb02e3b28bc8c8cad718ad229d2dd571fa98c5dfb768516f2a8a22c6bb0781"
 },
 "nbformat": 3,
 "nbformat_minor": 0,
 "worksheets": [
  {
   "cells": [
    {
     "cell_type": "code",
     "collapsed": false,
     "input": [
      "import os\n",
      "import numpy as np\n",
      "import json\n",
      "import datetime\n",
      "directory = '/Users/mattjohnson/'\n",
      "dirlist = os.listdir(directory)"
     ],
     "language": "python",
     "metadata": {},
     "outputs": [],
     "prompt_number": 4
    },
    {
     "cell_type": "code",
     "collapsed": false,
     "input": [
      "ident = 15\n",
      "length = \n",
      "name = 'sgpkazrgeC1.a1.20140501.000001.cdf'"
     ],
     "language": "python",
     "metadata": {},
     "outputs": [],
     "prompt_number": 5
    },
    {
     "cell_type": "code",
     "collapsed": false,
     "input": [
      "date = datetime.datetime(int(name[ident:ident+4]),int(name[ident+4:ident+6]),int(name[ident+6:ident+8]))\n",
      "       "
     ],
     "language": "python",
     "metadata": {},
     "outputs": [],
     "prompt_number": 6
    },
    {
     "cell_type": "code",
     "collapsed": false,
     "input": [
      "len('sgpkazrgeC1.a1.20140501.000001.cdf')"
     ],
     "language": "python",
     "metadata": {},
     "outputs": [
      {
       "metadata": {},
       "output_type": "pyout",
       "prompt_number": 8,
       "text": [
        "34"
       ]
      }
     ],
     "prompt_number": 8
    },
    {
     "cell_type": "code",
     "collapsed": false,
     "input": [],
     "language": "python",
     "metadata": {},
     "outputs": []
    }
   ],
   "metadata": {}
  }
 ]
}