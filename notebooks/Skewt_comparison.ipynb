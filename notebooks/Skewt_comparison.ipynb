{
 "metadata": {
  "name": "",
  "signature": "sha256:d6e31168ca7bc2b0a0c1284f793e40833bdb968e28c4ba772d45acd8dd12a2aa"
 },
 "nbformat": 3,
 "nbformat_minor": 0,
 "worksheets": [
  {
   "cells": [
    {
     "cell_type": "code",
     "collapsed": false,
     "input": [
      "import pyhrrr\n",
      "import numpy as np\n",
      "from scipy.io import netcdf\n",
      "\n",
      "#Read in balloon sounding\n",
      "sounding = '/data/san_store/soundings/sgp/mckercherg1/159821/sgpsondewnpnC1.b1.20140527.172800.cdf'\n",
      "s = netcdf.netcdf_file(sounding, 'r')"
     ],
     "language": "python",
     "metadata": {},
     "outputs": [],
     "prompt_number": 40
    },
    {
     "cell_type": "code",
     "collapsed": false,
     "input": [
      "#Sounding Data\n",
      "psnd = s.variables['pres'][:]\n",
      "hsnd = s.variables['alt'][:]\n",
      "tsnd = s.variables['tdry'][:]\n",
      "tdsnd = s.variables['dp'][:]\n",
      "\n",
      "#HRRR data\n",
      "p_hrrr = pyhrrr.HRRR_PS\n",
      "data = pyhrrr.read_hrrr_spec(filename = 'hrrr.3d.201405271600f001.grib2', parameters = ['Temperature','Dew point temperature'],\n",
      "               directory = '/data/san_store/HRRR',loc = [36.605,-97.485], no_txt = True, \n",
      "               coords=None, max = False)\n",
      "T = (data[0][0])-273.15\n",
      "Td = (data[0][1])-273.15"
     ],
     "language": "python",
     "metadata": {},
     "outputs": [],
     "prompt_number": 41
    },
    {
     "cell_type": "code",
     "collapsed": false,
     "input": [
      "#Interpolation of HRRR height using sounding\n",
      "h_hrrr = []\n",
      "h_hrrr = np.interp(p_hrrr[::-1],psnd[::-1],hsnd[::-1])\n",
      "h_hrrr = h_hrrr[::-1]"
     ],
     "language": "python",
     "metadata": {},
     "outputs": [],
     "prompt_number": 42
    },
    {
     "cell_type": "code",
     "collapsed": false,
     "input": [
      "#Plot Skew-t\n",
      "%matplotlib inline\n",
      "print '\\nHRRR model Skew-T Log-P, 16:00 UTC 1-hr forecast, 05/27/2014'\n",
      "pyhrrr.plot_skewt(p_hrrr,h_hrrr,T,Td)\n",
      "print '\\nARM Sounding Skew-T Log-P, 17:28 UTC observations, 05/27/2014'\n",
      "pyhrrr.plot_skewt(psnd,hsnd,tsnd,tdsnd)"
     ],
     "language": "python",
     "metadata": {},
     "outputs": [
      {
       "output_type": "stream",
       "stream": "stdout",
       "text": [
        "\n",
        "HRRR model Skew-T Log-P, 16:00 UTC 1-hr forecast, 05/27/2014\n",
        "\n",
        "ARM Sounding Skew-T Log-P, 17:28 UTC observations, 05/27/2014\n"
       ]
      }
     ],
     "prompt_number": 43
    },
    {
     "cell_type": "code",
     "collapsed": false,
     "input": [],
     "language": "python",
     "metadata": {},
     "outputs": [],
     "prompt_number": 39
    }
   ],
   "metadata": {}
  }
 ]
}