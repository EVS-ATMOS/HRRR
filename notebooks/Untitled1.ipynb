{
 "metadata": {
  "name": "",
  "signature": "sha256:75ad2a5adb204995d0fe99eee06effa1d5bbb190d8c1c329ff0f9edd310cbe2b"
 },
 "nbformat": 3,
 "nbformat_minor": 0,
 "worksheets": []
}