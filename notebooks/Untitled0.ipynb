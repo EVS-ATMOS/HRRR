{
 "metadata": {
  "name": "",
<<<<<<< HEAD
  "signature": "sha256:872837e8063c3577091d1d1cd3b98e685fc4dd513edec03dbe71fca6a030dba0"
=======
  "signature": "sha256:a63c69e30742917ffaa8891635a5d040817e0d15e334f5ff0d3a7e2fb593d00a"
>>>>>>> 44f3b16de3a27909883578095438968e270b8f8f
 },
 "nbformat": 3,
 "nbformat_minor": 0,
 "worksheets": [
  {
   "cells": [
    {
     "cell_type": "code",
     "collapsed": false,
     "input": [
<<<<<<< HEAD
      "print 'fdas'"
=======
      "ls"
     ],
     "language": "python",
     "metadata": {},
     "outputs": [
      {
       "output_type": "stream",
       "stream": "stdout",
       "text": [
        "\u001b[0m\u001b[01;34mHRRR\u001b[0m/  \u001b[01;34mhrrr_txt\u001b[0m/  \u001b[01;34mnotebooks\u001b[0m/\r\n",
        "\u001b[m"
       ]
      }
     ],
     "prompt_number": 50
    },
    {
     "cell_type": "code",
     "collapsed": false,
     "input": [
      "cd .."
     ],
     "language": "python",
     "metadata": {},
     "outputs": [
      {
       "output_type": "stream",
       "stream": "stdout",
       "text": [
        "/home/mjohnson\n"
       ]
      }
     ],
     "prompt_number": 51
    },
    {
     "cell_type": "code",
     "collapsed": false,
     "input": [
      "cd python"
     ],
     "language": "python",
     "metadata": {},
     "outputs": [
      {
       "output_type": "stream",
       "stream": "stdout",
       "text": [
        "/home/mjohnson/python\n"
       ]
      }
     ],
     "prompt_number": 52
    },
    {
     "cell_type": "code",
     "collapsed": false,
     "input": [
      "cd HRRR"
     ],
     "language": "python",
     "metadata": {},
     "outputs": [
      {
       "output_type": "stream",
       "stream": "stdout",
       "text": [
        "/home/mjohnson/python/HRRR\n"
       ]
      }
     ],
     "prompt_number": 53
    },
    {
     "cell_type": "code",
     "collapsed": false,
     "input": [
      "cd processing"
     ],
     "language": "python",
     "metadata": {},
     "outputs": [
      {
       "output_type": "stream",
       "stream": "stdout",
       "text": [
        "/home/mjohnson/python/HRRR/processing\n"
       ]
      }
     ],
     "prompt_number": 54
    },
    {
     "cell_type": "code",
     "collapsed": false,
     "input": [
      "import os\n",
      "import numpy as np\n",
      "import json\n",
      "\n",
      "global HRRR_PS\n",
      "HRRR_PS = np.array([1013, 1000,  975,  950,  925,  900,  875,  850,  825,  800,  775,\n",
      "        750,  725,  700,  675,  650,  625,  600,  575,  550,  525,  500,\n",
      "        475,  450,  425,  400,  375,  350,  325,  300,  275,  250,  225,\n",
      "        200,  175,  150,  125,  100,   75,   50])\n",
      "        \n",
      "global HRRR_VARS\n",
      "HRRR_VARS =['Geopotential Height','Temperature','Relative humidity','Dew point temperature',\n",
      "        'Specific humidity','Vertical velocity','U component of wind','V component of wind',\n",
      "        'Absolute vorticity','Cloud mixing ratio','Cloud Ice','Rain mixing ratio','Snow mixing ratio',\n",
      "        'Graupel (snow pellets)']\n",
      "        \n",
      "\n",
      "\n",
      "\n",
      "wkdir = os.getcwd()\n",
      "\n",
      "directory = wkdir[:]\n",
      "\n",
      "while \"HRRR\" in directory:\n",
      "    os.chdir(os.path.abspath('..'))\n",
      "    directory = os.getcwd()\n",
      "\n",
      "dirpath = directory+'/HRRR/'\n",
      "\n",
      "os.chdir(dirpath)\n",
      "global HRRR_DATALOC\n",
      "f = open('dataloc','r')\n",
      "HRRR_DATALOC = np.array(json.load(f))\n",
      "f.close()\n",
      "\n",
      "dirpath2 = dirpath+'/functions/'\n",
      "\n",
      "filenames = os.listdir(dirpath2)\n",
      "    \n",
      "for name in filenames:\n",
      "    execfile(dirpath2+'/'+name)\n",
      "\n",
      "os.chdir(wkdir)"
>>>>>>> 44f3b16de3a27909883578095438968e270b8f8f
     ],
     "language": "python",
     "metadata": {},
     "outputs": [],
<<<<<<< HEAD
     "prompt_number": 6
    },
    {
     "cell_type": "raw",
     "metadata": {},
     "source": []
=======
     "prompt_number": 56
    },
    {
     "cell_type": "code",
     "collapsed": false,
     "input": [
      "range(0)"
     ],
     "language": "python",
     "metadata": {},
     "outputs": [
      {
       "metadata": {},
       "output_type": "pyout",
       "prompt_number": 57,
       "text": [
        "[]"
       ]
      }
     ],
     "prompt_number": 57
    },
    {
     "cell_type": "code",
     "collapsed": false,
     "input": [
      "vars()['HRRR_DATALOC']"
     ],
     "language": "python",
     "metadata": {},
     "outputs": [
      {
       "metadata": {},
       "output_type": "pyout",
       "prompt_number": 59,
       "text": [
        "array([[[  21.138     ,   21.14499128,   21.15197559, ...,   21.14723478,\n",
        "           21.14024574,   21.13324972],\n",
        "        [  21.16288622,   21.16988038,   21.17686756, ...,   21.1721248 ,\n",
        "           21.16513288,   21.15813398],\n",
        "        [  21.1877749 ,   21.19477194,   21.201762  , ...,   21.19701728,\n",
        "           21.19002248,   21.1830207 ],\n",
        "        ..., \n",
        "        [  47.80467269,   47.81497075,   47.82525873, ...,   47.81827543,\n",
        "           47.80798061,   47.79767571],\n",
        "        [  47.82921879,   47.83952016,   47.84981145, ...,   47.84282591,\n",
        "           47.83252777,   47.82221956],\n",
        "        [  47.85376132,   47.864066  ,   47.8743606 , ...,   47.86737281,\n",
        "           47.85707136,   47.84675984]],\n",
        "\n",
        "       [[-122.72      , -122.69331765, -122.66663096, ...,  -72.31525125,\n",
        "          -72.28856751,  -72.26188812],\n",
        "        [-122.72750154, -122.70081207, -122.67411825, ...,  -72.30775913,\n",
        "          -72.28106826,  -72.25438174],\n",
        "        [-122.73500744, -122.70831083, -122.68160988, ...,  -72.30026265,\n",
        "          -72.27356465,  -72.24687101],\n",
        "        ..., \n",
        "        [-134.07501103, -134.03845686, -134.00189051, ...,  -60.97328366,\n",
        "          -60.93672558,  -60.90017968],\n",
        "        [-134.09035687, -134.05379073, -134.0172124 , ...,  -60.95795363,\n",
        "          -60.92138358,  -60.88482572],\n",
        "        [-134.1057149 , -134.06913679, -134.03254648, ...,  -60.94261142,\n",
        "          -60.90602939,  -60.86945957]]])"
       ]
      }
     ],
     "prompt_number": 59
    },
    {
     "cell_type": "code",
     "collapsed": false,
     "input": [
      "vars().keys()"
     ],
     "language": "python",
     "metadata": {},
     "outputs": [
      {
       "metadata": {},
       "output_type": "pyout",
       "prompt_number": 60,
       "text": [
        "['__',\n",
        " '_59',\n",
        " '_58',\n",
        " 'os',\n",
        " '_i59',\n",
        " '_i58',\n",
        " '_i57',\n",
        " '_i56',\n",
        " '_i55',\n",
        " '_i54',\n",
        " '_i53',\n",
        " '_i52',\n",
        " '__builtin__',\n",
        " '_i50',\n",
        " 'colors',\n",
        " 'produce_hrrr_txt_string',\n",
        " 'dirpath',\n",
        " 'read_hrrr_spec',\n",
        " 'saveplot_hrrr',\n",
        " 'quit',\n",
        " '_i11',\n",
        " '_i38',\n",
        " 'json',\n",
        " '_i',\n",
        " 'grb_to_grid',\n",
        " 'read_hrrr_txt',\n",
        " 'write_hrrr_grib2txt',\n",
        " '_25',\n",
        " '__doc__',\n",
        " '_20',\n",
        " '_21',\n",
        " 'gather_hrrr_files',\n",
        " 'find_hrrr_high_locs',\n",
        " 'HRRR_VARS',\n",
        " '_40',\n",
        " '_57',\n",
        " '_i60',\n",
        " 'makegif_hrrr_imagefiles',\n",
        " '_i26',\n",
        " '_i51',\n",
        " 'datafileset',\n",
        " 'datetime',\n",
        " '_sh',\n",
        " 'plot_hrrr_dayfromtxt',\n",
        " 'name',\n",
        " 'FormatStrFormatter',\n",
        " 'f',\n",
        " '_6',\n",
        " 'get_netcdf_variables',\n",
        " '_i36',\n",
        " '_1',\n",
        " '_23',\n",
        " '_i13',\n",
        " '_i12',\n",
        " '_iii',\n",
        " '_i10',\n",
        " '_i17',\n",
        " '_i16',\n",
        " '_i15',\n",
        " '_i14',\n",
        " '_i19',\n",
        " '_i18',\n",
        " '_oh',\n",
        " 'Out',\n",
        " '_dh',\n",
        " 'pygrib',\n",
        " 'convert_coords2latlon',\n",
        " 'plot_hrrr',\n",
        " 'plt',\n",
        " 'convert_latlon2coords',\n",
        " 'MultipleLocator',\n",
        " 'HRRR_PS',\n",
        " '_exit_code',\n",
        " 'massconvert_hrrr_grib2txt',\n",
        " '_i9',\n",
        " '_i8',\n",
        " '_i7',\n",
        " '_i6',\n",
        " '_i5',\n",
        " '_i4',\n",
        " '_i3',\n",
        " '_i2',\n",
        " '_i1',\n",
        " '__package__',\n",
        " 'read_hrrr',\n",
        " '_i44',\n",
        " 'dirpath2',\n",
        " 'exit',\n",
        " 'get_ipython',\n",
        " '_i28',\n",
        " '_i29',\n",
        " 'np',\n",
        " '_i27',\n",
        " '_i24',\n",
        " '_i25',\n",
        " '_i22',\n",
        " '_i23',\n",
        " '_i20',\n",
        " '_i21',\n",
        " '_i47',\n",
        " '_i48',\n",
        " '_i49',\n",
        " 'inventory_hrrr',\n",
        " '__builtins__',\n",
        " '_i45',\n",
        " '_i46',\n",
        " '_ih',\n",
        " '_i40',\n",
        " 'HRRR_DATALOC',\n",
        " '_i42',\n",
        " '_i41',\n",
        " 'directory',\n",
        " 'convert_press2height',\n",
        " 'matplotlib',\n",
        " '__name__',\n",
        " '___',\n",
        " '_i43',\n",
        " 'Basemap',\n",
        " '_',\n",
        " 'addcyclic',\n",
        " 'convert_height2press',\n",
        " 'filenames',\n",
        " 'plot_hrrr_contour_spec',\n",
        " 'get_sun',\n",
        " '_i35',\n",
        " 'plot_hrrr_sgp',\n",
        " 'plot_hrrr_spec',\n",
        " 'produce_hrrr_grib2strings',\n",
        " '_i39',\n",
        " '_38',\n",
        " 'wkdir',\n",
        " '_ii',\n",
        " 'In',\n",
        " '_i31',\n",
        " '_i30',\n",
        " '_i33',\n",
        " '_i32',\n",
        " '_35',\n",
        " '_i34',\n",
        " '_i37',\n",
        " '_36']"
       ]
      }
     ],
     "prompt_number": 60
    },
    {
     "cell_type": "code",
     "collapsed": false,
     "input": [
      "use = 1"
     ],
     "language": "python",
     "metadata": {},
     "outputs": [],
     "prompt_number": 61
    },
    {
     "cell_type": "code",
     "collapsed": false,
     "input": [
      "vars().keys()"
     ],
     "language": "python",
     "metadata": {},
     "outputs": [
      {
       "metadata": {},
       "output_type": "pyout",
       "prompt_number": 62,
       "text": [
        "['__',\n",
        " '_59',\n",
        " '_58',\n",
        " 'os',\n",
        " '_i59',\n",
        " '_i58',\n",
        " '_i57',\n",
        " '_i56',\n",
        " '_i55',\n",
        " '_i54',\n",
        " '_i53',\n",
        " '_i52',\n",
        " '__builtin__',\n",
        " '_i50',\n",
        " 'colors',\n",
        " 'produce_hrrr_txt_string',\n",
        " 'dirpath',\n",
        " 'read_hrrr_spec',\n",
        " 'saveplot_hrrr',\n",
        " 'quit',\n",
        " 'use',\n",
        " '_i11',\n",
        " '_i38',\n",
        " '_60',\n",
        " 'json',\n",
        " '_i',\n",
        " 'grb_to_grid',\n",
        " 'read_hrrr_txt',\n",
        " 'write_hrrr_grib2txt',\n",
        " '_25',\n",
        " '__doc__',\n",
        " '_20',\n",
        " '_21',\n",
        " 'gather_hrrr_files',\n",
        " 'find_hrrr_high_locs',\n",
        " 'HRRR_VARS',\n",
        " '_40',\n",
        " '_57',\n",
        " '_i60',\n",
        " 'makegif_hrrr_imagefiles',\n",
        " '_i62',\n",
        " '_i26',\n",
        " '_i51',\n",
        " 'datafileset',\n",
        " '_i61',\n",
        " 'datetime',\n",
        " '_sh',\n",
        " 'plot_hrrr_dayfromtxt',\n",
        " 'name',\n",
        " 'FormatStrFormatter',\n",
        " 'f',\n",
        " '_6',\n",
        " 'get_netcdf_variables',\n",
        " '_i36',\n",
        " '_1',\n",
        " '_23',\n",
        " '_i13',\n",
        " '_i12',\n",
        " '_iii',\n",
        " '_i10',\n",
        " '_i17',\n",
        " '_i16',\n",
        " '_i15',\n",
        " '_i14',\n",
        " '_i19',\n",
        " '_i18',\n",
        " '_oh',\n",
        " 'Out',\n",
        " '_dh',\n",
        " 'pygrib',\n",
        " 'convert_coords2latlon',\n",
        " 'plot_hrrr',\n",
        " 'plt',\n",
        " 'convert_latlon2coords',\n",
        " 'MultipleLocator',\n",
        " 'HRRR_PS',\n",
        " '_exit_code',\n",
        " 'massconvert_hrrr_grib2txt',\n",
        " '_i9',\n",
        " '_i8',\n",
        " '_i7',\n",
        " '_i6',\n",
        " '_i5',\n",
        " '_i4',\n",
        " '_i3',\n",
        " '_i2',\n",
        " '_i1',\n",
        " '__package__',\n",
        " 'read_hrrr',\n",
        " '_i44',\n",
        " 'dirpath2',\n",
        " 'exit',\n",
        " 'get_ipython',\n",
        " '_i28',\n",
        " '_i29',\n",
        " 'np',\n",
        " '_i27',\n",
        " '_i24',\n",
        " '_i25',\n",
        " '_i22',\n",
        " '_i23',\n",
        " '_i20',\n",
        " '_i21',\n",
        " '_i47',\n",
        " '_i48',\n",
        " '_i49',\n",
        " 'inventory_hrrr',\n",
        " '__builtins__',\n",
        " '_i45',\n",
        " '_i46',\n",
        " '_ih',\n",
        " '_i40',\n",
        " 'HRRR_DATALOC',\n",
        " '_i42',\n",
        " '_i41',\n",
        " 'directory',\n",
        " 'convert_press2height',\n",
        " 'matplotlib',\n",
        " '__name__',\n",
        " '___',\n",
        " '_i43',\n",
        " 'Basemap',\n",
        " '_',\n",
        " 'addcyclic',\n",
        " 'convert_height2press',\n",
        " 'filenames',\n",
        " 'plot_hrrr_contour_spec',\n",
        " 'get_sun',\n",
        " '_i35',\n",
        " 'plot_hrrr_sgp',\n",
        " 'plot_hrrr_spec',\n",
        " 'produce_hrrr_grib2strings',\n",
        " '_i39',\n",
        " '_38',\n",
        " 'wkdir',\n",
        " '_ii',\n",
        " 'In',\n",
        " '_i31',\n",
        " '_i30',\n",
        " '_i33',\n",
        " '_i32',\n",
        " '_35',\n",
        " '_i34',\n",
        " '_i37',\n",
        " '_36']"
       ]
      }
     ],
     "prompt_number": 62
>>>>>>> 44f3b16de3a27909883578095438968e270b8f8f
    },
    {
     "cell_type": "code",
     "collapsed": false,
     "input": [],
     "language": "python",
     "metadata": {},
     "outputs": []
    }
   ],
   "metadata": {}
  }
 ]
}