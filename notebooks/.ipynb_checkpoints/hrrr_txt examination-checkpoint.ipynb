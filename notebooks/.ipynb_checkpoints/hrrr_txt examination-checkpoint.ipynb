{
 "metadata": {
  "name": "",
  "signature": "sha256:5e3dd26560dcc4604b97917b9006a6c37b9074c96652acc2a0e3a6c6d7b43572"
 },
 "nbformat": 3,
 "nbformat_minor": 0,
 "worksheets": [
  {
   "cells": [
    {
     "cell_type": "code",
     "collapsed": false,
     "input": [
      "directory = '/Users/mattjohnson/hrrr_txt/'"
     ],
     "language": "python",
     "metadata": {},
     "outputs": [],
     "prompt_number": 1
    },
    {
     "cell_type": "code",
     "collapsed": false,
     "input": [
      "import pyhrrr"
     ],
     "language": "python",
     "metadata": {},
     "outputs": [],
     "prompt_number": 2
    },
    {
     "cell_type": "code",
     "collapsed": false,
     "input": [
      "import numpy as np\n",
      "import datetime"
     ],
     "language": "python",
     "metadata": {},
     "outputs": [],
     "prompt_number": 3
    },
    {
     "cell_type": "code",
     "collapsed": false,
     "input": [
      "import os"
     ],
     "language": "python",
     "metadata": {},
     "outputs": [],
     "prompt_number": 4
    },
    {
     "cell_type": "code",
     "collapsed": false,
     "input": [
      "l = os.listdir(directory)"
     ],
     "language": "python",
     "metadata": {},
     "outputs": [],
     "prompt_number": 5
    },
    {
     "cell_type": "code",
     "collapsed": false,
     "input": [
      "l.remove('.DS_Store')"
     ],
     "language": "python",
     "metadata": {},
     "outputs": [],
     "prompt_number": 7
    },
    {
     "cell_type": "code",
     "collapsed": false,
     "input": [
      "l"
     ],
     "language": "python",
     "metadata": {},
     "outputs": [
      {
       "metadata": {},
       "output_type": "pyout",
       "prompt_number": 8,
       "text": [
        "['hrrr.3d.20140315t000024r001L459899.txt',\n",
        " 'hrrr.3d.20140315t000024r002L459899.txt',\n",
        " 'hrrr.3d.20140315t000024r003L459899.txt',\n",
        " 'hrrr.3d.20140315t000024r004L459899.txt',\n",
        " 'hrrr.3d.20140316t000024r001L459899.txt',\n",
        " 'hrrr.3d.20140316t000024r002L459899.txt',\n",
        " 'hrrr.3d.20140316t000024r003L459899.txt',\n",
        " 'hrrr.3d.20140316t000024r004L459899.txt',\n",
        " 'hrrr.3d.20140317t000024r001L459899.txt',\n",
        " 'hrrr.3d.20140317t000024r002L459899.txt',\n",
        " 'hrrr.3d.20140317t000024r003L459899.txt',\n",
        " 'hrrr.3d.20140317t000024r004L459899.txt',\n",
        " 'hrrr.3d.20140318t000024r001L459899.txt',\n",
        " 'hrrr.3d.20140318t000024r002L459899.txt',\n",
        " 'hrrr.3d.20140318t000024r003L459899.txt',\n",
        " 'hrrr.3d.20140318t000024r004L459899.txt',\n",
        " 'hrrr.3d.20140319t000024r001L459899.txt',\n",
        " 'hrrr.3d.20140319t000024r002L459899.txt',\n",
        " 'hrrr.3d.20140319t000024r004L459899.txt',\n",
        " 'hrrr.3d.20140320t000024r001L459899.txt',\n",
        " 'hrrr.3d.20140320t000024r004L459899.txt',\n",
        " 'hrrr.3d.20140321t000024r001L459899.txt',\n",
        " 'hrrr.3d.20140321t000024r004L459899.txt',\n",
        " 'hrrr.3d.20140322t000024r001L459899.txt',\n",
        " 'hrrr.3d.20140323t000024r001L459899.txt',\n",
        " 'hrrr.3d.20140324t000024r001L459899.txt',\n",
        " 'hrrr.3d.20140325t000024r001L459899.txt',\n",
        " 'hrrr.3d.20140326t000024r001L459899.txt',\n",
        " 'hrrr.3d.20140327t000024r001L459899.txt',\n",
        " 'hrrr.3d.20140328t000024r001L459899.txt',\n",
        " 'hrrr.3d.20140329t000024r001L459899.txt',\n",
        " 'hrrr.3d.20140330t000024r001L459899.txt',\n",
        " 'hrrr.3d.20140331t000024r001L459899.txt',\n",
        " 'hrrr.3d.20140401t000024r001L459899.txt',\n",
        " 'hrrr.3d.20140402t000024r001L459899.txt',\n",
        " 'hrrr.3d.20140410t000024r000L459899.txt',\n",
        " 'hrrr.3d.20140410t000024r001L459899.txt',\n",
        " 'hrrr.3d.20140410t000024r002L459899.txt',\n",
        " 'hrrr.3d.20140410t000024r003L459899.txt',\n",
        " 'hrrr.3d.20140410t000024r004L459899.txt',\n",
        " 'hrrr.3d.20140411t000024r000L459899.txt',\n",
        " 'hrrr.3d.20140411t000024r001L459899.txt',\n",
        " 'hrrr.3d.20140411t000024r004L459899.txt',\n",
        " 'hrrr.3d.20140412t000024r000L459899.txt',\n",
        " 'hrrr.3d.20140412t000024r001L459899.txt',\n",
        " 'hrrr.3d.20140412t000024r004L459899.txt',\n",
        " 'hrrr.3d.20140413t000024r001L459899.txt',\n",
        " 'hrrr.3d.20140414t000024r001L459899.txt',\n",
        " 'hrrr.3d.20140415t000024r001L459899.txt',\n",
        " 'hrrr.3d.20140416t000024r001L459899.txt',\n",
        " 'hrrr.3d.20140417t000024r001L459899.txt',\n",
        " 'hrrr.3d.20140418t000024r001L459899.txt',\n",
        " 'hrrr.3d.20140419t000024r001L459899.txt',\n",
        " 'hrrr.3d.20140420t000024r001L459899.txt',\n",
        " 'hrrr.3d.20140421t000024r001L459899.txt',\n",
        " 'hrrr.3d.20140422t000024r001L459899.txt',\n",
        " 'hrrr.3d.20140423t000024r001L459899.txt',\n",
        " 'hrrr.3d.20140424t000024r001L459899.txt',\n",
        " 'hrrr.3d.20140425t000024r001L459899.txt',\n",
        " 'hrrr.3d.20140426t000024r001L459899.txt',\n",
        " 'hrrr.3d.20140427t000024r001L459899.txt',\n",
        " 'hrrr.3d.20140428t000024r001L459899.txt',\n",
        " 'hrrr.3d.20140429t000024r001L459899.txt',\n",
        " 'hrrr.3d.20140506t000024r000L459899.txt',\n",
        " 'hrrr.3d.20140506t000024r001L459899.txt',\n",
        " 'hrrr.3d.20140506t000024r002L459899.txt',\n",
        " 'hrrr.3d.20140506t000024r004L459899.txt',\n",
        " 'hrrr.3d.20140507t000024r000L459899.txt',\n",
        " 'hrrr.3d.20140507t000024r001L459899.txt',\n",
        " 'hrrr.3d.20140507t000024r004L459899.txt',\n",
        " 'hrrr.3d.20140508t000024r000L459899.txt',\n",
        " 'hrrr.3d.20140508t000024r001L459899.txt',\n",
        " 'hrrr.3d.20140509t000024r001L459899.txt',\n",
        " 'hrrr.3d.20140510t000024r001L459899.txt',\n",
        " 'hrrr.3d.20140511t000024r001L459899.txt',\n",
        " 'hrrr.3d.20140512t000024r001L459899.txt',\n",
        " 'hrrr.3d.20140513t000024r001L459899.txt',\n",
        " 'hrrr.3d.20140514t000024r001L459899.txt',\n",
        " 'hrrr.3d.20140515t000024r001L459899.txt',\n",
        " 'hrrr.3d.20140516t000024r001L459899.txt',\n",
        " 'hrrr.3d.20140517t000024r001L459899.txt',\n",
        " 'hrrr.3d.20140518t000024r001L459899.txt',\n",
        " 'hrrr.3d.20140519t000024r001L459899.txt',\n",
        " 'hrrr.3d.20140520t000024r001L459899.txt',\n",
        " 'hrrr.3d.20140601t000024r000L459899.txt',\n",
        " 'hrrr.3d.20140601t000024r001L459899.txt',\n",
        " 'hrrr.3d.20140601t000024r004L459899.txt',\n",
        " 'hrrr.3d.20140602t000024r000L459899.txt',\n",
        " 'hrrr.3d.20140602t000024r001L459899.txt',\n",
        " 'hrrr.3d.20140603t000024r001L459899.txt',\n",
        " 'hrrr.3d.20140604t000024r001L459899.txt',\n",
        " 'hrrr.3d.20140605t000024r001L459899.txt',\n",
        " 'hrrr.3d.20140606t000024r001L459899.txt',\n",
        " 'hrrr.3d.20140607t000024r001L459899.txt',\n",
        " 'hrrr.3d.20140608t000024r001L459899.txt',\n",
        " 'hrrr.3d.20140609t000024r001L459899.txt',\n",
        " 'hrrr.3d.20140610t000024r001L459899.txt',\n",
        " 'hrrr.3d.20140611t000024r001L459899.txt',\n",
        " 'hrrr.3d.20140612t000024r001L459899.txt',\n",
        " 'hrrr.3d.20140613t000024r001L459899.txt',\n",
        " 'hrrr.3d.20140614t000024r001L459899.txt',\n",
        " 'hrrr.3d.20140615t000024r001L459899.txt',\n",
        " 'hrrr.3d.20140616t000024r001L459899.txt',\n",
        " 'hrrr.3d.20140617t000024r001L459899.txt',\n",
        " 'hrrr.3d.20140618t000024r001L459899.txt',\n",
        " 'hrrr.3d.20140619t000024r001L459899.txt']"
       ]
      }
     ],
     "prompt_number": 8
    },
    {
     "cell_type": "code",
     "collapsed": false,
     "input": [
      "dates = []\n",
      "datelengths = []\n",
      "for i in l:\n",
      "    x = pyhrrr.read_hrrr_txt(filename = i,directory = directory)\n",
      "    dates.append(x[1])\n",
      "    datelengths.append(len(x[1]))\n",
      "    print i"
     ],
     "language": "python",
     "metadata": {},
     "outputs": [
      {
       "ename": "ValueError",
       "evalue": "Expecting object: line 1 column 118417 (char 118416)",
       "output_type": "pyerr",
       "traceback": [
        "\u001b[0;31m---------------------------------------------------------------------------\u001b[0m\n\u001b[0;31mValueError\u001b[0m                                Traceback (most recent call last)",
        "\u001b[0;32m<ipython-input-9-75cb98e295f5>\u001b[0m in \u001b[0;36m<module>\u001b[0;34m()\u001b[0m\n\u001b[1;32m      2\u001b[0m \u001b[0mdatelengths\u001b[0m \u001b[0;34m=\u001b[0m \u001b[0;34m[\u001b[0m\u001b[0;34m]\u001b[0m\u001b[0;34m\u001b[0m\u001b[0m\n\u001b[1;32m      3\u001b[0m \u001b[0;32mfor\u001b[0m \u001b[0mi\u001b[0m \u001b[0;32min\u001b[0m \u001b[0ml\u001b[0m\u001b[0;34m:\u001b[0m\u001b[0;34m\u001b[0m\u001b[0m\n\u001b[0;32m----> 4\u001b[0;31m     \u001b[0mx\u001b[0m \u001b[0;34m=\u001b[0m \u001b[0mpyhrrr\u001b[0m\u001b[0;34m.\u001b[0m\u001b[0mread_hrrr_txt\u001b[0m\u001b[0;34m(\u001b[0m\u001b[0mfilename\u001b[0m \u001b[0;34m=\u001b[0m \u001b[0mi\u001b[0m\u001b[0;34m,\u001b[0m\u001b[0mdirectory\u001b[0m \u001b[0;34m=\u001b[0m \u001b[0mdirectory\u001b[0m\u001b[0;34m)\u001b[0m\u001b[0;34m\u001b[0m\u001b[0m\n\u001b[0m\u001b[1;32m      5\u001b[0m     \u001b[0mdates\u001b[0m\u001b[0;34m.\u001b[0m\u001b[0mappend\u001b[0m\u001b[0;34m(\u001b[0m\u001b[0mx\u001b[0m\u001b[0;34m[\u001b[0m\u001b[0;36m1\u001b[0m\u001b[0;34m]\u001b[0m\u001b[0;34m)\u001b[0m\u001b[0;34m\u001b[0m\u001b[0m\n\u001b[1;32m      6\u001b[0m     \u001b[0mdatelengths\u001b[0m\u001b[0;34m.\u001b[0m\u001b[0mappend\u001b[0m\u001b[0;34m(\u001b[0m\u001b[0mlen\u001b[0m\u001b[0;34m(\u001b[0m\u001b[0mx\u001b[0m\u001b[0;34m[\u001b[0m\u001b[0;36m1\u001b[0m\u001b[0;34m]\u001b[0m\u001b[0;34m)\u001b[0m\u001b[0;34m)\u001b[0m\u001b[0;34m\u001b[0m\u001b[0m\n",
        "\u001b[0;32m/Users/mattjohnson/hrrr_txt/pyhrrr.pyc\u001b[0m in \u001b[0;36mread_hrrr_txt\u001b[0;34m(date, hour, filenum, directory, filename, loc, indexes, read_modelhours)\u001b[0m\n\u001b[1;32m     25\u001b[0m     \u001b[0;32mif\u001b[0m \u001b[0mfilename\u001b[0m \u001b[0;34m!=\u001b[0m \u001b[0mNone\u001b[0m\u001b[0;34m:\u001b[0m\u001b[0;34m\u001b[0m\u001b[0m\n\u001b[1;32m     26\u001b[0m         \u001b[0mf\u001b[0m \u001b[0;34m=\u001b[0m \u001b[0mopen\u001b[0m\u001b[0;34m(\u001b[0m\u001b[0mfilename\u001b[0m\u001b[0;34m,\u001b[0m \u001b[0;34m'r'\u001b[0m\u001b[0;34m)\u001b[0m\u001b[0;34m\u001b[0m\u001b[0m\n\u001b[0;32m---> 27\u001b[0;31m         \u001b[0;34m[\u001b[0m\u001b[0mdata\u001b[0m\u001b[0;34m,\u001b[0m\u001b[0mdates\u001b[0m\u001b[0;34m,\u001b[0m\u001b[0mparameterlist\u001b[0m\u001b[0;34m,\u001b[0m\u001b[0mloc\u001b[0m\u001b[0;34m,\u001b[0m\u001b[0mindexes\u001b[0m\u001b[0;34m,\u001b[0m\u001b[0munits\u001b[0m\u001b[0;34m]\u001b[0m \u001b[0;34m=\u001b[0m \u001b[0mjson\u001b[0m\u001b[0;34m.\u001b[0m\u001b[0mload\u001b[0m\u001b[0;34m(\u001b[0m\u001b[0mf\u001b[0m\u001b[0;34m)\u001b[0m\u001b[0;34m\u001b[0m\u001b[0m\n\u001b[0m\u001b[1;32m     28\u001b[0m         \u001b[0;32mreturn\u001b[0m \u001b[0;34m[\u001b[0m\u001b[0mdata\u001b[0m\u001b[0;34m,\u001b[0m\u001b[0mmatplotlib\u001b[0m\u001b[0;34m.\u001b[0m\u001b[0mdates\u001b[0m\u001b[0;34m.\u001b[0m\u001b[0mnum2date\u001b[0m\u001b[0;34m(\u001b[0m\u001b[0mdates\u001b[0m\u001b[0;34m)\u001b[0m\u001b[0;34m,\u001b[0m\u001b[0mparameterlist\u001b[0m\u001b[0;34m,\u001b[0m\u001b[0mloc\u001b[0m\u001b[0;34m,\u001b[0m\u001b[0mindexes\u001b[0m\u001b[0;34m,\u001b[0m\u001b[0munits\u001b[0m\u001b[0;34m]\u001b[0m\u001b[0;34m\u001b[0m\u001b[0m\n\u001b[1;32m     29\u001b[0m \u001b[0;34m\u001b[0m\u001b[0m\n",
        "\u001b[0;32m/Users/mattjohnson/anaconda/python.app/Contents/lib/python2.7/json/__init__.pyc\u001b[0m in \u001b[0;36mload\u001b[0;34m(fp, encoding, cls, object_hook, parse_float, parse_int, parse_constant, object_pairs_hook, **kw)\u001b[0m\n\u001b[1;32m    288\u001b[0m         \u001b[0mparse_float\u001b[0m\u001b[0;34m=\u001b[0m\u001b[0mparse_float\u001b[0m\u001b[0;34m,\u001b[0m \u001b[0mparse_int\u001b[0m\u001b[0;34m=\u001b[0m\u001b[0mparse_int\u001b[0m\u001b[0;34m,\u001b[0m\u001b[0;34m\u001b[0m\u001b[0m\n\u001b[1;32m    289\u001b[0m         \u001b[0mparse_constant\u001b[0m\u001b[0;34m=\u001b[0m\u001b[0mparse_constant\u001b[0m\u001b[0;34m,\u001b[0m \u001b[0mobject_pairs_hook\u001b[0m\u001b[0;34m=\u001b[0m\u001b[0mobject_pairs_hook\u001b[0m\u001b[0;34m,\u001b[0m\u001b[0;34m\u001b[0m\u001b[0m\n\u001b[0;32m--> 290\u001b[0;31m         **kw)\n\u001b[0m\u001b[1;32m    291\u001b[0m \u001b[0;34m\u001b[0m\u001b[0m\n\u001b[1;32m    292\u001b[0m \u001b[0;34m\u001b[0m\u001b[0m\n",
        "\u001b[0;32m/Users/mattjohnson/anaconda/python.app/Contents/lib/python2.7/json/__init__.pyc\u001b[0m in \u001b[0;36mloads\u001b[0;34m(s, encoding, cls, object_hook, parse_float, parse_int, parse_constant, object_pairs_hook, **kw)\u001b[0m\n\u001b[1;32m    336\u001b[0m             \u001b[0mparse_int\u001b[0m \u001b[0;32mis\u001b[0m \u001b[0mNone\u001b[0m \u001b[0;32mand\u001b[0m \u001b[0mparse_float\u001b[0m \u001b[0;32mis\u001b[0m \u001b[0mNone\u001b[0m \u001b[0;32mand\u001b[0m\u001b[0;34m\u001b[0m\u001b[0m\n\u001b[1;32m    337\u001b[0m             parse_constant is None and object_pairs_hook is None and not kw):\n\u001b[0;32m--> 338\u001b[0;31m         \u001b[0;32mreturn\u001b[0m \u001b[0m_default_decoder\u001b[0m\u001b[0;34m.\u001b[0m\u001b[0mdecode\u001b[0m\u001b[0;34m(\u001b[0m\u001b[0ms\u001b[0m\u001b[0;34m)\u001b[0m\u001b[0;34m\u001b[0m\u001b[0m\n\u001b[0m\u001b[1;32m    339\u001b[0m     \u001b[0;32mif\u001b[0m \u001b[0mcls\u001b[0m \u001b[0;32mis\u001b[0m \u001b[0mNone\u001b[0m\u001b[0;34m:\u001b[0m\u001b[0;34m\u001b[0m\u001b[0m\n\u001b[1;32m    340\u001b[0m         \u001b[0mcls\u001b[0m \u001b[0;34m=\u001b[0m \u001b[0mJSONDecoder\u001b[0m\u001b[0;34m\u001b[0m\u001b[0m\n",
        "\u001b[0;32m/Users/mattjohnson/anaconda/python.app/Contents/lib/python2.7/json/decoder.pyc\u001b[0m in \u001b[0;36mdecode\u001b[0;34m(self, s, _w)\u001b[0m\n\u001b[1;32m    364\u001b[0m \u001b[0;34m\u001b[0m\u001b[0m\n\u001b[1;32m    365\u001b[0m         \"\"\"\n\u001b[0;32m--> 366\u001b[0;31m         \u001b[0mobj\u001b[0m\u001b[0;34m,\u001b[0m \u001b[0mend\u001b[0m \u001b[0;34m=\u001b[0m \u001b[0mself\u001b[0m\u001b[0;34m.\u001b[0m\u001b[0mraw_decode\u001b[0m\u001b[0;34m(\u001b[0m\u001b[0ms\u001b[0m\u001b[0;34m,\u001b[0m \u001b[0midx\u001b[0m\u001b[0;34m=\u001b[0m\u001b[0m_w\u001b[0m\u001b[0;34m(\u001b[0m\u001b[0ms\u001b[0m\u001b[0;34m,\u001b[0m \u001b[0;36m0\u001b[0m\u001b[0;34m)\u001b[0m\u001b[0;34m.\u001b[0m\u001b[0mend\u001b[0m\u001b[0;34m(\u001b[0m\u001b[0;34m)\u001b[0m\u001b[0;34m)\u001b[0m\u001b[0;34m\u001b[0m\u001b[0m\n\u001b[0m\u001b[1;32m    367\u001b[0m         \u001b[0mend\u001b[0m \u001b[0;34m=\u001b[0m \u001b[0m_w\u001b[0m\u001b[0;34m(\u001b[0m\u001b[0ms\u001b[0m\u001b[0;34m,\u001b[0m \u001b[0mend\u001b[0m\u001b[0;34m)\u001b[0m\u001b[0;34m.\u001b[0m\u001b[0mend\u001b[0m\u001b[0;34m(\u001b[0m\u001b[0;34m)\u001b[0m\u001b[0;34m\u001b[0m\u001b[0m\n\u001b[1;32m    368\u001b[0m         \u001b[0;32mif\u001b[0m \u001b[0mend\u001b[0m \u001b[0;34m!=\u001b[0m \u001b[0mlen\u001b[0m\u001b[0;34m(\u001b[0m\u001b[0ms\u001b[0m\u001b[0;34m)\u001b[0m\u001b[0;34m:\u001b[0m\u001b[0;34m\u001b[0m\u001b[0m\n",
        "\u001b[0;32m/Users/mattjohnson/anaconda/python.app/Contents/lib/python2.7/json/decoder.pyc\u001b[0m in \u001b[0;36mraw_decode\u001b[0;34m(self, s, idx)\u001b[0m\n\u001b[1;32m    380\u001b[0m         \"\"\"\n\u001b[1;32m    381\u001b[0m         \u001b[0;32mtry\u001b[0m\u001b[0;34m:\u001b[0m\u001b[0;34m\u001b[0m\u001b[0m\n\u001b[0;32m--> 382\u001b[0;31m             \u001b[0mobj\u001b[0m\u001b[0;34m,\u001b[0m \u001b[0mend\u001b[0m \u001b[0;34m=\u001b[0m \u001b[0mself\u001b[0m\u001b[0;34m.\u001b[0m\u001b[0mscan_once\u001b[0m\u001b[0;34m(\u001b[0m\u001b[0ms\u001b[0m\u001b[0;34m,\u001b[0m \u001b[0midx\u001b[0m\u001b[0;34m)\u001b[0m\u001b[0;34m\u001b[0m\u001b[0m\n\u001b[0m\u001b[1;32m    383\u001b[0m         \u001b[0;32mexcept\u001b[0m \u001b[0mStopIteration\u001b[0m\u001b[0;34m:\u001b[0m\u001b[0;34m\u001b[0m\u001b[0m\n\u001b[1;32m    384\u001b[0m             \u001b[0;32mraise\u001b[0m \u001b[0mValueError\u001b[0m\u001b[0;34m(\u001b[0m\u001b[0;34m\"No JSON object could be decoded\"\u001b[0m\u001b[0;34m)\u001b[0m\u001b[0;34m\u001b[0m\u001b[0m\n",
        "\u001b[0;31mValueError\u001b[0m: Expecting object: line 1 column 118417 (char 118416)"
       ]
      }
     ],
     "prompt_number": 9
    },
    {
     "cell_type": "code",
     "collapsed": false,
     "input": [],
     "language": "python",
     "metadata": {},
     "outputs": []
    }
   ],
   "metadata": {}
  }
 ]
}