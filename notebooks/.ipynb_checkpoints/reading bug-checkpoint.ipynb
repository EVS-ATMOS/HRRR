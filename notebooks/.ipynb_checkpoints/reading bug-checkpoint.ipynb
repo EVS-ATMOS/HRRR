{
 "metadata": {
  "name": "",
  "signature": "sha256:633f7d45427adec020c2bba873144c3feb6875e6dbe0e2d4fc90930f1abbc7a4"
 },
 "nbformat": 3,
 "nbformat_minor": 0,
 "worksheets": [
  {
   "cells": [
    {
     "cell_type": "code",
     "collapsed": false,
     "input": [
      "import numpy as np\n",
      "import os\n",
      "import pyhrrr\n",
      "import matplotlib\n",
      "%matplotlib inline"
     ],
     "language": "python",
     "metadata": {},
     "outputs": [],
     "prompt_number": 127
    },
    {
     "cell_type": "code",
     "collapsed": false,
     "input": [
      "import os\n",
      "import numpy as np\n",
      "\n",
      "global HRRR_PS\n",
      "HRRR_PS = np.array([1013, 1000,  975,  950,  925,  900,  875,  850,  825,  800,  775,\n",
      "        750,  725,  700,  675,  650,  625,  600,  575,  550,  525,  500,\n",
      "        475,  450,  425,  400,  375,  350,  325,  300,  275,  250,  225,\n",
      "        200,  175,  150,  125,  100,   75,   50])\n",
      "        \n",
      "global HRRR_VARS\n",
      "HRRR_VARS =['Geopotential Height','Temperature','Relative humidity','Dew point temperature',\n",
      "        'Specific humidity','Vertical velocity','U component of wind','V component of wind',\n",
      "        'Absolute vorticity','Cloud mixing ratio','Cloud Ice','Rain mixing ratio','Snow mixing ratio',\n",
      "        'Graupel (snow pellets)']\n",
      "\n",
      "wkdir = os.getcwd()\n",
      "\n",
      "directory = wkdir[:]\n",
      "\n",
      "while \"HRRR\" in directory:\n",
      "    os.chdir(os.path.abspath('..'))\n",
      "    directory = os.getcwd()\n",
      "\n",
      "dirpath = os.path.abspath(\"HRRR\")\n",
      "\n",
      "dirpath2 = dirpath+'/functions/'\n",
      "    \n",
      "filenames = os.listdir(dirpath2)\n",
      "    \n",
      "for name in filenames:\n",
      "    execfile(dirpath2+'/'+name)\n",
      "\n",
      "os.chdir(wkdir)\n"
     ],
     "language": "python",
     "metadata": {},
     "outputs": [],
     "prompt_number": 128
    },
    {
     "cell_type": "code",
     "collapsed": false,
     "input": [
      "x = np.ndarray((2,3,4))"
     ],
     "language": "python",
     "metadata": {},
     "outputs": [],
     "prompt_number": 3
    },
    {
     "cell_type": "code",
     "collapsed": false,
     "input": [
      "x"
     ],
     "language": "python",
     "metadata": {},
     "outputs": [
      {
       "metadata": {},
       "output_type": "pyout",
       "prompt_number": 4,
       "text": [
        "array([[[ -0.00000000e+000,  -0.00000000e+000,   6.42285340e-323,\n",
        "           0.00000000e+000],\n",
        "        [  0.00000000e+000,   2.14027814e+161,   5.04621383e+180,\n",
        "           4.50618615e-144],\n",
        "        [  1.16071308e-028,   2.52046959e-071,   8.36419500e-062,\n",
        "           7.40157223e-033]],\n",
        "\n",
        "       [[  1.45440522e+006,   3.83819517e+151,   1.47721841e+179,\n",
        "           8.37404147e+242],\n",
        "        [  4.31999013e-096,   9.08366793e+223,   8.68090653e+010,\n",
        "           7.09576021e-057],\n",
        "        [  8.25481890e-067,   3.51953079e-033,   2.65532959e-312,\n",
        "           2.13640193e-314]]])"
       ]
      }
     ],
     "prompt_number": 4
    },
    {
     "cell_type": "code",
     "collapsed": false,
     "input": [
      "x.shape"
     ],
     "language": "python",
     "metadata": {},
     "outputs": [
      {
       "metadata": {},
       "output_type": "pyout",
       "prompt_number": 8,
       "text": [
        "(2, 3, 4)"
       ]
      }
     ],
     "prompt_number": 8
    },
    {
     "cell_type": "code",
     "collapsed": false,
     "input": [
      "newx = x.transpose()"
     ],
     "language": "python",
     "metadata": {},
     "outputs": [],
     "prompt_number": 9
    },
    {
     "cell_type": "code",
     "collapsed": false,
     "input": [
      "newx.shape"
     ],
     "language": "python",
     "metadata": {},
     "outputs": [
      {
       "metadata": {},
       "output_type": "pyout",
       "prompt_number": 7,
       "text": [
        "(4, 3, 2)"
       ]
      }
     ],
     "prompt_number": 7
    },
    {
     "cell_type": "code",
     "collapsed": false,
     "input": [
      "newx"
     ],
     "language": "python",
     "metadata": {},
     "outputs": [
      {
       "metadata": {},
       "output_type": "pyout",
       "prompt_number": 10,
       "text": [
        "array([[[ -0.00000000e+000,   1.45440522e+006],\n",
        "        [  0.00000000e+000,   4.31999013e-096],\n",
        "        [  1.16071308e-028,   8.25481890e-067]],\n",
        "\n",
        "       [[ -0.00000000e+000,   3.83819517e+151],\n",
        "        [  2.14027814e+161,   9.08366793e+223],\n",
        "        [  2.52046959e-071,   3.51953079e-033]],\n",
        "\n",
        "       [[  6.42285340e-323,   1.47721841e+179],\n",
        "        [  5.04621383e+180,   8.68090653e+010],\n",
        "        [  8.36419500e-062,   2.65532959e-312]],\n",
        "\n",
        "       [[  0.00000000e+000,   8.37404147e+242],\n",
        "        [  4.50618615e-144,   7.09576021e-057],\n",
        "        [  7.40157223e-033,   2.13640193e-314]]])"
       ]
      }
     ],
     "prompt_number": 10
    },
    {
     "cell_type": "code",
     "collapsed": false,
     "input": [
      "newx.max(axis=0)"
     ],
     "language": "python",
     "metadata": {},
     "outputs": [
      {
       "metadata": {},
       "output_type": "pyout",
       "prompt_number": 11,
       "text": [
        "array([[  6.42285340e-323,   8.37404147e+242],\n",
        "       [  5.04621383e+180,   9.08366793e+223],\n",
        "       [  1.16071308e-028,   3.51953079e-033]])"
       ]
      }
     ],
     "prompt_number": 11
    },
    {
     "cell_type": "code",
     "collapsed": false,
     "input": [
      "coord = (1000,1000)"
     ],
     "language": "python",
     "metadata": {},
     "outputs": [],
     "prompt_number": 12
    },
    {
     "cell_type": "code",
     "collapsed": false,
     "input": [
      "directory = '/Users/mattjohnson/HRRRs'\n",
      "filename = 'hrrr.3d.201405291000f001.grib2'\n",
      "parameter = 'Relative humidity'"
     ],
     "language": "python",
     "metadata": {},
     "outputs": [],
     "prompt_number": 129
    },
    {
     "cell_type": "code",
     "collapsed": false,
     "input": [
      "loc = (info[3][0][1000][1000],info[3][1][1000][1000])"
     ],
     "language": "python",
     "metadata": {},
     "outputs": [],
     "prompt_number": 130
    },
    {
     "cell_type": "code",
     "collapsed": false,
     "input": [
      "info[3][0][1000]"
     ],
     "language": "python",
     "metadata": {},
     "outputs": [
      {
       "metadata": {},
       "output_type": "pyout",
       "prompt_number": 124,
       "text": [
        "array([ 46.4245901 ,  46.43470309,  46.44480616, ...,  46.43794837,\n",
        "        46.42783857,  46.41771885])"
       ]
      }
     ],
     "prompt_number": 124
    },
    {
     "cell_type": "code",
     "collapsed": false,
     "input": [
      "info = pyhrrr.read_hrrr(filename = filename, parameters = [parameter],directory = directory)"
     ],
     "language": "python",
     "metadata": {},
     "outputs": [],
     "prompt_number": 15
    },
    {
     "cell_type": "code",
     "collapsed": false,
     "input": [
      "infospec = read_hrrr_spec(filename = filename, parameters = [parameter], directory = directory, loc = loc)"
     ],
     "language": "python",
     "metadata": {},
     "outputs": [
      {
       "output_type": "stream",
       "stream": "stdout",
       "text": [
        "(51.050423960115616, -93.257820553637202)\n",
        "(1059, 1799)"
       ]
      },
      {
       "output_type": "stream",
       "stream": "stdout",
       "text": [
        "\n",
        "1800000\n",
        "[1000, 1000]\n",
        "(51.050423960115616, -93.257820553637202)\n"
       ]
      }
     ],
     "prompt_number": 131
    },
    {
     "cell_type": "code",
     "collapsed": false,
     "input": [
      "1799000/1799"
     ],
     "language": "python",
     "metadata": {},
     "outputs": [
      {
       "metadata": {},
       "output_type": "pyout",
       "prompt_number": 115,
       "text": [
        "1000"
       ]
      }
     ],
     "prompt_number": 115
    },
    {
     "cell_type": "code",
     "collapsed": false,
     "input": [
      "dataspec = infospec[0]"
     ],
     "language": "python",
     "metadata": {},
     "outputs": [],
     "prompt_number": 132
    },
    {
     "cell_type": "code",
     "collapsed": false,
     "input": [
      "dataspec"
     ],
     "language": "python",
     "metadata": {},
     "outputs": [
      {
       "metadata": {},
       "output_type": "pyout",
       "prompt_number": 133,
       "text": [
        "[array([ 74.40049744,  74.40080261,  75.40138245,  51.52727509,\n",
        "         47.42353821,  55.01119995,  63.32777786,  65.69420624,\n",
        "         52.82871628,  27.1698494 ,  21.98659134,  21.31755066,\n",
        "         22.10573387,  21.80498123,  23.3934288 ,  26.14421272,\n",
        "         27.78022957,  28.71423912,  26.98690605,  25.21305084,\n",
        "         24.12385941,  26.79260826,  34.06325912,  43.79795837,\n",
        "         52.79910278,  57.07086182,  52.80060196,  52.78246689,\n",
        "         58.8609314 ,  64.75738525,  68.68942261,  65.03572083,\n",
        "         55.86943436,  39.74555206,  37.31772614,   9.40450859,\n",
        "          5.30659676,   4.6155653 ,   1.92176533,   1.17126632])]"
       ]
      }
     ],
     "prompt_number": 133
    },
    {
     "cell_type": "code",
     "collapsed": false,
     "input": [
      "data = info[0]"
     ],
     "language": "python",
     "metadata": {},
     "outputs": [],
     "prompt_number": 74
    },
    {
     "cell_type": "code",
     "collapsed": false,
     "input": [
      "data = data[0]"
     ],
     "language": "python",
     "metadata": {},
     "outputs": [],
     "prompt_number": 75
    },
    {
     "cell_type": "code",
     "collapsed": false,
     "input": [
      "data.shape"
     ],
     "language": "python",
     "metadata": {},
     "outputs": [
      {
       "metadata": {},
       "output_type": "pyout",
       "prompt_number": 76,
       "text": [
        "(40, 1059, 1799)"
       ]
      }
     ],
     "prompt_number": 76
    },
    {
     "cell_type": "code",
     "collapsed": false,
     "input": [
      "data.T[1000][1000][:]"
     ],
     "language": "python",
     "metadata": {},
     "outputs": [
      {
       "metadata": {},
       "output_type": "pyout",
       "prompt_number": 77,
       "text": [
        "array([ 74.40049744,  74.40080261,  75.40138245,  51.52727509,\n",
        "        47.42353821,  55.01119995,  63.32777786,  65.69420624,\n",
        "        52.82871628,  27.1698494 ,  21.98659134,  21.31755066,\n",
        "        22.10573387,  21.80498123,  23.3934288 ,  26.14421272,\n",
        "        27.78022957,  28.71423912,  26.98690605,  25.21305084,\n",
        "        24.12385941,  26.79260826,  34.06325912,  43.79795837,\n",
        "        52.79910278,  57.07086182,  52.80060196,  52.78246689,\n",
        "        58.8609314 ,  64.75738525,  68.68942261,  65.03572083,\n",
        "        55.86943436,  39.74555206,  37.31772614,   9.40450859,\n",
        "         5.30659676,   4.6155653 ,   1.92176533,   1.17126632])"
       ]
      }
     ],
     "prompt_number": 77
    },
    {
     "cell_type": "code",
     "collapsed": false,
     "input": [
      "infospec2 = read_hrrr_spec(filename = filename, parameters = [parameter], directory = directory, coords = (1000,1000))"
     ],
     "language": "python",
     "metadata": {},
     "outputs": [],
     "prompt_number": 82
    },
    {
     "cell_type": "code",
     "collapsed": false,
     "input": [
      "dataspec2 = infospec2[0]"
     ],
     "language": "python",
     "metadata": {},
     "outputs": [],
     "prompt_number": 83
    },
    {
     "cell_type": "code",
     "collapsed": false,
     "input": [
      "dataspec2"
     ],
     "language": "python",
     "metadata": {},
     "outputs": [
      {
       "metadata": {},
       "output_type": "pyout",
       "prompt_number": 84,
       "text": [
        "[array([ 74.40049744,  74.40080261,  75.40138245,  51.52727509,\n",
        "         47.42353821,  55.01119995,  63.32777786,  65.69420624,\n",
        "         52.82871628,  27.1698494 ,  21.98659134,  21.31755066,\n",
        "         22.10573387,  21.80498123,  23.3934288 ,  26.14421272,\n",
        "         27.78022957,  28.71423912,  26.98690605,  25.21305084,\n",
        "         24.12385941,  26.79260826,  34.06325912,  43.79795837,\n",
        "         52.79910278,  57.07086182,  52.80060196,  52.78246689,\n",
        "         58.8609314 ,  64.75738525,  68.68942261,  65.03572083,\n",
        "         55.86943436,  39.74555206,  37.31772614,   9.40450859,\n",
        "          5.30659676,   4.6155653 ,   1.92176533,   1.17126632])]"
       ]
      }
     ],
     "prompt_number": 84
    },
    {
     "cell_type": "code",
     "collapsed": false,
     "input": [],
     "language": "python",
     "metadata": {},
     "outputs": []
    }
   ],
   "metadata": {}
  }
 ]
}