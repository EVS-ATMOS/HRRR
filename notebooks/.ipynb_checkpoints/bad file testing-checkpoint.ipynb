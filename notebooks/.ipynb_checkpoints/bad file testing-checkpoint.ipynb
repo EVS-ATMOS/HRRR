{
 "metadata": {
  "name": "",
  "signature": "sha256:26066d642162fd224d00b44071d2bbf0375afe7b1424d8965f43b323b02779e8"
 },
 "nbformat": 3,
 "nbformat_minor": 0,
 "worksheets": [
  {
   "cells": [
    {
     "cell_type": "code",
     "collapsed": false,
     "input": [
      "'hrrr.3d.201403301400f001.grib2'"
     ],
     "language": "python",
     "metadata": {},
     "outputs": []
    }
   ],
   "metadata": {}
  }
 ]
}