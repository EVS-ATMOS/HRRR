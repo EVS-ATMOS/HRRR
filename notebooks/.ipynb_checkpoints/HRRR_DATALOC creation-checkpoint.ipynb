{
 "metadata": {
  "name": "",
  "signature": "sha256:9b366eae7866320a106852332c854911a9f2dd6ec3b79de07f81ab01d9acd235"
 },
 "nbformat": 3,
 "nbformat_minor": 0,
 "worksheets": [
  {
   "cells": [
    {
     "cell_type": "code",
     "collapsed": false,
     "input": [
      "directory = '/Users/mattjohnson/HRRRs'"
     ],
     "language": "python",
     "metadata": {},
     "outputs": [],
     "prompt_number": 15
    },
    {
     "cell_type": "code",
     "collapsed": false,
     "input": [
      "filename = 'hrrr.3d.201405291000f001.grib2'"
     ],
     "language": "python",
     "metadata": {},
     "outputs": [],
     "prompt_number": 16
    },
    {
     "cell_type": "code",
     "collapsed": false,
     "input": [
      "import pyhrrr\n",
      "import json"
     ],
     "language": "python",
     "metadata": {},
     "outputs": [],
     "prompt_number": 17
    },
    {
     "cell_type": "code",
     "collapsed": false,
     "input": [],
     "language": "python",
     "metadata": {},
     "outputs": [],
     "prompt_number": 17
    },
    {
     "cell_type": "code",
     "collapsed": false,
     "input": [
      "[data,parameterlist,datah,dataloc,units] = pyhrrr.read_hrrr(filename, parameters = ['Cloud mixing ratio'],directory = directory,max = False)"
     ],
     "language": "python",
     "metadata": {},
     "outputs": [
      {
       "ename": "IOError",
       "evalue": "[Errno could not open %s] hrrr.3d.201405291000f001.grib2",
       "output_type": "pyerr",
       "traceback": [
        "\u001b[0;31m---------------------------------------------------------------------------\u001b[0m\n\u001b[0;31mIOError\u001b[0m                                   Traceback (most recent call last)",
        "\u001b[0;32m<ipython-input-18-7877d494979b>\u001b[0m in \u001b[0;36m<module>\u001b[0;34m()\u001b[0m\n\u001b[0;32m----> 1\u001b[0;31m \u001b[0;34m[\u001b[0m\u001b[0mdata\u001b[0m\u001b[0;34m,\u001b[0m\u001b[0mparameterlist\u001b[0m\u001b[0;34m,\u001b[0m\u001b[0mdatah\u001b[0m\u001b[0;34m,\u001b[0m\u001b[0mdataloc\u001b[0m\u001b[0;34m,\u001b[0m\u001b[0munits\u001b[0m\u001b[0;34m]\u001b[0m \u001b[0;34m=\u001b[0m \u001b[0mpyhrrr\u001b[0m\u001b[0;34m.\u001b[0m\u001b[0mread_hrrr\u001b[0m\u001b[0;34m(\u001b[0m\u001b[0mfilename\u001b[0m\u001b[0;34m,\u001b[0m \u001b[0mparameters\u001b[0m \u001b[0;34m=\u001b[0m \u001b[0;34m[\u001b[0m\u001b[0;34m'Cloud mixing ratio'\u001b[0m\u001b[0;34m]\u001b[0m\u001b[0;34m,\u001b[0m\u001b[0mdirectory\u001b[0m \u001b[0;34m=\u001b[0m \u001b[0mdirectory\u001b[0m\u001b[0;34m,\u001b[0m\u001b[0mmax\u001b[0m \u001b[0;34m=\u001b[0m \u001b[0mFalse\u001b[0m\u001b[0;34m)\u001b[0m\u001b[0;34m\u001b[0m\u001b[0m\n\u001b[0m",
        "\u001b[0;32m/Users/mattjohnson/HRRR/pyhrrr.pyc\u001b[0m in \u001b[0;36mread_hrrr\u001b[0;34m(filename, parameters, directory, max)\u001b[0m\n\u001b[1;32m     38\u001b[0m         \u001b[0mos\u001b[0m\u001b[0;34m.\u001b[0m\u001b[0mchdir\u001b[0m\u001b[0;34m(\u001b[0m\u001b[0mdirectory\u001b[0m\u001b[0;34m)\u001b[0m\u001b[0;34m\u001b[0m\u001b[0m\n\u001b[1;32m     39\u001b[0m \u001b[0;34m\u001b[0m\u001b[0m\n\u001b[0;32m---> 40\u001b[0;31m     \u001b[0mmyfile\u001b[0m \u001b[0;34m=\u001b[0m \u001b[0mpygrib\u001b[0m\u001b[0;34m.\u001b[0m\u001b[0mopen\u001b[0m\u001b[0;34m(\u001b[0m\u001b[0mfilename\u001b[0m\u001b[0;34m)\u001b[0m\u001b[0;34m\u001b[0m\u001b[0m\n\u001b[0m\u001b[1;32m     41\u001b[0m     parameterlist = ['Geopotential Height','Temperature','Relative humidity','Dew point temperature',\n\u001b[1;32m     42\u001b[0m         \u001b[0;34m'Specific humidity'\u001b[0m\u001b[0;34m,\u001b[0m\u001b[0;34m'Vertical velocity'\u001b[0m\u001b[0;34m,\u001b[0m\u001b[0;34m'U component of wind'\u001b[0m\u001b[0;34m,\u001b[0m\u001b[0;34m'V component of wind'\u001b[0m\u001b[0;34m,\u001b[0m\u001b[0;34m\u001b[0m\u001b[0m\n",
        "\u001b[0;32m/Users/mattjohnson/anaconda/lib/python2.7/site-packages/pygrib.so\u001b[0m in \u001b[0;36mpygrib.open.__cinit__ (pygrib.c:2736)\u001b[0;34m()\u001b[0m\n",
        "\u001b[0;31mIOError\u001b[0m: [Errno could not open %s] hrrr.3d.201405291000f001.grib2"
       ]
      }
     ],
     "prompt_number": 18
    },
    {
     "cell_type": "code",
     "collapsed": false,
     "input": [
      "dataloc"
     ],
     "language": "python",
     "metadata": {},
     "outputs": [
      {
       "metadata": {},
       "output_type": "pyout",
       "prompt_number": 7,
       "text": [
        "array([[[  21.138     ,   21.14499128,   21.15197559, ...,   21.14723478,\n",
        "           21.14024574,   21.13324972],\n",
        "        [  21.16288622,   21.16988038,   21.17686756, ...,   21.1721248 ,\n",
        "           21.16513288,   21.15813398],\n",
        "        [  21.1877749 ,   21.19477194,   21.201762  , ...,   21.19701728,\n",
        "           21.19002248,   21.1830207 ],\n",
        "        ..., \n",
        "        [  47.80467269,   47.81497075,   47.82525873, ...,   47.81827543,\n",
        "           47.80798061,   47.79767571],\n",
        "        [  47.82921879,   47.83952016,   47.84981145, ...,   47.84282591,\n",
        "           47.83252777,   47.82221956],\n",
        "        [  47.85376132,   47.864066  ,   47.8743606 , ...,   47.86737281,\n",
        "           47.85707136,   47.84675984]],\n",
        "\n",
        "       [[-122.72      , -122.69331765, -122.66663096, ...,  -72.31525125,\n",
        "          -72.28856751,  -72.26188812],\n",
        "        [-122.72750154, -122.70081207, -122.67411825, ...,  -72.30775913,\n",
        "          -72.28106826,  -72.25438174],\n",
        "        [-122.73500744, -122.70831083, -122.68160988, ...,  -72.30026265,\n",
        "          -72.27356465,  -72.24687101],\n",
        "        ..., \n",
        "        [-134.07501103, -134.03845686, -134.00189051, ...,  -60.97328366,\n",
        "          -60.93672558,  -60.90017968],\n",
        "        [-134.09035687, -134.05379073, -134.0172124 , ...,  -60.95795363,\n",
        "          -60.92138358,  -60.88482572],\n",
        "        [-134.1057149 , -134.06913679, -134.03254648, ...,  -60.94261142,\n",
        "          -60.90602939,  -60.86945957]]])"
       ]
      }
     ],
     "prompt_number": 7
    },
    {
     "cell_type": "code",
     "collapsed": false,
     "input": [
      "cd /Users/mattjohnson/HRRR"
     ],
     "language": "python",
     "metadata": {},
     "outputs": []
    },
    {
     "cell_type": "code",
     "collapsed": false,
     "input": [
      "f = open('dataloc.json', 'w')"
     ],
     "language": "python",
     "metadata": {},
     "outputs": [],
     "prompt_number": 13
    },
    {
     "cell_type": "code",
     "collapsed": false,
     "input": [
      "json.dump(dataloc.tolist(), f)"
     ],
     "language": "python",
     "metadata": {},
     "outputs": [],
     "prompt_number": 14
    },
    {
     "cell_type": "code",
     "collapsed": false,
     "input": [],
     "language": "python",
     "metadata": {},
     "outputs": []
    }
   ],
   "metadata": {}
  }
 ]
}