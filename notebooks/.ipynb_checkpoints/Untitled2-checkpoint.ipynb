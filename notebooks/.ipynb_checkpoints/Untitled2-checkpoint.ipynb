{
 "metadata": {
  "name": "",
  "signature": "sha256:702deb92d0b36d743a574f145239bb8b21bc638c64fe8d165930d6dd5ef76d99"
 },
 "nbformat": 3,
 "nbformat_minor": 0,
 "worksheets": [
  {
   "cells": [
    {
     "cell_type": "code",
     "collapsed": false,
     "input": [
      "import pyhrrr\n",
      "import datetime"
     ],
     "language": "python",
     "metadata": {},
     "outputs": [],
     "prompt_number": 3
    },
    {
     "cell_type": "code",
     "collapsed": false,
     "input": [
      "date = datetime.datetime(2014,5,27,0)"
     ],
     "language": "python",
     "metadata": {},
     "outputs": [],
     "prompt_number": 4
    },
    {
     "cell_type": "code",
     "collapsed": false,
     "input": [
      "pyhrrr.produce_hrrr_grib2strings([date],[[1]])"
     ],
     "language": "python",
     "metadata": {},
     "outputs": []
    }
   ],
   "metadata": {}
  }
 ]
}