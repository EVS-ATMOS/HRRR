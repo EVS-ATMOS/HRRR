{
 "metadata": {
  "name": "",
  "signature": "sha256:79c487a383682b92e7896c0c456e9c614aade8443c00b853bb11e5ade45d958c"
 },
 "nbformat": 3,
 "nbformat_minor": 0,
 "worksheets": [
  {
   "cells": [
    {
     "cell_type": "code",
     "collapsed": false,
     "input": [
      "radar_directory = '/home/mjohnson/python/radar_txt'\n",
      "hrrr_directory = '/home/mjohnson/python/hrrr_txt'"
     ],
     "language": "python",
     "metadata": {},
     "outputs": [],
     "prompt_number": 1
    },
    {
     "cell_type": "code",
     "collapsed": false,
     "input": [
      "import datetime\n",
      "import pyhrrr\n",
      "import json\n",
      "import os\n",
      "import matplotlib.dates\n",
      "import matplotlib.pyplot as plt\n",
      "import numpy as np\n",
      "%matplotlib inline"
     ],
     "language": "python",
     "metadata": {},
     "outputs": [],
     "prompt_number": 13
    },
    {
     "cell_type": "code",
     "collapsed": false,
     "input": [
      "date = datetime.datetime(2014,4,19) #change for date"
     ],
     "language": "python",
     "metadata": {},
     "outputs": [],
     "prompt_number": 14
    },
    {
     "cell_type": "code",
     "collapsed": false,
     "input": [
      "radar_string = pyhrrr.produce_radar_txt_string(date)\n",
      "hrrr_string = pyhrrr.produce_hrrr_txt_string(date,filenum = 24,hour = 1,loc=[36.605, -97.485], indexes = None,modelhours = False)"
     ],
     "language": "python",
     "metadata": {},
     "outputs": [],
     "prompt_number": 15
    },
    {
     "cell_type": "code",
     "collapsed": false,
     "input": [
      "wkdir = os.getcwd()\n",
      "os.chdir(hrrr_directory)\n",
      "hrrrf = open(hrrr_string,'r')\n",
      "hrrr = json.load(hrrrf)\n",
      "os.chdir(radar_directory)\n",
      "radarf = open(radar_string,'r')\n",
      "radar = json.load(radarf)"
     ],
     "language": "python",
     "metadata": {},
     "outputs": [],
     "prompt_number": 16
    },
    {
     "cell_type": "code",
     "collapsed": false,
     "input": [
      "ind = hrrr[2].index('Cloud mixing ratio') #change for parameter\n",
      "hrrr_data = hrrr[0]\n",
      "hrrr_data = np.array(hrrr_data)\n",
      "hrrr_c = hrrr_data[:,ind]"
     ],
     "language": "python",
     "metadata": {},
     "outputs": [],
     "prompt_number": 17
    },
    {
     "cell_type": "code",
     "collapsed": false,
     "input": [
      "pyhrrr.plot_hrrr_dayfromtxt(hrrr_c,final_unit = 'kg/kg**-1',date = None,loc = None,ps = pyhrrr.HRRR_PS, hour=1, scaling = 1,figsize = [15,8])"
     ],
     "language": "python",
     "metadata": {},
     "outputs": []
    }
   ],
   "metadata": {}
  }
 ]
}