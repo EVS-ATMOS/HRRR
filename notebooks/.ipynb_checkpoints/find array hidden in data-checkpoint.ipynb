{
 "metadata": {
  "name": "",
  "signature": "sha256:6454e3e0f46c3266122808959ed2e3a25bac0ed85f45106eb234cc518c2c6066"
 },
 "nbformat": 3,
 "nbformat_minor": 0,
 "worksheets": [
  {
   "cells": [
    {
     "cell_type": "code",
     "collapsed": false,
     "input": [
      "directory = '/Users/mattjohnson/HRRRs'\n",
      "filename = 'hrrr.3d.201405291000f001.grib2'\n",
      "import datetime\n",
      "import pyhrrr\n",
      "[data,parameterlist,datah,loc,indexes,units] = pyhrrr.read_hrrr_spec(filename = filename, directory = directory)"
     ],
     "language": "python",
     "metadata": {},
     "outputs": [],
     "prompt_number": 4
    },
    {
     "cell_type": "code",
     "collapsed": false,
     "input": [
      "\n"
     ],
     "language": "python",
     "metadata": {},
     "outputs": [],
     "prompt_number": 10
    },
    {
     "cell_type": "code",
     "collapsed": false,
     "input": [],
     "language": "python",
     "metadata": {},
     "outputs": [
      {
       "metadata": {},
       "output_type": "pyout",
       "prompt_number": 9,
       "text": [
        "(40,)"
       ]
      }
     ],
     "prompt_number": 9
    },
    {
     "cell_type": "code",
     "collapsed": false,
     "input": [],
     "language": "python",
     "metadata": {},
     "outputs": []
    }
   ],
   "metadata": {}
  }
 ]
}