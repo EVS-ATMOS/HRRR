{
 "metadata": {
  "name": "",
  "signature": "sha256:838a88b5c08a20d161fcae26b1066af38015c2a08ba80858dc769dc07a310d22"
 },
 "nbformat": 3,
 "nbformat_minor": 0,
 "worksheets": [
  {
   "cells": [
    {
     "cell_type": "code",
     "collapsed": false,
     "input": [
      "\"\"\"\n",
      "Created on Wed Jul  2 11:49:54 2014\n",
      "\n",
      "@author: mattjohnson\n",
      "\"\"\"\n",
      "\"\"\"\n",
      "Note works with special developer python only\n",
      "\"\"\"\n",
      "def plot_skewt(p,h,T,Td):\n",
      "    \"\"\"\n",
      "    this segment adapted from jhelmus\n",
      "    \"\"\"\n",
      "    # This serves as an intensive exercise of matplotlib's transforms\n",
      "    # and custom projection API. This example produces a so-called\n",
      "    # SkewT-logP diagram, which is a common plot in meteorology for\n",
      "    # displaying vertical profiles of temperature. As far as matplotlib is\n",
      "    # concerned, the complexity comes from having X and Y axes that are\n",
      "    # not orthogonal. This is handled by including a skew component to the\n",
      "    # basic Axes transforms. Additional complexity comes in handling the\n",
      "    # fact that the upper and lower X-axes have different data ranges, which\n",
      "    # necessitates a bunch of custom classes for ticks,spines, and the axis\n",
      "    # to handle this.\n",
      "    \n",
      "    from matplotlib.axes import Axes\n",
      "    import matplotlib.transforms as transforms\n",
      "    import matplotlib.axis as maxis\n",
      "    import matplotlib.spines as mspines\n",
      "    import matplotlib.path as mpath\n",
      "    from matplotlib.projections import register_projection\n",
      "    \n",
      "    # The sole purpose of this class is to look at the upper, lower, or total\n",
      "    # interval as appropriate and see what parts of the tick to draw, if any.\n",
      "    class SkewXTick(maxis.XTick):\n",
      "        def draw(self, renderer):\n",
      "            if not self.get_visible(): return\n",
      "            renderer.open_group(self.__name__)\n",
      "    \n",
      "            lower_interval = self.axes.xaxis.lower_interval\n",
      "            upper_interval = self.axes.xaxis.upper_interval\n",
      "    \n",
      "            if self.gridOn and transforms.interval_contains(\n",
      "                    self.axes.xaxis.get_view_interval(), self.get_loc()):\n",
      "                self.gridline.draw(renderer)\n",
      "    \n",
      "            if transforms.interval_contains(lower_interval, self.get_loc()):\n",
      "                if self.tick1On:\n",
      "                    self.tick1line.draw(renderer)\n",
      "                if self.label1On:\n",
      "                    self.label1.draw(renderer)\n",
      "    \n",
      "            if transforms.interval_contains(upper_interval, self.get_loc()):\n",
      "                if self.tick2On:\n",
      "                    self.tick2line.draw(renderer)\n",
      "                if self.label2On:\n",
      "                    self.label2.draw(renderer)\n",
      "    \n",
      "            renderer.close_group(self.__name__)\n",
      "    \n",
      "    \n",
      "    # This class exists to provide two separate sets of intervals to the tick,\n",
      "    # as well as create instances of the custom tick\n",
      "    class SkewXAxis(maxis.XAxis):\n",
      "        def __init__(self, *args, **kwargs):\n",
      "            maxis.XAxis.__init__(self, *args, **kwargs)\n",
      "            self.upper_interval = 0.0, 1.0\n",
      "    \n",
      "        def _get_tick(self, major):\n",
      "            return SkewXTick(self.axes, 0, '', major=major)\n",
      "    \n",
      "        @property\n",
      "        def lower_interval(self):\n",
      "            return self.axes.viewLim.intervalx\n",
      "    \n",
      "        def get_view_interval(self):\n",
      "            return self.upper_interval[0], self.axes.viewLim.intervalx[1]\n",
      "    \n",
      "    \n",
      "    # This class exists to calculate the separate data range of the\n",
      "    # upper X-axis and draw the spine there. It also provides this range\n",
      "    # to the X-axis artist for ticking and gridlines\n",
      "    class SkewSpine(mspines.Spine):\n",
      "        def _adjust_location(self):\n",
      "            trans = self.axes.transDataToAxes.inverted()\n",
      "            if self.spine_type == 'top':\n",
      "                yloc = 1.0\n",
      "            else:\n",
      "                yloc = 0.0\n",
      "            left = trans.transform_point((0.0, yloc))[0]\n",
      "            right = trans.transform_point((1.0, yloc))[0]\n",
      "    \n",
      "            pts  = self._path.vertices\n",
      "            pts[0, 0] = left\n",
      "            pts[1, 0] = right\n",
      "            self.axis.upper_interval = (left, right)\n",
      "    \n",
      "    \n",
      "    # This class handles registration of the skew-xaxes as a projection as well\n",
      "    # as setting up the appropriate transformations. It also overrides standard\n",
      "    # spines and axes instances as appropriate.\n",
      "    class SkewXAxes(Axes):\n",
      "        # The projection must specify a name.  This will be used be the\n",
      "        # user to select the projection, i.e. ``subplot(111,\n",
      "        # projection='skewx')``.\n",
      "        name = 'skewx'\n",
      "    \n",
      "        def _init_axis(self):\n",
      "            #Taken from Axes and modified to use our modified X-axis\n",
      "            self.xaxis = SkewXAxis(self)\n",
      "            self.spines['top'].register_axis(self.xaxis)\n",
      "            self.spines['bottom'].register_axis(self.xaxis)\n",
      "            self.yaxis = maxis.YAxis(self)\n",
      "            self.spines['left'].register_axis(self.yaxis)\n",
      "            self.spines['right'].register_axis(self.yaxis)\n",
      "    \n",
      "        def _gen_axes_spines(self):\n",
      "            spines = {'top':SkewSpine.linear_spine(self, 'top'),\n",
      "                      'bottom':mspines.Spine.linear_spine(self, 'bottom'),\n",
      "                      'left':mspines.Spine.linear_spine(self, 'left'),\n",
      "                      'right':mspines.Spine.linear_spine(self, 'right')}\n",
      "            return spines\n",
      "    \n",
      "        def _set_lim_and_transforms(self):\n",
      "            \"\"\"\n",
      "            This is called once when the plot is created to set up all the\n",
      "            transforms for the data, text and grids.\n",
      "            \"\"\"\n",
      "            rot = 30\n",
      "    \n",
      "            #Get the standard transform setup from the Axes base class\n",
      "            Axes._set_lim_and_transforms(self)\n",
      "    \n",
      "            # Need to put the skew in the middle, after the scale and limits,\n",
      "            # but before the transAxes. This way, the skew is done in Axes\n",
      "            # coordinates thus performing the transform around the proper origin\n",
      "            # We keep the pre-transAxes transform around for other users, like the\n",
      "            # spines for finding bounds\n",
      "            self.transDataToAxes = self.transScale + (self.transLimits +\n",
      "                    transforms.Affine2D().skew_deg(rot, 0))\n",
      "    \n",
      "            # Create the full transform from Data to Pixels\n",
      "            self.transData = self.transDataToAxes + self.transAxes\n",
      "    \n",
      "            # Blended transforms like this need to have the skewing applied using\n",
      "            # both axes, in axes coords like before.\n",
      "            self._xaxis_transform = (transforms.blended_transform_factory(\n",
      "                        self.transScale + self.transLimits,\n",
      "                        transforms.IdentityTransform()) +\n",
      "                    transforms.Affine2D().skew_deg(rot, 0)) + self.transAxes\n",
      "    \n",
      "    # Now register the projection with matplotlib so the user can select\n",
      "    # it.\n",
      "    register_projection(SkewXAxes)\n",
      "    \n",
      "    if __name__ == '__main__':\n",
      "        # Now make a simple example using the custom projection.\n",
      "        from matplotlib.ticker import ScalarFormatter, MultipleLocator\n",
      "        from matplotlib.collections import LineCollection\n",
      "        import matplotlib.pyplot as plt\n",
      "        from StringIO import StringIO\n",
      "        import numpy as np\n",
      "        \n",
      "        # Create a new figure. The dimensions here give a good aspect ratio\n",
      "        fig = plt.figure(figsize=(6.5875, 6.2125))\n",
      "        ax = fig.add_subplot(111, projection='skewx')\n",
      "    \n",
      "        plt.grid(True)\n",
      "    \n",
      "        # Plot the data using normal plotting functions, in this case using\n",
      "        # log scaling in Y, as dicatated by the typical meteorological plot\n",
      "        ax.semilogy(T, p, 'r')\n",
      "        ax.semilogy(Td, p, 'g')\n",
      "    \n",
      "        # An example of a slanted line at constant X\n",
      "        l = ax.axvline(0, color='b')\n",
      "    \n",
      "        # Disables the log-formatting that comes with semilogy\n",
      "        ax.yaxis.set_major_formatter(ScalarFormatter())\n",
      "        ax.set_yticks(np.linspace(100,1000,10))\n",
      "        ax.set_ylim(1050,100)\n",
      "    \n",
      "        ax.xaxis.set_major_locator(MultipleLocator(10))\n",
      "        ax.set_xlim(-50,50)\n",
      "    \n",
      "        plt.show()"
     ],
     "language": "python",
     "metadata": {},
     "outputs": [],
     "prompt_number": 67
    },
    {
     "cell_type": "code",
     "collapsed": false,
     "input": [
      "import pyhrrr"
     ],
     "language": "python",
     "metadata": {},
     "outputs": [],
     "prompt_number": 68
    },
    {
     "cell_type": "code",
     "collapsed": false,
     "input": [
      "import numpy as np\n",
      "from scipy.io import netcdf\n",
      "\n",
      "#Read in balloon sounding\n",
      "sounding = '/data/san_store/soundings/sgp/mckercherg1/159821/sgpsondewnpnC1.b1.20140527.172800.cdf'\n",
      "s = netcdf.netcdf_file(sounding, 'r')"
     ],
     "language": "python",
     "metadata": {},
     "outputs": [],
     "prompt_number": 69
    },
    {
     "cell_type": "code",
     "collapsed": false,
     "input": [
      "data = pyhrrr.read_hrrr_spec(filename = 'hrrr.3d.201405271600f001.grib2', parameters = ['Temperature','Dew point temperature'],\n",
      "               directory = '/data/san_store/HRRR',loc = [36.605,-97.485], no_txt = True, \n",
      "               coords=None, max = False)"
     ],
     "language": "python",
     "metadata": {},
     "outputs": [
      {
       "ename": "KeyboardInterrupt",
       "evalue": "",
       "output_type": "pyerr",
       "traceback": [
        "\u001b[1;31m---------------------------------------------------------------------------\u001b[0m\n\u001b[1;31mKeyboardInterrupt\u001b[0m                         Traceback (most recent call last)",
        "\u001b[1;32m<ipython-input-75-037ba0e6fff2>\u001b[0m in \u001b[0;36m<module>\u001b[1;34m()\u001b[0m\n\u001b[0;32m      1\u001b[0m data = pyhrrr.read_hrrr_spec(filename = 'hrrr.3d.201405271600f001.grib2', parameters = ['Temperature','Dew point temperature'],\n\u001b[0;32m      2\u001b[0m                \u001b[0mdirectory\u001b[0m \u001b[1;33m=\u001b[0m \u001b[1;34m'/data/san_store/HRRR'\u001b[0m\u001b[1;33m,\u001b[0m\u001b[0mloc\u001b[0m \u001b[1;33m=\u001b[0m \u001b[1;33m[\u001b[0m\u001b[1;36m36.605\u001b[0m\u001b[1;33m,\u001b[0m\u001b[1;33m-\u001b[0m\u001b[1;36m97.485\u001b[0m\u001b[1;33m]\u001b[0m\u001b[1;33m,\u001b[0m \u001b[0mno_txt\u001b[0m \u001b[1;33m=\u001b[0m \u001b[0mTrue\u001b[0m\u001b[1;33m,\u001b[0m\u001b[1;33m\u001b[0m\u001b[0m\n\u001b[1;32m----> 3\u001b[1;33m                coords=None, max = False)\n\u001b[0m",
        "\u001b[1;32m/data/san_store/HRRR/pyhrrr.pyc\u001b[0m in \u001b[0;36mread_hrrr_spec\u001b[1;34m(filename, parameters, directory, loc, no_txt, coords, max)\u001b[0m\n\u001b[0;32m     95\u001b[0m             \u001b[0mdata\u001b[0m\u001b[1;33m.\u001b[0m\u001b[0mappend\u001b[0m\u001b[1;33m(\u001b[0m\u001b[0mNone\u001b[0m\u001b[1;33m)\u001b[0m\u001b[1;33m\u001b[0m\u001b[0m\n\u001b[0;32m     96\u001b[0m             \u001b[1;32mcontinue\u001b[0m\u001b[1;33m\u001b[0m\u001b[0m\n\u001b[1;32m---> 97\u001b[1;33m         \u001b[0mgrb_cube\u001b[0m \u001b[1;33m=\u001b[0m \u001b[0mgrb_to_grid\u001b[0m\u001b[1;33m(\u001b[0m\u001b[0mgrb\u001b[0m\u001b[1;33m)\u001b[0m\u001b[1;33m\u001b[0m\u001b[0m\n\u001b[0m\u001b[0;32m     98\u001b[0m         \u001b[1;32mif\u001b[0m \u001b[1;32mnot\u001b[0m \u001b[0mmax\u001b[0m\u001b[1;33m:\u001b[0m\u001b[1;33m\u001b[0m\u001b[0m\n\u001b[0;32m     99\u001b[0m             \u001b[0mdata\u001b[0m\u001b[1;33m.\u001b[0m\u001b[0mappend\u001b[0m\u001b[1;33m(\u001b[0m\u001b[0mgrb_cube\u001b[0m\u001b[1;33m[\u001b[0m\u001b[1;34m'data'\u001b[0m\u001b[1;33m]\u001b[0m\u001b[1;33m.\u001b[0m\u001b[0mT\u001b[0m\u001b[1;33m[\u001b[0m\u001b[0mxyindex\u001b[0m\u001b[1;33m[\u001b[0m\u001b[1;36m1\u001b[0m\u001b[1;33m]\u001b[0m\u001b[1;33m]\u001b[0m\u001b[1;33m[\u001b[0m\u001b[0mxyindex\u001b[0m\u001b[1;33m[\u001b[0m\u001b[1;36m0\u001b[0m\u001b[1;33m]\u001b[0m\u001b[1;33m]\u001b[0m\u001b[1;33m[\u001b[0m\u001b[1;33m:\u001b[0m\u001b[1;33m]\u001b[0m\u001b[1;33m)\u001b[0m\u001b[1;33m\u001b[0m\u001b[0m\n",
        "\u001b[1;32m/data/san_store/HRRR/pyhrrr.pyc\u001b[0m in \u001b[0;36mgrb_to_grid\u001b[1;34m(grb_obj)\u001b[0m\n\u001b[0;32m     20\u001b[0m     \u001b[0mcube\u001b[0m \u001b[1;33m=\u001b[0m \u001b[0mnp\u001b[0m\u001b[1;33m.\u001b[0m\u001b[0mzeros\u001b[0m\u001b[1;33m(\u001b[0m\u001b[1;33m[\u001b[0m\u001b[0mn_levels\u001b[0m\u001b[1;33m,\u001b[0m \u001b[0mgrb_obj\u001b[0m\u001b[1;33m[\u001b[0m\u001b[1;36m0\u001b[0m\u001b[1;33m]\u001b[0m\u001b[1;33m.\u001b[0m\u001b[0mvalues\u001b[0m\u001b[1;33m.\u001b[0m\u001b[0mshape\u001b[0m\u001b[1;33m[\u001b[0m\u001b[1;36m0\u001b[0m\u001b[1;33m]\u001b[0m\u001b[1;33m,\u001b[0m \u001b[0mgrb_obj\u001b[0m\u001b[1;33m[\u001b[0m\u001b[1;36m1\u001b[0m\u001b[1;33m]\u001b[0m\u001b[1;33m.\u001b[0m\u001b[0mvalues\u001b[0m\u001b[1;33m.\u001b[0m\u001b[0mshape\u001b[0m\u001b[1;33m[\u001b[0m\u001b[1;36m1\u001b[0m\u001b[1;33m]\u001b[0m\u001b[1;33m]\u001b[0m\u001b[1;33m)\u001b[0m\u001b[1;33m\u001b[0m\u001b[0m\n\u001b[0;32m     21\u001b[0m     \u001b[1;32mfor\u001b[0m \u001b[0mi\u001b[0m \u001b[1;32min\u001b[0m \u001b[0mrange\u001b[0m\u001b[1;33m(\u001b[0m\u001b[0mn_levels\u001b[0m\u001b[1;33m)\u001b[0m\u001b[1;33m:\u001b[0m\u001b[1;33m\u001b[0m\u001b[0m\n\u001b[1;32m---> 22\u001b[1;33m         \u001b[0mcube\u001b[0m\u001b[1;33m[\u001b[0m\u001b[0mi\u001b[0m\u001b[1;33m,\u001b[0m\u001b[1;33m:\u001b[0m\u001b[1;33m,\u001b[0m\u001b[1;33m:\u001b[0m\u001b[1;33m]\u001b[0m \u001b[1;33m=\u001b[0m \u001b[0mgrb_obj\u001b[0m\u001b[1;33m[\u001b[0m\u001b[0mindexes\u001b[0m\u001b[1;33m[\u001b[0m\u001b[0mi\u001b[0m\u001b[1;33m]\u001b[0m\u001b[1;33m]\u001b[0m\u001b[1;33m.\u001b[0m\u001b[0mvalues\u001b[0m\u001b[1;33m\u001b[0m\u001b[0m\n\u001b[0m\u001b[0;32m     23\u001b[0m     cube_dict = {'data' : cube, 'units' : grb_obj[0]['units'],\n\u001b[0;32m     24\u001b[0m                  'levels' : levels[indexes]}\n",
        "\u001b[1;32m/home/jhelmus/anaconda/lib/python2.7/site-packages/pygrib.so\u001b[0m in \u001b[0;36mpygrib.gribmessage.__getattr__ (pygrib.c:8461)\u001b[1;34m()\u001b[0m\n",
        "\u001b[1;32m/home/jhelmus/anaconda/lib/python2.7/site-packages/pygrib.so\u001b[0m in \u001b[0;36mpygrib.gribmessage.__getitem__ (pygrib.c:13990)\u001b[1;34m()\u001b[0m\n",
        "\u001b[1;32m/home/jhelmus/anaconda/lib/python2.7/site-packages/ncepgrib2.pyc\u001b[0m in \u001b[0;36mdata\u001b[1;34m(self, fill_value, masked_array, expand, order)\u001b[0m\n\u001b[0;32m    680\u001b[0m         \u001b[0mngrdpts\u001b[0m \u001b[1;33m=\u001b[0m \u001b[0mgdsinfo\u001b[0m\u001b[1;33m[\u001b[0m\u001b[1;36m1\u001b[0m\u001b[1;33m]\u001b[0m\u001b[1;33m\u001b[0m\u001b[0m\n\u001b[0;32m    681\u001b[0m         \u001b[0mipos\u001b[0m \u001b[1;33m=\u001b[0m \u001b[0mself\u001b[0m\u001b[1;33m.\u001b[0m\u001b[0m_section7_byte_offset\u001b[0m\u001b[1;33m\u001b[0m\u001b[0m\n\u001b[1;32m--> 682\u001b[1;33m         \u001b[0mfld1\u001b[0m\u001b[1;33m=\u001b[0m\u001b[0mg2clib\u001b[0m\u001b[1;33m.\u001b[0m\u001b[0munpack7\u001b[0m\u001b[1;33m(\u001b[0m\u001b[0mgribmsg\u001b[0m\u001b[1;33m,\u001b[0m\u001b[0mgdtnum\u001b[0m\u001b[1;33m,\u001b[0m\u001b[0mgdtmpl\u001b[0m\u001b[1;33m,\u001b[0m\u001b[0mdrtnum\u001b[0m\u001b[1;33m,\u001b[0m\u001b[0mdrtmpl\u001b[0m\u001b[1;33m,\u001b[0m\u001b[0mndpts\u001b[0m\u001b[1;33m,\u001b[0m\u001b[0mipos\u001b[0m\u001b[1;33m,\u001b[0m\u001b[0mnp\u001b[0m\u001b[1;33m.\u001b[0m\u001b[0mempty\u001b[0m\u001b[1;33m,\u001b[0m\u001b[0mstorageorder\u001b[0m\u001b[1;33m=\u001b[0m\u001b[0mstorageorder\u001b[0m\u001b[1;33m)\u001b[0m\u001b[1;33m\u001b[0m\u001b[0m\n\u001b[0m\u001b[0;32m    683\u001b[0m         \u001b[1;31m# apply bitmap.\u001b[0m\u001b[1;33m\u001b[0m\u001b[1;33m\u001b[0m\u001b[0m\n\u001b[0;32m    684\u001b[0m         \u001b[1;32mif\u001b[0m \u001b[0mbitmapflag\u001b[0m \u001b[1;33m==\u001b[0m \u001b[1;36m0\u001b[0m\u001b[1;33m:\u001b[0m\u001b[1;33m\u001b[0m\u001b[0m\n",
        "\u001b[1;31mKeyboardInterrupt\u001b[0m: "
       ]
      }
     ],
     "prompt_number": 75
    },
    {
     "cell_type": "code",
     "collapsed": false,
     "input": [
      "#Define Radar and Sounding Heights and Pressure\n",
      "p_hrrr = pyhrrr.HRRR_PS\n",
      "\n",
      "psnd = s.variables['pres'][:]\n",
      "hsnd = s.variables['alt'][:]\n",
      "h_hrrr = []\n",
      "p_hrrr = p_hrrr.tolist()\n",
      "p_hrrr = p_hrrr[::-1]\n",
      "p_hrrr = np.array(p_hrrr)\n",
      "#Interpolation of pressure from the balloon sounding data\n",
      "h_hrrr = np.interp(p_hrrr,psnd[::-1],hsnd)"
     ],
     "language": "python",
     "metadata": {},
     "outputs": [],
     "prompt_number": 121
    },
    {
     "cell_type": "code",
     "collapsed": false,
     "input": [
      "psnd"
     ],
     "language": "python",
     "metadata": {},
     "outputs": [
      {
       "metadata": {},
       "output_type": "pyout",
       "prompt_number": 124,
       "text": [
        "array([ 977.10998535,  975.40997314,  974.09002686, ...,   21.40999985,\n",
        "         21.37000084,   21.32999992], dtype=float32)"
       ]
      }
     ],
     "prompt_number": 124
    },
    {
     "cell_type": "code",
     "collapsed": false,
     "input": [
      "p_hrrr = p_hrrr.tolist()"
     ],
     "language": "python",
     "metadata": {},
     "outputs": [],
     "prompt_number": 116
    },
    {
     "cell_type": "code",
     "collapsed": false,
     "input": [
      "p_hrrr = p_hrrr[::-1]"
     ],
     "language": "python",
     "metadata": {},
     "outputs": [],
     "prompt_number": 117
    },
    {
     "cell_type": "code",
     "collapsed": false,
     "input": [
      "p_hrrr = np.array(p_hrrr)"
     ],
     "language": "python",
     "metadata": {},
     "outputs": [],
     "prompt_number": 119
    },
    {
     "cell_type": "code",
     "collapsed": false,
     "input": [
      "p_hrrr"
     ],
     "language": "python",
     "metadata": {},
     "outputs": [
      {
       "metadata": {},
       "output_type": "pyout",
       "prompt_number": 120,
       "text": [
        "array([  50,   75,  100,  125,  150,  175,  200,  225,  250,  275,  300,\n",
        "        325,  350,  375,  400,  425,  450,  475,  500,  525,  550,  575,\n",
        "        600,  625,  650,  675,  700,  725,  750,  775,  800,  825,  850,\n",
        "        875,  900,  925,  950,  975, 1000, 1013])"
       ]
      }
     ],
     "prompt_number": 120
    },
    {
     "cell_type": "code",
     "collapsed": false,
     "input": [
      "p_hrrr"
     ],
     "language": "python",
     "metadata": {},
     "outputs": [],
     "prompt_number": 101
    },
    {
     "cell_type": "code",
     "collapsed": false,
     "input": [],
     "language": "python",
     "metadata": {},
     "outputs": []
    },
    {
     "cell_type": "code",
     "collapsed": false,
     "input": [
      "np.interp?"
     ],
     "language": "python",
     "metadata": {},
     "outputs": [],
     "prompt_number": 50
    },
    {
     "cell_type": "code",
     "collapsed": false,
     "input": [
      "hsnd"
     ],
     "language": "python",
     "metadata": {},
     "outputs": [
      {
       "metadata": {},
       "output_type": "pyout",
       "prompt_number": 49,
       "text": [
        "array([   315.        ,    330.20001221,    341.8999939 , ...,\n",
        "        26161.19921875,  26173.69921875,  26186.19921875], dtype=float32)"
       ]
      }
     ],
     "prompt_number": 49
    },
    {
     "cell_type": "code",
     "collapsed": false,
     "input": [],
     "language": "python",
     "metadata": {},
     "outputs": []
    }
   ],
   "metadata": {}
  }
 ]
}