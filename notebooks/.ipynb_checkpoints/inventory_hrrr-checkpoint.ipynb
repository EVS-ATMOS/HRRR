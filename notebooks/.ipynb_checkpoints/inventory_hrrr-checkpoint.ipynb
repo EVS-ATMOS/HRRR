{
 "metadata": {
  "name": "",
  "signature": "sha256:a8e6d743f176c94c7d7b07d86dba77d68b1a86a8f086c98986cd1c9d1e15a6fb"
 },
 "nbformat": 3,
 "nbformat_minor": 0,
 "worksheets": [
  {
   "cells": [
    {
     "cell_type": "code",
     "collapsed": false,
     "input": [
      "import os\n",
      "\n",
      "os.chdir('/Users/mattjohnson/HRRR')\n",
      "import pyhrrr\n",
      "\n",
      "\n"
     ],
     "language": "python",
     "metadata": {},
     "outputs": [],
     "prompt_number": 10
    },
    {
     "cell_type": "code",
     "collapsed": false,
     "input": [
      "os.chdir('/Users/mattjohnson/HRRRs')\n",
      "\n",
      "in_dir = '/Users/mattjohnson/HRRRs'\n",
      "\n",
      "x = pyhrrr.gather_hrrr_files(in_dir)\n",
      "z = x[0]\n",
      "y = [[(None == z[j][i]) for i in range(len(z[j]))] for j in range(len(z))]"
     ],
     "language": "python",
     "metadata": {},
     "outputs": [],
     "prompt_number": 35
    },
    {
     "cell_type": "code",
     "collapsed": false,
     "input": [
      "y"
     ],
     "language": "python",
     "metadata": {},
     "outputs": [
      {
       "metadata": {},
       "output_type": "pyout",
       "prompt_number": 36,
       "text": [
        "[[False, False, False, False, False],\n",
        " [False, False, False, False, False],\n",
        " [False, False, False, False, False],\n",
        " [False, False, False, False, False],\n",
        " [False, False, False, False, False],\n",
        " [False, False, False, False, False],\n",
        " [False, False, False, False, False],\n",
        " [False, False, False, False, False],\n",
        " [False, True, True, True, True]]"
       ]
      }
     ],
     "prompt_number": 36
    },
    {
     "cell_type": "code",
     "collapsed": false,
     "input": [
      "k = []\n",
      "for i in range(len(z)):\n",
      "    r = 0\n",
      "    for j in range(len(z[i])):\n",
      "        if y[i][j] == True:\n",
      "            r = r+1\n",
      "    k.append(r)"
     ],
     "language": "python",
     "metadata": {},
     "outputs": [],
     "prompt_number": 40
    },
    {
     "cell_type": "code",
     "collapsed": false,
     "input": [
      "u = [0 for i in range(len(z[0]))]\n",
      "\n",
      "for i in k:\n",
      "    u[i] = u[i]+1\n",
      "      "
     ],
     "language": "python",
     "metadata": {},
     "outputs": [],
     "prompt_number": 47
    },
    {
     "cell_type": "code",
     "collapsed": false,
     "input": [
      "u"
     ],
     "language": "python",
     "metadata": {},
     "outputs": [
      {
       "metadata": {},
       "output_type": "pyout",
       "prompt_number": 48,
       "text": [
        "[8, 0, 0, 0, 1]"
       ]
      }
     ],
     "prompt_number": 48
    },
    {
     "cell_type": "code",
     "collapsed": false,
     "input": [
      "k"
     ],
     "language": "python",
     "metadata": {},
     "outputs": [
      {
       "metadata": {},
       "output_type": "pyout",
       "prompt_number": 49,
       "text": [
        "[0, 0, 0, 0, 0, 0, 0, 0, 4]"
       ]
      }
     ],
     "prompt_number": 49
    },
    {
     "cell_type": "code",
     "collapsed": false,
     "input": [
      "pyhrrr.HRRR_VARS"
     ],
     "language": "python",
     "metadata": {},
     "outputs": [
      {
       "metadata": {},
       "output_type": "pyout",
       "prompt_number": 50,
       "text": [
        "['Geopotential Height',\n",
        " 'Temperature',\n",
        " 'Relative humidity',\n",
        " 'Dew point temperature',\n",
        " 'Specific humidity',\n",
        " 'Vertical velocity',\n",
        " 'U component of wind',\n",
        " 'V component of wind',\n",
        " 'Absolute vorticity',\n",
        " 'Cloud mixing ratio',\n",
        " 'Cloud Ice',\n",
        " 'Rain mixing ratio',\n",
        " 'Snow mixing ratio',\n",
        " 'Graupel (snow pellets)']"
       ]
      }
     ],
     "prompt_number": 50
    },
    {
     "cell_type": "code",
     "collapsed": false,
     "input": [],
     "language": "python",
     "metadata": {},
     "outputs": []
    }
   ],
   "metadata": {}
  }
 ]
}