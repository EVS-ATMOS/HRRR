{
 "metadata": {
  "name": "",
  "signature": "sha256:84c247f88166d5475c82bbd1504034835f62b7db839d7c405e97b5c518c53258"
 },
 "nbformat": 3,
 "nbformat_minor": 0,
 "worksheets": []
}