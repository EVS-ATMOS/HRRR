{
 "metadata": {
  "name": "",
  "signature": "sha256:d5604a43eba3bfc6c1daaae3eb7077389775d12bc924b5034f3010350ada2cbd"
 },
 "nbformat": 3,
 "nbformat_minor": 0,
 "worksheets": [
  {
   "cells": [
    {
     "cell_type": "code",
     "collapsed": false,
     "input": [
      "threshold = .001\n",
      "filelist = "
     ],
     "language": "python",
     "metadata": {},
     "outputs": []
    }
   ],
   "metadata": {}
  }
 ]
}