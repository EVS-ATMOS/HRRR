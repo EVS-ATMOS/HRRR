{
 "metadata": {
  "name": "",
  "signature": "sha256:ffa907c7a13dde43faca2782411e9c8200d1d2b006fe00ee171b9552a70adc63"
 },
 "nbformat": 3,
 "nbformat_minor": 0,
 "worksheets": [
  {
   "cells": [
    {
     "cell_type": "code",
     "collapsed": false,
     "input": [
      "import pyhrrr\n",
      "import numpy as np\n",
      "import pygrib\n",
      "import os"
     ],
     "language": "python",
     "metadata": {},
     "outputs": [],
     "prompt_number": 62
    },
    {
     "cell_type": "code",
     "collapsed": false,
     "input": [
      "\n",
      "import os\n",
      "import numpy as np\n",
      "\n",
      "global HRRR_PS\n",
      "HRRR_PS = np.array([1013, 1000,  975,  950,  925,  900,  875,  850,  825,  800,  775,\n",
      "        750,  725,  700,  675,  650,  625,  600,  575,  550,  525,  500,\n",
      "        475,  450,  425,  400,  375,  350,  325,  300,  275,  250,  225,\n",
      "        200,  175,  150,  125,  100,   75,   50])\n",
      "        \n",
      "global HRRR_VARS\n",
      "HRRR_VARS =['Geopotential Height','Temperature','Relative humidity','Dew point temperature',\n",
      "        'Specific humidity','Vertical velocity','U component of wind','V component of wind',\n",
      "        'Absolute vorticity','Cloud mixing ratio','Cloud Ice','Rain mixing ratio','Snow mixing ratio',\n",
      "        'Graupel (snow pellets)']\n",
      "\n",
      "wkdir = os.getcwd()\n",
      "\n",
      "directory = wkdir[:]\n",
      "\n",
      "while \"HRRR\" in directory:\n",
      "    os.chdir(os.path.abspath('..'))\n",
      "    directory = os.getcwd()\n",
      "\n",
      "dirpath = os.path.abspath(\"HRRR\")\n",
      "\n",
      "dirpath2 = dirpath+'/functions/'\n",
      "    \n",
      "filenames = os.listdir(dirpath2)\n",
      "    \n",
      "for name in filenames:\n",
      "    execfile(dirpath2+'/'+name)\n",
      "\n",
      "os.chdir(wkdir)"
     ],
     "language": "python",
     "metadata": {},
     "outputs": [],
     "prompt_number": 61
    },
    {
     "cell_type": "code",
     "collapsed": false,
     "input": [
      "filename = 'hrrr.3d.201405291000f001.grib2'\n",
      "parameter = 'Cloud mixing ratio'\n",
      "directory = '/Users/mattjohnson/HRRRs'"
     ],
     "language": "python",
     "metadata": {},
     "outputs": [],
     "prompt_number": 66
    },
    {
     "cell_type": "code",
     "collapsed": false,
     "input": [
      "os.chdir(directory)\n",
      "[data,parameterlist,datah,dataloc,units] = pyhrrr.read_hrrr(filename,[parameter], directory = directory)\n",
      "    \n",
      "data = np.array(data)\n",
      "data = data[0]\n",
      "lats = dataloc[0]\n",
      "lons = dataloc[1]\n",
      "goodlocs = []\n",
      "goodcoords = []"
     ],
     "language": "python",
     "metadata": {},
     "outputs": [],
     "prompt_number": 3
    },
    {
     "cell_type": "code",
     "collapsed": false,
     "input": [
      "datatest = data!=0"
     ],
     "language": "python",
     "metadata": {},
     "outputs": [],
     "prompt_number": 4
    },
    {
     "cell_type": "code",
     "collapsed": false,
     "input": [
      "datatest = datatest.any(axis=0)"
     ],
     "language": "python",
     "metadata": {},
     "outputs": [],
     "prompt_number": 5
    },
    {
     "cell_type": "code",
     "collapsed": false,
     "input": [
      "goodcoords = datatest.nonzero()"
     ],
     "language": "python",
     "metadata": {},
     "outputs": [],
     "prompt_number": 6
    },
    {
     "cell_type": "code",
     "collapsed": false,
     "input": [
      "goodcoords"
     ],
     "language": "python",
     "metadata": {},
     "outputs": [
      {
       "metadata": {},
       "output_type": "pyout",
       "prompt_number": 11,
       "text": [
        "(array([   0,    0,    0, ..., 1058, 1058, 1058]),\n",
        " array([   0,    1,    2, ..., 1796, 1797, 1798]))"
       ]
      }
     ],
     "prompt_number": 11
    },
    {
     "cell_type": "code",
     "collapsed": false,
     "input": [
      "len(goodcoords)"
     ],
     "language": "python",
     "metadata": {},
     "outputs": [
      {
       "metadata": {},
       "output_type": "pyout",
       "prompt_number": 8,
       "text": [
        "2"
       ]
      }
     ],
     "prompt_number": 8
    },
    {
     "cell_type": "code",
     "collapsed": false,
     "input": [
      "goodlocs = [(lats[goodcoords[0][i]][goodcoords[1][i]],lons[goodcoords[0][i]][goodcoords[1][i]]) for i in range(len(goodcoords[0]))]"
     ],
     "language": "python",
     "metadata": {},
     "outputs": [],
     "prompt_number": 12
    },
    {
     "cell_type": "code",
     "collapsed": false,
     "input": [
      "directory"
     ],
     "language": "python",
     "metadata": {},
     "outputs": [
      {
       "metadata": {},
       "output_type": "pyout",
       "prompt_number": 50,
       "text": [
        "'/Users/mattjohnson'"
       ]
      }
     ],
     "prompt_number": 50
    },
    {
     "cell_type": "code",
     "collapsed": false,
     "input": [
      "len(goodlocs)"
     ],
     "language": "python",
     "metadata": {},
     "outputs": [
      {
       "metadata": {},
       "output_type": "pyout",
       "prompt_number": 14,
       "text": [
        "1905141"
       ]
      }
     ],
     "prompt_number": 14
    },
    {
     "cell_type": "code",
     "collapsed": false,
     "input": [
      "import matplotlib\n",
      "%matplotlib inline"
     ],
     "language": "python",
     "metadata": {},
     "outputs": [],
     "prompt_number": 57
    },
    {
     "cell_type": "code",
     "collapsed": false,
     "input": [
      "pyhrrr.plot_hrrr_spec(directory = directory,parameter=parameter,hour = 1, scaling = 10**12, loc = goodlocs[10])"
     ],
     "language": "python",
     "metadata": {},
     "outputs": [
      {
       "output_type": "stream",
       "stream": "stdout",
       "text": [
        "/Users/mattjohnson/HRRRs\n",
        "[['hrrr.3d.201405291000f000.grib2', 'hrrr.3d.201405291000f001.grib2', 'hrrr.3d.201405291000f002.grib2', 'hrrr.3d.201405291000f003.grib2', 'hrrr.3d.201405291000f004.grib2'], ['hrrr.3d.201405291100f000.grib2', 'hrrr.3d.201405291100f001.grib2', 'hrrr.3d.201405291100f002.grib2', 'hrrr.3d.201405291100f003.grib2', 'hrrr.3d.201405291100f004.grib2'], ['hrrr.3d.201405291200f000.grib2', 'hrrr.3d.201405291200f001.grib2', 'hrrr.3d.201405291200f002.grib2', 'hrrr.3d.201405291200f003.grib2', 'hrrr.3d.201405291200f004.grib2'], ['hrrr.3d.201405291300f000.grib2', 'hrrr.3d.201405291300f001.grib2', 'hrrr.3d.201405291300f002.grib2', 'hrrr.3d.201405291300f003.grib2', 'hrrr.3d.201405291300f004.grib2'], ['hrrr.3d.201405291400f000.grib2', 'hrrr.3d.201405291400f001.grib2', 'hrrr.3d.201405291400f002.grib2', 'hrrr.3d.201405291400f003.grib2', 'hrrr.3d.201405291400f004.grib2'], ['hrrr.3d.201405291500f000.grib2', 'hrrr.3d.201405291500f001.grib2', 'hrrr.3d.201405291500f002.grib2', 'hrrr.3d.201405291500f003.grib2', 'hrrr.3d.201405291500f004.grib2'], ['hrrr.3d.201405291600f000.grib2', 'hrrr.3d.201405291600f001.grib2', 'hrrr.3d.201405291600f002.grib2', 'hrrr.3d.201405291600f003.grib2', 'hrrr.3d.201405291600f004.grib2'], ['hrrr.3d.201405291700f000.grib2', 'hrrr.3d.201405291700f001.grib2', 'hrrr.3d.201405291700f002.grib2', 'hrrr.3d.201405291700f003.grib2', 'hrrr.3d.201405291700f004.grib2'], ['hrrr.3d.201405291800f000.grib2', None, None, None, None]]\n"
       ]
      },
      {
       "metadata": {},
       "output_type": "display_data",
       "png": "[encoded data removed]",
       "text": [
        "<matplotlib.figure.Figure at 0x13432d9d0>"
       ]
      }
     ],
     "prompt_number": 67
    },
    {
     "cell_type": "code",
     "collapsed": false,
     "input": [
      "datat[goodcoords[1][10]][goodcoords[0][10]][:]"
     ],
     "language": "python",
     "metadata": {},
     "outputs": [
      {
       "metadata": {},
       "output_type": "pyout",
       "prompt_number": 65,
       "text": [
        "array([  0.00000000e+00,   0.00000000e+00,   0.00000000e+00,\n",
        "         0.00000000e+00,   0.00000000e+00,   0.00000000e+00,\n",
        "         0.00000000e+00,   0.00000000e+00,   0.00000000e+00,\n",
        "         0.00000000e+00,   0.00000000e+00,   0.00000000e+00,\n",
        "         0.00000000e+00,   0.00000000e+00,   0.00000000e+00,\n",
        "         0.00000000e+00,   0.00000000e+00,   0.00000000e+00,\n",
        "         0.00000000e+00,   0.00000000e+00,   0.00000000e+00,\n",
        "         0.00000000e+00,   0.00000000e+00,   0.00000000e+00,\n",
        "         0.00000000e+00,   0.00000000e+00,   0.00000000e+00,\n",
        "         0.00000000e+00,   0.00000000e+00,   0.00000000e+00,\n",
        "         0.00000000e+00,   1.00000043e-12,   1.00000043e-12,\n",
        "         1.00000043e-12,   1.00000043e-12,   1.00000043e-12,\n",
        "         1.00000043e-12,   1.00000043e-12,   1.00000043e-12,\n",
        "         1.00000043e-12])"
       ]
      }
     ],
     "prompt_number": 65
    },
    {
     "cell_type": "code",
     "collapsed": false,
     "input": [],
     "language": "python",
     "metadata": {},
     "outputs": []
    }
   ],
   "metadata": {}
  }
 ]
}