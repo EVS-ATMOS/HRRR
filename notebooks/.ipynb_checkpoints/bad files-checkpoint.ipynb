{
 "metadata": {
  "name": "",
  "signature": "sha256:9e1ce70489b9a84da52efeb7abd418289642ea8733800c844fbf214889b5cda2"
 },
 "nbformat": 3,
 "nbformat_minor": 0,
 "worksheets": [
  {
   "cells": [
    {
     "cell_type": "code",
     "collapsed": false,
     "input": [
      "import os\n",
      "import json\n",
      "directory = '/home/mjohnson/python/hrrr_txt'\n",
      "\n",
      "wkdir = os.getcwd()\n",
      "bads = []\n",
      "os.chdir(directory)\n",
      "for i in os.listdir(directory):\n",
      "    f = open(i,'r')\n",
      "    try:\n",
      "        u = json.load(f)\n",
      "    except ValueError:\n",
      "        os.remove(directory+'/'+i)\n",
      "        bads.append(i)\n",
      "        print i\n",
      "os.chdir(wkdir)\n"
     ],
     "language": "python",
     "metadata": {},
     "outputs": [
      {
       "ename": "IndentationError",
       "evalue": "unexpected indent (<ipython-input-5-069b80587b22>, line 14)",
       "output_type": "pyerr",
       "traceback": [
        "\u001b[1;36m  File \u001b[1;32m\"<ipython-input-5-069b80587b22>\"\u001b[1;36m, line \u001b[1;32m14\u001b[0m\n\u001b[1;33m    bads.append(i)\u001b[0m\n\u001b[1;37m    ^\u001b[0m\n\u001b[1;31mIndentationError\u001b[0m\u001b[1;31m:\u001b[0m unexpected indent\n"
       ]
      }
     ],
     "prompt_number": 5
    },
    {
     "cell_type": "code",
     "collapsed": false,
     "input": [
      "len(bads)"
     ],
     "language": "python",
     "metadata": {},
     "outputs": [
      {
       "metadata": {},
       "output_type": "pyout",
       "prompt_number": 4,
       "text": [
        "1"
       ]
      }
     ],
     "prompt_number": 4
    },
    {
     "cell_type": "code",
     "collapsed": false,
     "input": [
      "bads"
     ],
     "language": "python",
     "metadata": {},
     "outputs": [
      {
       "metadata": {},
       "output_type": "pyout",
       "prompt_number": 4,
       "text": [
        "['hrrr.3d.20140701t000024r001L459899.txt']"
       ]
      }
     ],
     "prompt_number": 4
    },
    {
     "cell_type": "code",
     "collapsed": false,
     "input": [],
     "language": "python",
     "metadata": {},
     "outputs": [
      {
       "metadata": {},
       "output_type": "pyout",
       "prompt_number": 8,
       "text": [
        "0.16593886462882096"
       ]
      }
     ],
     "prompt_number": 8
    },
    {
     "cell_type": "code",
     "collapsed": false,
     "input": [
      "sorted(bads)"
     ],
     "language": "python",
     "metadata": {},
     "outputs": [
      {
       "metadata": {},
       "output_type": "pyout",
       "prompt_number": 10,
       "text": [
        "['hrrr.3d.20140321t000024r004L459899.txt',\n",
        " 'hrrr.3d.20140325t000024r003L459899.txt',\n",
        " 'hrrr.3d.20140327t000024r004L459899.txt',\n",
        " 'hrrr.3d.20140328t000024r003L459899.txt',\n",
        " 'hrrr.3d.20140401t000024r003L459899.txt',\n",
        " 'hrrr.3d.20140401t000024r004L459899.txt',\n",
        " 'hrrr.3d.20140404t000024r004L459899.txt',\n",
        " 'hrrr.3d.20140406t000024r004L459899.txt',\n",
        " 'hrrr.3d.20140407t000024r000L459899.txt',\n",
        " 'hrrr.3d.20140412t000024r004L459899.txt',\n",
        " 'hrrr.3d.20140413t000024r000L459899.txt',\n",
        " 'hrrr.3d.20140414t000024r001L459899.txt',\n",
        " 'hrrr.3d.20140415t000024r000L459899.txt',\n",
        " 'hrrr.3d.20140416t000024r000L459899.txt',\n",
        " 'hrrr.3d.20140416t000024r004L459899.txt',\n",
        " 'hrrr.3d.20140417t000024r000L459899.txt',\n",
        " 'hrrr.3d.20140420t000024r003L459899.txt',\n",
        " 'hrrr.3d.20140421t000024r000L459899.txt',\n",
        " 'hrrr.3d.20140421t000024r004L459899.txt',\n",
        " 'hrrr.3d.20140423t000024r000L459899.txt',\n",
        " 'hrrr.3d.20140425t000024r000L459899.txt',\n",
        " 'hrrr.3d.20140510t000024r000L459899.txt',\n",
        " 'hrrr.3d.20140511t000024r000L459899.txt',\n",
        " 'hrrr.3d.20140512t000024r000L459899.txt',\n",
        " 'hrrr.3d.20140512t000024r001L459899.txt',\n",
        " 'hrrr.3d.20140513t000024r000L459899.txt',\n",
        " 'hrrr.3d.20140514t000024r000L459899.txt',\n",
        " 'hrrr.3d.20140516t000024r000L459899.txt',\n",
        " 'hrrr.3d.20140520t000024r000L459899.txt',\n",
        " 'hrrr.3d.20140601t000024r000L459899.txt',\n",
        " 'hrrr.3d.20140602t000024r000L459899.txt',\n",
        " 'hrrr.3d.20140604t000024r000L459899.txt',\n",
        " 'hrrr.3d.20140606t000024r000L459899.txt',\n",
        " 'hrrr.3d.20140607t000024r000L459899.txt',\n",
        " 'hrrr.3d.20140608t000024r000L459899.txt',\n",
        " 'hrrr.3d.20140610t000024r000L459899.txt',\n",
        " 'hrrr.3d.20140613t000024r000L459899.txt',\n",
        " 'hrrr.3d.20140614t000024r000L459899.txt',\n",
        " 'hrrr.3d.20140615t000024r000L459899.txt',\n",
        " 'hrrr.3d.20140615t000024r002L459899.txt',\n",
        " 'hrrr.3d.20140615t000024r003L459899.txt',\n",
        " 'hrrr.3d.20140616t000024r000L459899.txt',\n",
        " 'hrrr.3d.20140616t000024r001L459899.txt',\n",
        " 'hrrr.3d.20140617t000024r004L459899.txt',\n",
        " 'hrrr.3d.20140618t000024r000L459899.txt',\n",
        " 'hrrr.3d.20140619t000024r000L459899.txt',\n",
        " 'hrrr.3d.20140620t000024r000L459899.txt',\n",
        " 'hrrr.3d.20140620t000024r001L459899.txt',\n",
        " 'hrrr.3d.20140621t000024r000L459899.txt',\n",
        " 'hrrr.3d.20140622t000024r000L459899.txt',\n",
        " 'hrrr.3d.20140623t000024r000L459899.txt',\n",
        " 'hrrr.3d.20140624t000024r000L459899.txt',\n",
        " 'hrrr.3d.20140626t000024r001L459899.txt',\n",
        " 'hrrr.3d.20140626t000024r002L459899.txt',\n",
        " 'hrrr.3d.20140627t000024r000L459899.txt',\n",
        " 'hrrr.3d.20140627t000024r002L459899.txt',\n",
        " 'hrrr.3d.20140628t000024r000L459899.txt',\n",
        " 'hrrr.3d.20140628t000024r001L459899.txt',\n",
        " 'hrrr.3d.20140629t000024r000L459899.txt',\n",
        " 'hrrr.3d.20140629t000024r001L459899.txt',\n",
        " 'hrrr.3d.20140701t000024r000L459899.txt',\n",
        " 'hrrr.3d.20140701t000024r001L459899.txt',\n",
        " 'hrrr.3d.20140703t000024r000L459899.txt',\n",
        " 'hrrr.3d.20140704t000024r000L459899.txt',\n",
        " 'hrrr.3d.20140704t000024r002L459899.txt',\n",
        " 'hrrr.3d.20140704t000024r003L459899.txt',\n",
        " 'hrrr.3d.20140704t000024r004L459899.txt',\n",
        " 'hrrr.3d.20140705t000024r000L459899.txt',\n",
        " 'hrrr.3d.20140707t000024r000L459899.txt',\n",
        " 'hrrr.3d.20140707t000024r001L459899.txt',\n",
        " 'hrrr.3d.20140708t000024r001L459899.txt',\n",
        " 'hrrr.3d.20140710t000024r000L459899.txt',\n",
        " 'hrrr.3d.20140710t000024r001L459899.txt',\n",
        " 'hrrr.3d.20140719t000024r001L459899.txt',\n",
        " 'hrrr.3d.20140720t000024r001L459899.txt',\n",
        " 'hrrr.3d.20140721t000024r001L459899.txt']"
       ]
      }
     ],
     "prompt_number": 10
    },
    {
     "cell_type": "code",
     "collapsed": false,
     "input": [
      "import os\n",
      "import json\n",
      "directory = '/home/mjohnson/python/radar_txt'\n",
      "\n",
      "wkdir = os.getcwd()\n",
      "badradars = []\n",
      "os.chdir(directory)\n",
      "for i in os.listdir(directory):\n",
      "    f = open(i,'r')\n",
      "    try:\n",
      "        u = json.load(f)\n",
      "    except ValueError:\n",
      "        #os.remove(directory+'/'+i)\n",
      "        badradars.append(i)\n",
      "os.chdir(wkdir)\n"
     ],
     "language": "python",
     "metadata": {},
     "outputs": [],
     "prompt_number": 7
    },
    {
     "cell_type": "code",
     "collapsed": false,
     "input": [
      "badradars"
     ],
     "language": "python",
     "metadata": {},
     "outputs": [
      {
       "metadata": {},
       "output_type": "pyout",
       "prompt_number": 8,
       "text": [
        "[]"
       ]
      }
     ],
     "prompt_number": 8
    },
    {
     "cell_type": "code",
     "collapsed": false,
     "input": [
      "import numpy as np\n",
      "type(np.array([]))"
     ],
     "language": "python",
     "metadata": {},
     "outputs": [
      {
       "metadata": {},
       "output_type": "pyout",
       "prompt_number": 16,
       "text": [
        "numpy.ndarray"
       ]
      }
     ],
     "prompt_number": 16
    },
    {
     "cell_type": "code",
     "collapsed": false,
     "input": [
      "hour = 1\n",
      "filenum = 24\n",
      "\n",
      "import datetime\n",
      "date = datetime.datetime(2014,7,1)\n",
      "datestrings = []\n",
      "    \n",
      "for i in range(filenum):\n",
      "    datestrings.append(datetime.datetime(date.year,date.month,date.day,date.hour+i))\n",
      "            \n",
      "hourslists = [[hour] for i in range(filenum)]"
     ],
     "language": "python",
     "metadata": {},
     "outputs": [],
     "prompt_number": 20
    },
    {
     "cell_type": "code",
     "collapsed": false,
     "input": [
      "import pyhrrr"
     ],
     "language": "python",
     "metadata": {},
     "outputs": [],
     "prompt_number": 21
    },
    {
     "cell_type": "code",
     "collapsed": false,
     "input": [
      "pyhrrr.produce_hrrr_grib2strings(datestrings,hourslists)"
     ],
     "language": "python",
     "metadata": {},
     "outputs": [
      {
       "metadata": {},
       "output_type": "pyout",
       "prompt_number": 22,
       "text": [
        "['hrrr.3d.201406302300f001.grib2',\n",
        " 'hrrr.3d.201407010000f001.grib2',\n",
        " 'hrrr.3d.201407010100f001.grib2',\n",
        " 'hrrr.3d.201407010200f001.grib2',\n",
        " 'hrrr.3d.201407010300f001.grib2',\n",
        " 'hrrr.3d.201407010400f001.grib2',\n",
        " 'hrrr.3d.201407010500f001.grib2',\n",
        " 'hrrr.3d.201407010600f001.grib2',\n",
        " 'hrrr.3d.201407010700f001.grib2',\n",
        " 'hrrr.3d.201407010800f001.grib2',\n",
        " 'hrrr.3d.201407010900f001.grib2',\n",
        " 'hrrr.3d.201407011000f001.grib2',\n",
        " 'hrrr.3d.201407011100f001.grib2',\n",
        " 'hrrr.3d.201407011200f001.grib2',\n",
        " 'hrrr.3d.201407011300f001.grib2',\n",
        " 'hrrr.3d.201407011400f001.grib2',\n",
        " 'hrrr.3d.201407011500f001.grib2',\n",
        " 'hrrr.3d.201407011600f001.grib2',\n",
        " 'hrrr.3d.201407011700f001.grib2',\n",
        " 'hrrr.3d.201407011800f001.grib2',\n",
        " 'hrrr.3d.201407011900f001.grib2',\n",
        " 'hrrr.3d.201407012000f001.grib2',\n",
        " 'hrrr.3d.201407012100f001.grib2',\n",
        " 'hrrr.3d.201407012200f001.grib2']"
       ]
      }
     ],
     "prompt_number": 22
    },
    {
     "cell_type": "code",
     "collapsed": false,
     "input": [
      "len(_)"
     ],
     "language": "python",
     "metadata": {},
     "outputs": [
      {
       "metadata": {},
       "output_type": "pyout",
       "prompt_number": 23,
       "text": [
        "24"
       ]
      }
     ],
     "prompt_number": 23
    },
    {
     "cell_type": "code",
     "collapsed": false,
     "input": [
      "datestrings"
     ],
     "language": "python",
     "metadata": {},
     "outputs": [
      {
       "metadata": {},
       "output_type": "pyout",
       "prompt_number": 19,
       "text": [
        "[datetime.datetime(2014, 6, 30, 23, 0),\n",
        " datetime.datetime(2014, 7, 1, 0, 0),\n",
        " datetime.datetime(2014, 7, 1, 1, 0),\n",
        " datetime.datetime(2014, 7, 1, 2, 0),\n",
        " datetime.datetime(2014, 7, 1, 3, 0),\n",
        " datetime.datetime(2014, 7, 1, 4, 0),\n",
        " datetime.datetime(2014, 7, 1, 5, 0),\n",
        " datetime.datetime(2014, 7, 1, 6, 0),\n",
        " datetime.datetime(2014, 7, 1, 7, 0),\n",
        " datetime.datetime(2014, 7, 1, 8, 0),\n",
        " datetime.datetime(2014, 7, 1, 9, 0),\n",
        " datetime.datetime(2014, 7, 1, 10, 0),\n",
        " datetime.datetime(2014, 7, 1, 11, 0),\n",
        " datetime.datetime(2014, 7, 1, 12, 0),\n",
        " datetime.datetime(2014, 7, 1, 13, 0),\n",
        " datetime.datetime(2014, 7, 1, 14, 0),\n",
        " datetime.datetime(2014, 7, 1, 15, 0),\n",
        " datetime.datetime(2014, 7, 1, 16, 0),\n",
        " datetime.datetime(2014, 7, 1, 17, 0),\n",
        " datetime.datetime(2014, 7, 1, 18, 0),\n",
        " datetime.datetime(2014, 7, 1, 19, 0),\n",
        " datetime.datetime(2014, 7, 1, 20, 0),\n",
        " datetime.datetime(2014, 7, 1, 21, 0),\n",
        " datetime.datetime(2014, 7, 1, 22, 0)]"
       ]
      }
     ],
     "prompt_number": 19
    },
    {
     "cell_type": "code",
     "collapsed": false,
     "input": [],
     "language": "python",
     "metadata": {},
     "outputs": []
    }
   ],
   "metadata": {}
  }
 ]
}