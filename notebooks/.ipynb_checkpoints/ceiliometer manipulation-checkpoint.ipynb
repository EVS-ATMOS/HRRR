{
 "metadata": {
  "name": "",
  "signature": "sha256:5229eb8a035d4ced8ffe71e4fa033330f35631d13a4ffbffac5a5a178461b504"
 },
 "nbformat": 3,
 "nbformat_minor": 0,
 "worksheets": [
  {
   "cells": [
    {
     "cell_type": "code",
     "collapsed": false,
     "input": [
      "import os\n",
      "import datetime\n",
      "from scipy.io import netcdf\n",
      "import numpy as np"
     ],
     "language": "python",
     "metadata": {},
     "outputs": [],
     "prompt_number": 1
    },
    {
     "cell_type": "code",
     "collapsed": false,
     "input": [
      "ceilometer_path = '/data/san_store/gmckercher/ceilometer/sgpvceil25kC1_marchtojune'"
     ],
     "language": "python",
     "metadata": {},
     "outputs": [],
     "prompt_number": 2
    },
    {
     "cell_type": "code",
     "collapsed": false,
     "input": [
      "files = os.listdir(ceilometer_path)"
     ],
     "language": "python",
     "metadata": {},
     "outputs": [],
     "prompt_number": 3
    },
    {
     "cell_type": "code",
     "collapsed": false,
     "input": [
      "index = 17\n",
      "\n",
      "dates_ceil = [datetime.datetime(int(i[index:index+4]),int(i[(index+4):(index+6)]),int(i[(index+6):(index+8)])) for i in files]"
     ],
     "language": "python",
     "metadata": {},
     "outputs": [],
     "prompt_number": 4
    },
    {
     "cell_type": "code",
     "collapsed": false,
     "input": [
      "os.chdir(ceilometer_path)\n",
      "f = open(files[5],'r')"
     ],
     "language": "python",
     "metadata": {},
     "outputs": [],
     "prompt_number": 5
    },
    {
     "cell_type": "code",
     "collapsed": false,
     "input": [
      "x = netcdf.netcdf_file(f)"
     ],
     "language": "python",
     "metadata": {},
     "outputs": [],
     "prompt_number": 6
    },
    {
     "cell_type": "code",
     "collapsed": false,
     "input": [
      "x.variables"
     ],
     "language": "python",
     "metadata": {},
     "outputs": [
      {
       "metadata": {},
       "output_type": "pyout",
       "prompt_number": 7,
       "text": [
        "{'alt': <scipy.io.netcdf.netcdf_variable at 0x2ab38459f510>,\n",
        " 'alt_highest_signal': <scipy.io.netcdf.netcdf_variable at 0x2ab38459a5d0>,\n",
        " 'background_light': <scipy.io.netcdf.netcdf_variable at 0x2ab38459f090>,\n",
        " 'backscatter': <scipy.io.netcdf.netcdf_variable at 0x2ab38459f390>,\n",
        " 'base_time': <scipy.io.netcdf.netcdf_variable at 0x2ab384582c50>,\n",
        " 'detection_status': <scipy.io.netcdf.netcdf_variable at 0x2ab3775a9110>,\n",
        " 'first_cbh': <scipy.io.netcdf.netcdf_variable at 0x2ab38459a110>,\n",
        " 'laser_pulse_energy': <scipy.io.netcdf.netcdf_variable at 0x2ab38459a990>,\n",
        " 'laser_temperature': <scipy.io.netcdf.netcdf_variable at 0x2ab38459ab50>,\n",
        " 'lat': <scipy.io.netcdf.netcdf_variable at 0x2ab38459f490>,\n",
        " 'lon': <scipy.io.netcdf.netcdf_variable at 0x2ab38459f4d0>,\n",
        " 'measurement_parameters': <scipy.io.netcdf.netcdf_variable at 0x2ab38459f410>,\n",
        " 'qc_alt_highest_signal': <scipy.io.netcdf.netcdf_variable at 0x2ab38459a710>,\n",
        " 'qc_background_light': <scipy.io.netcdf.netcdf_variable at 0x2ab38459f150>,\n",
        " 'qc_detection_status': <scipy.io.netcdf.netcdf_variable at 0x2ab3775a9090>,\n",
        " 'qc_first_cbh': <scipy.io.netcdf.netcdf_variable at 0x2ab38459a1d0>,\n",
        " 'qc_laser_pulse_energy': <scipy.io.netcdf.netcdf_variable at 0x2ab38459aa90>,\n",
        " 'qc_laser_temperature': <scipy.io.netcdf.netcdf_variable at 0x2ab38459ac50>,\n",
        " 'qc_second_cbh': <scipy.io.netcdf.netcdf_variable at 0x2ab38459a510>,\n",
        " 'qc_sum_backscatter': <scipy.io.netcdf.netcdf_variable at 0x2ab38459f2d0>,\n",
        " 'qc_third_cbh': <scipy.io.netcdf.netcdf_variable at 0x2ab38459a8d0>,\n",
        " 'qc_tilt_angle': <scipy.io.netcdf.netcdf_variable at 0x2ab38459af90>,\n",
        " 'qc_time': <scipy.io.netcdf.netcdf_variable at 0x2ab384582e90>,\n",
        " 'qc_vertical_visibility': <scipy.io.netcdf.netcdf_variable at 0x2ab38459a390>,\n",
        " 'qc_window_transmission': <scipy.io.netcdf.netcdf_variable at 0x2ab38459ae10>,\n",
        " 'range': <scipy.io.netcdf.netcdf_variable at 0x2ab384582f50>,\n",
        " 'second_cbh': <scipy.io.netcdf.netcdf_variable at 0x2ab38459a450>,\n",
        " 'status_flag': <scipy.io.netcdf.netcdf_variable at 0x2ab3775a9150>,\n",
        " 'status_string': <scipy.io.netcdf.netcdf_variable at 0x2ab38459f450>,\n",
        " 'sum_backscatter': <scipy.io.netcdf.netcdf_variable at 0x2ab38459f210>,\n",
        " 'third_cbh': <scipy.io.netcdf.netcdf_variable at 0x2ab38459a7d0>,\n",
        " 'tilt_angle': <scipy.io.netcdf.netcdf_variable at 0x2ab38459aed0>,\n",
        " 'time': <scipy.io.netcdf.netcdf_variable at 0x2ab384582dd0>,\n",
        " 'time_offset': <scipy.io.netcdf.netcdf_variable at 0x2ab384582c90>,\n",
        " 'vertical_visibility': <scipy.io.netcdf.netcdf_variable at 0x2ab38459a290>,\n",
        " 'window_transmission': <scipy.io.netcdf.netcdf_variable at 0x2ab38459ad10>}"
       ]
      }
     ],
     "prompt_number": 7
    },
    {
     "cell_type": "code",
     "collapsed": false,
     "input": [
      "u = x.variables['first_cbh'].data"
     ],
     "language": "python",
     "metadata": {},
     "outputs": [],
     "prompt_number": 8
    },
    {
     "cell_type": "code",
     "collapsed": false,
     "input": [
      "u.shape"
     ],
     "language": "python",
     "metadata": {},
     "outputs": [
      {
       "metadata": {},
       "output_type": "pyout",
       "prompt_number": 10,
       "text": [
        "(5400,)"
       ]
      }
     ],
     "prompt_number": 10
    },
    {
     "cell_type": "code",
     "collapsed": false,
     "input": [
      "import matplotlib.pyplot as plt"
     ],
     "language": "python",
     "metadata": {},
     "outputs": [],
     "prompt_number": 11
    },
    {
     "cell_type": "code",
     "collapsed": false,
     "input": [
      "%matplotlib inline\n",
      "plt.figure(0)"
     ],
     "language": "python",
     "metadata": {},
     "outputs": [
      {
       "metadata": {},
       "output_type": "pyout",
       "prompt_number": 13,
       "text": [
        "<matplotlib.figure.Figure at 0x2ab38a2ebd10>"
       ]
      },
      {
       "metadata": {},
       "output_type": "display_data",
       "text": [
        "<matplotlib.figure.Figure at 0x2ab38a2ebd10>"
       ]
      }
     ],
     "prompt_number": 13
    },
    {
     "cell_type": "code",
     "collapsed": false,
     "input": [
      "plt.plot(u)"
     ],
     "language": "python",
     "metadata": {},
     "outputs": [
      {
       "metadata": {},
       "output_type": "pyout",
       "prompt_number": 14,
       "text": [
        "[<matplotlib.lines.Line2D at 0x2ab38a339e50>]"
       ]
      },
      {
       "metadata": {},
       "output_type": "display_data",
       "png": "[encoded data removed]",
       "text": [
        "<matplotlib.figure.Figure at 0x2ab38a2ebad0>"
       ]
      }
     ],
     "prompt_number": 14
    },
    {
     "cell_type": "code",
     "collapsed": false,
     "input": [
      "heights.shape"
     ],
     "language": "python",
     "metadata": {},
     "outputs": [
      {
       "metadata": {},
       "output_type": "pyout",
       "prompt_number": 51,
       "text": [
        "(3, 5400)"
       ]
      }
     ],
     "prompt_number": 51
    },
    {
     "cell_type": "code",
     "collapsed": false,
     "input": [
      "f.close()"
     ],
     "language": "python",
     "metadata": {},
     "outputs": [],
     "prompt_number": 52
    },
    {
     "cell_type": "code",
     "collapsed": false,
     "input": [
      "import pyhrrr\n",
      "heights = pyhrrr.filter_mask(heights,heights,0)"
     ],
     "language": "python",
     "metadata": {},
     "outputs": [],
     "prompt_number": 58
    },
    {
     "cell_type": "code",
     "collapsed": false,
     "input": [
      "heights"
     ],
     "language": "python",
     "metadata": {},
     "outputs": [
      {
       "metadata": {},
       "output_type": "pyout",
       "prompt_number": 59,
       "text": [
        "masked_array(data =\n",
        " [[-- -- -- ..., -- -- --]\n",
        " [-- -- -- ..., -- -- --]\n",
        " [-- -- -- ..., -- -- --]],\n",
        "             mask =\n",
        " [[ True  True  True ...,  True  True  True]\n",
        " [ True  True  True ...,  True  True  True]\n",
        " [ True  True  True ...,  True  True  True]],\n",
        "       fill_value = 1e+20)"
       ]
      }
     ],
     "prompt_number": 59
    },
    {
     "cell_type": "code",
     "collapsed": false,
     "input": [
      "np.interp?"
     ],
     "language": "python",
     "metadata": {},
     "outputs": [],
     "prompt_number": 62
    },
    {
     "cell_type": "code",
     "collapsed": false,
     "input": [],
     "language": "python",
     "metadata": {},
     "outputs": []
    }
   ],
   "metadata": {}
  }
 ]
}