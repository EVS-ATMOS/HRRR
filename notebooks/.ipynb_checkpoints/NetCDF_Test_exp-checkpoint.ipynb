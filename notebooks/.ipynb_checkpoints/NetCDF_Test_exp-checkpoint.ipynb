{
 "metadata": {
  "name": "",
  "signature": "sha256:cd2a62372e9d2a1d488a9c905d17767cef8e7be44eb051fa2cec0881920e6748"
 },
 "nbformat": 3,
 "nbformat_minor": 0,
 "worksheets": [
  {
   "cells": [
    {
     "cell_type": "code",
     "collapsed": false,
     "input": [
      "import pyhrrr\n",
      "%matplotlib inline"
     ],
     "language": "python",
     "metadata": {},
     "outputs": [
      {
       "output_type": "stream",
       "stream": "stdout",
       "text": [
        "start\n"
       ]
      }
     ],
     "prompt_number": 7
    },
    {
     "cell_type": "code",
     "collapsed": false,
     "input": [
      "\n",
      "'''\n",
      "This function takes the radar, sounding, and ceilometer directories and organizes them by date. It returns the dates with the appropriate filename in a list. \n",
      "\n",
      "Authors: Grant McKercher & Matt Johnson\n",
      "'''\n",
      "\n",
      "import os\n",
      "import datetime\n",
      "print 'n'\n",
      "\n",
      "def org_exp_files(radar_dir,sound_dir,ceil_dir): \n",
      "\n",
      "    filename_radar = os.listdir(radar_dir)\n",
      "    filename_sound = os.listdir(sound_dir)\n",
      "    filename_ceil = os.listdir(ceil_dir)\n",
      "\n",
      "\n",
      "    dates_radar = []\n",
      "    dates_sound = []\n",
      "    dates_ceil = []\n",
      "    \n",
      "    index = 15\n",
      "    for i in filename_radar:\n",
      "      dates_radar.append(datetime.datetime(int(i[index:index+4]),int(i[(index+4):(index+6)]),int(i[(index+6):(index+8)])))\n",
      "\n",
      "    index = 18\n",
      "    for i in filename_sound:\n",
      "      dates_sound.append(datetime.datetime(int(i[index:index+4]),int(i[(index+4):(index+6)]),int(i[(index+6):(index+8)]))) \n",
      "\n",
      "    index = 17\n",
      "    for i in filename_ceil:\n",
      "      dates_ceil.append(datetime.datetime(int(i[index:index+4]),int(i[(index+4):(index+6)]),int(i[(index+6):(index+8)]))) \n",
      "\n",
      "    \n",
      "\n",
      "    return [[dates_radar,dates_sound,dates_ceil],[filename_radar,filename_sound,filename_ceil]]\n"
     ],
     "language": "python",
     "metadata": {},
     "outputs": [
      {
       "output_type": "stream",
       "stream": "stdout",
       "text": [
        "n\n"
       ]
      }
     ],
     "prompt_number": 12
    },
    {
     "cell_type": "code",
     "collapsed": false,
     "input": [],
     "language": "python",
     "metadata": {},
     "outputs": [],
     "prompt_number": 12
    },
    {
     "cell_type": "code",
     "collapsed": false,
     "input": [
      "\n",
      "'''\n",
      "This function calls the org_exp_files function (which organizes the files by date) and returns the first file by date. \n",
      "\n",
      "Authors: Grant McKercher & Matt Johnson\n",
      "'''\n",
      "\n",
      "def gather_exp_files(date,radar_dir,sound_dir,ceil_dir):\n",
      "\n",
      "\n",
      "    [[dates_radar,dates_sound,dates_ceil],[filename_radar,filename_sound,filename_ceil]] = org_exp_files(radar_dir,sound_dir,ceil_dir)\n",
      "\n",
      "    index_radar = dates_radar.index(date)\n",
      "    index_sound = dates_sound.index(date)\n",
      "    index_ceil = dates_ceil.index(date)\n",
      "\n",
      "    return [filename_radar[index_radar],filename_sound[index_sound],filename_ceil[index_ceil]]    "
     ],
     "language": "python",
     "metadata": {},
     "outputs": [],
     "prompt_number": 13
    },
    {
     "cell_type": "code",
     "collapsed": false,
     "input": [
      "\n",
      "'''\n",
      "This function takes in radar, sounding, and ceilometer files from their directory, organizes them by date and creates a figure with three plots. The first plot is copolar reflectivity with masked backround noise, the second plot is vertical velocity, and the third plot is spectral width. \n",
      "\n",
      "Authors: Grant McKercher & Matt Johnson\n",
      "'''\n",
      "\n",
      "import numpy as np\n",
      "from scipy.io import netcdf\n",
      "import matplotlib.pyplot as plt\n",
      "import matplotlib\n",
      "from matplotlib.ticker import MultipleLocator, FormatStrFormatter\n",
      "import numpy.ma as ma\n",
      "import os\n",
      "\n",
      "\n",
      "\n",
      "def plot_kazr(date,radar_dir,sound_dir,ceil_dir):\n",
      "\n",
      "    path = os.getcwd()\n",
      "\n",
      "    [radar,sound,ceil] = gather_exp_files(date,radar_dir,sound_dir,ceil_dir)\n",
      "    \n",
      "    # Gather files\n",
      "    os.chdir(radar_dir)\n",
      "    f = netcdf.netcdf_file(radar, 'r')\n",
      "    os.chdir(sound_dir)\n",
      "    s = netcdf.netcdf_file(sound, 'r')\n",
      "    os.chdir(ceil_dir)\n",
      "    c = netcdf.netcdf_file(ceil, 'r')\n",
      "    os.chdir(path)\n",
      "\n",
      "    # Read in data\n",
      "    fcbh = c.variables['first_cbh'].data\n",
      "    rng = f.variables['range'].data\n",
      "    #refx = f.variables['range'].data\n",
      "    refc = f.variables['reflectivity_copol'].data\n",
      "    mdvc = f.variables['mean_doppler_velocity_copol'].data\n",
      "    swc = f.variables['spectral_width_copol'].data\n",
      "    \n",
      "    fig = plt.figure()\n",
      "\n",
      "    # First Figure\n",
      "\n",
      "    ax1 = fig.add_subplot(3,1,1)\n",
      "    ax1.set_title( 'SGP KAZR Filtered Copol Reflectivity / Ceilometer Cloud Base 5/27/2014' )\n",
      "    ax1.set_xlabel('UTC Time (Hour)',fontsize=14)\n",
      "    ax1.set_ylabel('Height (m)',fontsize=14)\n",
      "    ax1 = plt.gca()\n",
      "    ax1.set_ylim([min(rng),max(rng)])\n",
      "    ax1.set_xlim([0, 24])\n",
      "    # x axis\n",
      "    xmajorLocator = MultipleLocator(1)\n",
      "    ax1.xaxis.set_major_locator(xmajorLocator)\n",
      "    xmajorFormatter = FormatStrFormatter('%d')\n",
      "    ax1.xaxis.set_major_formatter(xmajorFormatter)\n",
      "    # y axis\n",
      "    ymajorLocator = MultipleLocator(2500)\n",
      "    ax1.yaxis.set_major_locator(ymajorLocator)\n",
      "    ymajorFormatter = FormatStrFormatter('%d')\n",
      "    ax1.yaxis.set_major_formatter(ymajorFormatter)\n",
      "    # Filter signal to noise ratio\n",
      "    stnrc = f.variables['signal_to_noise_ratio_copol'].data\n",
      "    refc = ma.masked_where((stnrc <= -14),refc)\n",
      "    # Calculate Linear Depolarization Ratio\n",
      "    #ldr = (refx-refc)\n",
      "    # Plot radar reflectivity\n",
      "    t = f.variables['time'][:]\n",
      "    day = [t[i]/3600 for i in range(len(t))]\n",
      "    pc1 = plt.pcolormesh(np.array(day), rng, refc.T, cmap='jet')\n",
      "    # Plot Colorbar\n",
      "    cb = plt.colorbar(ax=ax1,mappable=pc1,orientation='vertical')\n",
      "    cb.set_label(r'Reflectivity factor, $Z_e$ (dBZ)')\n",
      "    # Plot cloud-base height\n",
      "    ct = c.variables['time'][:]\n",
      "    cday = [ct[i]/3600 for i in range(len(ct))]\n",
      "    plt.scatter(cday,fcbh,s=2, marker='.')\n",
      "\n",
      "    # Second Figure\n",
      "\n",
      "    ax2 = fig.add_subplot(3,1,2)\n",
      "    ax2.set_title( 'SGP KAZR Copol Mean Doppler Velocity 5/27/2014' )\n",
      "    ax2.set_xlabel('UTC Time (Hour)',fontsize=14)\n",
      "    ax2.set_ylabel('Height (m)',fontsize=14)\n",
      "    ax2 = plt.gca()\n",
      "    ax2.set_ylim([min(rng),max(rng)])\n",
      "    ax2.set_xlim([0, 24])\n",
      "    # x axis\n",
      "    xmajorLocator = MultipleLocator(1)\n",
      "    ax2.xaxis.set_major_locator(xmajorLocator)\n",
      "    xmajorFormatter = FormatStrFormatter('%d')\n",
      "    ax2.xaxis.set_major_formatter(xmajorFormatter)\n",
      "    # y axis\n",
      "    ymajorLocator = MultipleLocator(2500)\n",
      "    ax2.yaxis.set_major_locator(ymajorLocator)\n",
      "    ymajorFormatter = FormatStrFormatter('%d')\n",
      "    ax2.yaxis.set_major_formatter(ymajorFormatter)\n",
      "    # Plot radar reflectivity\n",
      "    pc2 = plt.pcolormesh(np.array(day), rng, mdvc.T, cmap='jet')\n",
      "    # Plot Colorbar\n",
      "    cb = plt.colorbar(ax=ax2,mappable=pc2,orientation='vertical')\n",
      "    cb.set_label(r'Velocity (m/s)')\n",
      "\n",
      "    # Third Figure\n",
      "\n",
      "    ax3 = fig.add_subplot(3,1,3)\n",
      "    ax3.set_title( 'SGP KAZR Copol Spectral Width 5/27/2014' )\n",
      "    ax3.set_xlabel('UTC Time (Hour)',fontsize=14)\n",
      "    ax3.set_ylabel('Height (m)',fontsize=14)\n",
      "    ax3 = plt.gca()\n",
      "    ax3.set_ylim([min(rng),max(rng)])\n",
      "    ax3.set_xlim([0, 24])\n",
      "    # x axis\n",
      "    xmajorLocator = MultipleLocator(1)\n",
      "    ax3.xaxis.set_major_locator(xmajorLocator)\n",
      "    xmajorFormatter = FormatStrFormatter('%d')\n",
      "    ax3.xaxis.set_major_formatter(xmajorFormatter)\n",
      "    # y axis\n",
      "    ymajorLocator = MultipleLocator(2500)\n",
      "    ax3.yaxis.set_major_locator(ymajorLocator)\n",
      "    ymajorFormatter = FormatStrFormatter('%d')\n",
      "    ax3.yaxis.set_major_formatter(ymajorFormatter)\n",
      "    # Plot radar reflectivity\n",
      "    swc = ma.masked_where((swc == -9999),swc)\n",
      "    pc3 = plt.pcolormesh(np.array(day), rng, swc.T, cmap='jet')\n",
      "    # Plot Colorbar\n",
      "    cb = plt.colorbar(ax=ax3,mappable=pc3,orientation='vertical')\n",
      "    cb.set_label(r'Velocity (m/s)')\n",
      "\n",
      "    f.close()\n",
      "    s.close()\n",
      "    c.close()"
     ],
     "language": "python",
     "metadata": {},
     "outputs": [
      {
       "output_type": "stream",
       "stream": "stdout",
       "text": [
        "foo\n"
       ]
      }
     ],
     "prompt_number": 38
    },
    {
     "cell_type": "code",
     "collapsed": false,
     "input": [
      "plot_kazr(datetime.datetime(2014,5,27),'/data/san_store/radar/sgp/kazr/mckercherg1/160107','/data/san_store/soundings/sgp/mckercherg1/159821','/data/san_store/gmckercher/ceilometer/sgpvceil25kC1_marchtojune')"
     ],
     "language": "python",
     "metadata": {},
     "outputs": [
      {
       "ename": "RuntimeError",
       "evalue": "Invalid DISPLAY variable",
       "output_type": "pyerr",
       "traceback": [
        "\u001b[1;31m---------------------------------------------------------------------------\u001b[0m\n\u001b[1;31mRuntimeError\u001b[0m                              Traceback (most recent call last)",
        "\u001b[1;32m<ipython-input-39-d6b0212c4bff>\u001b[0m in \u001b[0;36m<module>\u001b[1;34m()\u001b[0m\n\u001b[1;32m----> 1\u001b[1;33m \u001b[0mplot_kazr\u001b[0m\u001b[1;33m(\u001b[0m\u001b[0mdatetime\u001b[0m\u001b[1;33m.\u001b[0m\u001b[0mdatetime\u001b[0m\u001b[1;33m(\u001b[0m\u001b[1;36m2014\u001b[0m\u001b[1;33m,\u001b[0m\u001b[1;36m5\u001b[0m\u001b[1;33m,\u001b[0m\u001b[1;36m27\u001b[0m\u001b[1;33m)\u001b[0m\u001b[1;33m,\u001b[0m\u001b[1;34m'/data/san_store/radar/sgp/kazr/mckercherg1/160107'\u001b[0m\u001b[1;33m,\u001b[0m\u001b[1;34m'/data/san_store/soundings/sgp/mckercherg1/159821'\u001b[0m\u001b[1;33m,\u001b[0m\u001b[1;34m'/data/san_store/gmckercher/ceilometer/sgpvceil25kC1_marchtojune'\u001b[0m\u001b[1;33m)\u001b[0m\u001b[1;33m\u001b[0m\u001b[0m\n\u001b[0m",
        "\u001b[1;32m<ipython-input-38-8fe2835b3619>\u001b[0m in \u001b[0;36mplot_kazr\u001b[1;34m(date, radar_dir, sound_dir, ceil_dir)\u001b[0m\n\u001b[0;32m     39\u001b[0m     \u001b[0mswc\u001b[0m \u001b[1;33m=\u001b[0m \u001b[0mf\u001b[0m\u001b[1;33m.\u001b[0m\u001b[0mvariables\u001b[0m\u001b[1;33m[\u001b[0m\u001b[1;34m'spectral_width_copol'\u001b[0m\u001b[1;33m]\u001b[0m\u001b[1;33m.\u001b[0m\u001b[0mdata\u001b[0m\u001b[1;33m\u001b[0m\u001b[0m\n\u001b[0;32m     40\u001b[0m \u001b[1;33m\u001b[0m\u001b[0m\n\u001b[1;32m---> 41\u001b[1;33m     \u001b[0mfig\u001b[0m \u001b[1;33m=\u001b[0m \u001b[0mplt\u001b[0m\u001b[1;33m.\u001b[0m\u001b[0mfigure\u001b[0m\u001b[1;33m(\u001b[0m\u001b[1;33m)\u001b[0m\u001b[1;33m\u001b[0m\u001b[0m\n\u001b[0m\u001b[0;32m     42\u001b[0m \u001b[1;33m\u001b[0m\u001b[0m\n\u001b[0;32m     43\u001b[0m     \u001b[1;31m# First Figure\u001b[0m\u001b[1;33m\u001b[0m\u001b[1;33m\u001b[0m\u001b[0m\n",
        "\u001b[1;32m/home/jhelmus/anaconda/lib/python2.7/site-packages/matplotlib/pyplot.pyc\u001b[0m in \u001b[0;36mfigure\u001b[1;34m(num, figsize, dpi, facecolor, edgecolor, frameon, FigureClass, **kwargs)\u001b[0m\n\u001b[0;32m    421\u001b[0m                                         \u001b[0mframeon\u001b[0m\u001b[1;33m=\u001b[0m\u001b[0mframeon\u001b[0m\u001b[1;33m,\u001b[0m\u001b[1;33m\u001b[0m\u001b[0m\n\u001b[0;32m    422\u001b[0m                                         \u001b[0mFigureClass\u001b[0m\u001b[1;33m=\u001b[0m\u001b[0mFigureClass\u001b[0m\u001b[1;33m,\u001b[0m\u001b[1;33m\u001b[0m\u001b[0m\n\u001b[1;32m--> 423\u001b[1;33m                                         **kwargs)\n\u001b[0m\u001b[0;32m    424\u001b[0m \u001b[1;33m\u001b[0m\u001b[0m\n\u001b[0;32m    425\u001b[0m         \u001b[1;32mif\u001b[0m \u001b[0mfigLabel\u001b[0m\u001b[1;33m:\u001b[0m\u001b[1;33m\u001b[0m\u001b[0m\n",
        "\u001b[1;32m/home/jhelmus/anaconda/lib/python2.7/site-packages/matplotlib/backends/backend_qt4agg.pyc\u001b[0m in \u001b[0;36mnew_figure_manager\u001b[1;34m(num, *args, **kwargs)\u001b[0m\n\u001b[0;32m     29\u001b[0m     \u001b[0mFigureClass\u001b[0m \u001b[1;33m=\u001b[0m \u001b[0mkwargs\u001b[0m\u001b[1;33m.\u001b[0m\u001b[0mpop\u001b[0m\u001b[1;33m(\u001b[0m\u001b[1;34m'FigureClass'\u001b[0m\u001b[1;33m,\u001b[0m \u001b[0mFigure\u001b[0m\u001b[1;33m)\u001b[0m\u001b[1;33m\u001b[0m\u001b[0m\n\u001b[0;32m     30\u001b[0m     \u001b[0mthisFig\u001b[0m \u001b[1;33m=\u001b[0m \u001b[0mFigureClass\u001b[0m\u001b[1;33m(\u001b[0m \u001b[1;33m*\u001b[0m\u001b[0margs\u001b[0m\u001b[1;33m,\u001b[0m \u001b[1;33m**\u001b[0m\u001b[0mkwargs\u001b[0m \u001b[1;33m)\u001b[0m\u001b[1;33m\u001b[0m\u001b[0m\n\u001b[1;32m---> 31\u001b[1;33m     \u001b[1;32mreturn\u001b[0m \u001b[0mnew_figure_manager_given_figure\u001b[0m\u001b[1;33m(\u001b[0m\u001b[0mnum\u001b[0m\u001b[1;33m,\u001b[0m \u001b[0mthisFig\u001b[0m\u001b[1;33m)\u001b[0m\u001b[1;33m\u001b[0m\u001b[0m\n\u001b[0m\u001b[0;32m     32\u001b[0m \u001b[1;33m\u001b[0m\u001b[0m\n\u001b[0;32m     33\u001b[0m \u001b[1;33m\u001b[0m\u001b[0m\n",
        "\u001b[1;32m/home/jhelmus/anaconda/lib/python2.7/site-packages/matplotlib/backends/backend_qt4agg.pyc\u001b[0m in \u001b[0;36mnew_figure_manager_given_figure\u001b[1;34m(num, figure)\u001b[0m\n\u001b[0;32m     36\u001b[0m     \u001b[0mCreate\u001b[0m \u001b[0ma\u001b[0m \u001b[0mnew\u001b[0m \u001b[0mfigure\u001b[0m \u001b[0mmanager\u001b[0m \u001b[0minstance\u001b[0m \u001b[1;32mfor\u001b[0m \u001b[0mthe\u001b[0m \u001b[0mgiven\u001b[0m \u001b[0mfigure\u001b[0m\u001b[1;33m.\u001b[0m\u001b[1;33m\u001b[0m\u001b[0m\n\u001b[0;32m     37\u001b[0m     \"\"\"\n\u001b[1;32m---> 38\u001b[1;33m     \u001b[0mcanvas\u001b[0m \u001b[1;33m=\u001b[0m \u001b[0mFigureCanvasQTAgg\u001b[0m\u001b[1;33m(\u001b[0m\u001b[0mfigure\u001b[0m\u001b[1;33m)\u001b[0m\u001b[1;33m\u001b[0m\u001b[0m\n\u001b[0m\u001b[0;32m     39\u001b[0m     \u001b[1;32mreturn\u001b[0m \u001b[0mFigureManagerQT\u001b[0m\u001b[1;33m(\u001b[0m \u001b[0mcanvas\u001b[0m\u001b[1;33m,\u001b[0m \u001b[0mnum\u001b[0m \u001b[1;33m)\u001b[0m\u001b[1;33m\u001b[0m\u001b[0m\n\u001b[0;32m     40\u001b[0m \u001b[1;33m\u001b[0m\u001b[0m\n",
        "\u001b[1;32m/home/jhelmus/anaconda/lib/python2.7/site-packages/matplotlib/backends/backend_qt4agg.pyc\u001b[0m in \u001b[0;36m__init__\u001b[1;34m(self, figure)\u001b[0m\n\u001b[0;32m     68\u001b[0m     \u001b[1;32mdef\u001b[0m \u001b[0m__init__\u001b[0m\u001b[1;33m(\u001b[0m \u001b[0mself\u001b[0m\u001b[1;33m,\u001b[0m \u001b[0mfigure\u001b[0m \u001b[1;33m)\u001b[0m\u001b[1;33m:\u001b[0m\u001b[1;33m\u001b[0m\u001b[0m\n\u001b[0;32m     69\u001b[0m         \u001b[1;32mif\u001b[0m \u001b[0mDEBUG\u001b[0m\u001b[1;33m:\u001b[0m \u001b[1;32mprint\u001b[0m\u001b[1;33m(\u001b[0m\u001b[1;34m'FigureCanvasQtAgg: '\u001b[0m\u001b[1;33m,\u001b[0m \u001b[0mfigure\u001b[0m\u001b[1;33m)\u001b[0m\u001b[1;33m\u001b[0m\u001b[0m\n\u001b[1;32m---> 70\u001b[1;33m         \u001b[0mFigureCanvasQT\u001b[0m\u001b[1;33m.\u001b[0m\u001b[0m__init__\u001b[0m\u001b[1;33m(\u001b[0m \u001b[0mself\u001b[0m\u001b[1;33m,\u001b[0m \u001b[0mfigure\u001b[0m \u001b[1;33m)\u001b[0m\u001b[1;33m\u001b[0m\u001b[0m\n\u001b[0m\u001b[0;32m     71\u001b[0m         \u001b[0mFigureCanvasAgg\u001b[0m\u001b[1;33m.\u001b[0m\u001b[0m__init__\u001b[0m\u001b[1;33m(\u001b[0m \u001b[0mself\u001b[0m\u001b[1;33m,\u001b[0m \u001b[0mfigure\u001b[0m \u001b[1;33m)\u001b[0m\u001b[1;33m\u001b[0m\u001b[0m\n\u001b[0;32m     72\u001b[0m         \u001b[0mself\u001b[0m\u001b[1;33m.\u001b[0m\u001b[0mdrawRect\u001b[0m \u001b[1;33m=\u001b[0m \u001b[0mFalse\u001b[0m\u001b[1;33m\u001b[0m\u001b[0m\n",
        "\u001b[1;32m/home/jhelmus/anaconda/lib/python2.7/site-packages/matplotlib/backends/backend_qt4.pyc\u001b[0m in \u001b[0;36m__init__\u001b[1;34m(self, figure)\u001b[0m\n\u001b[0;32m    205\u001b[0m     \u001b[1;32mdef\u001b[0m \u001b[0m__init__\u001b[0m\u001b[1;33m(\u001b[0m \u001b[0mself\u001b[0m\u001b[1;33m,\u001b[0m \u001b[0mfigure\u001b[0m \u001b[1;33m)\u001b[0m\u001b[1;33m:\u001b[0m\u001b[1;33m\u001b[0m\u001b[0m\n\u001b[0;32m    206\u001b[0m         \u001b[1;32mif\u001b[0m \u001b[0mDEBUG\u001b[0m\u001b[1;33m:\u001b[0m \u001b[1;32mprint\u001b[0m\u001b[1;33m(\u001b[0m\u001b[1;34m'FigureCanvasQt: '\u001b[0m\u001b[1;33m,\u001b[0m \u001b[0mfigure\u001b[0m\u001b[1;33m)\u001b[0m\u001b[1;33m\u001b[0m\u001b[0m\n\u001b[1;32m--> 207\u001b[1;33m         \u001b[0m_create_qApp\u001b[0m\u001b[1;33m(\u001b[0m\u001b[1;33m)\u001b[0m\u001b[1;33m\u001b[0m\u001b[0m\n\u001b[0m\u001b[0;32m    208\u001b[0m \u001b[1;33m\u001b[0m\u001b[0m\n\u001b[0;32m    209\u001b[0m         \u001b[0mQtGui\u001b[0m\u001b[1;33m.\u001b[0m\u001b[0mQWidget\u001b[0m\u001b[1;33m.\u001b[0m\u001b[0m__init__\u001b[0m\u001b[1;33m(\u001b[0m \u001b[0mself\u001b[0m \u001b[1;33m)\u001b[0m\u001b[1;33m\u001b[0m\u001b[0m\n",
        "\u001b[1;32m/home/jhelmus/anaconda/lib/python2.7/site-packages/matplotlib/backends/backend_qt4.pyc\u001b[0m in \u001b[0;36m_create_qApp\u001b[1;34m()\u001b[0m\n\u001b[0;32m     60\u001b[0m                 \u001b[0mdisplay\u001b[0m \u001b[1;33m=\u001b[0m \u001b[0mos\u001b[0m\u001b[1;33m.\u001b[0m\u001b[0menviron\u001b[0m\u001b[1;33m.\u001b[0m\u001b[0mget\u001b[0m\u001b[1;33m(\u001b[0m\u001b[1;34m'DISPLAY'\u001b[0m\u001b[1;33m)\u001b[0m\u001b[1;33m\u001b[0m\u001b[0m\n\u001b[0;32m     61\u001b[0m                 \u001b[1;32mif\u001b[0m \u001b[0mdisplay\u001b[0m \u001b[1;32mis\u001b[0m \u001b[0mNone\u001b[0m \u001b[1;32mor\u001b[0m \u001b[1;32mnot\u001b[0m \u001b[0mre\u001b[0m\u001b[1;33m.\u001b[0m\u001b[0msearch\u001b[0m\u001b[1;33m(\u001b[0m\u001b[1;34m':\\d'\u001b[0m\u001b[1;33m,\u001b[0m \u001b[0mdisplay\u001b[0m\u001b[1;33m)\u001b[0m\u001b[1;33m:\u001b[0m\u001b[1;33m\u001b[0m\u001b[0m\n\u001b[1;32m---> 62\u001b[1;33m                     \u001b[1;32mraise\u001b[0m \u001b[0mRuntimeError\u001b[0m\u001b[1;33m(\u001b[0m\u001b[1;34m'Invalid DISPLAY variable'\u001b[0m\u001b[1;33m)\u001b[0m\u001b[1;33m\u001b[0m\u001b[0m\n\u001b[0m\u001b[0;32m     63\u001b[0m \u001b[1;33m\u001b[0m\u001b[0m\n\u001b[0;32m     64\u001b[0m             \u001b[0mqApp\u001b[0m \u001b[1;33m=\u001b[0m \u001b[0mQtGui\u001b[0m\u001b[1;33m.\u001b[0m\u001b[0mQApplication\u001b[0m\u001b[1;33m(\u001b[0m \u001b[1;33m[\u001b[0m\u001b[1;34m\" \"\u001b[0m\u001b[1;33m]\u001b[0m \u001b[1;33m)\u001b[0m\u001b[1;33m\u001b[0m\u001b[0m\n",
        "\u001b[1;31mRuntimeError\u001b[0m: Invalid DISPLAY variable"
       ]
      }
     ],
     "prompt_number": 39
    },
    {
     "cell_type": "code",
     "collapsed": false,
     "input": [],
     "language": "python",
     "metadata": {},
     "outputs": [
      {
       "metadata": {},
       "output_type": "pyout",
       "prompt_number": 45,
       "text": [
        "True"
       ]
      }
     ],
     "prompt_number": 45
    },
    {
     "cell_type": "code",
     "collapsed": false,
     "input": [],
     "language": "python",
     "metadata": {},
     "outputs": [],
     "prompt_number": 43
    },
    {
     "cell_type": "code",
     "collapsed": false,
     "input": [],
     "language": "python",
     "metadata": {},
     "outputs": [
      {
       "metadata": {},
       "output_type": "pyout",
       "prompt_number": 44,
       "text": [
        "NoneType"
       ]
      }
     ],
     "prompt_number": 44
    },
    {
     "cell_type": "code",
     "collapsed": false,
     "input": [],
     "language": "python",
     "metadata": {},
     "outputs": []
    }
   ],
   "metadata": {}
  }
 ]
}