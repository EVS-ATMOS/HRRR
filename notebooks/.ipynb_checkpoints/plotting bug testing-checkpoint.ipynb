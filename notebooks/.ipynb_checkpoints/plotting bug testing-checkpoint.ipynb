{
 "metadata": {
  "name": "",
  "signature": "sha256:0c8551b98d5702c65adf0bc0460fcfe13f072fc6665fddd6efd300760a2d9cbb"
 },
 "nbformat": 3,
 "nbformat_minor": 0,
 "worksheets": [
  {
   "cells": [
    {
     "cell_type": "code",
     "collapsed": false,
     "input": [
      "cd /Users/mattjohnson/HRRR/notebooks"
     ],
     "language": "python",
     "metadata": {},
     "outputs": [
      {
       "output_type": "stream",
       "stream": "stdout",
       "text": [
        "/Users/mattjohnson/HRRR/notebooks\n"
       ]
      }
     ],
     "prompt_number": 1
    },
    {
     "cell_type": "code",
     "collapsed": false,
     "input": [
      "import numpy as np\n",
      "import matplotlib\n",
      "import matplotlib.pyplot as plt\n",
      "import pyhrrr\n",
      "import datetime\n",
      "import os\n",
      "%matplotlib inline"
     ],
     "language": "python",
     "metadata": {},
     "outputs": [],
     "prompt_number": 2
    },
    {
     "cell_type": "code",
     "collapsed": false,
     "input": [
      "filename = 'hrrr.3d.201405291000f001.grib2'\n",
      "parameter = 'Cloud mixing ratio'\n",
      "directory = '/Users/mattjohnson/HRRRs'\n",
      "datetimestart = datetime.datetime(2014,5,29,10)\n",
      "datetimeend = datetime.datetime(2014,5,29,14)"
     ],
     "language": "python",
     "metadata": {},
     "outputs": [],
     "prompt_number": 3
    },
    {
     "cell_type": "code",
     "collapsed": false,
     "input": [
      "goodlocs = pyhrrr.find_hrrr_high_locs(filename,parameter,directory,minval = float(.001))"
     ],
     "language": "python",
     "metadata": {},
     "outputs": [],
     "prompt_number": 4
    },
    {
     "cell_type": "code",
     "collapsed": false,
     "input": [
      "pyhrrr.plot_hrrr_spec(parameter = parameter,directory=directory,datetimestart =datetimestart,datetimeend=datetimeend,\n",
      "                    hour = 1,contour = True,loc = goodlocs[5])"
     ],
     "language": "python",
     "metadata": {},
     "outputs": [
      {
       "metadata": {},
       "output_type": "display_data",
       "png": "[encoded data removed]",
       "text": [
        "<matplotlib.figure.Figure at 0x1066e63d0>"
       ]
      }
     ],
     "prompt_number": 5
    },
    {
     "cell_type": "code",
     "collapsed": false,
     "input": [
      "from matplotlib import pyplot as plt\n",
      "from matplotlib import colors\n",
      "import numpy as np\n",
      "import os\n",
      "from mpl_toolkits.basemap import Basemap, addcyclic\n",
      "import pygrib\n",
      "\n",
      "def read_hrrr_spec(filename, parameters = [''],directory = None,loc = [36.605,-97.485], coords=None, max = False):   \n",
      "    \"\"\"\n",
      "    With an option for returning just the maximum values of a given list of parameters at a specific location, this \n",
      "    function takes in a filename, list of parameters (all parameters if left blank) and returns the ndarray of data, \n",
      "    the list of parameters, list of heights in hPa, location in latitude, longitude and the list of units \n",
      "    corresponding to each parameter in a list.  \n",
      "    \"\"\"\n",
      "    if directory != None:\n",
      "        wkdir = os.getcwd()\n",
      "        os.chdir(directory)\n",
      "        \n",
      "    myfile = pygrib.open(filename) \n",
      "    parameterlist = ['Geopotential Height','Temperature','Relative humidity','Dew point temperature',\n",
      "            'Specific humidity','Vertical velocity','U component of wind','V component of wind',\n",
      "            'Absolute vorticity','Cloud mixing ratio','Cloud Ice','Rain mixing ratio','Snow mixing ratio',\n",
      "            'Graupel (snow pellets)']  \n",
      "            \n",
      "    if parameters != ['']:\n",
      "        for i in range(len(parameters)):\n",
      "            x = parameterlist.count(parameters[i])\n",
      "            if x == 0:                    \n",
      "                print 'requested parameter not in list'\n",
      "                print parameters[i]  \n",
      "        parameterlist = parameters[:]\n",
      "        \n",
      "    data = []\n",
      "    grb = myfile.select(name = parameterlist[0]) \n",
      "    grb_cube = pyhrrr.grb_to_grid(grb)\n",
      "    dataloc =  np.array(grb[0].latlons())\n",
      "    datah = grb_cube['levels']\n",
      "    units = []\n",
      "    \n",
      "    if coords == None:\n",
      "        xyindex = pyhrrr.convert_latlon2coords(loc,dataloc)\n",
      "        loc = pyhrrr.convert_coords2latlon(xyindex,dataloc)\n",
      "    else:\n",
      "        xyindex = coords\n",
      "        loc = convert_coords2latlon(xyindex,dataloc)\n",
      "\n",
      "    for p in parameterlist:\n",
      "        grb = myfile.select(name = p)\n",
      "        grb_cube = pyhrrr.grb_to_grid(grb)\n",
      "        if not max:\n",
      "            data.append(grb_cube['data'].T[xyindex[1]][xyindex[0]][:])\n",
      "        else:\n",
      "            \n",
      "            data.append(grb_cube['data'].T[xyindex[1]][xyindex[0]][:])\n",
      "        units.append(grb_cube['units'])\n",
      "        \n",
      "        \n",
      "    myfile.close()\n",
      "    \n",
      "    if directory !=  None:\n",
      "        os.chdir(wkdir)\n",
      "        \n",
      "    return [data,parameterlist,datah,loc,xyindex,units]"
     ],
     "language": "python",
     "metadata": {},
     "outputs": [],
     "prompt_number": 37
    },
    {
     "cell_type": "code",
     "collapsed": false,
     "input": [
      "def plot_hrrr_spec(parameter,datetimestart,datetimeend,directory = os.getcwd(),contour = False,plot_modelhours = False,scaling = 1,final_unit = '',hinp = None,hour=0,loc = [-97.485,36.605],vmin = None, vmax = None):\n",
      "    \"\"\"\n",
      "    Plots a given parameter over a given timespan for a given parameter, modelhour, height, location and directory of \n",
      "    HRRR files.  Leaving hinp empty will cause it to plot the maximum values over all heights.  \n",
      "    \n",
      "    Alternatively if plot_modelhours = True, it will graph the given parameter against time for the selcted model hours\n",
      "    contained in hours.  \n",
      "    \"\"\"\n",
      "    import numpy as np\n",
      "    import matplotlib\n",
      "    import os\n",
      "    import matplotlib.pyplot as plt\n",
      "    import datetime\n",
      "    \n",
      "    \n",
      "    if contour:\n",
      "        return plot_hrrr_contour_spec(directory=directory,parameter=parameter,datetimestart = datetimestart,datetimeend=datetimeend,scaling = scaling,hour = hour,loc = loc,plot_modelhours = plot_modelhours,vmin = vmin, vmax = vmax)\n",
      "    if plot_modelhours:\n",
      "        y = []\n",
      "        for i in hour:\n",
      "            string = 'hrrr.3d.'\n",
      "            string = string+str(datetimestart.year)\n",
      "            if datetimestart.month<10:\n",
      "                string = string+'0'\n",
      "            string = string+str(datetimestart.month)\n",
      "            if datetimestart.day<10:\n",
      "                string =string+'0'\n",
      "            string = string+str(datetimestart.day)\n",
      "\n",
      "            if datetimestart.hour<10:\n",
      "                string = string+'0'\n",
      "\n",
      "            string = string +str(datetimestart.hour)\n",
      "\n",
      "            string = string+'00f0'\n",
      "\n",
      "            if i<10:\n",
      "                string = string+'0'\n",
      "            string = string+str(i)+'.grib2'\n",
      "            y.append(string)\n",
      "            \n",
      "        times = [datetime.datetime(datetimestart.year,datetimestart.month,datetimestart.day,datetimestart.hour+i) for i in hour]\n",
      "    else:\n",
      "        x = pyhrrr.gather_hrrr_files(directory)\n",
      "        y = np.array(x[0])\n",
      "        y = y.transpose()\n",
      "        y = y[hour]\n",
      "        \n",
      "        dates = x[1]\n",
      "\n",
      "        if datetimestart == None != datetimeend:\n",
      "            print 'error datetimestart and datetime end must both not be or both be none'\n",
      "            return\n",
      "        elif datetimestart == None:\n",
      "            startindex = 0\n",
      "            endindex = len(dates)\n",
      "        else:\n",
      "            startindex = dates.index(datetimestart)\n",
      "            endindex = dates.index(datetimeend) \n",
      "        y = y[startindex:endindex]\n",
      "        \n",
      "        times = []\n",
      "        \n",
      "    \n",
      "    wkdir = os.getcwd()\n",
      "    os.chdir(directory)\n",
      "    \n",
      "    values = []\n",
      "\n",
      "    for i in range(len(y)):\n",
      "        if y[i] == None:\n",
      "            continue\n",
      "        else:\n",
      "            if hinp != None:\n",
      "                info = read_hrrr_spec(y[i], [parameter],loc = [-97.485,36.605], max = False)\n",
      "                index = info[2].tolist().index(hinp)\n",
      "                datart = np.array(info[0][0])\n",
      "                datarts = datart[index]*float(scaling)\n",
      "            else:\n",
      "                info = read_hrrr_spec(y[i], [parameter],loc = [-97.485,36.605], max = True)\n",
      "                datarts = np.array(info[0][0])*float(scaling)\n",
      "        values.append(datarts)\n",
      "        if not plot_modelhours:\n",
      "            times.append(x[1][i])\n",
      "            \n",
      "    \n",
      "    if final_unit == '':\n",
      "        final_unit = info[-1]\n",
      "\n",
      "    values = np.array(values)\n",
      "\n",
      "    plt.plot(times,values)\n",
      "    plt.xlabel('Time hrs')\n",
      "    plt.ylabel(parameter+' '+final_unit[0])\n",
      "    plt.tight_layout()\n",
      "    \n",
      "    \n",
      "    os.chdir(wkdir)\n",
      "    \n",
      "    return values"
     ],
     "language": "python",
     "metadata": {},
     "outputs": [],
     "prompt_number": 11
    },
    {
     "cell_type": "code",
     "collapsed": false,
     "input": [
      "plot_hrrr_spec(parameter = parameter,directory=directory,datetimestart =datetimestart,datetimeend=datetimeend,\n",
      "                    hour = 1,loc = goodlocs[5])"
     ],
     "language": "python",
     "metadata": {},
     "outputs": [
      {
       "output_type": "stream",
       "stream": "stdout",
       "text": [
        "[  0.00000000e+00   0.00000000e+00   0.00000000e+00   0.00000000e+00\n",
        "   0.00000000e+00   0.00000000e+00   0.00000000e+00   0.00000000e+00\n",
        "   0.00000000e+00   0.00000000e+00   0.00000000e+00   0.00000000e+00\n",
        "   0.00000000e+00   0.00000000e+00   0.00000000e+00   0.00000000e+00\n",
        "   0.00000000e+00   0.00000000e+00   0.00000000e+00   0.00000000e+00\n",
        "   0.00000000e+00   0.00000000e+00   0.00000000e+00   0.00000000e+00\n",
        "   0.00000000e+00   0.00000000e+00   0.00000000e+00   0.00000000e+00\n",
        "   0.00000000e+00   0.00000000e+00   0.00000000e+00   1.00000043e-12\n",
        "   1.00000043e-12   1.00000043e-12   1.00000043e-12   1.00000043e-12\n",
        "   1.00000043e-12   1.00000043e-12   1.00000043e-12   1.00000043e-12]\n",
        "[  0.00000000e+00   0.00000000e+00   0.00000000e+00   0.00000000e+00\n",
        "   0.00000000e+00   0.00000000e+00   0.00000000e+00   0.00000000e+00\n",
        "   0.00000000e+00   0.00000000e+00   0.00000000e+00   0.00000000e+00\n",
        "   0.00000000e+00   0.00000000e+00   0.00000000e+00   0.00000000e+00\n",
        "   0.00000000e+00   0.00000000e+00   0.00000000e+00   0.00000000e+00\n",
        "   0.00000000e+00   0.00000000e+00   0.00000000e+00   0.00000000e+00\n",
        "   0.00000000e+00   0.00000000e+00   0.00000000e+00   0.00000000e+00\n",
        "   0.00000000e+00   0.00000000e+00   1.00000043e-12   1.00000043e-12\n",
        "   1.00000043e-12   1.00000043e-12   1.00000043e-12   1.00000043e-12\n",
        "   1.00000043e-12   1.00000043e-12   1.00000043e-12   1.00000043e-12]"
       ]
      },
      {
       "output_type": "stream",
       "stream": "stdout",
       "text": [
        "\n",
        "[  0.00000000e+00   0.00000000e+00   0.00000000e+00   0.00000000e+00\n",
        "   0.00000000e+00   0.00000000e+00   0.00000000e+00   0.00000000e+00\n",
        "   0.00000000e+00   0.00000000e+00   0.00000000e+00   0.00000000e+00\n",
        "   0.00000000e+00   0.00000000e+00   0.00000000e+00   0.00000000e+00\n",
        "   0.00000000e+00   0.00000000e+00   0.00000000e+00   0.00000000e+00\n",
        "   0.00000000e+00   0.00000000e+00   0.00000000e+00   0.00000000e+00\n",
        "   0.00000000e+00   0.00000000e+00   0.00000000e+00   0.00000000e+00\n",
        "   0.00000000e+00   0.00000000e+00   0.00000000e+00   1.00000043e-12\n",
        "   1.00000043e-12   1.00000043e-12   1.00000043e-12   1.00000043e-12\n",
        "   1.00000043e-12   1.00000043e-12   1.00000043e-12   1.00000043e-12]"
       ]
      },
      {
       "output_type": "stream",
       "stream": "stdout",
       "text": [
        "\n",
        "[  0.00000000e+00   0.00000000e+00   0.00000000e+00   0.00000000e+00\n",
        "   0.00000000e+00   0.00000000e+00   0.00000000e+00   0.00000000e+00\n",
        "   0.00000000e+00   0.00000000e+00   0.00000000e+00   0.00000000e+00\n",
        "   0.00000000e+00   0.00000000e+00   0.00000000e+00   0.00000000e+00\n",
        "   0.00000000e+00   0.00000000e+00   0.00000000e+00   0.00000000e+00\n",
        "   0.00000000e+00   0.00000000e+00   0.00000000e+00   0.00000000e+00\n",
        "   0.00000000e+00   0.00000000e+00   0.00000000e+00   0.00000000e+00\n",
        "   0.00000000e+00   0.00000000e+00   0.00000000e+00   1.00000043e-12\n",
        "   1.00000043e-12   1.00000043e-12   1.00000043e-12   1.00000043e-12\n",
        "   1.00000043e-12   1.00000043e-12   1.00000043e-12   1.00000043e-12]"
       ]
      },
      {
       "output_type": "stream",
       "stream": "stdout",
       "text": [
        "\n"
       ]
      },
      {
       "metadata": {},
       "output_type": "pyout",
       "prompt_number": 38,
       "text": [
        "array([  1.00000043e-12,   1.00000043e-12,   1.00000043e-12,\n",
        "         1.00000043e-12])"
       ]
      },
      {
       "metadata": {},
       "output_type": "display_data",
       "png": "[encoded data removed]",
       "text": [
        "<matplotlib.figure.Figure at 0x1086d4050>"
       ]
      }
     ],
     "prompt_number": 38
    },
    {
     "cell_type": "code",
     "collapsed": false,
     "input": [],
     "language": "python",
     "metadata": {},
     "outputs": [
      {
       "metadata": {},
       "output_type": "pyout",
       "prompt_number": 8,
       "text": [
        "1.0000004296850662e-12"
       ]
      }
     ],
     "prompt_number": 8
    },
    {
     "cell_type": "code",
     "collapsed": false,
     "input": [
      "pyhrrr.plot_hrrr_spec(parameter = parameter,directory=directory,datetimestart =datetimestart,datetimeend=datetimeend,\n",
      "                    hour = [1,2,3,4],plot_modelhours=True,loc = goodlocs[5])"
     ],
     "language": "python",
     "metadata": {},
     "outputs": []
    }
   ],
   "metadata": {}
  }
 ]
}