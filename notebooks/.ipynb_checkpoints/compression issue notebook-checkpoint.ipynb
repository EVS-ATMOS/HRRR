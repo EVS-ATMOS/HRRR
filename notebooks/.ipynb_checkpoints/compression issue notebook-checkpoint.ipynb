{
 "metadata": {
  "name": "",
  "signature": "sha256:3fd671b9ea3d2e4dac14b555f3ddad969f3f19f9bdabbcb7695f424a35a57e4d"
 },
 "nbformat": 3,
 "nbformat_minor": 0,
 "worksheets": [
  {
   "cells": [
    {
     "cell_type": "code",
     "collapsed": false,
     "input": [
      "scp username@atmos.anl.gov:/data/san_store/gmckercher/kazr2/mckercherg1/160107/sgpkazrgeC1.a1.20140419.000001.cdf"
     ],
     "language": "python",
     "metadata": {},
     "outputs": []
    },
    {
     "cell_type": "code",
     "collapsed": false,
     "input": [
      "scp username@atmos.anl.gov:/data/san_store/soundings/sgp/mckercherg1/159821/sgpsondewnpnC1.b1.20140419.052400.cdf"
     ],
     "language": "python",
     "metadata": {},
     "outputs": []
    },
    {
     "cell_type": "code",
     "collapsed": false,
     "input": [
      "import numpy as np\n",
      "import os\n",
      "\n",
      "def compress_radartohrrr(radar_filename, sounding_filename, radar_directory, sounding_directory, tsinds = None, psinds = None):\n",
      "    \"\"\"\n",
      "    converts high resolution copol reflectivity into a matrix of reflectivities that correspond to the set of hrrr times\n",
      "    and pressures for fair comparison, range in m, times in s, \n",
      "    \"\"\"\n",
      "    print 'to function'\n",
      "    x = get_netcdf_variables(filename = radar_filename, directory = radar_directory,variablelist=\n",
      "                                ['reflectivity_copol','range','time'])\n",
      "    print 'got radar variables'  \n",
      "\n",
      "    [[sdata,sdim,sunits],sdate] = get_netcdf_variables(filename=sounding_filename,directory=sounding_directory,\n",
      "                                                       variablelist=['pres','alt'])\n",
      "    print 'got sounding variables'\n",
      "                   \n",
      "    pres = np.interp(x[0][0][1],sdata[1],sdata[0])\n",
      "    \n",
      "    sdata = None\n",
      "    \n",
      "    \n",
      "    if tsinds == None and psinds == None:\n",
      "        [psinds,tsinds] = calc_radar2hrrr_inds(x[0][0][2],pres)\n",
      "    \n",
      "    \n",
      "    x = np.array(x[0][0][0])\n",
      "    z = []\n",
      "    y = []\n",
      "    for i in range(len(tsinds)):\n",
      "        for j in range(len(psinds)):\n",
      "            y.append(np.mean(np.mean(x[tsinds[i]+1:tsinds[i+1]][psinds[i]+1:psinds[i+1]],axis=1),axis=0))\n",
      "        z.append(y)\n",
      "        y = []\n",
      "        \n",
      "    return [z,tsinds,psinds]\n",
      "        \n",
      "def calc_radar2hrrr_inds(times,pres):\n",
      "    \"\"\"\n",
      "    works out indicies closest to each pressure level and hour and thus the matrices that need to be compressed to one value\n",
      "    times in sec, pres in hPa\n",
      "    \"\"\"\n",
      "    timesf = np.array(range(0,24))*60.*60.\n",
      "    presf = np.log(HRRR_PS)\n",
      "    pres = np.log(pres)\n",
      "        \n",
      "    hpsave = []\n",
      "    for i in range(len(presf.tolist())):\n",
      "        if i == 0:\n",
      "                hpsave.append(presf[0])\n",
      "        elif i == len(presf.tolist())-1:\n",
      "                hpsave.append(presf[-1])\n",
      "        else:\n",
      "                hpsave.append((presf[i]+presf[i+1])/2)\n",
      "                \n",
      "    pres = set(pres)\n",
      "    prestest = pres.union(hpsave)\n",
      "    prestest = list(prestest)\n",
      "        \n",
      "    hpsave = list(set(hpsave))\n",
      "    psinds = []\n",
      "    for i in hpsave:\n",
      "        psinds.append(prestest.index(i))\n",
      "            \n",
      "    timesave = []\n",
      "    for i in range(len(timesf)):\n",
      "        if i == 0:\n",
      "            timesave.append(timesf[0])\n",
      "        elif i == len(timesf)-1:\n",
      "            timesave.append(timesf[-1])\n",
      "        else:\n",
      "            timesave.append((timesf[i]+timesf[i+1])/2)\n",
      "                \n",
      "    timestest = set(times)\n",
      "    timestest = timestest.union(set(timesave))\n",
      "    tsinds= []\n",
      "    for i in timesave:\n",
      "        tsinds.append(timestest.index(i))\n",
      "        \n",
      "    return [psinds,tsinds]"
     ],
     "language": "python",
     "metadata": {},
     "outputs": [],
     "prompt_number": 1
    },
    {
     "cell_type": "code",
     "collapsed": false,
     "input": [
      "global HRRR_PS\n",
      "HRRR_PS = np.array([1013, 1000,  975,  950,  925,  900,  875,  850,  825,  800,  775,\n",
      "        750,  725,  700,  675,  650,  625,  600,  575,  550,  525,  500,\n",
      "        475,  450,  425,  400,  375,  350,  325,  300,  275,  250,  225,\n",
      "        200,  175,  150,  125,  100,   75,   50])"
     ],
     "language": "python",
     "metadata": {},
     "outputs": [],
     "prompt_number": 2
    },
    {
     "cell_type": "code",
     "collapsed": false,
     "input": [
      "\n",
      "def get_netcdf_variables(filename, variablelist = [], directory = os.getcwd()):\n",
      "    \"\"\"\n",
      "    Accesses a specified netCDF file and recovers specified variables (if variablelist is empty will return all variables)\n",
      "    returns a list of data arrays,  dimensions and units for each variable in a list with the date of the file.  \n",
      "    \"\"\"\n",
      "    wkdir = os.getcwd()\n",
      "    os.chdir(directory)\n",
      "    \n",
      "    \n",
      "    import datetime\n",
      "    from scipy.io import netcdf\n",
      "    \n",
      "    f = netcdf.netcdf_file(filename, 'r')\n",
      "    \n",
      "    if variablelist == []:\n",
      "        variablelist = f.variables\n",
      "    \n",
      "    date = datetime.datetime(int(filename[-19:-15]),int(filename[-15:-13]),int(filename[-13:-11]))\n",
      "\n",
      "    data = []\n",
      "    units = []\n",
      "    dim = []\n",
      "    \n",
      "    for i in range(len(variablelist)):\n",
      "        data.append(f.variables[variablelist[i]].data[:])\n",
      "        units.append(f.variables[variablelist[i]].units[:])\n",
      "        dim.append(f.variables[variablelist[i]].dimensions[:])\n",
      "\n",
      "    f.close()\n",
      "\n",
      "    os.chdir(wkdir)\n",
      "    \n",
      "        \n",
      "    return [[data,dim,units],date]"
     ],
     "language": "python",
     "metadata": {},
     "outputs": [],
     "prompt_number": 3
    },
    {
     "cell_type": "code",
     "collapsed": false,
     "input": [
      "radar_filename = 'sgpkazrgeC1.a1.20140419.000001.cdf'\n",
      "sounding_filename = 'sgpsondewnpnC1.b1.20140419.052400.cdf'\n",
      "radar_directory = '/Users/mattjohnson/'\n",
      "sounding_directory = '/Users/mattjohnson/'"
     ],
     "language": "python",
     "metadata": {},
     "outputs": [],
     "prompt_number": 4
    },
    {
     "cell_type": "code",
     "collapsed": false,
     "input": [
      "[x,tsinds,psinds] = compress_radartohrrr(radar_filename=radar_filename,sounding_filename=sounding_filename,\n",
      "                                                radar_directory=radar_directory,sounding_directory=sounding_directory,\n",
      "                                                tsinds = None, psinds = None)"
     ],
     "language": "python",
     "metadata": {},
     "outputs": [
      {
       "output_type": "stream",
       "stream": "stdout",
       "text": [
        "to function\n"
       ]
      },
      {
       "ename": "OSError",
       "evalue": "[Errno 2] No such file or directory: 'Users/mattjohnson/'",
       "output_type": "pyerr",
       "traceback": [
        "\u001b[0;31m---------------------------------------------------------------------------\u001b[0m\n\u001b[0;31mOSError\u001b[0m                                   Traceback (most recent call last)",
        "\u001b[0;32m<ipython-input-5-bdc272702a2b>\u001b[0m in \u001b[0;36m<module>\u001b[0;34m()\u001b[0m\n\u001b[1;32m      1\u001b[0m [x,tsinds,psinds] = compress_radartohrrr(radar_filename=radar_filename,sounding_filename=sounding_filename,\n\u001b[1;32m      2\u001b[0m                                                 \u001b[0mradar_directory\u001b[0m\u001b[0;34m=\u001b[0m\u001b[0mradar_directory\u001b[0m\u001b[0;34m,\u001b[0m\u001b[0msounding_directory\u001b[0m\u001b[0;34m=\u001b[0m\u001b[0msounding_directory\u001b[0m\u001b[0;34m,\u001b[0m\u001b[0;34m\u001b[0m\u001b[0m\n\u001b[0;32m----> 3\u001b[0;31m                                                 tsinds = None, psinds = None)\n\u001b[0m",
        "\u001b[0;32m<ipython-input-1-c5709368bc2d>\u001b[0m in \u001b[0;36mcompress_radartohrrr\u001b[0;34m(radar_filename, sounding_filename, radar_directory, sounding_directory, tsinds, psinds)\u001b[0m\n\u001b[1;32m      9\u001b[0m     \u001b[0;32mprint\u001b[0m \u001b[0;34m'to function'\u001b[0m\u001b[0;34m\u001b[0m\u001b[0m\n\u001b[1;32m     10\u001b[0m     x = get_netcdf_variables(filename = radar_filename, directory = radar_directory,variablelist=\n\u001b[0;32m---> 11\u001b[0;31m                                 ['reflectivity_copol','range','time'])\n\u001b[0m\u001b[1;32m     12\u001b[0m     \u001b[0;32mprint\u001b[0m \u001b[0;34m'got radar variables'\u001b[0m\u001b[0;34m\u001b[0m\u001b[0m\n\u001b[1;32m     13\u001b[0m \u001b[0;34m\u001b[0m\u001b[0m\n",
        "\u001b[0;32m<ipython-input-3-1cff16ca9fab>\u001b[0m in \u001b[0;36mget_netcdf_variables\u001b[0;34m(filename, variablelist, directory)\u001b[0m\n\u001b[1;32m      6\u001b[0m     \"\"\"\n\u001b[1;32m      7\u001b[0m     \u001b[0mwkdir\u001b[0m \u001b[0;34m=\u001b[0m \u001b[0mos\u001b[0m\u001b[0;34m.\u001b[0m\u001b[0mgetcwd\u001b[0m\u001b[0;34m(\u001b[0m\u001b[0;34m)\u001b[0m\u001b[0;34m\u001b[0m\u001b[0m\n\u001b[0;32m----> 8\u001b[0;31m     \u001b[0mos\u001b[0m\u001b[0;34m.\u001b[0m\u001b[0mchdir\u001b[0m\u001b[0;34m(\u001b[0m\u001b[0mdirectory\u001b[0m\u001b[0;34m)\u001b[0m\u001b[0;34m\u001b[0m\u001b[0m\n\u001b[0m\u001b[1;32m      9\u001b[0m \u001b[0;34m\u001b[0m\u001b[0m\n\u001b[1;32m     10\u001b[0m \u001b[0;34m\u001b[0m\u001b[0m\n",
        "\u001b[0;31mOSError\u001b[0m: [Errno 2] No such file or directory: 'Users/mattjohnson/'"
       ]
      }
     ],
     "prompt_number": 5
    },
    {
     "cell_type": "code",
     "collapsed": false,
     "input": [],
     "language": "python",
     "metadata": {},
     "outputs": [],
     "prompt_number": 4
    },
    {
     "cell_type": "code",
     "collapsed": false,
     "input": [],
     "language": "python",
     "metadata": {},
     "outputs": []
    }
   ],
   "metadata": {}
  }
 ]
}