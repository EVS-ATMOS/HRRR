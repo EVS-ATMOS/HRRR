{
 "metadata": {
  "name": "",
<<<<<<< HEAD
  "signature": "sha256:ca5cf8da1e73660973710d9a56d87c3eeccf5aa2fc1b1099b2df1b84b6f49499"
=======
  "signature": "sha256:5dcaf14e16f709da1bf7964f5b4d6504e4f7667c6c48877c73990f34fe426baf"
>>>>>>> d1309708606b6587d01652ff48bf593eab2f4847
 },
 "nbformat": 3,
 "nbformat_minor": 0,
 "worksheets": [
  {
   "cells": [
    {
     "cell_type": "code",
     "collapsed": false,
     "input": [
<<<<<<< HEAD
      "radar_directory = '/home/mjohnson/python/radar_txt'\n",
      "hrrr_directory = '/home/mjohnson/python/hrrr_txt'\n",
      "\n"
=======
      "radar_directory = '/Users/mattjohnson/radar_txt'\n",
      "hrrr_directory = '/Users/mattjohnson/hrrr_txt'"
>>>>>>> d1309708606b6587d01652ff48bf593eab2f4847
     ],
     "language": "python",
     "metadata": {},
     "outputs": [],
     "prompt_number": 1
    },
    {
     "cell_type": "code",
     "collapsed": false,
     "input": [
      "import datetime\n",
      "import pyhrrr\n",
      "import json\n",
      "import os\n",
      "import matplotlib.dates\n",
      "import matplotlib.pyplot as plt\n",
      "import numpy as np\n",
      "%matplotlib inline"
     ],
     "language": "python",
     "metadata": {},
     "outputs": [],
     "prompt_number": 2
    },
    {
     "cell_type": "code",
     "collapsed": false,
     "input": [
      "hrrr_fracts = []\n",
      "radar_fracts = []\n",
      "rh_fracts = []\n",
      "dates = []\n",
      "\n",
      "for date in [datetime.datetime(2014,3,10)+datetime.timedelta(days=i) for i in range(200)]:\n",
      "    \n",
      "    #get filenames\n",
      "    radar_string = pyhrrr.produce_radar_txt_string(date)\n",
      "    hrrr_string = pyhrrr.produce_hrrr_txt_string(date,filenum = 24,hour = 1,loc=[36.605, -97.485], indexes = None,\n",
      "                                          modelhours = False)\n",
      "    \n",
      "    if not (hrrr_string in os.listdir(hrrr_directory) and radar_string in os.listdir(radar_directory)):\n",
      "        continue\n",
      "        \n",
      "    #get data\n",
      "    wkdir = os.getcwd()\n",
      "    os.chdir(hrrr_directory)\n",
      "    try:\n",
      "        hrrrf = open(hrrr_string,'r')\n",
      "    except IOError:\n",
      "        continue\n",
      "    try:\n",
      "        hrrr = json.load(hrrrf)\n",
      "    except ValueError:\n",
      "        continue\n",
      "    os.chdir(radar_directory)\n",
      "    try:\n",
      "        radarf = open(radar_string,'r')\n",
      "    except IOError:\n",
      "        continue\n",
      "    try:\n",
      "        radar = json.load(radarf)\n",
      "    except ValueError:\n",
      "        continue\n",
      "    \n",
      "    #filtering\n",
      "    \n",
      "    hrrr_data = np.array(hrrr[0])\n",
      "    #k = 0\n",
      "    #while len(hrrr_data.shape)<3:\n",
      "        #if hrrr_data[k,:].shape[0] != 40:\n",
      "            #np.delete(hrrr_data,k,axis=0)\n",
      "            #np.delete(hrrr[1],i)\n",
      "        #hrrr_data = np.array(hrrr_data.tolist())\n",
      "        #k = k+1\n",
      "    \n",
      "    if len(hrrr_data.shape)<3:\n",
      "        continue\n",
      "    \n",
      "    ceil_pres = np.interp(radar[2],radar[3],np.array(pyhrrr.HRRR_PS))\n",
      "    \n",
      "    if hrrr_data.shape[0]!=24:\n",
      "        continue\n",
      "    if min(np.array(radar[0]).shape) != 24:\n",
      "        continue\n",
      "        \n",
      "    heights = radar[2]\n",
      "    snr = np.array(radar[1])\n",
      "    hrrr_tot = np.array(hrrr_data[:,-5,:])+np.array(hrrr_data[:,-4,:])+np.array(hrrr_data[:,-3,:])+np.array(hrrr_data[:,-2,:])+np.array(hrrr_data[:,-1,:])\n",
      "    radar_data = np.array(radar[0])\n",
      "    hrrr_tot_m = pyhrrr.filter_mask(hrrr_tot,hrrr_tot,10**-5)\n",
      "\n",
      "    radar_m = pyhrrr.filter_mask(radar_data,snr,-14)\n",
      "    radar_m = np.ma.masked_where(radar_m==-np.inf,radar_m)\n",
      "    \n",
      "    rh = np.ma.masked_where(hrrr_data[:,2,:]<80,hrrr_data[:,2,:])\n",
      "    \n",
      "    if radar_m.shape[1] != 38:\n",
      "        continue\n",
      "        \n",
      "    for k in range(radar_data.shape[0]):\n",
      "        if radar[2][k] == 2000.:\n",
      "            radar_m[k,:] = np.ma.masked_where(radar_m[k,:]!=-5000,radar_m[k,:])\n",
      "        else:\n",
      "            boolean = ceil_pres[k]<pyhrrr.HRRR_PS[2:40] \n",
      "            boolean = np.multiply(boolean,radar_m[k,:]<-15)\n",
      "            radar_m[k,:] = np.ma.masked_where(boolean,radar_data[k,:])     \n",
      "         \n",
      "    #analysis\n",
      "    hs = hrrr_tot_m.shape\n",
      "    rs = radar_m.shape\n",
      "    rhs = rh.shape\n",
      "    hrrr_c = float(hrrr_tot_m.any(axis=1).sum(axis=0)/float(hs[0]))\n",
      "    radar_c = float(radar_m.any(axis=1).sum(axis=0)/float(rs[0]))\n",
      "    rh_c = float(rh.any(axis=1).sum(axis=0)/float(rhs[0]))\n",
      "    \n",
      "    hrrr_fracts.append(hrrr_c)\n",
      "    radar_fracts.append(radar_c)\n",
      "    dates.append(date)\n",
      "    rh_fracts.append(rh_c)\n",
      "    \n",
      "while np.nan in hrrr_fracts:\n",
      "    hrrr_fracts[hrrr_fracts.index(np.nan)] = 0\n",
      "while np.nan in radar_fracts:\n",
      "    radar_fracts[radar_fracts.index(np.nan)] = 0 \n",
      "while np.nan in rh_fracts:\n",
      "    rh_fracts[rh_fracts.index(np.nan)] = 0"
     ],
     "language": "python",
     "metadata": {},
     "outputs": [
      {
       "output_type": "stream",
       "stream": "stderr",
       "text": [
<<<<<<< HEAD
        "/home/jhelmus/anaconda/lib/python2.7/site-packages/numpy/ma/core.py:3847: UserWarning: Warning: converting a masked element to nan.\n",
        "  warnings.warn(\"Warning: converting a masked element to nan.\")\n",
        "pyhrrr.py:14: RuntimeWarning: invalid value encountered in less_equal\n"
       ]
      },
      {
       "output_type": "stream",
       "stream": "stderr",
       "text": [
        "-c:77: RuntimeWarning: invalid value encountered in less\n"
=======
        "/Users/mattjohnson/anaconda/lib/python2.7/site-packages/numpy/ma/core.py:3847: UserWarning: Warning: converting a masked element to nan.\n",
        "  warnings.warn(\"Warning: converting a masked element to nan.\")\n"
>>>>>>> d1309708606b6587d01652ff48bf593eab2f4847
       ]
      }
     ],
     "prompt_number": 3
    },
    {
     "cell_type": "code",
     "collapsed": false,
     "input": [],
     "language": "python",
     "metadata": {},
     "outputs": [],
     "prompt_number": 3
    },
    {
     "cell_type": "code",
     "collapsed": false,
     "input": [
      "hrrr_fracts = np.array(hrrr_fracts)\n",
      "radar_fracts = np.array(radar_fracts)\n",
      "dates = np.array(dates)\n",
      "rh_fracts = np.array(rh_fracts)"
     ],
     "language": "python",
     "metadata": {},
     "outputs": [],
     "prompt_number": 4
    },
    {
     "cell_type": "code",
     "collapsed": false,
     "input": [
      "rh_dif = radar_fracts-rh_fracts"
     ],
     "language": "python",
     "metadata": {},
     "outputs": [],
     "prompt_number": 5
    },
    {
     "cell_type": "code",
     "collapsed": false,
     "input": [],
     "language": "python",
     "metadata": {},
     "outputs": [],
     "prompt_number": 5
    },
    {
     "cell_type": "code",
     "collapsed": false,
     "input": [],
     "language": "python",
     "metadata": {},
     "outputs": [],
     "prompt_number": 5
    },
    {
     "cell_type": "code",
     "collapsed": false,
     "input": [
      "hrrr_fracts"
     ],
     "language": "python",
     "metadata": {},
     "outputs": [
      {
       "metadata": {},
       "output_type": "pyout",
       "prompt_number": 6,
       "text": [
        "array([ 0.45833333,  0.41666667,  0.5       ,  0.125     ,  0.08333333,\n",
        "        0.66666667,  0.        ,  0.41666667,  0.125     ,  0.45833333,\n",
        "        0.58333333,  0.16666667,  0.16666667,  0.29166667,  0.75      ,\n",
        "        0.54166667,  0.16666667,  0.375     ,  0.54166667,  0.45833333,\n",
        "        0.66666667,  0.79166667,  0.        ,  0.04166667,  0.20833333,\n",
        "        0.625     ])"
       ]
      }
     ],
     "prompt_number": 6
    },
    {
     "cell_type": "code",
     "collapsed": false,
     "input": [
      "dif = radar_fracts-hrrr_fracts"
     ],
     "language": "python",
     "metadata": {},
     "outputs": [],
     "prompt_number": 7
    },
    {
     "cell_type": "code",
     "collapsed": false,
     "input": [
      "dif"
     ],
     "language": "python",
     "metadata": {},
     "outputs": [
      {
       "metadata": {},
       "output_type": "pyout",
       "prompt_number": 8,
       "text": [
        "array([-0.125     ,  0.33333333, -0.25      ,  0.        ,  0.125     ,\n",
        "        0.16666667,  0.        ,  0.125     ,  0.25      ,  0.16666667,\n",
        "       -0.16666667,  0.04166667, -0.08333333,  0.29166667,  0.04166667,\n",
        "        0.16666667, -0.04166667,  0.125     ,  0.20833333,  0.29166667,\n",
        "        0.20833333, -0.04166667,  0.45833333,  0.125     ,  0.04166667,\n",
        "        0.20833333])"
       ]
      }
     ],
     "prompt_number": 8
    },
    {
     "cell_type": "code",
     "collapsed": false,
     "input": [
      "dates[(abs(dif)>=.27).nonzero()]"
     ],
     "language": "python",
     "metadata": {},
     "outputs": [
      {
       "metadata": {},
       "output_type": "pyout",
       "prompt_number": 27,
       "text": [
        "array([datetime.datetime(2014, 4, 2, 0, 0),\n",
        "       datetime.datetime(2014, 5, 21, 0, 0),\n",
        "       datetime.datetime(2014, 6, 7, 0, 0),\n",
        "       datetime.datetime(2014, 6, 17, 0, 0)], dtype=object)"
       ]
      }
     ],
     "prompt_number": 27
    },
    {
     "cell_type": "code",
     "collapsed": false,
     "input": [
      "radar_fracts"
     ],
     "language": "python",
     "metadata": {},
     "outputs": [
      {
       "metadata": {},
       "output_type": "pyout",
       "prompt_number": 10,
       "text": [
        "array([ 0.33333333,  0.75      ,  0.25      ,  0.125     ,  0.20833333,\n",
        "        0.83333333,  0.        ,  0.54166667,  0.375     ,  0.625     ,\n",
        "        0.41666667,  0.20833333,  0.08333333,  0.58333333,  0.79166667,\n",
        "        0.70833333,  0.125     ,  0.5       ,  0.75      ,  0.75      ,\n",
        "        0.875     ,  0.75      ,  0.45833333,  0.16666667,  0.25      ,\n",
        "        0.83333333])"
       ]
      }
     ],
     "prompt_number": 10
    },
    {
     "cell_type": "code",
     "collapsed": false,
     "input": [
      "np.sqrt(np.mean(dif**2))"
     ],
     "language": "python",
     "metadata": {},
     "outputs": [
      {
       "metadata": {},
       "output_type": "pyout",
       "prompt_number": 11,
       "text": [
        "0.19129004245354839"
       ]
      }
     ],
     "prompt_number": 11
    },
    {
     "cell_type": "code",
     "collapsed": false,
     "input": [
      "np.std(dif)"
     ],
     "language": "python",
     "metadata": {},
     "outputs": [
      {
       "metadata": {},
       "output_type": "pyout",
       "prompt_number": 12,
       "text": [
        "0.16146976561294871"
       ]
      }
     ],
     "prompt_number": 12
    },
    {
     "cell_type": "code",
     "collapsed": false,
     "input": [
      "np.mean(dif)"
     ],
     "language": "python",
     "metadata": {},
     "outputs": [
      {
       "metadata": {},
       "output_type": "pyout",
       "prompt_number": 13,
       "text": [
        "0.10256410256410257"
       ]
      }
     ],
     "prompt_number": 13
    },
    {
     "cell_type": "code",
     "collapsed": false,
     "input": [
<<<<<<< HEAD
      "np.median(dif)"
=======
      "np.std(dif)"
>>>>>>> d1309708606b6587d01652ff48bf593eab2f4847
     ],
     "language": "python",
     "metadata": {},
     "outputs": [
      {
       "metadata": {},
       "output_type": "pyout",
       "prompt_number": 14,
       "text": [
<<<<<<< HEAD
        "0.125"
=======
        "0.21533216116589338"
>>>>>>> d1309708606b6587d01652ff48bf593eab2f4847
       ]
      }
     ],
     "prompt_number": 14
    },
    {
     "cell_type": "code",
     "collapsed": false,
     "input": [
      "sum(radar_fracts==1)/float(radar_fracts.shape[0])"
     ],
     "language": "python",
     "metadata": {},
     "outputs": [
      {
       "metadata": {},
       "output_type": "pyout",
       "prompt_number": 15,
       "text": [
        "0.037735849056603772"
       ]
      }
     ],
     "prompt_number": 15
    },
    {
     "cell_type": "code",
     "collapsed": false,
     "input": [
      "sum(hrrr_fracts==1)/float(hrrr_fracts.shape[0])"
     ],
     "language": "python",
     "metadata": {},
     "outputs": [
      {
       "metadata": {},
       "output_type": "pyout",
       "prompt_number": 16,
       "text": [
        "0.0"
<<<<<<< HEAD
=======
       ]
      }
     ],
     "prompt_number": 16
    },
    {
     "cell_type": "code",
     "collapsed": false,
     "input": [
      "plt.plot(sorted(dif))"
     ],
     "language": "python",
     "metadata": {},
     "outputs": [
      {
       "metadata": {},
       "output_type": "pyout",
       "prompt_number": 17,
       "text": [
        "[<matplotlib.lines.Line2D at 0x117d0ed90>]"
       ]
      },
      {
       "metadata": {},
       "output_type": "display_data",
       "png": "iVBORw0KGgoAAAANSUhEUgAAAX0AAAEACAYAAABfxaZOAAAABHNCSVQICAgIfAhkiAAAAAlwSFlz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\nScn0fxkISk56XsW7AAAAAElFTkSuQmCC\n",
       "text": [
        "<matplotlib.figure.Figure at 0x103c53090>"
>>>>>>> d1309708606b6587d01652ff48bf593eab2f4847
       ]
      }
     ],
     "prompt_number": 17
    },
    {
     "cell_type": "code",
     "collapsed": false,
     "input": [],
     "language": "python",
     "metadata": {},
     "outputs": [],
     "prompt_number": 16
    },
    {
     "cell_type": "code",
     "collapsed": false,
     "input": [
      "%matplotlib inline\n",
      "times = [(i-datetime.datetime(2014,3,28)).total_seconds() for i in dates]\n",
      "times = np.array(times)\n",
      "times = times/60/60/24\n",
      "plt.figure(figsize = [15,8])\n",
      "plt.scatter(dates,dif)\n",
      "plt.xlabel('Date',fontsize = 20)\n",
      "plt.ylabel('Cloud Prescence Metric (CPM)',fontsize = 20)\n",
      "plt.xticks(fontsize = 15)\n",
      "times = str(dates)\n",
      "plt.show()"
     ],
     "language": "python",
     "metadata": {},
     "outputs": [
      {
       "metadata": {},
<<<<<<< HEAD
       "output_type": "display_data",
       "png": "iVBORw0KGgoAAAANSUhEUgAAA4UAAAH8CAYAAABmYgqAAAAABHNCSVQICAgIfAhkiAAAAAlwSFlz\nAAALEgAACxIB0t1+/AAAIABJREFUeJzs3XuYZGV57/3v7QxoB5WDROTkgQgKicYDIkSNzcapRoyD\nQxOVGO1X1DEeonF3zEg0MLrja4j21hhNZFRI62s0Kgx7QHHNKLQ4CUHxmK2gIKIcBBEFRdoIzv3+\nUQU2PV1dXdWrTr2+n+uqi6q1nlrrrl7dPf3jedbzRGYiSZIkSaqm+/S7AEmSJElS/xgKJUmSJKnC\nDIWSJEmSVGGGQkmSJEmqMEOhJEmSJFWYoVCSJEmSKmzgQ2FEHBsRV0TElRGxYYH9oxFxW0R8tfF4\nUz/qlCRJkqRhtLrfBSwmIlYB7wGeAVwPfCkitmTm5fOafj4z1/a8QEmSJEkacoPeU3gEcFVmXpOZ\ndwIfA45foF30tixJkiRJWhkGPRTuD1w75/V1jW1zJfAHEfH1iPh0RBzWs+okSZIkacgN9PBR6oGv\nla8AB2bmHRHxTOBc4JD5jSJiKceSJEmSpBUrM3caZTnoPYXXAwfOeX0g9d7Ce2TmzzPzjsbzC4Bd\nImKvhQ6WmaU+TjvttNKP6aP8h9dpOB5ep+F4eJ2G4+F1GvyH12g4Hl6n4Xh4nZb+aGbQQ+FlwMER\n8fCI2BV4HrBlboOI2CciovH8CCAy8ye9L1WSJEmShs9ADx/NzLsi4tVAAawCPpiZl0fEyxv7zwBO\nBF4REXcBdwDP71vBkiRJkjRkBjoUwj1DQi+Yt+2MOc/fC7y313UBjI6O9uO0apPXaTh4nYaD12k4\neJ0Gn9doOHidhoPXaflisbGlK0lEZFU+qyRJkiTNFxHkEE40I0mSJEnqIkOhJEmSJFWYoVCSJEmS\nKsxQKEmSJEkVZiiUJEmSpAozFEqSJElShRkKJUmSJKnCDIWSJEmSVGGGQkmSJEmqMEOhJEmSJFWY\noVCSJEmSKsxQKEmSJEkVZiiUJEmSpAozFEqSJElShRkKJUmSJKnCDIWSJEnSgCiKglptnFptnKIo\n+l2OKiIys9819EREZFU+qyRJkoZPURSsWzfB7OzpAIyMbGDz5mnGxsb6XJlWioggM2On7VUJSoZC\nSZIkDbJabZxt29YCE40t06xZs4WtW8/uZ1laQZqFQoePSpIkSVKFre53AZIkSZJgcnI927dPMDtb\nfz0ysoHJyen+FqVKcPioJEmSNCCKomBqahNQD4neT6gyeU+hoVCSJElShXlPoSRJkiRpJ4ZCSZIk\nSaowQ6EkSZIkVZihUJIkSZIqzFAoSZIkSRVmKJQkSZKkCjMUSpIkSVKFGQolSZIkqcIMhZIkSZJU\nYYZCSZIkSaowQ6EkSZIkVZihUJIkSZIqzFAoSZIkSRVmKJQkSZKkCjMUSpIkSVKFGQolSZIkqcIM\nhZIkSZJUYYZCSZIkSaowQ6EkSZIkVZihUJIkSZIqzFAoSZIkSRVmKJQkSZKkCjMUSpIkSVKFGQol\nSZIkqcIGPhRGxLERcUVEXBkRGxZp96SIuCsiTuhlfZIkSZI0zAY6FEbEKuA9wLHAYcBJEXFok3an\nA58BoqdFSpIkSdIQG+hQCBwBXJWZ12TmncDHgOMXaPfnwCeBm3tZnCRJkiQNu0EPhfsD1855fV1j\n2z0iYn/qQfGfG5uyN6VJkiRJ0vBb3e8CWlhKwHsX8IbMzIgIFhk+unHjxnuej46OMjo6utz6JEmS\nJGkgzczMMDMz07JdZA5ux1pEHAlszMxjG69PAXZk5ulz2lzNb4Lg3sAdwMsyc8u8Y+Ugf1ZJkiRJ\n6qaIIDN36kQb9FC4Gvg2cAxwA/BF4KTMvLxJ+7OA8zLznAX2GQolSZIkVVazUDjQw0cz866IeDVQ\nAKuAD2bm5RHx8sb+M/paoCRJkiQNuYHuKSyTPYWSJEmSqqxZT+Ggzz4qSZIkSeoiQ6EkSZIkVZih\nUJIkSZIqzFAoSZIkSRVmKJQkSZKkCjMUSpIkSVKFGQolSZIkqcIMhZIkSZJUYYZCSZIkSaowQ6Ek\nSZIkVZihUJIkSZIqzFAoSZIkSRVmKJQkSZKkCjMUSpIkSVKFGQolSZIkqcJWL7VhRDwUeAbwNOAg\n4MFAAjcDVwOfBz6Xmdd2oU5JkiRJUhdEZi7eIOIE4M+AY4BocbwdwOeA92Xm5lIqLElEZKvPKkmS\nJEkrVUSQmTtluqahMCKOBt4OPAG4Azgf2A58CbgOuIX68NO9gP2BI4CnAH8E/BbwZeD1mTlT8mfp\niKFQkiRJUpV1Egp3AP9FPRhuzsxfLPFEuwEnAK8HfjczV3VcdYkMhZIkSZKqrJNQeGJmfnIZJwxg\nfDnHKJOhUJIkSVKVtR0KVxpDoSRJkqQqaxYKXZJCkiRJkirMUChJkiRJFbboOoUR8T3qaxG2JTMP\n6rgiSZIkSVLPLHpPYWMG0rZl5sD1QHpPoSRJkqQqW849hXcBm4HjgF2BXRr/XewhSZIkSRoCrULh\n0cDHgWcCnwauAP4K2Dsz72r26HLNkiRJkqSSLGlJiojYE3gh8DLgd6n3Hn4KeD9wwTCMy3T4qCRJ\nkqQqK22dwog4kno4fB7wW8C1wJnAP2bmT0qotSsMhZIkSZKqrLR1CjPzPzPzJcB+wCuBAE4Fnrrs\nKqV5iqKgVhunVhunKIp+lyNJkiStOIsuSdFMRIwAJwIvAg6gvmzFbIl1SRRFwbp1E8zOng7A9u0T\nbN48zdjYWJ8rkyRJklaOtoaPRsQTqQ8dPQl4AHATcBbwgcy8uisVlsTho8OnVhtn27a1wERjyzRr\n1mxh69az+1mWJEmSNJSaDR9t2VMYEbsDLwBeCjwO2AFspT7JzHnONipJkiRJw2vRUBgR09SHiY4A\n1wFvAc7MzB/0oDZV3OTkerZvn2C2MTB5ZGQDk5PT/S1KkiRJWmEWHT4aETuoLz9xPvAZ4NfU7x9c\nVGaeWVaBZXH46HAqioKpqU1APSR6P6EkSZLUmY6WpGiEwnZlZq7q4H1dZSiUJEmSVGWd3lP4lg7O\nZfKSJEmSpCHR9uL1w8qeQkmSJElVVtri9ZIkSZKklaNlKIyIgyLizIj4r4j4RkS8PyIe3v3SJEmS\nJEnd1mqimf2BrwJ7z9t1M/CEzLy+i7WVyuGjkiRJkqqs0+Gjp1APhJ8DngecBFwE/Dbw12UXKUmS\nJEnqrVY9hd+hPpvo72bmXY1tq4FvAWTmIb0osgz2FEqSJEmqsk57Cg8AirsDIUDjeQEcWG6JkiRJ\nkqReaxUK7wf8eIHttwD3Lb8cSZIkSVIvuSSFJEmSJFXY6iW0GY3Yadjp0wEi4tSF3pCZb1lmXZIk\nSZKkHmg10cyODo6Zmbmq85J2quFY4F3AKuADmXn6vP3HA28BdjQer8/MCxc4jhPNSJIkSaqsZhPN\ntAqFGzs4V2bmmzt430LnXwV8G3gGcD3wJeCkzLx8TpvdMvMXjeePATZn5iMXOJahUJIkSVJlNQuF\niw4fzcyNXatoaY4ArsrMawAi4mPA8cA9ofDuQNhwfxaeGEeSJEmStIBBn2hmf+DaOa+va2y7l4h4\nTkRcDlwAvKZHtUmSJEnS0Gs50UxEPBvYA/i3zPxVkza7As8HbsnMT5VY35LGe2bmucC5EfE04MPA\noxZqt3Hjxnuej46OMjo6uvwKJUmSJGkAzczMMDMz07Jdq3sKHwN8DXhvZi7aAxcR7wFeDjwuM7/Z\nVrXNj3kksDEzj228PgXYMX+ymXnv+S5wRGbeMm+79xRKkiRJqqxm9xS2Gj56MvBLYCkTx7wZuBN4\nWfvlNXUZcHBEPLzRG/k8YMvcBhHxO9FYMyMingAwPxBKkqT+KIqCWm2cWm2coij6XY76wO8BafC1\nGj46Cnx+KSErM2+OiBng6BLquvuYd0XEq4GC+pIUH8zMyyPi5Y39ZwDjwIsi4k7gdurDWCVJUp8V\nRcG6dRPMztYH+GzfPsHmzdOMjY31uTL1it8D0nBoNXz0Z8CmzPzLJR0sYgp4aWbuXlJ9pXH4qCRJ\nvVWrjbNt21pgorFlmjVrtrB169n9LEs95PeANFg6HT66K7Dg5DJN/Aq4XzuFSZIkSZL6p9Xw0Z8C\nD23jeAcC3s8nSZKYnFzP9u0TzM7WX4+MbGBycrq/Ramn/B6QhkOr4aOfAg4HHpqZ/73ogSLuB3wf\nuCwzn1VqlSVw+KgkSb1XFAVTU5uAekDwXrLq8XtAGhzNho+2CoUvAd4PvDMzJ1uc4O+Bv6R+T+GZ\ny6y3dIZCSZIkSVXWaSjclfo6hY8G/hV4c2ZeOa/NwcCpwAuAy6mvU3hnibWXwlAoSZIkqco6CoWN\nNx4CfA7YH0jgeuC6xu79gQOAaGw7Zn5oHBSGQkmSJElV1nEobLx5H+BvgRdSn5F0rl8BHwLelJk/\nKqHWrjAUSpIkSaqyZYXCOQcZoT7xzL6NTTdQn1jml6VU2UWGQkmSJElVVkooHGaGQkmSJElV1uni\n9ZIkSZKkFaxpKIyIf4qIAzo9cEQcEBHv7fT9kiRJkqTuazp8NCJuAX4L+Bjw4cy8sOXBIgI4mvqE\nNCcBt2fm3uWV2zmHj0qSJEmqsrbvKYyIPYG/AV4F7ALcBFwCfJH68hM/ob4UxV7Ul6U4AjgKeDDw\n38B7gLdm5q1lf5hOGAolSZIkVdly1incFzi58XhEi/NcDXwQODMzb+qw1q4wFEqSJEmqsrKWpPgd\n4KnAQcBvU1/M/sfAd4EvZOb3yim3fIZCSZIkSVXmkhSGQkmSJEkV5pIUkiRJkqSdGAolSZIkqcIM\nhZIkSZJUYYZCSZIkSaowQ6EkDYmiKKjVxqnVximKot/lSJKkFcLZRyVpCBRFwbp1E8zOng7AyMgG\nNm+eZmxsrM+VSZKkYeGSFIZCSUOsVhtn27a1wERjyzRr1mxh69az+1mWJEkaIi5JIUmSJEnayZJD\nYUS8KSLujIj9muw/oLH/DeWVJ0kCmJxcz8jIBmAamGZkZAOTk+v7XZYkSVoBljx8NCIuBX6emc9Y\npE0BPDAzjyqpvtI4fFTSsCuKgqmpTUA9JHo/oSRJasey7ymMiFuA/y8zX7tIm3cBL8jM3+640i4x\nFEqSJEmqsjLuKRwB7mjR5pfAA9spTJIkSZLUP+2EwuuBI1u0eXKjnSRJkiRpCLQTCi8Anh4Rz19o\nZ2P70xvtJEmSJElDoJ17Cg8Avg7sAWyhHv6uBw4AngmsBX4KPC4zr+1KtcvgPYWSJEmSqqyUxesj\n4nDgE8DDFth9DfDHmfnlTovsJkOhJEmSpCorJRQ2DrQr8Gzq9xfuAdwKXAKcl5l3llBrVxgKJUmS\nJFVZaaFwWBkKJUmSJFVZGUtSSJIkSZJWmNXNdkTEBJDAuZn5szmvW8rMD5VUnyRJkiSpi5oOH42I\nHdRD4KGZ+Z3G66XIzFxVVoFlcfioJEmSpCprNny0aU8hcDL1UHjjnNdLYfKSJEmSpCHhRDOSJEmS\nVAHLnmgmIs6KiNeVW5YkSZIkqZ/amX30JODB3SpEkiRJktR77YTC72MolCRJkqQVpZ1Q+BHguIjY\nq1vFSJIkSZJ6q51Q+DbgMuDCiHh2ROzTpZokSZI0JIqioFYbp1YbpyiKnr9f/ec1HH5Lnn10gXUK\nF3pj4DqFkiRJlVAUBevWTTA7ezoAIyMb2Lx5mrGxsZ68X/3nNRwuzWYfbScUzizxXJmZR7dRW08Y\nCiVJkspVq42zbdtaYKKxZZo1a7awdevZPXm/+s9rOFw6Wbz+XjJztNSKJEmSJEl9t+RQ2C8RcSzw\nLmAV8IHMPH3e/hcAf0V96OrPgVdk5jd6XqgkSVLFTE6uZ/v2CWZn669HRjYwOTnds/er/7yGK0M7\nw0e/B7wzM9+9SJtXAZOZeVApxUWsAr4NPAO4HvgScFJmXj6nzVHAtzLztkaA3JiZRy5wLIePSpIk\nlawoCqamNgH1gNDuvWTLfb/6z2s4PMq4p3AH9cD1lkXavAl4S2a2M6vpYuc8CjgtM49tvH4DQGb+\nXZP2ewL/lZkHLLDPUChJkiSpspqFwlLC2xwPAH5V4vH2B66d8/q6xrZmXgJ8usTzS5IkSdKKtug9\nhRHx0LufNv67x5xtc60CHgacAFxdXnkLLnuxoIg4GjgZeEqzNhs3brzn+ejoKKOjo8soTZIkSZIG\n18zMDDMzMy3bLTp8tDFkNPlNKFyKycx8ZxvtFzv/kdSHrN49fPQUYMcCk808FjgHODYzr2pyLIeP\nSpIkSaqsTpek+NCc5y8Cvt54zPdr4Bbgs5m5teMqd3YZcHBEPBy4AXgecNLcBo2ey3OAP20WCCVJ\nkiRJC2t3opk3Z+abu1vSTud9Jr9ZkuKDmfm2iHg5QGaeEREfANYBP2i85c7MPGKB49hTKEmSJKmy\nlj376LAzFEqSJEmqsk6HjzY72KHAocBumfnh5RYnSZIkSeqPtpakiIjHR8SXgW8CnwT+Zc6+0Yi4\nIyLWlluiJEmSJKlblhwKI+IQ4CLgEOAfgAu496ykFwM/BcbLLFCSJEmS1D3t9BSeBtwXODIzXwd8\nae7OzNwBXAI8qbzyJEmSJEnd1E4oPAY4JzO/uUiba4H9lleSJEmSJKlX2gmFe1IPfYsJ6r2JkiRJ\nkqQh0E4o/BHwyBZtDqN1cJQkSZIkDYh2QuHngGdHxKMX2hkRT6I+xLQoozBJkiRJUve1Ewr/Dvg1\ncHFEvALYFyAifi8iXgmcD9wOvKP0KiVJkiRJXRGZufTGEccCHwV2X2D3rcCJmXlhSbWVKiKync8q\nSZIkSStJRJCZMX97W4vXZ+ZngIOA1wEfpz6k9Bzg9cAjBzUQSoKiKKjVxqnVxikKR3mvRF5jaen8\neZGk32irp3CY2VOoKiuKgnXrJpidPR2AkZENbN48zdjYWJ8rU1m8xtLS+fMiqaqa9RQaCqUKqNXG\n2bZtLTDR2DLNmjVb2Lr17H6WpRJ5jaWl8+dFUlU1C4WrW7zpoZ2cLDN/0Mn7JEmSJEm9tWgoBK4B\nkvqi9K3c3S6BVcsrS1KZJifXs337BLOz9dcjIxuYnJzub1EqlddYWjp/XiTp3hYdPhoRO4C7gC9T\nX45iKTIzn1ZCbaVy+KiqrigKpqY2AfU/iLx3ZuXxGktL58+LpCrq6J7CiPgZcH/gh8CZwAcz85pu\nFdlNhkJJkiRJVdbpkhT7AeuB64A3AldFRBERJ0ZEq6GnkiRJkqQBt+TZRyPiscDLgD+lvnj9zcA0\n8P7MvLJrFZbEnkJJkiRJVVbakhQRMQKcSL0H8SnUJ5a5GFg/yOHQUChJkiSpyrqyTmFEHAV8HNgf\neE5mbum8xO4yFEqSJEmqsk7vKWx2sKdFxIeAz1IPhN8Hrl1eiZIkSZKkXlvyZDERsTcwAbwUeBRw\nJ3AesAnYZjecJEmSJA2flsNHI2IN9Qlmjgd2Aa4CPgBMZ+ZNXa+wJA4flSRJklRlzYaPLtpTGBFX\nAw8H/hv4JPWZRme6UaAkSZIkqfdaLV6/A7iL+r2Dt1CfabSlzHxRKdWVyJ5CSZIkSVXW0eyjjVDY\ntszsaAKbbjIUSpIkSaqyjoaPAv+jS/VIkiRJkgbAstYpHCb2FEqSJEmqslLXKZQkSZIkrQyGQkmS\nJEmqMEOhJEmSJFWYoVCSJEmSKsxQKEmSJEkVZiiUVoiiKKjVxqnVximKot/lrGh+rSVVjb/3Vj6v\ncbW5JIW0AhRFwbp1E8zOng7AyMgGNm+eZmxsrM+VrTx+rSVVjb/3Vj6vcXU0W5Kio1AYEbsBjwJ2\ny8wvlFBf1xkKtZLVauNs27YWmGhsmWbNmi1s3Xp2P8takfxaS6oaf++tfF7j6ihlncKIODAizgFu\nBS4DZubse1pEfCsiRpdZqyRJkiSpR1YvtWFE7Av8J7APcB7wYOCoOU0ubex7HnPCoqTum5xcz/bt\nE8zO1l+PjGxgcnK6v0WtUH6tJVWNv/dWPq+xljx8NCLeB7wUqGXmhRGxETg1M+8zp825wEGZ+dhu\nFLscDh/VSlcUBVNTm4D6L3fvA+gev9aSqsbfeyuf17galn1PYUT8ALgsM09ovN7IzqHw3cCfZObe\npVRdIkOhJEmSpCor457CfYDvtGhzJ3D/dgqTJEmSJPVPO6Hwp8CBLdocDNzYeTmSJEmSpF5qJxRu\nB9Y2JpzZSUQcDBwLXFRGYZIkSZKk7msnFL4dGAE+HxHPbDwnIu4fEccB5wMJTJVepSRJkiSpK9pa\nvD4iTgbex72XskggqN9PeHJmfqTUCkviRDOSJEmSqqyUxesz80zg94B/AL4IfBf4KvBe4LHdCIQR\ncWxEXBERV0bEhgX2PzoiLomIX0bEZNnnlyRJkqSVrK2ewl6LiFXAt4FnANcDXwJOyszL57T5beBh\nwHOAn2bmgsNX7SmUJEmSVGWl9BT2wRHAVZl5TWbeCXwMOH5ug8y8OTMvoz58VZIkSZLUhiWHwoj4\n44i4MCL2a7L/gMb+E8orj/2Ba+e8vq6xTZIkSZJUgnZ6Cl8K7JmZNyy0MzOvA3ZvtCuL4z0lSZIk\nqYtWt25yj8cAn2rR5kvAH3Vezk6uBw6c8/pA6r2FHdm4ceM9z0dHRxkdHe30UJIkSZI00GZmZpiZ\nmWnZbskTzUTEL4F3ZOabFmnzVuAvM/O+S6yz1TlXU59o5hjgBuoznt5ropk5bTcCP3eiGUmSJEna\nWbOJZtrpKbwFOLhFm0cCt7ZT2GIy866IeDVQAKuAD2bm5RHx8sb+MyLiIdR7KB8I7IiI1wKHZebt\nZdUhSZIkSStVOz2F/wasBZ7QpKfuUOprFp6fmSeWWmUJ7CmUJEmSVGVlLEkxBewCfCEiXhsRh0TE\nbhHxqIj4C2A79Z7Hd5RTsiRJkiSp29pavD4iXgb8E/WhnPCb2UEDuAt4ZWZ+oNQKS2JPoSRJkqQq\na9ZT2FYobBzoMOAVwJHAHtTvIbwE+OeFhpUOCkOhJEmSpCorLRQOK0OhJEmSpCor455CSZIkSdIK\n086SFMA9awceAuzJb+4tvJfMvHiZdUmSJEmSeqCtUBgRpwKvA3ZfpFnSJCxKkiRJkgbLkkNhRPwV\nsBG4DfgwcC31GUfn88Y9SZIkSRoS7SxefyUwAjw+M2/ualVd4EQzkiRJkqqsjIlmDgQ2D2MglCRJ\nkiQtrJ1Q+CM6mJhGkiRJkjS42gmF/wbUIuK+3SpGkiRJktRb7dxT+FvAVuBW4DWZeXU3Cyub9xRK\nkiRJqrJm9xS2Ewq/B+wC7Ed9htHbqAfEnWTmQZ2X2h2GQkmSJElV1iwUtnOPYAB3Aj+Ys22h4acm\nL0mSJEkaEkvuKRx29hRKkiRJqrIylqSQJEmSJK0wHYfCiNgzIg4ssxhJkiRJUm+1FQoj4gER8b8j\n4ibgFuCaOfueHBGfjognlFyjJEmSJKlLlhwKI2J34BLgL4AbgMupTz5zt/8LPA34kzILlCRJkiR1\nTzs9hW8EDgNenJmPBz4xd2dm/gK4GPgf5ZUnSZIkSeqmdkLhCcDWzJxepM33gf2XV5IkSZIkqVfa\nCYUHAF9v0eZ2YI/Oy5EkSZIk9VI7ofB24MEt2jwc+HHH1UiSJEmSeqqdUPhF4I8i4oEL7YyIfYHj\ngO1lFCZJkiRJ6r52QuE/AA8CPh0RhwJ5946IOAz4JDACvLvUCiVJUl8VRUGtNk6tNk5RFP0u5x6D\nWpe0EvnztrJFZrZudXfjiNOA0xov7wR2AX4C7NXY9obM/PtSKyxJRGQ7n1WSJNX/EFy3boLZ2dMB\nGBnZwObN04yNjVmXVBH+vK0cEUFmxk7b2w1KEXE08BrgKOo9h7dRX7/wnZl5YQm1doWhUJKk9tVq\n42zbthaYaGyZZs2aLWzdenY/yxrYuqSVyJ+3laNZKFzd7oEy8yLgolKqkiRJkiT1VduhUJIkVcfk\n5Hq2b59gdrb+emRkA5OTiy1Z3BuDWpe0EvnztvItefhoRBwDvAD4m8y8foH9+wFvBaYzc6bMIsvg\n8FFJkjpTFAVTU5uA+h+Hg3If0aDWJa1E/rytDMu+pzAizgUOzcxHLdLmCuCbmTnecaVdYiiUJEmS\nVGXNQmE7S1I8AfiPFm22A4e3U5gkSZIkqX/aCYUPBnYaNjrPTcA+nZcjSZIkSeqldkLhz4ADW7Q5\nAPhF5+VIkiRJknqpnVB4KfCciNh3oZ2NiWaeA3yxjMIkSZIkSd3XTij8R+ABwBci4viIuC9ARNwv\nIp4DfKGx/93llylJkiRJ6oYlzz4KEBFvBv6m8XIH8FNgT34TLv82M08ttcKSOPuoJEmSpCpb9pIU\ncw5UA/4cOBLYA7gVuAT4x8zcVkKtXWEolCRJklRlpYXCYWUolCRJklRlZaxTKEmSJElaYZYcCiPi\nERFxXETcf8621RHxloj4ekRcEhEndKdMSZIkSVI3LHn4aEScBawF9snMuxrbNgJzJ5b5NfC0zPzP\nkutcNoePSpIkSaqyMoaPHgVcOCcQ3gd4JfBt4KHAEcAdwP9cfrmSJEmSpF5oJxTuA1wz5/XjgL2B\n92bmdZl5GfB/gMPLK0+SJEmS1E3thMJdgLnjL5/a+O+Fc7ZdB+y33KIkSZIkSb3RTii8HnjsnNfP\nBH6cmd+as+3BwM/KKEySJEmS1H3thMLzgFpETEXEW4EasGVem4OB75dVHEBEHBsRV0TElRGxoUmb\ndzf2fz0iHl/m+SVJkiRpJWsnFL4duBp4HXAKcANw2t07I2If4A+Ai8sqLiJWAe8BjgUOA06KiEPn\ntTkOeGRmHgysB/65rPNruBVFQa02Tq02TlEU/S5HA8bvD0mSpLrVS22YmTdFxGOBYxqbZjLz53Oa\nPAh4PfCZEus7ArgqM68BiIiPAccDl89psxaYbtR4aUTsERH7ZOZNJdahIVMUBevWTTA7ezoA27dP\nsHnzNGNjY32uTIPA7w9JkqTfWHIoBMjMO6gPI11o37eAby20bxn2B66d8/o64MlLaHMAYCissKmp\nTY0/+CcAmJ2tb/OPfoHfH5IkSXO1FQrvFhGPpj6cc7fM/HC5Jd3LUlebn78A44Lv27hx4z3PR0dH\nGR0d7agvY6lNAAAgAElEQVQoSZIkSRp0MzMzzMzMtGwXmUvNXdCYxOUDwN2TuWRmrmrsGwU+DTw/\nM+dPQNORiDgS2JiZxzZenwLsyMzT57R5H/WhrB9rvL4CePr84aMRke18Vg23+cMDR0Y2ODxQ9/D7\nQ5IkVVFEkJnzO9SWHgoj4hDgi8Aq6sHwEOCZmXmfxv77UB/G+dnMnCip6NXAt6nfx3hD4/wnZebl\nc9ocB7w6M49rhMh3ZeaRCxzLUFgxRVEwNbUJgMnJ9f7Br3vx+0OSJFVNGaHwI8AJwOGZ+c2I2Aic\nencobLT5JHBYZh5WTtkQEc8E3kU9jH4wM98WES8HyMwzGm3unqH0F8CLM/MrCxzHUChJkiSpspqF\nwnbuKTwGOCczv7lIm2uBZ7Rb3GIy8wLggnnbzpj3+tVlnlOSJEmSqqKddQr35N6zfC4kgPt2Xo4k\nSZIkqZfaCYU/Ah7Zos1htA6OkiRJkqQB0U4o/Bzw7MZyFDuJiCdRH2JalFGYJEmSJKn72gmFfwf8\nGrg4Il4B7AsQEb8XEa8EzgduB95RepWSJEmSpK5od53CY4GPArsvsPtW4MTMvLCk2krl7KOSJEmS\nqmzZS1LMOdCewIuAo4AHAbcBlwBnZeZPSqi1KwyFkiRJkqqsjHUKTwOuzswPl11cLxgKJUmSJFVZ\ns1DYzj2FbwQeU15JkiRJkqR+aycU3gA8sFuFSJIkSZJ6r51QeA7wjIgY6VYxkiRJkqTeaicUnkZ9\nhtH/ExEOI5UkSZKkFaCdiWa+B+xKfX3CBH4J/Kjx/F4y86ASayyFE81IkiRJqrJmE82sbucYwK+A\nH8zbNv+gJi9JkiRJGhJtr1M4rOwplCRJklRlZSxJIUmSJElaYVqGwoh4ckRcGBE/j4ifRcS2iDii\nF8VJkiRJkrpr0VAYEYcCFwKjwG7A/YFjgAsj4tFdr06SJGnIFEVBrTZOrTZOURT9Lmeo+bWUemPR\newoj4ixgApgG/ol6iHwl8ELgQ5n5//SgxlJ4T6EkSeq2oihYt26C2dnTARgZ2cDmzdOMjY31ubLh\n49dSKl+zewpbhcKrgVsz8wlztgXwFWCPzHxEN4rtBkOhJEnqtlptnG3b1lL/f+oA06xZs4WtW8/u\nZ1lDya+lVL5OJ5rZD7ho7oZGsppp7JMkSZIkDbFW6xTuCty2wPbbgF3KL0eSJGl4TU6uZ/v2CWZn\n669HRjYwOTnd36KGlF9LqXfaWbxekiRJixgbG2Pz5mmmpjYBMDnpPXCd8msp9U6rewp3AF9rPOZ6\nPPD7wL8s9L7MPLmk+krjPYWSJEmSqqzTiWZ2dHKyzGy5/mGvGQolSZIkVVmzUNhq+GgnPX4mL0mS\nJEkaEov2FK4k9hRKkiRJqrJOl6SQJEmSJK1ghkJJkiRJqjBDoSRJkiRVmKFQkiRJkirMUChJkiRJ\nFWYolCRJkqQKMxRKkiRJUoUZCiVJkiSpwlY32xERE0BHq71n5oc6rkiSJEmS1DORuXDui4gdHR4z\nM3NV5yV1R0Rks88qSZIkSStdRJCZMX97055C4OQFtq0Dng18vvG4EXgIMAr8IXAecM5yi5UkSZIk\n9UbTnsKdGkYcB5wLnJiZWxbYfzzwCeD4zLyg1CpLYE+hJEmSpCpr1lPYTij8d+C6zHzeIm0+Duyf\nmU/puNIuMRRKkiRJqrJmobCd2Ud/H7iyRZurGu0kSVJFFEVBrTZOrTZOURT9LkeS1KbF7imc707g\ncS3aPLbRTpIkVUBRFKxbN8Hs7OkAbN8+webN04yNjfW5MknSUrXTU/hZ4LiI+POIuFeXY0TcJyJe\nAxzXaCdJkipgampTIxBOAPVwODW1qd9lSZLa0E5P4SnA0cA/AK+NiO3ATcA+wFOBg4BbgDeUXaQk\nSZIkqTuWHAoz86qIOAp4L/AM6iFwrm3AqzLzuyXWJ0mSBtjk5Hq2b59gdrb+emRkA5OT0/0tSpLU\nliXPPnqvN0UcADwe2B24DfhKZl5fcm2lcvZRSZK6oyiKe4aMTk6u935CSRpQy16SYtgZCiVJkiRV\nWRlLUkiSJEmSVpgl31MYEWcBS+pqy8yTO67oN+fbC/g34GHANcBzM/PWBdqdCTwL+FFmPma555Uk\nSZKkKlny8NGI2LHUg2bmsnsgI+LvgR9n5t9HxAZgz8zcaWbTiHgacDvwocVCocNHJUmSJFXZsu8p\njIiHN9m1B3A4cCrwH8CGzPx+Z2Xe63xXAE/PzJsi4iHATGY+epHazjMUSpIkSdLCmoXCdpakuGaR\n3V+LiAL4BvXF6z/QdoU72yczb2o8v3s9REmSJElSidpZvH5RmXltRJwPvIYlhsKI2AY8ZIFdb5x3\n7IyIZXfzbdy48Z7no6OjjI6OLveQkiRJkjSQZmZmmJmZadmu1CUpIuIdwKsz834lHOsKYDQzb4yI\nfYGLHD4qSZIkSZ3p+pIUEbEKOJr6YvZl2AJMNJ5PAOeWdFxJkiRJUkM7E838YZNdq4GHAi8GngZ8\nIDPXL7uw+pIUH28c+xoaS1JExH7A+zPzWY12HwWeDjwI+BFwamaetcDx7CmUJEmSVFllzD66lCUp\nLgaOz8yyegtLYyiUJEmSVGXLnn0UeEuT7TuAnwKXZuYXOylOkiRJktQfpU40M8jsKZQkSZJUZV2f\naEaSJEmSNHzaXqcwInYDTgAeB+xBfbbRrwCbM/MX5ZYnSZIkSeqmtkJhRDwLmAb2WmD3TyLixZl5\nXimVSZIkSZK6rp3ZR58A/AewCvgocCFwI7Av9fUJ/wS4C3hKZn65K9Uug/cUSpIkSaqyMpakOBt4\nFnB0Zl6ywP4nA58HPp2ZJyyz3tIZCgdTURRMTW0CYHJyPWNjY32uSJIkSVqZygiFPwKKzHzhIm0+\nDIxl5oM7rrRLDIWDpygK1q2bYHb2dABGRjawefO0wVCSJEnqgjLWKdwd+EGLNtc22kktTU1tagTC\nCQBmZ+vbDIWSJElS77SzJMUPgSNatHlio50kSZIkaQi0Ewo/BRwTEadExKq5OyJiVURMAmuAT5dZ\noFauycn1jIxsoD6h7TQjIxuYnFzf77IkSZKkSmnnnsJ9gcuozzb6feAL1HsFHwI8FXgE9dlID8/M\nG7pS7TJ4T+FgcqIZSZIkqTeWPdFM4yCPAN5HvUdwvm3An2Xm9zqusosMhZIkSZKqrJRQOOdgBwCP\npz6pzG3AVzLz+mVX2UWGQkmSJElVVmooHEaGQkmSJElV1iwUtjPRjCRJkiRphWm6TmFEnAV01LWW\nmSd3XJEkSZIkqWeaDh+NiB2dHjQzB64H0uGjkiRJkqqs2fDRpj2FwEFdrEeSJEmSNACcaEaSJEmS\nKsCJZiRJkiRJO1k0FEbErhHxpYj4bETs2qLdhRFxaUTsUn6ZkiRJkqRuaNVT+KfAE4G3Z+avmjVq\n7Hs78KTGeyRJkiRJQ2DRewoj4nzg4Mx81JIOFvEd4MrMfFZJ9ZXGewolSZIkVVmn9xQ+Hri4jfNc\nDDyuncIkSZIkSf3TKhTuDdzYxvFuarxHkiRJkjQEWoXCXwIPaON492+8R5IkSZI0BFqFwmuBw9s4\n3hOBH3RejiRJkiSpl1qFwouAP4iIJ7U6UEQ8EfiDxnskSZIkSUOgVSh8L5DAJyLisGaNIuJQ4BPA\nDuCfyitPklSWoiio1cap1cYpiqLf5UiSpAGx6JIUABFxKrAR+BVwNvA54LrG7gOAY4BxYFfgtMz8\nX90qdjlckkJSlRVFwbp1E8zOng7AyMgGNm+eZmxsrM+VSZKkXmm2JEXLUNh4819TD4armzS5E9iY\nmW9bTpHdZCiUVGW12jjbtq0FJhpbplmzZgtbt57dz7IkSVIPNQuFzULevWTm/xsR/wq8GHgqsG9j\n1w+BLwBnZeb3yypWkiRJktQbSwqFAJl5DXBa90qRJHXL5OR6tm+fYHa2/npkZAOTk9P9LUqSJA2E\nJQ0fXQkcPiqp6oqiYGpqE1APid5PKElStSzrnsKVwFAoSZIkqcqahcJWS1JIkiRJklYwQ6EkSZIk\nVZihUJIkSZIqzFAoSZIkSRVmKJQkSZKkCjMUSpIkSVKFGQolSZIkqcIMhZIkSZJUYYZCSZIkSaow\nQ6EkSZIkVZihUJIkSZIqbGBDYUTsFRHbIuI7EbE1IvZYoM2BEXFRRHwzIv5vRLymH7VKkiRJ0rAa\n2FAIvAHYlpmHAJ9rvJ7vTuB1mfm7wJHAqyLi0B7WKEmSJElDbZBD4VpguvF8GnjO/AaZeWNmfq3x\n/HbgcmC/nlUoSZIkSUNukEPhPpl5U+P5TcA+izWOiIcDjwcu7W5ZkiRJkrRyrO7nySNiG/CQBXa9\nce6LzMyIyEWOc3/gk8BrGz2GC9q4ceM9z0dHRxkdHW2zYkmSJEkaDjMzM8zMzLRsF5lNs1ZfRcQV\nwGhm3hgR+wIXZeajF2i3C3A+cEFmvmuR4+WgflZJkiRJ6raIIDNj/vZBHj66BZhoPJ8Azp3fICIC\n+CDwrcUCoSRJkiRpYYPcU7gX8HHgocA1wHMz89aI2A94f2Y+KyKeClwMfAO4+4OckpmfWeB49hRK\nkiRJqqxmPYUDGwrLZiiUJEmSVGXDOHxUkiRJktRlhkJJkiRJqjBDoSRJkiRVmKFQkiRJkirMUChJ\nkiRJFWYolCRJkqQKMxRKkiRJUoUZCiVJkiSpwgyFkiRJklRhhkJJkiRJqjBDoSRJkiRVmKFQkiRJ\nkirMUChJkiRJFWYolCRJkqQKMxRKkiRJUoUZCiVJkiSpwgyFkiRJklRhhkJJkiRJqjBDoSRJkiRV\nmKFQkiRJkirMUKihVRQFtdo4tdo4RVH0uxxJkiRpKEVm9ruGnoiIrMpnrYKiKFi3boLZ2dMBGBnZ\nwObN04yNjfW5MkmSJGkwRQSZGTttr0pQMhSuLLXaONu2rQUmGlumWbNmC1u3nt3PsiRJkqSB1SwU\nOnxUkiRJkipsdb8LkDoxObme7dsnmJ2tvx4Z2cDk5HR/i5IkSZKGkMNHNbSKomBqahNQD4neTyhJ\nkiQ15z2FhkJJkiRJFeY9hZIkSZKknRgKJUmSJKnCDIWSJEmSVGGGQkmSJEmqMEOhJEmSJFWYoVCS\nJEmSKsxQKEmSJEkVZiiUJEmSpAozFEqSJElShRkKJUmSJKnCDIWSJEmSVGGGQkmSJEmqMEOhJEmS\nJFWYoVCSJEmSKsxQKEmSJEkVZiiUJEmSpAozFEqSJElShRkKJUmSJKnCDIWSJEmSVGGGQkmSJEmq\nsIENhRGxV0Rsi4jvRMTWiNhjgTb3i4hLI+JrEfGtiHhbL2ucmZnp5enUIa/TcPA6DQev03DwOg0+\nr9Fw8DoNB6/T8g1sKATeAGzLzEOAzzVe30tm/hI4OjMfBzwWODointqrAv0GHA5ep+HgdRoOXqfh\n4HUafF6j4eB1Gg5ep+Ub5FC4FphuPJ8GnrNQo8y8o/F0V2AV8JPulyZJkiRJK8Mgh8J9MvOmxvOb\ngH0WahQR94mIrzXaXJSZ3+pVgZIkSZI07CIz+3fyiG3AQxbY9UZgOjP3nNP2J5m51yLH2h0ogDdk\n5swC+/v3QSVJkiRpAGRmzN+2uh+F3C0z1zTbFxE3RcRDMvPGiNgX+FGLY90WEZ8CDgdmFti/04eX\nJEmSpKob5OGjW4CJxvMJ4Nz5DSJi77tnJY2IEWAN8NWeVShJkiRJQ66vw0cXExF7AR8HHgpcAzw3\nM2+NiP2A92fmsyLiscC/UA+39wE+nJlv71PJkiRJkjR0BjYUSpIkSZK6byCGj0bExojYERHfabL/\nysb+07pYw5MiYjoiro6IOyLiiog4NSLuO6/dmoj4aERc005NEfHciPhURNwQET+PiMsi4vlN2v51\nRFzbqOPzEfH78/Y/MiLOiIhvRMSvI+KiJZz/nY16S+tJjYjvNY75O2UdcwnnfEpEXBoRs41r9ect\n2m9u1PiqFu0eEBH/KyK+EhG3RcQPI+KciDh4gbb7N477s4i4OSL+sTF8eW6b5zXe/8PG+SfmH2de\n+90a13xHRBy2WNt29fo6RcThEfEvEfHtxvfnWU3aParxdbyx8TX/94gYa3Hsob9Og/D7boFzLvpz\n1bhW/xwR34mIX0TEdyPiXVGf4Gux4w7t9Rq067TUn6tG2z+M+r8dt0fETyNiJiIOXKS916kkEfHK\nqP/7/pPGz8o3IuIVC7S7b0RMRX3+hNsj4vyIeFiLYw/tdVrgWBsj4ublHKONc+0SEW+PiC80fsft\naNLuzRHxX42v7c8i4ksR8dwlHH/F/X0359i9vE5L/Tt8R5PHL1scf8Vep7IMRChs+CXw8Ih44tyN\nEfEk4GGN/d3s1nxu4zxvBY4F3gv8T+Aj89qNAb8HbAPuaKOmvwB+CrwGeDZwEfCvEfHquY0i4hTg\nTcDbgD8Cbgc+GxFzl+Q4DHgmcDnw7VY1NH55nwz8rI16FxURR1H/es0CJ5VxzCWc85HUZ5j9LvXP\nfwbwvyPiJU3a14AjGy9bfe6HUf8anQecALwc2Be4NCIOmHPMXRo1HAg8D3gt8MfApnnHG6c+9Pm8\nJZ7/jdQnfir1e7wf1wn4A+ApwKXAjSzwmSLigcBnqX+N/gw4EbgBOK/xM9/MSrlO/f59N/ecS/m5\nWkP9Z+ndjTZ/S/3ruTUiFpvEa9iv18BcJ5bwc9Wo7Vjq/z59lfq/NX8K/Adwv0WO7XUqzx7A2cAL\nqf8bfh7wnoiYnNfu3dTnS5ik/vtvb2Db/D+A5xn26zRfr67JbsBLqP899e+LnPcBwJnU/x48AfgK\n8LGIGG9x/BX1990CenWdlvp3+JHzHkcBPwY+3eL4K/06LV9m9v0BbARuBj4DvH3evqnG9puBU0s4\n132bbH/QAtteBuwADpyzLeY8X3JNwF4LbPsI/3975x5u13jn8c+PIENKoqUi6lJqXGZGtVETl1FU\nK6jQoeNWUgwzqnV52hm0tDFtB4MKQ6tKPPQWIohr1SU6GJUKnRnkoRIEJUqakIiQ/OaP37uSddbZ\ne5+1ztnHOXvv7+d5zrPOXutd73rX+q71Xn+/94XZud9DgQXAt3L71iRmXv23OmmYAtzbw7XvASYA\nc4DzmqTZxcDTwBXAE018F1YDVqlz7HJgVv44kWm8UCeeJ4mPcDlwQg/XXbP4bgAjgDfzGhMNq/eA\nTXL7DgaWAVsUNSIKo+XAkQ2uvUW6zvEp7DZNfJ4DoVP+/ZwBXFUjzD7pXrfN7VuVqOye08468T7m\ndyXT0+N3Re38a6/0HP6uHfUahDqV+a5WA+aSKy9Kxi2d+le7nwK/z/3eCHgXOCK3b0PgHeCYdtSp\nnm4DoMWJwPIK4R8Abu4hTFvV7wZKJ0rWw2uE2SGFObhTdWrW32AaKQSYTPQUAJB6oA8GflkMaGZj\nzGxaGgZ+y8weM7PDCmHGp6HaHSzMZxYDX691YXd/vcbux9N2w1y4XrXw3f2NOvFvmPu9E9FTdV3u\nvMVEL97Y3qTBzA4CtgTOBZqyLIeZrUroNDX9bW0x6U8+TPbsR1uYbCy2MHs6oBBuupldb2bHmdmz\nxIjWyDqXHgtMdfe86cdkYCMz27YQ9iRiJHdSmXty98Xu/k5h33zg+UJ6xgKPuPvzuX03A0uJnq3s\n3EyjMs/8IqLRNqtMWssyUDqVfD+z57Iwd94yQrO6tJlOTcvvzGxdM1tiBfMvC2ab2QUN0tHjd9Ug\n/4L632u76DUodCr5Xe0FjCIa9aWRTk39nmrxBtFgz/hs2k7Ndrj7y0QDZCx1aBOdupErh9Ys7H/O\ncqZ2uXLoMDP7g4WZ5+1mNqrZacpR1K4b7VS/6+F6/apT2Xp4DQ4lRvNuaRCmY3TqC4OpUehEBvlh\nM9sl7dsVWI9cxpljE8Ik5lhiePcGYJLVtg/+BZEhjgVuq5CmMUTvw7MVzqnCGGLYOWMroifvmUK4\nWelYJSz8By4ATksvdbOGrHcH1id0uZvoValnmjgZuBE4EPhf4PpCw8QJk6jjgW8QWi4sRmJmaxG9\nq8UC6am03SoXdgNi6P/k3jbiUzzrEb2jeV+VrYppcPelxDvyl724xr7AjkQPUrMzi/ddpwrcTTzX\n881so1QJO4Mwobq6SkQtqlNT87tU2E0FxhfO+zSwKWES1Y0q31UNxqRtTV+uerSYXoNCpwrsCLwO\n7GThS/euhY/UflUjkk5908nMhpjZMDMbS5iSXpY7vBUwN5XLeSqX9S2mU1WcrvUWT+k4ATgFOA74\nBN3NYvtE0m64mR1OdLT8qBfRtGr9rjf0p04N6+Gp8+eLxGhuQ5/CBvF3ik49MqCL1xfxWID+TuAQ\nosfsEOAOd19oBbcVd1/R+5deigcI+/l/pHvP4ER3v6RKWnINi2vc/U9V76VE/HsC44Av53aPAN6q\n0ZCZD6xpZkPc/b0KlzkdeMndi/bYfeXQFO8jAGZ2G6HV6TXCXuHuF6ZwdxEmnaezsnFiwDrAdu7e\nyJl5eNr+ubB/ftqOyO07D7jT3R8odzt1uYAwl7m6kI5iGrJ0jKixvy5mtjrR+3pmevd7mcy6DIRO\npXD3dyx8Pn8FvJB2LwTGuXvVnuiW1Kkf8rsrCR+/zdx9Ttr3ZeB37v5EnWRU+a5WkHqKzwWmu3vV\ntWFbSq9BolNZNiBMAS8HziAqUscDN5rZ9u7+fxXikk691CnVH17O7TrP3f8z93sETXqOtJhOfcSI\nUZx93X1BSt8GwA/MbI3iKGqvLmD2t0SHAURj5GvuPq1iHK1cv2sGTdGpZD18V2Kkr5tFQIn4O12n\nbgymkcIsp5kMHJQyooOoI7SZjTCzi83secIkYimRoXebhYtqo4NZJngdUUk9pcq5JePfFPg5cJO7\nX9Ps+NM1NiMc2E9qcryrEw7YN+V2TwU2sZjUpMiN2T/pI7sZ+FQhzKPNaGik9I0hnOe/0cd4/hk4\nHDg2mef0eEovLnMqYS55eS/ObUgL6LQOcAfh67M/8JmUvqlm9vEK8bSqTk3P79z9HsKM7Kh0zgeI\nd6CUCXXphEet8EpiVPfoiue2ml6tppMRPjHfdPcr3P1eomNnDhXyROnUZ51eA0YTI4sTgJMsJq+o\nleZe04I6NYMZWUMjkVk1NMuE9H8I7T5D+ORPTCOGpWjl+l2T6ZNOFerhhxImvr+qkjjpVJvB1CjM\nmAYMA75POHfWsxG+mhgyPpcY3h9NmHT8RY2wr5a9eKrwXANsDexTeKn7jJmtS1SG5xCZeZ75wDDr\n3hU3AlhcsXfinHSdp5MZxHBC76HWwzTyPTCWGDG6Jxfvw4SDfC3TxHmF36/R3QepjD5Zr2cx7Vmv\nZ1YgXkQUXm/m0gfRw1Pqvs1sf6Iw+Bd3v7lweH6NNGTpKFMoZ9dYj5jJbQKwTkrnsHR4bQuzvr4w\nUDqV5VjChGs/d7/V3e9196OJgmNCmQjaRKdm53eTSJXYFH5VouCrR9nvKs+5wAHAAe7+XIO4u9Di\neg20TmXJntV92Q4PX9H7gaLfdU2kUxd6pZO7L3P3me7+G3efkNJzlq1cEqLRc6zl99SNFtepLxRH\nQJembaPZdUuT/DZnpjLpVKI++O9lzm2D+l0z6bVOZevhZjaEGAS4ocrzk071GXSNQndfBNxKTB07\nzd3fLoYxs6HAvsRsW5e5+3R3n0lk2DWjrZCEi4ipase5eyVfmZ5IJle3Ema7+9Wwf55F3MMWhf1b\nsbKXpSxbEr2a84lC5g3CPOZEYL6ZNXLabUTWoJiai/dFYA3gYDMrvlPr1/j9cmFfj/qk92IukUnk\nyWy8M5PDLYl3543cH4RJaY+jXGa2M9G7/EN3rzWZwKxiGlKP1mZUc8AfRZh5TcmlMzNReYjcyF0v\nGRCdKrA58Ly7F/0SH0/HGtIuOvVDfnc18BEz253wh7qxUcdWhe8qS8spRM/nl9z9wZ7vcMV5La3X\nQOtUgaycKFZoViFM4RoinbpxNc3R6TEi78062maleIuN0G6+gLVodZ1qkNWFVi/sr2pK2x88Rky6\nVa9+CbRN/a4n3i+dytbD9yQsVn5RNuIO0anXDCqfwhw/JF66es69axCFXNbzkJl27E84iPaKZN7x\nFWJa24d6Cl8x7iHA9USFd6c69tEPEUPlXyTWacle4M9T3dH5WCIzX5EEohCZTjzfyn6SqVfw80RP\nadFh+BPAhcAexCQiGV8g9bKlhsg44JHc8SoNjTuAA83sW75ypsR/IKbOz3w89qNr4W5Er/lEak84\nsDJgzLR4C3C7u3+tQRoOM7ON3T3zhdufeCfvrHAvzxCmRXm2B35A2LfPrBBXFwaBTmWYAxxpZsPd\nPd+j+Ml0rC7tolOOpuV37j7Xwif0bGJioM+VuH6Z74pkQnU+cIq7TylzY+m8dtFroHUqw53EUgR7\nkiYeSZXZ3YB7G50onfpVp52JCnXW0XZX2n6BtAZbqiDuAnRb6D5PG+mU58W03Ybkz2dmOwJrF8IN\nxCQdOxOTAtWtW7ZD/a4k/a5TxXr4ocDL7j69ZNydolOvGZSNQne/nzB3yWO54wvMbAZhjpEtBHka\nMVxdfDlLYTEd9feInsGXLZyNM/6QvTxmtgmxJgpEwbOtxXSzi9z9jgaXuIww6TsJWC+ZZWTMdPel\n7r7EzM4BzjSz+cSMSKemMCsmykm9i/umn6OAD6Q0ANzm7m+7+6M17vEdInP7TcOHUZ9xhHnNRHef\nUYj7IcLM5FC6NjaOMbOlwBPEB/JRosK54lTK+zn8BzHUf62Z/YTQ4Thi8XMAao1eJCuAZ9z9v+pF\nbGbrE4Xlm8AlBf0XuHvWQzSFuM+pZnYm4dB/IfAzd382F982RMaZmUrsYLEkyrxkUrQI6KJDbvRu\nhrs/2fBJNGZAdTKzD7GyIrEusaj0QQC5xsTPiIkwbjez84glLo4gzLj2pQ5tphPQL/ndlUTBN9fd\nf10iCT1+V2a2G2FKdxexUHb+uc9195dqRdxOeg20TmW+K3d/xcwuBc5J5k/PElpuSAMTOOnUVJ1m\nEM5NJOEAAAaMSURBVPWIp4mlDPYiKrnnZ6MS7v6imV0JXJR0+hOxHtxzxJqG9eJuG50SWePhEeAl\n4OKU3g8SPrAL6VruVKkvdMFiFti1gI+n33+f4nrE3V9IdburiFGn2YSZ7IFEOfhPNSNdSTvU7xrx\nvuhUth6ewq5BuDFUmbG53XXqOz4IFksEvk1kQo3CdFl8lmjp302sTfIcsf5gl3gIc49lwJol0jAp\nhV1e+FtGbkHXFGf+WPb/7B7in9Mg/o0LYc8gTLoWE4XbdoXjmxbOX1Yvrhpp6PWimYTZyKwGxy9l\n5Zo+2XMaTczs9jbxcR1YOOc+4LoKadgZ+G2KbzZwYolzyixe/+kammZ/9xbCjiLMZt4kCvNLgKE1\n3ula70ndBU5TGpbR90WBB1Sn3LPs9n4Wwm1HTAL1KrFcxsPF67ajTvRTfpcLO5QYBTm7Wd9V4TkV\n/+ouCt7Keg02nSj/XQ0BvkuMSi0her53bdfvahDq9GMiD12UrvsgcFiNcKsTM4fOS+m4ldxi8+2m\nU414zgVezP0eTTQ6FgGPEuvFdamzUKMcKpueFFfxXlfU74gOgWuI/O9t4I/pHdm7xL20fP1uMOhE\nyXp4CntA2v+pCvfStjo1689SIoVoKmY2nujBGebd12ISgwTp1H6Y2T6EednH3H32QKdH1EY6tQbS\nqX8wsynASHffeaDTIuojnTqLQWk+KoQQohpmNpJwbD+HMF9RBXYQIp1aA+nUPySfyN1Jk/0McHJE\nHaRTZzLoZh8VbYWGoVsD6dQeHE+YOy0GvjrAaRH1kU6tgXTqHy4h/NAuIvwcxeBEOnUgMh8VQggh\nhBBCiA5GI4VCCCGEEEII0cGoUSiEEEIIIYQQHYwahUIIIYQQQgjRwahRKIQQQgghhBAdjBqFQggh\nhBBCCNHBqFEohBBC5DCz5YW/JWY2z8weNbMrzGxvM2tK+Wlm49M1jmpGfEIIIURv0OL1QgghRHcc\nmJD+XxUYDvwV8CXgGOB3Zna4uz/TxOsJIYQQA4IahUIIIUQN3P3s4j4zW59Y2Plg4G4zG+3urzXh\nctaEOIQQQoheIfNRIYQQoiTuPg84BJgOfAQ4I3/czD5pZhPN7Pdm9rqZvW1mT5vZ+WY2vBB2OnBV\n+jmpYLK6cS7cEDM7wcweNrOFZrbIzGaa2VfMTI1JIYQQfcbcZbEihBBCZJjZcsDdfdUGYfYA7gZe\ndfeRuf0/Ag4gGo1zic7X0cCuwFPAju7+Vgp7VAo7DrgJeDx3iYnuvsDMVgNuAT4LzErxLgH2AP4G\n+Km7H9n3uxZCCNHJqFEohBBC5CjZKFwdWEQ0+jZ39+fS/o2BuV4oXM3saOAnwGnufl5u/3hitHC8\nu19T4zrfAc4iTFZPzuJNE938GDgaOMDdp/X2foUQQgiZjwohhBAVcfelwOvp54dy+18oNggTk4A3\niRG/UqSG31eBPwKn5ON19+XA14kJag6vfANCCCFEDk00I4QQQvSOzJ9vRWMtmXseT/gdbgOsTdcO\n2FEV4t8SGAE8A5xVx31wCbB1hTiFEEKIbqhRKIQQQlTEzIYC66af+dlHJxN+gs8CNwKvAO8QDciT\ngTUqXOaDafsxwoS0Fg6sVSFOIYQQohtqFAohhBDV2YVYv/AVd38BwMxGEw3CXwNjk4kn6ZgB/1rx\nGgvSdqq7H9T3JAshhBC1kU+hEEIIUYHk6/fN9PPnuUNbpO20fIMwsSMwtEZ0y9K21qQ2TwF/BsaY\nmTpxhRBC9BtqFAohhBAlSYvX/xLYDXge+H7u8Jy03b3GOZfWiTKbrGaT4gF3X0bMOjoSuDiZrBbT\nM9LM5FMohBCiT2hJCiGEECJHWpICYALhC7gKMBzYljAbXQ34LXC4u8/OnbcKcD+wM/DfwIPAh4G9\niTUGNwfedffNcucMB14E3gOuBV5Nhy5294VphHAKsD/wEnBf2q5P+BruBJyRX+ZCCCGEqIoahUII\nIUSObJ1CVs4uuhRYSIwMzgRucPe76pw7AvgusA+wAdHgmwx8D3iSWP/wo4VzPgd8G/hrYtIYBzbL\nfBVTmCOA8cD2wDBgHjEyeTtwrbu/1Nf7FkII0bmoUSiEEEIIIYQQHYx8CoUQQgghhBCig1GjUAgh\nhBBCCCE6GDUKhRBCCCGEEKKDUaNQCCGEEEIIIToYNQqFEEIIIYQQooNRo1AIIYQQQgghOhg1CoUQ\nQgghhBCig1GjUAghhBBCCCE6GDUKhRBCCCGEEKKD+X8OG++8B/2ysQAAAABJRU5ErkJggg==\n",
=======
       "output_type": "pyout",
       "prompt_number": 18,
>>>>>>> d1309708606b6587d01652ff48bf593eab2f4847
       "text": [
        "<matplotlib.figure.Figure at 0x2b11df95ebd0>"
       ]
      }
     ],
     "prompt_number": 18
    },
    {
     "cell_type": "code",
     "collapsed": false,
     "input": [
      "times = [i.total_seconds() for i in (dates-datetime.datetime(2014,3,15))]\n",
      "np.corrcoef(np.array(times),dif)"
     ],
     "language": "python",
     "metadata": {},
     "outputs": [
      {
       "metadata": {},
       "output_type": "pyout",
       "prompt_number": 19,
       "text": [
        "array([[ 1.        ,  0.32308559],\n",
        "       [ 0.32308559,  1.        ]])"
       ]
      }
     ],
     "prompt_number": 19
    },
    {
     "cell_type": "code",
     "collapsed": false,
     "input": [
      "dif.shape"
     ],
     "language": "python",
     "metadata": {},
     "outputs": [
      {
       "metadata": {},
       "output_type": "pyout",
       "prompt_number": 20,
       "text": [
        "(26,)"
       ]
      }
     ],
     "prompt_number": 20
    },
    {
     "cell_type": "code",
     "collapsed": false,
     "input": [
      "plt.plot(times,dif)"
     ],
     "language": "python",
     "metadata": {},
     "outputs": [
      {
       "metadata": {},
       "output_type": "pyout",
       "prompt_number": 21,
       "text": [
        "[<matplotlib.lines.Line2D at 0x2b11df9e3e10>]"
       ]
<<<<<<< HEAD
      },
      {
       "metadata": {},
       "output_type": "display_data",
       "png": "iVBORw0KGgoAAAANSUhEUgAAAY0AAAEACAYAAABPiSrXAAAABHNCSVQICAgIfAhkiAAAAAlwSFlz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\nN/8fqDfEsMUr9WAAAAAASUVORK5CYII=\n",
=======
      }
     ],
     "prompt_number": 21
    },
    {
     "cell_type": "code",
     "collapsed": false,
     "input": [],
     "language": "python",
     "metadata": {},
     "outputs": [],
     "prompt_number": 21
    },
    {
     "cell_type": "code",
     "collapsed": false,
     "input": [
      "dates[(abs(rh_dif)>=.4).nonzero()]"
     ],
     "language": "python",
     "metadata": {},
     "outputs": [
      {
       "metadata": {},
       "output_type": "pyout",
       "prompt_number": 22,
>>>>>>> d1309708606b6587d01652ff48bf593eab2f4847
       "text": [
        "<matplotlib.figure.Figure at 0x2b11df94ea50>"
       ]
      }
     ],
<<<<<<< HEAD
     "prompt_number": 20
=======
     "prompt_number": 22
>>>>>>> d1309708606b6587d01652ff48bf593eab2f4847
    },
    {
     "cell_type": "code",
     "collapsed": false,
     "input": [],
     "language": "python",
     "metadata": {},
<<<<<<< HEAD
     "outputs": [],
     "prompt_number": 21
=======
     "outputs": [
      {
       "metadata": {},
       "output_type": "pyout",
       "prompt_number": 23,
       "text": [
        "[<matplotlib.lines.Line2D at 0x10c72ecd0>]"
       ]
      },
      {
       "metadata": {},
       "output_type": "display_data",
       "png": "iVBORw0KGgoAAAANSUhEUgAAAX0AAAEACAYAAABfxaZOAAAABHNCSVQICAgIfAhkiAAAAAlwSFlz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\n",
       "text": [
        "<matplotlib.figure.Figure at 0x106181a90>"
       ]
      }
     ],
     "prompt_number": 23
>>>>>>> d1309708606b6587d01652ff48bf593eab2f4847
    },
    {
     "cell_type": "code",
     "collapsed": false,
     "input": [
      "dates[0]"
     ],
     "language": "python",
     "metadata": {},
     "outputs": [
      {
       "metadata": {},
       "output_type": "pyout",
       "prompt_number": 22,
       "text": [
        "datetime.datetime(2014, 4, 1, 0, 0)"
       ]
      }
     ],
     "prompt_number": 22
    },
    {
     "cell_type": "code",
     "collapsed": false,
     "input": [
      "np.std(rh_dif)"
     ],
     "language": "python",
     "metadata": {},
     "outputs": [
      {
       "metadata": {},
       "output_type": "pyout",
       "prompt_number": 25,
       "text": [
        "0.26088177202521451"
       ]
      }
     ],
     "prompt_number": 25
    },
    {
     "cell_type": "code",
     "collapsed": false,
     "input": [
      "dates[0]"
     ],
     "language": "python",
     "metadata": {},
     "outputs": [
      {
       "metadata": {},
       "output_type": "pyout",
       "prompt_number": 27,
       "text": [
        "datetime.datetime(2014, 3, 27, 0, 0)"
       ]
      }
     ],
     "prompt_number": 27
    },
    {
     "cell_type": "code",
     "collapsed": false,
     "input": [
      "dates[-1]"
     ],
     "language": "python",
     "metadata": {},
     "outputs": [
      {
       "metadata": {},
       "output_type": "pyout",
       "prompt_number": 28,
       "text": [
        "datetime.datetime(2014, 5, 28, 0, 0)"
       ]
      }
     ],
     "prompt_number": 28
    },
    {
     "cell_type": "code",
     "collapsed": false,
     "input": [],
     "language": "python",
     "metadata": {},
     "outputs": []
    }
   ],
   "metadata": {}
  }
 ]
}