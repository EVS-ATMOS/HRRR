{
 "metadata": {
  "name": "",
  "signature": "sha256:cd9f48c7a84bd6206e7e0eb6275ce29a094b7109e2640b1a33c0926719816dd6"
 },
 "nbformat": 3,
 "nbformat_minor": 0,
 "worksheets": [
  {
   "cells": [
    {
     "cell_type": "code",
     "collapsed": false,
     "input": [
      "radar_directory = '/home/mjohnson/python/radar_txt'\n",
      "hrrr_directory = '/home/mjohnson/python/hrrr_txt'"
     ],
     "language": "python",
     "metadata": {},
     "outputs": [],
     "prompt_number": 1
    },
    {
     "cell_type": "code",
     "collapsed": false,
     "input": [
      "import datetime\n",
      "import pyhrrr\n",
      "import json\n",
      "import os\n",
      "import matplotlib.dates\n",
      "import matplotlib.pyplot as plt\n",
      "import numpy as np\n",
      "%matplotlib inline"
     ],
     "language": "python",
     "metadata": {},
     "outputs": [],
     "prompt_number": 2
    },
    {
     "cell_type": "code",
     "collapsed": false,
     "input": [
      "hrrr_fracts = []\n",
      "radar_fracts = []\n",
      "dates = []\n",
      "\n",
      "for date in [datetime.datetime(2014,3,10)+datetime.timedelta(days=i) for i in range(200)]:\n",
      "    \n",
      "    #get filenames\n",
      "    radar_string = pyhrrr.produce_radar_txt_string(date)\n",
      "    hrrr_string = pyhrrr.produce_hrrr_txt_string(date,filenum = 24,hour = 1,loc=[36.605, -97.485], indexes = None,\n",
      "                                          modelhours = False)\n",
      "    \n",
      "    if not (hrrr_string in os.listdir(hrrr_directory) and radar_string in os.listdir(radar_directory)):\n",
      "        continue\n",
      "        \n",
      "    #get data\n",
      "    wkdir = os.getcwd()\n",
      "    os.chdir(hrrr_directory)\n",
      "    try:\n",
      "        hrrrf = open(hrrr_string,'r')\n",
      "    except IOError:\n",
      "        continue\n",
      "    try:\n",
      "        hrrr = json.load(hrrrf)\n",
      "    except ValueError:\n",
      "        continue\n",
      "    os.chdir(radar_directory)\n",
      "    try:\n",
      "        radarf = open(radar_string,'r')\n",
      "    except IOError:\n",
      "        continue\n",
      "    try:\n",
      "        radar = json.load(radarf)\n",
      "    except ValueError:\n",
      "        continue\n",
      "    \n",
      "    #filtering\n",
      "    \n",
      "    hrrr[0] = np.array(hrrr[0])\n",
      "    press_index = pyhrrr.HRRR_PS.tolist().index(800)\n",
      "    heights = radar[2]\n",
      "    snr = np.array(radar[1])\n",
      "    hrrr_tot = np.array(hrrr[0][:,-5,:])+np.array(hrrr[0][:,-4,:])+np.array(hrrr[0][:,-3,:])+np.array(hrrr[0][:,-2,:])+np.array(hrrr[0][:,-1,:])\n",
      "    radar = np.array(radar[0])\n",
      "    hrrr_tot_m = pyhrrr.filter_mask(hrrr_tot,hrrr_tot,10**-5)\n",
      "    radar_m = pyhrrr.filter_mask(radar,snr,-14)\n",
      "    radar_cut = radar_m[:,0:press_index]\n",
      "    radar_cut = pyhrrr.filter_mask(radar_cut,radar_cut,-15)\n",
      "    radar_mc = radar_m[:,:]\n",
      "    radar_mc[:,0:press_index] = radar_cut\n",
      "    \n",
      "    #analysis\n",
      "    \n",
      "    hrrr_tot_m.filled(0)\n",
      "    \n",
      "    \n",
      "    hrrr_c = float(hrrr_tot_m.any(axis=1).sum(axis=0)/float(hrrr_tot.shape[0]))\n",
      "    radar_c = float(radar_mc.any(axis=1).sum(axis=0)/24.)\n",
      "    \n",
      "        \n",
      "    hrrr_fracts.append(hrrr_c)\n",
      "    radar_fracts.append(radar_c)\n",
      "    dates.append(date)\n",
      "    \n",
      "while np.nan in hrrr_fracts:\n",
      "    hrrr_fracts[hrrr_fracts.index(np.nan)] = 0\n",
      "while np.nan in radar_fracts:\n",
      "    radar_fracts[radar_fracts.index(np.nan)] = 0 "
     ],
     "language": "python",
     "metadata": {},
     "outputs": [
      {
       "output_type": "stream",
       "stream": "stderr",
       "text": [
        "/home/jhelmus/anaconda/lib/python2.7/site-packages/numpy/ma/core.py:3847: UserWarning: Warning: converting a masked element to nan.\n",
        "  warnings.warn(\"Warning: converting a masked element to nan.\")\n",
        "pyhrrr.py:14: RuntimeWarning: invalid value encountered in less_equal\n"
       ]
      }
     ],
     "prompt_number": 3
    },
    {
     "cell_type": "code",
     "collapsed": false,
     "input": [
      "hrrr_fracts = np.array(hrrr_fracts)\n",
      "radar_fracts = np.array(radar_fracts)\n",
      "dates = np.array(dates)"
     ],
     "language": "python",
     "metadata": {},
     "outputs": [],
     "prompt_number": 4
    },
    {
     "cell_type": "code",
     "collapsed": false,
     "input": [
      "hrrr_fracts"
     ],
     "language": "python",
     "metadata": {},
     "outputs": [
      {
       "metadata": {},
       "output_type": "pyout",
       "prompt_number": 5,
       "text": [
        "array([ 0.28571429,  0.88235294,  0.2       ,  0.25      ,  0.        ,\n",
        "        0.5       ,  0.08333333,  0.        ,  0.        ,  0.68181818,\n",
        "        0.5       ,  0.1       ,  0.45833333,  0.41666667,  0.5       ,\n",
        "        0.125     ,  0.125     ,  0.54166667,  0.54545455,  0.13636364,\n",
        "        0.        ,  0.2173913 ,  0.04347826,  0.08333333,  0.66666667,\n",
        "        0.        ,  0.        ,  0.58333333,  0.        ,  0.17391304,\n",
        "        0.29411765,  0.47368421,  0.        ,  0.04761905,  0.41666667,\n",
        "        0.        ,  0.41666667,  0.125     ,  0.45833333,  0.58333333,\n",
        "        0.13043478,  0.5       ,  0.        ,  0.        ,  0.        ,\n",
        "        0.        ,  0.08333333,  0.58333333,  0.375     ,  0.        ,\n",
        "        0.04347826,  0.65      ,  0.29166667,  0.16666667,  0.16666667,\n",
        "        0.29166667,  0.19047619,  0.69565217,  0.75      ,  0.54166667,\n",
        "        0.7826087 ,  0.36363636,  0.16666667,  0.30434783,  0.4       ,\n",
        "        0.47619048,  0.0952381 ,  0.13043478,  0.375     ,  0.54166667,\n",
        "        0.45833333,  0.66666667,  0.79166667,  0.61538462,  0.        ])"
       ]
      }
     ],
     "prompt_number": 5
    },
    {
     "cell_type": "code",
     "collapsed": false,
     "input": [
      "dif = radar_fracts-hrrr_fracts"
     ],
     "language": "python",
     "metadata": {},
     "outputs": [],
     "prompt_number": 6
    },
    {
     "cell_type": "code",
     "collapsed": false,
     "input": [],
     "language": "python",
     "metadata": {},
     "outputs": [],
     "prompt_number": 6
    },
    {
     "cell_type": "code",
     "collapsed": false,
     "input": [
      "dif"
     ],
     "language": "python",
     "metadata": {},
     "outputs": [
      {
       "metadata": {},
       "output_type": "pyout",
       "prompt_number": 7,
       "text": [
        "array([ 0.00595238, -0.17401961, -0.11666667, -0.16666667,  0.04166667,\n",
        "        0.16666667,  0.54166667,  0.25      ,  0.04166667, -0.30681818,\n",
        "        0.125     ,  0.06666667, -0.41666667, -0.29166667, -0.45833333,\n",
        "        0.04166667,  0.45833333,  0.375     ,  0.07954545,  0.11363636,\n",
        "        0.20833333,  0.1576087 ,  0.53985507,  0.33333333,  0.08333333,\n",
        "        0.        ,  0.45833333,  0.20833333,  0.29166667,  0.32608696,\n",
        "        0.41421569,  0.35964912,  0.33333333,  0.24404762,  0.125     ,\n",
        "        0.20833333,  0.125     ,  0.33333333,  0.04166667, -0.29166667,\n",
        "        0.16123188, -0.41666667,  0.20833333,  0.5       ,  0.33333333,\n",
        "        0.45833333,  0.16666667,  0.16666667,  0.25      ,  0.75      ,\n",
        "        0.49818841,  0.1       ,  0.20833333,  0.20833333,  0.20833333,\n",
        "        0.33333333,  0.26785714,  0.26268116, -0.16666667,  0.16666667,\n",
        "        0.13405797, -0.0719697 ,  0.125     , -0.30434783, -0.275     ,\n",
        "        0.02380952,  0.11309524,  0.36956522,  0.        ,  0.20833333,\n",
        "        0.375     ,  0.125     , -0.5       , -0.15705128,  0.08333333])"
       ]
      }
     ],
     "prompt_number": 7
    },
    {
     "cell_type": "code",
     "collapsed": false,
     "input": [
      "dates[(abs(dif)>=.4).nonzero()]"
     ],
     "language": "python",
     "metadata": {},
     "outputs": [
      {
       "metadata": {},
       "output_type": "pyout",
       "prompt_number": 8,
       "text": [
        "array([datetime.datetime(2014, 3, 23, 0, 0),\n",
        "       datetime.datetime(2014, 4, 1, 0, 0),\n",
        "       datetime.datetime(2014, 4, 3, 0, 0),\n",
        "       datetime.datetime(2014, 4, 5, 0, 0),\n",
        "       datetime.datetime(2014, 4, 11, 0, 0),\n",
        "       datetime.datetime(2014, 4, 16, 0, 0),\n",
        "       datetime.datetime(2014, 4, 20, 0, 0),\n",
        "       datetime.datetime(2014, 5, 2, 0, 0),\n",
        "       datetime.datetime(2014, 5, 4, 0, 0),\n",
        "       datetime.datetime(2014, 5, 10, 0, 0),\n",
        "       datetime.datetime(2014, 5, 15, 0, 0),\n",
        "       datetime.datetime(2014, 5, 16, 0, 0),\n",
        "       datetime.datetime(2014, 6, 9, 0, 0)], dtype=object)"
       ]
      }
     ],
     "prompt_number": 8
    },
    {
     "cell_type": "code",
     "collapsed": false,
     "input": [
      "radar_fracts"
     ],
     "language": "python",
     "metadata": {},
     "outputs": [
      {
       "metadata": {},
       "output_type": "pyout",
       "prompt_number": 9,
       "text": [
        "array([ 0.29166667,  0.70833333,  0.08333333,  0.08333333,  0.04166667,\n",
        "        0.66666667,  0.625     ,  0.25      ,  0.04166667,  0.375     ,\n",
        "        0.625     ,  0.16666667,  0.04166667,  0.125     ,  0.04166667,\n",
        "        0.16666667,  0.58333333,  0.91666667,  0.625     ,  0.25      ,\n",
        "        0.20833333,  0.375     ,  0.58333333,  0.41666667,  0.75      ,\n",
        "        0.        ,  0.45833333,  0.79166667,  0.29166667,  0.5       ,\n",
        "        0.70833333,  0.83333333,  0.33333333,  0.29166667,  0.54166667,\n",
        "        0.20833333,  0.54166667,  0.45833333,  0.5       ,  0.29166667,\n",
        "        0.29166667,  0.08333333,  0.20833333,  0.5       ,  0.33333333,\n",
        "        0.45833333,  0.25      ,  0.75      ,  0.625     ,  0.75      ,\n",
        "        0.54166667,  0.75      ,  0.5       ,  0.375     ,  0.375     ,\n",
        "        0.625     ,  0.45833333,  0.95833333,  0.58333333,  0.70833333,\n",
        "        0.91666667,  0.29166667,  0.29166667,  0.        ,  0.125     ,\n",
        "        0.5       ,  0.20833333,  0.5       ,  0.375     ,  0.75      ,\n",
        "        0.83333333,  0.79166667,  0.29166667,  0.45833333,  0.08333333])"
       ]
      }
     ],
     "prompt_number": 9
    },
    {
     "cell_type": "code",
     "collapsed": false,
     "input": [
      "np.sqrt(np.mean(dif**2))"
     ],
     "language": "python",
     "metadata": {},
     "outputs": [
      {
       "metadata": {},
       "output_type": "pyout",
       "prompt_number": 10,
       "text": [
        "0.28540158547964556"
       ]
      }
     ],
     "prompt_number": 10
    },
    {
     "cell_type": "code",
     "collapsed": false,
     "input": [
      "sum(radar_fracts==1)/float(radar_fracts.shape[0])"
     ],
     "language": "python",
     "metadata": {},
     "outputs": [
      {
       "metadata": {},
       "output_type": "pyout",
       "prompt_number": 11,
       "text": [
        "0.0"
       ]
      }
     ],
     "prompt_number": 11
    },
    {
     "cell_type": "code",
     "collapsed": false,
     "input": [
      "sum(hrrr_fracts==1)/float(hrrr_fracts.shape[0])"
     ],
     "language": "python",
     "metadata": {},
     "outputs": [
      {
       "metadata": {},
       "output_type": "pyout",
       "prompt_number": 12,
       "text": [
        "0.0"
       ]
      }
     ],
     "prompt_number": 12
    },
    {
     "cell_type": "code",
     "collapsed": false,
     "input": [],
     "language": "python",
     "metadata": {},
     "outputs": [
      {
       "metadata": {},
       "output_type": "pyout",
       "prompt_number": 17,
       "text": [
        "5"
       ]
      }
     ],
     "prompt_number": 17
    },
    {
     "cell_type": "code",
     "collapsed": false,
     "input": [],
     "language": "python",
     "metadata": {},
     "outputs": [],
     "prompt_number": 13
    },
    {
     "cell_type": "code",
     "collapsed": false,
     "input": [],
     "language": "python",
     "metadata": {},
     "outputs": []
    }
   ],
   "metadata": {}
  }
 ]
}