{
 "metadata": {
  "name": "",
  "signature": "sha256:be2df946ef7d5b38b80990569a0c0ff375bf306480dd1e81e0204334f3a95d62"
 },
 "nbformat": 3,
 "nbformat_minor": 0,
 "worksheets": [
  {
   "cells": [
    {
     "cell_type": "code",
     "collapsed": false,
     "input": [
      "radar_directory = '/home/mjohnson/python/radar_txt'\n",
      "hrrr_directory = '/home/mjohnson/python/hrrr_txt'"
     ],
     "language": "python",
     "metadata": {},
     "outputs": [],
     "prompt_number": 1
    },
    {
     "cell_type": "code",
     "collapsed": false,
     "input": [
      "import datetime\n",
      "import pyhrrr\n",
      "import json\n",
      "import os\n",
      "import matplotlib.dates\n",
      "import matplotlib.pyplot as plt\n",
      "import numpy as np\n",
      "%matplotlib inline"
     ],
     "language": "python",
     "metadata": {},
     "outputs": [],
     "prompt_number": 2
    },
    {
     "cell_type": "code",
     "collapsed": false,
     "input": [
      "hrrr_fracts = []\n",
      "radar_fracts = []\n",
      "rh_fracts = []\n",
      "dates = []\n",
      "\n",
      "for date in [datetime.datetime(2014,3,10)+datetime.timedelta(days=i) for i in range(200)]:\n",
      "    \n",
      "    #get filenames\n",
      "    radar_string = pyhrrr.produce_radar_txt_string(date)\n",
      "    hrrr_string = pyhrrr.produce_hrrr_txt_string(date,filenum = 24,hour = 1,loc=[36.605, -97.485], indexes = None,\n",
      "                                          modelhours = False)\n",
      "    \n",
      "    if not (hrrr_string in os.listdir(hrrr_directory) and radar_string in os.listdir(radar_directory)):\n",
      "        continue\n",
      "        \n",
      "    #get data\n",
      "    wkdir = os.getcwd()\n",
      "    os.chdir(hrrr_directory)\n",
      "    try:\n",
      "        hrrrf = open(hrrr_string,'r')\n",
      "    except IOError:\n",
      "        continue\n",
      "    try:\n",
      "        hrrr = json.load(hrrrf)\n",
      "    except ValueError:\n",
      "        continue\n",
      "    os.chdir(radar_directory)\n",
      "    try:\n",
      "        radarf = open(radar_string,'r')\n",
      "    except IOError:\n",
      "        continue\n",
      "    try:\n",
      "        radar = json.load(radarf)\n",
      "    except ValueError:\n",
      "        continue\n",
      "    \n",
      "    #filtering\n",
      "    \n",
      "    hrrr_data = np.array(hrrr[0])\n",
      "    #k = 0\n",
      "    #while len(hrrr_data.shape)<3:\n",
      "        #if hrrr_data[k,:].shape[0] != 40:\n",
      "            #np.delete(hrrr_data,k,axis=0)\n",
      "            #np.delete(hrrr[1],i)\n",
      "        #hrrr_data = np.array(hrrr_data.tolist())\n",
      "        #k = k+1\n",
      "    if len(hrrr_data.shape)<3:\n",
      "        continue\n",
      "    \n",
      "    \n",
      "    press_index = pyhrrr.HRRR_PS.tolist().index(800)\n",
      "    heights = radar[2]\n",
      "    snr = np.array(radar[1])\n",
      "    hrrr_tot = np.array(hrrr_data[:,-5,:])+np.array(hrrr_data[:,-4,:])+np.array(hrrr_data[:,-3,:])+np.array(hrrr_data[:,-2,:])+np.array(hrrr_data[:,-1,:])\n",
      "    radar_data = np.array(radar[0])\n",
      "    hrrr_tot_m = pyhrrr.filter_mask(hrrr_tot,hrrr_tot,10**-5)\n",
      "\n",
      "    radar_m = pyhrrr.filter_mask(radar_data,snr,-14)\n",
      "    radar_m = np.ma.masked_where(radar_m==-np.inf,radar_m)\n",
      "    \n",
      "    rh = np.ma.masked_where(hrrr_data[:,2,:]>75,hrrr_data[:,2,:])\n",
      "    \n",
      "    for k in range(radar_data.shape[0]):\n",
      "        if radar[2][k] == 2000.:\n",
      "            radar_m[k,:] = np.ma.masked_where(radar_data[k,:]!=-5000,radar_data[k,:])\n",
      "         \n",
      "    #analysis\n",
      "    hs = hrrr_tot_m.shape\n",
      "    rs = radar_m.shape\n",
      "    rhs = rh.shape\n",
      "    hrrr_c = float(hrrr_tot_m.any(axis=1).sum(axis=0)/float(hs[0]))\n",
      "    radar_c = float(radar_m.any(axis=1).sum(axis=0)/float(rs[0]))\n",
      "    rh_c = float(rh.any(axis=1).sum(axis=0)/float(rhs[0]))\n",
      "    \n",
      "    hrrr_fracts.append(hrrr_c)\n",
      "    radar_fracts.append(radar_c)\n",
      "    dates.append(date)\n",
      "    rh_fracts.append(rh_c)\n",
      "    \n",
      "while np.nan in hrrr_fracts:\n",
      "    hrrr_fracts[hrrr_fracts.index(np.nan)] = 0\n",
      "while np.nan in radar_fracts:\n",
      "    radar_fracts[radar_fracts.index(np.nan)] = 0 \n",
      "while np.nan in rh_fracts:\n",
      "    rh_fracts[rh_fracts.index(np.nan)] = 0"
     ],
     "language": "python",
     "metadata": {},
     "outputs": []
    },
    {
     "cell_type": "code",
     "collapsed": false,
     "input": [
      "hrrr_fracts = np.array(hrrr_fracts)\n",
      "radar_fracts = np.array(radar_fracts)\n",
      "dates = np.array(dates)\n",
      "rh_fracts = np.array(rh_fracts)"
     ],
     "language": "python",
     "metadata": {},
     "outputs": []
    },
    {
     "cell_type": "code",
     "collapsed": false,
     "input": [
      "rh_dif = radar_fracts-rh_fracts"
     ],
     "language": "python",
     "metadata": {},
     "outputs": []
    },
    {
     "cell_type": "code",
     "collapsed": false,
     "input": [
      "hrrr_fracts[dates.tolist().index(datetime.datetime(2014,4,20))]"
     ],
     "language": "python",
     "metadata": {},
     "outputs": []
    },
    {
     "cell_type": "code",
     "collapsed": false,
     "input": [
      "radar_fracts[dates.tolist().index(datetime.datetime(2014,4,20))]"
     ],
     "language": "python",
     "metadata": {},
     "outputs": []
    },
    {
     "cell_type": "code",
     "collapsed": false,
     "input": [
      "hrrr_fracts"
     ],
     "language": "python",
     "metadata": {},
     "outputs": []
    },
    {
     "cell_type": "code",
     "collapsed": false,
     "input": [
      "dif = radar_fracts-hrrr_fracts"
     ],
     "language": "python",
     "metadata": {},
     "outputs": []
    },
    {
     "cell_type": "code",
     "collapsed": false,
     "input": [
      "dif"
     ],
     "language": "python",
     "metadata": {},
     "outputs": []
    },
    {
     "cell_type": "code",
     "collapsed": false,
     "input": [
      "dates[(abs(dif)>=.4).nonzero()]"
     ],
     "language": "python",
     "metadata": {},
     "outputs": []
    },
    {
     "cell_type": "code",
     "collapsed": false,
     "input": [
      "radar_fracts"
     ],
     "language": "python",
     "metadata": {},
     "outputs": []
    },
    {
     "cell_type": "code",
     "collapsed": false,
     "input": [
      "np.sqrt(np.mean(dif**2))"
     ],
     "language": "python",
     "metadata": {},
     "outputs": []
    },
    {
     "cell_type": "code",
     "collapsed": false,
     "input": [
      "sum(radar_fracts==1)/float(radar_fracts.shape[0])"
     ],
     "language": "python",
     "metadata": {},
     "outputs": []
    },
    {
     "cell_type": "code",
     "collapsed": false,
     "input": [
      "sum(hrrr_fracts==1)/float(hrrr_fracts.shape[0])"
     ],
     "language": "python",
     "metadata": {},
     "outputs": []
    },
    {
     "cell_type": "code",
     "collapsed": false,
     "input": [
      "plt.plot(sorted(dif))"
     ],
     "language": "python",
     "metadata": {},
     "outputs": []
    },
    {
     "cell_type": "code",
     "collapsed": false,
     "input": [
      "dates[dif.tolist().index(sorted(dif)[-1])]"
     ],
     "language": "python",
     "metadata": {},
     "outputs": []
    },
    {
     "cell_type": "code",
     "collapsed": false,
     "input": [
      "rh_dif"
     ],
     "language": "python",
     "metadata": {},
     "outputs": []
    },
    {
     "cell_type": "code",
     "collapsed": false,
     "input": [],
     "language": "python",
     "metadata": {},
     "outputs": []
    }
   ],
   "metadata": {}
  }
 ]
}