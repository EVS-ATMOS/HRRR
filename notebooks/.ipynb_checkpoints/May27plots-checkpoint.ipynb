{
 "metadata": {
  "name": "",
  "signature": "sha256:2ab8ba72f43ff69872e9f25bc4a54da704759d272316b0d6f64a20c7facd330c"
 },
 "nbformat": 3,
 "nbformat_minor": 0,
 "worksheets": [
  {
   "cells": [
    {
     "cell_type": "code",
     "collapsed": false,
     "input": [
      "directory = '/data/san_store/HRRR/'\n",
      "parameter = 'Cloud mixing ratio'"
     ],
     "language": "python",
     "metadata": {},
     "outputs": [],
     "prompt_number": 1
    },
    {
     "cell_type": "code",
     "collapsed": false,
     "input": [
      "import numpy as np\n",
      "import matplotlib\n",
      "import os\n",
      "import pyhrrr\n",
      "import datetime\n",
      "import matplotlib.pyplot as plt\n",
      "import pygrib\n",
      "%matplotlib inline"
     ],
     "language": "python",
     "metadata": {},
     "outputs": [],
     "prompt_number": 2
    },
    {
     "cell_type": "code",
     "collapsed": false,
     "input": [
      "pyhrrr.plot_hrrr_spec(datetimestart = datetime.datetime(2014, 5, 27,0,0),\n",
      "                       datetimeend = datetime.datetime(2014,5,28,0,0), scaling = 10**3,final_unit = 'g kg**-1',\n",
      "                       parameter = parameter, directory = directory, contour = True, hour = 1)"
     ],
     "language": "python",
     "metadata": {},
     "outputs": [
      {
       "metadata": {},
       "output_type": "display_data",
       "png": "[encoded data removed]",
       "text": [
        "<matplotlib.figure.Figure at 0xbb1b710>"
       ]
      }
     ],
     "prompt_number": 3
    },
    {
     "cell_type": "code",
     "collapsed": false,
     "input": [
      "pyhrrr.plot_hrrr_spec(datetimestart = datetime.datetime(2014, 5, 27,0,0), datetimeend = datetime.datetime(2014,5,28,0,0), scaling = 10**3,final_unit = 'g kg**-1',parameter = parameter, directory = directory, hour = 1)"
     ],
     "language": "python",
     "metadata": {},
     "outputs": [
      {
       "output_type": "stream",
       "stream": "stderr",
       "text": [
        "/home/jhelmus/anaconda/lib/python2.7/site-packages/IPython/core/formatters.py:239: FormatterWarning: Exception in image/png formatter: width and height must each be below 32768\n",
        "  FormatterWarning,\n"
       ]
      },
      {
       "metadata": {},
       "output_type": "display_data",
       "text": [
        "<matplotlib.figure.Figure at 0xc5d43d0>"
       ]
      }
     ],
     "prompt_number": 4
    },
    {
     "cell_type": "code",
     "collapsed": false,
     "input": [
      "pyhrrr.plot_hrrr_spec(datetimestart = datetime.datetime(2014, 5, 27,12,0), datetimeend = datetime.datetime(2014,5,27,12,0), parameter = parameter, directory = directory, plot_modelhours = True, hour = [1,2,3,4])"
     ],
     "language": "python",
     "metadata": {},
     "outputs": []
    },
    {
     "cell_type": "code",
     "collapsed": false,
     "input": [
      "pyhrrr.plot_hrrr(filename = 'hrrr.3d.201405271200f001.grib2',parameter = parameter, directory = directory)"
     ],
     "language": "python",
     "metadata": {},
     "outputs": []
    },
    {
     "cell_type": "code",
     "collapsed": false,
     "input": [],
     "language": "python",
     "metadata": {},
     "outputs": [],
     "prompt_number": 102
    },
    {
     "cell_type": "code",
     "collapsed": false,
     "input": [],
     "language": "python",
     "metadata": {},
     "outputs": []
    }
   ],
   "metadata": {}
  }
 ]
}