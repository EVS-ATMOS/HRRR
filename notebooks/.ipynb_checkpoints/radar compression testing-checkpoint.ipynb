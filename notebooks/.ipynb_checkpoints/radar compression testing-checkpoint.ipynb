{
 "metadata": {
  "name": "",
  "signature": "sha256:f5ae7dd3c4192691a7ad8ce84d9f7cfb823ac6d01a313ff49914848fdfdeb2b7"
 },
 "nbformat": 3,
 "nbformat_minor": 0,
 "worksheets": [
  {
   "cells": [
    {
     "cell_type": "code",
     "collapsed": false,
     "input": [
      "import pyhrrr"
     ],
     "language": "python",
     "metadata": {},
     "outputs": [],
     "prompt_number": 1
    },
    {
     "cell_type": "code",
     "collapsed": false,
     "input": [
      "radar_filename = 'sgpkazrgeC1.a1.20140419.000001.cdf'\n",
      "sounding_filename = 'sgpsondewnpnC1.b1.20140419.052400.cdf'"
     ],
     "language": "python",
     "metadata": {},
     "outputs": [],
     "prompt_number": 2
    },
    {
     "cell_type": "code",
     "collapsed": false,
     "input": [
      "directory = '/Users/mattjohnson/'\n",
      "radar_directory = directory\n",
      "sounding_directory = directory"
     ],
     "language": "python",
     "metadata": {},
     "outputs": [],
     "prompt_number": 3
    },
    {
     "cell_type": "code",
     "collapsed": false,
     "input": [
      "[x,timesf,presf,tsinds,psinds] = pyhrrr.compress_radartohrrr(radar_filename, sounding_filename, radar_directory,sounding_directory)"
     ],
     "language": "python",
     "metadata": {},
     "outputs": []
    }
   ],
   "metadata": {}
  }
 ]
}