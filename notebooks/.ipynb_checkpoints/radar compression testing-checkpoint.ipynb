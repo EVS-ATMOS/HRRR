{
 "metadata": {
  "name": "",
  "signature": "sha256:8ba9b4b2c2e6f8c429a3fbe4846ab9e60cc1b37b0d9737a8d366755a5607b69e"
 },
 "nbformat": 3,
 "nbformat_minor": 0,
 "worksheets": [
  {
   "cells": [
    {
     "cell_type": "code",
     "collapsed": false,
     "input": [
      "import pyhrrr"
     ],
     "language": "python",
     "metadata": {},
     "outputs": [],
     "prompt_number": 3
    },
    {
     "cell_type": "code",
     "collapsed": false,
     "input": [
      "radar_filename = 'sgpkazrgeC1.a1.20140419.000001.cdf'\n",
      "sounding_filename = 'sgpsondewnpnC1.b1.20140419.052400.cdf'"
     ],
     "language": "python",
     "metadata": {},
     "outputs": [],
     "prompt_number": 4
    },
    {
     "cell_type": "code",
     "collapsed": false,
     "input": [
      "\n",
      "radar_directory = '/data/san_store/gmckercher/kazr2/mckercherg1/160107'\n",
      "sounding_directory = '/data/san_store/soundings/sgp/mckercherg1/159821'"
     ],
     "language": "python",
     "metadata": {},
     "outputs": [],
     "prompt_number": 5
    },
    {
     "cell_type": "code",
     "collapsed": false,
     "input": [
      "y = pyhrrr.get_netcdf_variables(radar_filename, variablelist = ['reflectivity_copol'], directory = radar_directory)"
     ],
     "language": "python",
     "metadata": {},
     "outputs": [],
     "prompt_number": 6
    },
    {
     "cell_type": "code",
     "collapsed": false,
     "input": [],
     "language": "python",
     "metadata": {},
     "outputs": []
    },
    {
     "cell_type": "code",
     "collapsed": false,
     "input": [
      "[x,tsinds,psinds] = pyhrrr.compress_radartohrrr(radar_filename, sounding_filename, radar_directory,sounding_directory)"
     ],
     "language": "python",
     "metadata": {},
     "outputs": []
    },
    {
     "cell_type": "code",
     "collapsed": false,
     "input": [],
     "language": "python",
     "metadata": {},
     "outputs": []
    }
   ],
   "metadata": {}
  }
 ]
}