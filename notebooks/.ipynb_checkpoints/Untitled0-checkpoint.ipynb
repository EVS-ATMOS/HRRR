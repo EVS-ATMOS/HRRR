{
 "metadata": {
  "name": "",
  "signature": "sha256:180f1ae49de4fd3a504036b7668207434160e94cf38af3ed83dabfe5b660b798"
 },
 "nbformat": 3,
 "nbformat_minor": 0,
 "worksheets": []
}