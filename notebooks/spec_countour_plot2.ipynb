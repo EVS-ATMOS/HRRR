{
 "metadata": {
  "name": "",
  "signature": "sha256:5b2d340e88d730fded6b51824c3cda9499616910a5f04d25689c77536f1bcb12"
 },
 "nbformat": 3,
 "nbformat_minor": 0,
 "worksheets": [
  {
   "cells": [
    {
     "cell_type": "code",
     "collapsed": false,
     "input": [
      "import os\n",
      "import matplotlib\n",
      "import matplotlib.pyplot as plt\n",
      "import datetime\n",
      "\n",
      "%matplotlib inline\n",
      "\n",
      "wkdir = os.getcwd()\n",
      "\n",
      "directory = wkdir[:]\n",
      "\n",
      "while \"HRRR\" in directory:\n",
      "    os.chdir(os.path.abspath('..'))\n",
      "    directory = os.getcwd()\n",
      "\n",
      "dirpath = os.path.abspath(\"HRRR\")\n",
      "\n",
      "dirpath2 = dirpath+'/functions/'\n",
      "    \n",
      "filenames = os.listdir(dirpath2)\n",
      "    \n",
      "for name in filenames:\n",
      "    execfile(dirpath2+'/'+name)\n",
      "\n",
      "os.chdir(wkdir)"
     ],
     "language": "python",
     "metadata": {},
     "outputs": [],
     "prompt_number": 1
    },
    {
     "cell_type": "code",
     "collapsed": false,
     "input": [
      "directory = '/Users/mattjohnson/HRRRs/'\n",
      "\n",
      "x = gather_hrrr_files(directory)\n",
      "\n",
      "parameter = 'Relative humidity'\n",
      "datetimestart = x[1][1]\n",
      "datetimeend = x[1][-2]\n",
      "hour = 1\n",
      "loc = [-97.485,36.605]\n",
      "plot_modelhours = False"
     ],
     "language": "python",
     "metadata": {},
     "outputs": [],
     "prompt_number": 2
    },
    {
     "cell_type": "code",
     "collapsed": false,
     "input": [
      "spec_contour_plot(directory, parameter,datetimestart,datetimeend,hour,loc,plot_modelhours)"
     ],
     "language": "python",
     "metadata": {},
     "outputs": [
      {
       "metadata": {},
       "output_type": "display_data",
       "png": "[encoded data removed]",
       "text": [
        "<matplotlib.figure.Figure at 0x10258b090>"
       ]
      }
     ],
     "prompt_number": 3
    },
    {
     "cell_type": "code",
     "collapsed": false,
     "input": [],
     "language": "python",
     "metadata": {},
     "outputs": []
    }
   ],
   "metadata": {}
  }
 ]
}