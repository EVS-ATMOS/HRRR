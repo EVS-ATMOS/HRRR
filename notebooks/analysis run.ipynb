{
 "metadata": {
  "name": "",
  "signature": "sha256:10372c9f46809787699d6821bc388fa9e4c9f09bb85a063c8ef60a286ae55e45"
 },
 "nbformat": 3,
 "nbformat_minor": 0,
 "worksheets": [
  {
   "cells": [
    {
     "cell_type": "code",
     "collapsed": false,
     "input": [
      "import datetime\n",
      "import pyhrrr\n",
      "import json\n",
      "import os\n",
      "import matplotlib.dates\n",
      "import numpy as np\n",
      "\n",
      "dates = [datetime.datetime(2014,3,15)+datetime.timedelta(days = i) for i in range(150)]\n",
      "baddates = []\n",
      "\n",
      "for i in baddates:\n",
      "    dates.remove(i)\n",
      "    \n",
      "wkdir = os.getcwd()\n",
      "radar_directory = '/home/mjohnson/python/radar_txt'\n",
      "hrrr_directory = '/home/mjohnson/python/hrrr_txt'\n",
      "\n",
      "output_directory = '/home/mjohnson/python/'\n",
      "\n",
      "radar_strings = [pyhrrr.produce_radar_txt_string(i) for i in dates]\n",
      "hrrr_strings = [pyhrrr.produce_hrrr_txt_string(i,filenum = 24,hour = 1,loc=[36.605, -97.485], indexes = None,modelhours = False) for i in dates]\n",
      "\n",
      "radarfiles = sorted(os.listdir(radar_directory))\n",
      "hrrrfiles = sorted(os.listdir(hrrr_directory))\n",
      "\n",
      "hour = 1\n",
      "\n",
      "radar_margin = -10 #dBz\n",
      "hrrr_margin = 10**-5 #kg/kg\n"
     ],
     "language": "python",
     "metadata": {},
     "outputs": [],
     "prompt_number": 1
    },
    {
     "cell_type": "code",
     "collapsed": false,
     "input": [
      "c_fracts_hrrr = []\n",
      "c_fracts_radar = []\n",
      "hrrr_hoursets = []\n",
      "flag = False\n",
      "\n",
      "for i in range(len(dates)):\n",
      "    \n",
      "    if (radar_strings[i] in radarfiles) and (hrrr_strings[i] in hrrrfiles):\n",
      "        \n",
      "        os.chdir(hrrr_directory)\n",
      "        hrrrf = open(hrrr_strings[i],'r')\n",
      "        \n",
      "        try:\n",
      "            hrrr = json.load(hrrrf)\n",
      "        except ValueError:\n",
      "            continue\n",
      "        \n",
      "        #hrrr analysis\n",
      "        datetimes = matplotlib.dates.num2date(hrrr[1])\n",
      "        timeshift = datetime.timedelta(hours=hour)\n",
      "        hrrr_hours = [(c+timeshift).hour for c in datetimes]\n",
      "        hrrr_hours[:] = hrrr_hours[:]\n",
      "        \n",
      "        ind = hrrr[2].index('Cloud mixing ratio')\n",
      "        hrrr_data = hrrr[0]\n",
      "        hrrr_data = np.array(hrrr_data)\n",
      "        hrrr_c = hrrr_data[:,ind]\n",
      "        \n",
      "        badhours = []\n",
      "        \n",
      "        c_cover = 0\n",
      "        for j in range(len(hrrr_hours)):\n",
      "            if hrrr_c[j] == None:\n",
      "                badhours.append(hrrr_hours[j])\n",
      "                continue\n",
      "            temp = max(hrrr_c[j])\n",
      "            if temp>hrrr_margin:\n",
      "                c_cover = c_cover+1\n",
      "        \n",
      "        for k in range(len(badhours)):\n",
      "            hrrr_hours.remove(badhours[k])\n",
      "            \n",
      "        c_fract_hrrr = float(c_cover)/float(hrrr_c.shape[0]-len(badhours))\n",
      "        \n",
      "        #kill storage vars\n",
      "        hrrr = None\n",
      "        hrrr_data = None\n",
      "        hrrr_c = None\n",
      "        hrrrf.close()\n",
      "        \n",
      "        #radar analysis\n",
      "        os.chdir(radar_directory)\n",
      "        radarf = open(radar_strings[i],'r')\n",
      "        \n",
      "        try:\n",
      "            radar = json.load(radarf)\n",
      "        except ValueError:\n",
      "            continue\n",
      "        \n",
      "        radar = np.array(radar[0]) \n",
      "        \n",
      "        for v in radar:\n",
      "            if v == []:\n",
      "                flag = True\n",
      "                break\n",
      "            \n",
      "        if flag:\n",
      "            continue\n",
      "            \n",
      "        c_fract_radar = sum(np.array([max(v) for v in radar])>radar_margin)/float(radar.shape[0])\n",
      "                \n",
      "        #kill storage vars\n",
      "        radar = None\n",
      "        radarf.close()\n",
      "        \n",
      "        #append results\n",
      "        c_fracts_radar.append(c_fract_radar)\n",
      "        c_fracts_hrrr.append(c_fract_hrrr)\n",
      "        dates.append(dates[i])\n",
      "        hrrr_hoursets.append(hrrr_hours)\n",
      "        "
     ],
     "language": "python",
     "metadata": {},
     "outputs": [],
     "prompt_number": 2
    },
    {
     "cell_type": "code",
     "collapsed": false,
     "input": [
      "c_fracts_radar = np.array(c_fracts_radar)"
     ],
     "language": "python",
     "metadata": {},
     "outputs": [],
     "prompt_number": 3
    },
    {
     "cell_type": "code",
     "collapsed": false,
     "input": [
      "c_fracts_hrrr = np.array(c_fracts_hrrr)"
     ],
     "language": "python",
     "metadata": {},
     "outputs": [],
     "prompt_number": 4
    },
    {
     "cell_type": "code",
     "collapsed": false,
     "input": [
      "dates = np.array(dates)"
     ],
     "language": "python",
     "metadata": {},
     "outputs": [],
     "prompt_number": 5
    },
    {
     "cell_type": "code",
     "collapsed": false,
     "input": [
      "hrrr_hoursets = np.array(hrrr_hoursets)"
     ],
     "language": "python",
     "metadata": {},
     "outputs": [],
     "prompt_number": 6
    },
    {
     "cell_type": "code",
     "collapsed": false,
     "input": [
      "c_fract_dif = c_fracts_radar-c_fracts_hrrr"
     ],
     "language": "python",
     "metadata": {},
     "outputs": [],
     "prompt_number": 7
    },
    {
     "cell_type": "code",
     "collapsed": false,
     "input": [
      "c_fract_dif"
     ],
     "language": "python",
     "metadata": {},
     "outputs": [
      {
       "metadata": {},
       "output_type": "pyout",
       "prompt_number": 8,
       "text": [
        "array([ 0.        ,  0.25      , -0.45833333, -0.375     , -0.375     ,\n",
        "       -0.125     ,  0.        ,  0.41666667, -0.15151515, -0.04924242,\n",
        "        0.        ,  0.04166667,  0.04166667, -0.04166667,  0.16666667,\n",
        "        0.        ,  0.        ,  0.25      ,  0.        ,  0.04166667,\n",
        "        0.11519608, -0.3377193 ,  0.        ,  0.04166667,  0.        ,\n",
        "        0.        ,  0.125     , -0.04166667, -0.375     , -0.54166667,\n",
        "       -0.04347826,  0.        ,  0.        ,  0.        ,  0.        ,\n",
        "        0.        , -0.08333333, -0.20833333, -0.08333333,  0.        ,\n",
        "       -0.00181159, -0.10833333, -0.125     ,  0.        , -0.04166667,\n",
        "        0.33333333, -0.01190476,  0.36956522, -0.20833333, -0.16666667,\n",
        "        0.14855072, -0.14015152])"
       ]
      }
     ],
     "prompt_number": 8
    },
    {
     "cell_type": "code",
     "collapsed": false,
     "input": [
      "indexes = [7,14,17,20,26,41,-5,-2]"
     ],
     "language": "python",
     "metadata": {},
     "outputs": [],
     "prompt_number": 9
    },
    {
     "cell_type": "code",
     "collapsed": false,
     "input": [
      "np.mean(c_fract_dif)"
     ],
     "language": "python",
     "metadata": {},
     "outputs": [
      {
       "metadata": {},
       "output_type": "pyout",
       "prompt_number": 10,
       "text": [
        "-0.033702134339837923"
       ]
      }
     ],
     "prompt_number": 10
    },
    {
     "cell_type": "code",
     "collapsed": false,
     "input": [
      "c_fract_dif[7]"
     ],
     "language": "python",
     "metadata": {},
     "outputs": [
      {
       "metadata": {},
       "output_type": "pyout",
       "prompt_number": 13,
       "text": [
        "0.70833333333333337"
       ]
      }
     ],
     "prompt_number": 13
    },
    {
     "cell_type": "code",
     "collapsed": false,
     "input": [
      "dates[2]"
     ],
     "language": "python",
     "metadata": {},
     "outputs": [
      {
       "metadata": {},
       "output_type": "pyout",
       "prompt_number": 11,
       "text": [
        "datetime.datetime(2014, 3, 17, 0, 0)"
       ]
      }
     ],
     "prompt_number": 11
    },
    {
     "cell_type": "code",
     "collapsed": false,
     "input": [
      "hrrr_hoursets[indexes]"
     ],
     "language": "python",
     "metadata": {},
     "outputs": [
      {
       "metadata": {},
       "output_type": "pyout",
       "prompt_number": 21,
       "text": [
        "array([ [0, 1, 2, 3, 4, 5, 6, 7, 8, 9, 10, 11, 12, 13, 14, 15, 16, 17, 18, 19, 20, 21, 22, 23],\n",
        "       [0, 1, 2, 3, 4, 5, 6, 7, 8, 9, 10, 11, 12, 13, 14, 15, 16, 17, 18, 19, 20, 21, 22, 23],\n",
        "       [0, 1, 2, 5, 14, 15, 16, 18, 19, 20, 22, 23],\n",
        "       [0, 1, 3, 4, 6, 7, 8, 9, 10, 11, 12, 15, 18, 19, 20, 21, 22],\n",
        "       [0, 1, 2, 3, 4, 5, 6, 7, 8, 9, 10, 11, 12, 13, 14, 15, 16, 17, 18, 19, 20, 21, 22, 23],\n",
        "       [0, 2, 4, 5, 6, 7, 8, 9, 10, 11, 12, 13, 14, 15, 16, 17, 18, 19, 21, 22],\n",
        "       [0, 1, 2, 3, 4, 5, 6, 7, 8, 9, 10, 11, 12, 13, 14, 15, 16, 18, 19, 20, 21, 22, 23],\n",
        "       [0, 1, 2, 3, 4, 5, 6, 7, 8, 9, 10, 11, 12, 13, 14, 15, 16, 17, 19, 20, 21, 22, 23]], dtype=object)"
       ]
      }
     ],
     "prompt_number": 21
    },
    {
     "cell_type": "code",
     "collapsed": false,
     "input": [
      "c_fracts_hrrr"
     ],
     "language": "python",
     "metadata": {},
     "outputs": [
      {
       "metadata": {},
       "output_type": "pyout",
       "prompt_number": 25,
       "text": [
        "array([ 0.,  0.,  0.,  0.,  0.,  0.,  0.,  0.,  0.,  0.,  0.,  0.,  0.,\n",
        "        0.,  0.,  0.,  0.,  0.,  0.,  0.,  0.,  0.,  0.,  0.,  0.,  0.,\n",
        "        0.,  0.,  0.,  0.,  0.,  0.,  0.,  0.,  0.,  0.,  0.,  0.,  0.,\n",
        "        0.,  0.,  0.,  0.,  0.,  0.,  0.,  0.,  0.,  0.,  0.,  0.,  0.])"
       ]
      }
     ],
     "prompt_number": 25
    },
    {
     "cell_type": "code",
     "collapsed": false,
     "input": [],
     "language": "python",
     "metadata": {},
     "outputs": []
    }
   ],
   "metadata": {}
  }
 ]
}