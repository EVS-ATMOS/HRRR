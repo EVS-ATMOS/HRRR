{
 "metadata": {
  "name": "",
  "signature": "sha256:40270723e54fa6267304442fd96dcbe9db26a0792a0346653f4f6c6ad2b7e58b"
 },
 "nbformat": 3,
 "nbformat_minor": 0,
 "worksheets": [
  {
   "cells": [
    {
     "cell_type": "code",
     "collapsed": false,
     "input": [
      "import pyhrrr\n",
      "import datetime\n",
      "%matplotlib inline"
     ],
     "language": "python",
     "metadata": {},
     "outputs": [],
     "prompt_number": 1
    },
    {
     "cell_type": "code",
     "collapsed": false,
     "input": [
      "radar_path = '/data/san_store/radar/sgp/kazr/mckercherg1/160107'\n",
      "sounding_path = '/data/san_store/soundings/sgp/mckercherg1/159821'\n",
      "ceilometer_path = '/data/san_store/gmckercher/ceilometer/sgpvceil25kC1_marchtojune'\n",
      "pyhrrr.plot_kazr(datetime.datetime(2014,3,28),radar_path,sounding_path,ceilometer_path)"
     ],
     "language": "python",
     "metadata": {},
     "outputs": []
    },
    {
     "cell_type": "code",
     "collapsed": false,
     "input": [],
     "language": "python",
     "metadata": {},
     "outputs": []
    }
   ],
   "metadata": {}
  }
 ]
}