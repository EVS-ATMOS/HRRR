{
 "metadata": {
  "name": "",
<<<<<<< HEAD
  "signature": "sha256:cf7fa35048958b8e05e26e6b44d8571b9d214ba855f2370d7c5e6cdf569560ed"
=======
  "signature": "sha256:40270723e54fa6267304442fd96dcbe9db26a0792a0346653f4f6c6ad2b7e58b"
>>>>>>> 8bdbcb1c1be42298013a2cb19a01ed37e3d7bf6a
 },
 "nbformat": 3,
 "nbformat_minor": 0,
 "worksheets": [
  {
   "cells": [
    {
     "cell_type": "code",
     "collapsed": true,
     "input": [
      "import pyhrrr\n",
      "import datetime\n",
      "%matplotlib inline"
     ],
     "language": "python",
     "metadata": {},
     "outputs": [],
     "prompt_number": 1
    },
    {
     "cell_type": "code",
     "collapsed": true,
     "input": [
      "radar_path = '/data/san_store/gmckercher/kazr2/mckercherg1/160107'\n",
      "sounding_path = '/data/san_store/soundings/sgp/mckercherg1/159821'\n",
      "ceilometer_path = '/data/san_store/gmckercher/ceilometer/sgpvceil25kC1_marchtojune'\n",
      "pyhrrr.plot_kazr(datetime.datetime(2014,5,19),radar_path,sounding_path,ceilometer_path)"
     ],
     "language": "python",
     "metadata": {},
<<<<<<< HEAD
     "outputs": [
      {
       "ename": "KeyboardInterrupt",
       "evalue": "",
       "output_type": "pyerr",
       "traceback": [
        "Traceback (most recent call last):\n",
        "  File \"/home/jhelmus/anaconda/lib/python2.7/site-packages/IPython/kernel/zmq/ipkernel.py\", line 389, in execute_request\n    shell.run_cell(code, store_history=store_history, silent=silent)\n",
        "  File \"/home/jhelmus/anaconda/lib/python2.7/site-packages/IPython/core/interactiveshell.py\", line 2743, in run_cell\n    self.events.trigger('post_execute')\n",
        "  File \"/home/jhelmus/anaconda/lib/python2.7/site-packages/IPython/core/events.py\", line 82, in trigger\n    func(*args, **kwargs)\n",
        "  File \"/home/jhelmus/anaconda/lib/python2.7/site-packages/IPython/kernel/zmq/pylab/backend_inline.py\", line 118, in flush_figures\n    return show(True)\n",
        "  File \"/home/jhelmus/anaconda/lib/python2.7/site-packages/IPython/kernel/zmq/pylab/backend_inline.py\", line 43, in show\n    display(figure_manager.canvas.figure)\n",
        "  File \"/home/jhelmus/anaconda/lib/python2.7/site-packages/IPython/core/display.py\", line 131, in display\n    format_dict, md_dict = format(obj, include=include, exclude=exclude)\n",
        "  File \"/home/jhelmus/anaconda/lib/python2.7/site-packages/IPython/core/formatters.py\", line 200, in format\n    data = formatter(obj)\n",
        "  File \"<string>\", line 2, in __call__\n",
        "  File \"/home/jhelmus/anaconda/lib/python2.7/site-packages/IPython/core/formatters.py\", line 233, in warn_format_error\n    r = method(self, *args, **kwargs)\n",
        "  File \"/home/jhelmus/anaconda/lib/python2.7/site-packages/IPython/core/formatters.py\", line 350, in __call__\n    return printer(obj)\n",
        "  File \"/home/jhelmus/anaconda/lib/python2.7/site-packages/IPython/core/pylabtools.py\", line 220, in <lambda>\n    png_formatter.for_type(Figure, lambda fig: print_figure(fig, 'png', **kwargs))\n",
        "  File \"/home/jhelmus/anaconda/lib/python2.7/site-packages/IPython/core/pylabtools.py\", line 130, in print_figure\n    fig.canvas.print_figure(bytes_io, **kw)\n",
        "  File \"/home/jhelmus/anaconda/lib/python2.7/site-packages/matplotlib/backend_bases.py\", line 2149, in print_figure\n    bbox = a.get_window_extent(renderer)\n",
        "  File \"/home/jhelmus/anaconda/lib/python2.7/site-packages/matplotlib/collections.py\", line 207, in get_window_extent\n    return self.get_datalim(transforms.IdentityTransform())\n",
        "  File \"/home/jhelmus/anaconda/lib/python2.7/site-packages/matplotlib/collections.py\", line 180, in get_datalim\n    paths = self.get_paths()\n",
        "  File \"/home/jhelmus/anaconda/lib/python2.7/site-packages/matplotlib/collections.py\", line 1665, in get_paths\n    self.set_paths()\n",
        "  File \"/home/jhelmus/anaconda/lib/python2.7/site-packages/matplotlib/collections.py\", line 1670, in set_paths\n    self._meshWidth, self._meshHeight, self._coordinates)\n",
        "  File \"/home/jhelmus/anaconda/lib/python2.7/site-packages/matplotlib/collections.py\", line 1696, in convert_mesh_to_paths\n    return [Path(x) for x in points]\n",
        "  File \"/home/jhelmus/anaconda/lib/python2.7/site-packages/matplotlib/path.py\", line 157, in __init__\n    self._update_values()\n",
        "  File \"/home/jhelmus/anaconda/lib/python2.7/site-packages/matplotlib/path.py\", line 205, in _update_values\n    self._has_nonfinite = not np.isfinite(self._vertices).all()\n",
        "KeyboardInterrupt\n"
       ]
      }
     ],
     "prompt_number": 1
=======
     "outputs": []
>>>>>>> 8bdbcb1c1be42298013a2cb19a01ed37e3d7bf6a
    },
    {
     "cell_type": "code",
     "collapsed": false,
     "input": [],
     "language": "python",
     "metadata": {},
     "outputs": []
    }
   ],
   "metadata": {}
  }
 ]
}