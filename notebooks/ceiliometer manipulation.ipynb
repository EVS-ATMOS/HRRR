{
 "metadata": {
  "name": "",
  "signature": "sha256:2b395892ef473d9d51c617cc07f1662bc61200d05383165270471c989aa2636f"
 },
 "nbformat": 3,
 "nbformat_minor": 0,
 "worksheets": [
  {
   "cells": [
    {
     "cell_type": "code",
     "collapsed": false,
     "input": [
      "import os\n",
      "import datetime\n",
      "from scipy.io import netcdf\n",
      "import numpy as np"
     ],
     "language": "python",
     "metadata": {},
     "outputs": [],
     "prompt_number": 40
    },
    {
     "cell_type": "code",
     "collapsed": false,
     "input": [
      "ceilometer_path = '/data/san_store/gmckercher/ceilometer/sgpvceil25kC1_marchtojune'"
     ],
     "language": "python",
     "metadata": {},
     "outputs": [],
     "prompt_number": 41
    },
    {
     "cell_type": "code",
     "collapsed": false,
     "input": [
      "files = os.listdir(ceilometer_path)"
     ],
     "language": "python",
     "metadata": {},
     "outputs": [],
     "prompt_number": 42
    },
    {
     "cell_type": "code",
     "collapsed": false,
     "input": [
      "index = 17\n",
      "\n",
      "dates_ceil = [datetime.datetime(int(i[index:index+4]),int(i[(index+4):(index+6)]),int(i[(index+6):(index+8)])) for i in files]"
     ],
     "language": "python",
     "metadata": {},
     "outputs": [],
     "prompt_number": 43
    },
    {
     "cell_type": "code",
     "collapsed": false,
     "input": [
      "os.chdir(ceilometer_path)\n",
      "f = open(files[0],'r')"
     ],
     "language": "python",
     "metadata": {},
     "outputs": [],
     "prompt_number": 44
    },
    {
     "cell_type": "code",
     "collapsed": false,
     "input": [
      "x = netcdf.netcdf_file(f)"
     ],
     "language": "python",
     "metadata": {},
     "outputs": [],
     "prompt_number": 45
    },
    {
     "cell_type": "code",
     "collapsed": false,
     "input": [
      "x.variables"
     ],
     "language": "python",
     "metadata": {},
     "outputs": [
      {
       "metadata": {},
       "output_type": "pyout",
       "prompt_number": 46,
       "text": [
        "{'alt': <scipy.io.netcdf.netcdf_variable at 0x2afb2edb3890>,\n",
        " 'alt_highest_signal': <scipy.io.netcdf.netcdf_variable at 0x2afb2edc6950>,\n",
        " 'background_light': <scipy.io.netcdf.netcdf_variable at 0x2afb2edb3410>,\n",
        " 'backscatter': <scipy.io.netcdf.netcdf_variable at 0x2afb2edb3710>,\n",
        " 'base_time': <scipy.io.netcdf.netcdf_variable at 0x2afb2edc60d0>,\n",
        " 'detection_status': <scipy.io.netcdf.netcdf_variable at 0x2afb2edc62d0>,\n",
        " 'first_cbh': <scipy.io.netcdf.netcdf_variable at 0x2afb2edc6490>,\n",
        " 'laser_pulse_energy': <scipy.io.netcdf.netcdf_variable at 0x2afb2edc6d10>,\n",
        " 'laser_temperature': <scipy.io.netcdf.netcdf_variable at 0x2afb2edc6ed0>,\n",
        " 'lat': <scipy.io.netcdf.netcdf_variable at 0x2afb2edb3810>,\n",
        " 'lon': <scipy.io.netcdf.netcdf_variable at 0x2afb2edb3850>,\n",
        " 'measurement_parameters': <scipy.io.netcdf.netcdf_variable at 0x2afb2edb3790>,\n",
        " 'qc_alt_highest_signal': <scipy.io.netcdf.netcdf_variable at 0x2afb2edc6a90>,\n",
        " 'qc_background_light': <scipy.io.netcdf.netcdf_variable at 0x2afb2edb34d0>,\n",
        " 'qc_detection_status': <scipy.io.netcdf.netcdf_variable at 0x2afb2edc6310>,\n",
        " 'qc_first_cbh': <scipy.io.netcdf.netcdf_variable at 0x2afb2edc6550>,\n",
        " 'qc_laser_pulse_energy': <scipy.io.netcdf.netcdf_variable at 0x2afb2edc6e10>,\n",
        " 'qc_laser_temperature': <scipy.io.netcdf.netcdf_variable at 0x2afb2edc6fd0>,\n",
        " 'qc_second_cbh': <scipy.io.netcdf.netcdf_variable at 0x2afb2edc6890>,\n",
        " 'qc_sum_backscatter': <scipy.io.netcdf.netcdf_variable at 0x2afb2edb3650>,\n",
        " 'qc_third_cbh': <scipy.io.netcdf.netcdf_variable at 0x2afb2edc6c50>,\n",
        " 'qc_tilt_angle': <scipy.io.netcdf.netcdf_variable at 0x2afb2edb3350>,\n",
        " 'qc_time': <scipy.io.netcdf.netcdf_variable at 0x2afb2edc6210>,\n",
        " 'qc_vertical_visibility': <scipy.io.netcdf.netcdf_variable at 0x2afb2edc6710>,\n",
        " 'qc_window_transmission': <scipy.io.netcdf.netcdf_variable at 0x2afb2edb31d0>,\n",
        " 'range': <scipy.io.netcdf.netcdf_variable at 0x2afb2edc6290>,\n",
        " 'second_cbh': <scipy.io.netcdf.netcdf_variable at 0x2afb2edc67d0>,\n",
        " 'status_flag': <scipy.io.netcdf.netcdf_variable at 0x2afb2edc6390>,\n",
        " 'status_string': <scipy.io.netcdf.netcdf_variable at 0x2afb2edb37d0>,\n",
        " 'sum_backscatter': <scipy.io.netcdf.netcdf_variable at 0x2afb2edb3590>,\n",
        " 'third_cbh': <scipy.io.netcdf.netcdf_variable at 0x2afb2edc6b50>,\n",
        " 'tilt_angle': <scipy.io.netcdf.netcdf_variable at 0x2afb2edb3290>,\n",
        " 'time': <scipy.io.netcdf.netcdf_variable at 0x2afb2edc6190>,\n",
        " 'time_offset': <scipy.io.netcdf.netcdf_variable at 0x2afb2edc6110>,\n",
        " 'vertical_visibility': <scipy.io.netcdf.netcdf_variable at 0x2afb2edc6610>,\n",
        " 'window_transmission': <scipy.io.netcdf.netcdf_variable at 0x2afb2edb30d0>}"
       ]
      }
     ],
     "prompt_number": 46
    },
    {
     "cell_type": "code",
     "collapsed": false,
     "input": [
      "u = x.variables['first_cbh'].data"
     ],
     "language": "python",
     "metadata": {},
     "outputs": [],
     "prompt_number": 47
    },
    {
     "cell_type": "code",
     "collapsed": false,
     "input": [
      "u"
     ],
     "language": "python",
     "metadata": {},
     "outputs": [
      {
       "metadata": {},
       "output_type": "pyout",
       "prompt_number": 48,
       "text": [
        "array([-9999., -9999., -9999., ..., -9999., -9999., -9999.], dtype=float32)"
       ]
      }
     ],
     "prompt_number": 48
    },
    {
     "cell_type": "code",
     "collapsed": false,
     "input": [
      "heights = [x.variables['first_cbh'].data,x.variables['second_cbh'].data,x.variables['third_cbh'].data]\n",
      "heights = np.array(heights)"
     ],
     "language": "python",
     "metadata": {},
     "outputs": [],
     "prompt_number": 49
    },
    {
     "cell_type": "code",
     "collapsed": false,
     "input": [
      "heights = heights[:,:]"
     ],
     "language": "python",
     "metadata": {},
     "outputs": [],
     "prompt_number": 50
    },
    {
     "cell_type": "code",
     "collapsed": false,
     "input": [
      "heights.shape"
     ],
     "language": "python",
     "metadata": {},
     "outputs": [
      {
       "metadata": {},
       "output_type": "pyout",
       "prompt_number": 51,
       "text": [
        "(3, 5400)"
       ]
      }
     ],
     "prompt_number": 51
    },
    {
     "cell_type": "code",
     "collapsed": false,
     "input": [
      "f.close()"
     ],
     "language": "python",
     "metadata": {},
     "outputs": [],
     "prompt_number": 52
    },
    {
     "cell_type": "code",
     "collapsed": false,
     "input": [
      "import pyhrrr\n",
      "heights = pyhrrr.filter_mask(heights,heights,0)"
     ],
     "language": "python",
     "metadata": {},
     "outputs": [],
     "prompt_number": 58
    },
    {
     "cell_type": "code",
     "collapsed": false,
     "input": [
      "heights"
     ],
     "language": "python",
     "metadata": {},
     "outputs": [
      {
       "metadata": {},
       "output_type": "pyout",
       "prompt_number": 59,
       "text": [
        "masked_array(data =\n",
        " [[-- -- -- ..., -- -- --]\n",
        " [-- -- -- ..., -- -- --]\n",
        " [-- -- -- ..., -- -- --]],\n",
        "             mask =\n",
        " [[ True  True  True ...,  True  True  True]\n",
        " [ True  True  True ...,  True  True  True]\n",
        " [ True  True  True ...,  True  True  True]],\n",
        "       fill_value = 1e+20)"
       ]
      }
     ],
     "prompt_number": 59
    },
    {
     "cell_type": "code",
     "collapsed": false,
     "input": [
      "np.interp?"
     ],
     "language": "python",
     "metadata": {},
     "outputs": [],
     "prompt_number": 62
    },
    {
     "cell_type": "code",
     "collapsed": false,
     "input": [],
     "language": "python",
     "metadata": {},
     "outputs": []
    }
   ],
   "metadata": {}
  }
 ]
}