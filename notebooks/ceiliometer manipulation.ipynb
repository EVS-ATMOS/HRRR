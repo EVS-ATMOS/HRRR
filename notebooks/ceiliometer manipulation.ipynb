{
 "metadata": {
  "name": "",
  "signature": "sha256:e9180f2872291831cab4d6cd068cdb920b0b10b9e4c032a170f9dad474522645"
 },
 "nbformat": 3,
 "nbformat_minor": 0,
 "worksheets": [
  {
   "cells": [
    {
     "cell_type": "code",
     "collapsed": false,
     "input": [
      "import os\n",
      "import datetime\n",
      "from scipy.io import netcdf\n",
      "import numpy as np"
     ],
     "language": "python",
     "metadata": {},
     "outputs": [],
     "prompt_number": 15
    },
    {
     "cell_type": "code",
     "collapsed": false,
     "input": [
      "ceilometer_path = '/data/san_store/gmckercher/ceilometer/sgpvceil25kC1_marchtojune'"
     ],
     "language": "python",
     "metadata": {},
     "outputs": [],
     "prompt_number": 16
    },
    {
     "cell_type": "code",
     "collapsed": false,
     "input": [
      "files = os.listdir(ceilometer_path)"
     ],
     "language": "python",
     "metadata": {},
     "outputs": [],
     "prompt_number": 17
    },
    {
     "cell_type": "code",
     "collapsed": false,
     "input": [
      "index = 17\n",
      "\n",
      "dates_ceil = [datetime.datetime(int(i[index:index+4]),int(i[(index+4):(index+6)]),int(i[(index+6):(index+8)])) for i in files]"
     ],
     "language": "python",
     "metadata": {},
     "outputs": [],
     "prompt_number": 18
    },
    {
     "cell_type": "code",
     "collapsed": false,
     "input": [
      "os.chdir(ceilometer_path)\n",
      "f = open(files[5],'r')"
     ],
     "language": "python",
     "metadata": {},
     "outputs": [],
     "prompt_number": 19
    },
    {
     "cell_type": "code",
     "collapsed": false,
     "input": [
      "x = netcdf.netcdf_file(f)"
     ],
     "language": "python",
     "metadata": {},
     "outputs": [],
     "prompt_number": 20
    },
    {
     "cell_type": "code",
     "collapsed": false,
     "input": [
      "x.variables"
     ],
     "language": "python",
     "metadata": {},
     "outputs": [
      {
       "metadata": {},
       "output_type": "pyout",
       "prompt_number": 21,
       "text": [
        "{'alt': <scipy.io.netcdf.netcdf_variable at 0x2ab38a37c990>,\n",
        " 'alt_highest_signal': <scipy.io.netcdf.netcdf_variable at 0x2ab38a3c0a10>,\n",
        " 'background_light': <scipy.io.netcdf.netcdf_variable at 0x2ab38a399e50>,\n",
        " 'backscatter': <scipy.io.netcdf.netcdf_variable at 0x2ab38a37c2d0>,\n",
        " 'base_time': <scipy.io.netcdf.netcdf_variable at 0x2ab38a41b950>,\n",
        " 'detection_status': <scipy.io.netcdf.netcdf_variable at 0x2ab38a3f3bd0>,\n",
        " 'first_cbh': <scipy.io.netcdf.netcdf_variable at 0x2ab38a3f3550>,\n",
        " 'laser_pulse_energy': <scipy.io.netcdf.netcdf_variable at 0x2ab38a3c0050>,\n",
        " 'laser_temperature': <scipy.io.netcdf.netcdf_variable at 0x2ab38a3761d0>,\n",
        " 'lat': <scipy.io.netcdf.netcdf_variable at 0x2ab38a37c350>,\n",
        " 'lon': <scipy.io.netcdf.netcdf_variable at 0x2ab38a37cc50>,\n",
        " 'measurement_parameters': <scipy.io.netcdf.netcdf_variable at 0x2ab38a37c510>,\n",
        " 'qc_alt_highest_signal': <scipy.io.netcdf.netcdf_variable at 0x2ab38a3c0990>,\n",
        " 'qc_background_light': <scipy.io.netcdf.netcdf_variable at 0x2ab38a3999d0>,\n",
        " 'qc_detection_status': <scipy.io.netcdf.netcdf_variable at 0x2ab38a3f3ad0>,\n",
        " 'qc_first_cbh': <scipy.io.netcdf.netcdf_variable at 0x2ab38a3f3250>,\n",
        " 'qc_laser_pulse_energy': <scipy.io.netcdf.netcdf_variable at 0x2ab38a376c50>,\n",
        " 'qc_laser_temperature': <scipy.io.netcdf.netcdf_variable at 0x2ab38a376590>,\n",
        " 'qc_second_cbh': <scipy.io.netcdf.netcdf_variable at 0x2ab38a3c06d0>,\n",
        " 'qc_sum_backscatter': <scipy.io.netcdf.netcdf_variable at 0x2ab38a399210>,\n",
        " 'qc_third_cbh': <scipy.io.netcdf.netcdf_variable at 0x2ab38a3c0250>,\n",
        " 'qc_tilt_angle': <scipy.io.netcdf.netcdf_variable at 0x2ab38a399e10>,\n",
        " 'qc_time': <scipy.io.netcdf.netcdf_variable at 0x2ab38a3f3190>,\n",
        " 'qc_vertical_visibility': <scipy.io.netcdf.netcdf_variable at 0x2ab38a3eab50>,\n",
        " 'qc_window_transmission': <scipy.io.netcdf.netcdf_variable at 0x2ab38a3994d0>,\n",
        " 'range': <scipy.io.netcdf.netcdf_variable at 0x2ab38a3f39d0>,\n",
        " 'second_cbh': <scipy.io.netcdf.netcdf_variable at 0x2ab38a3ea810>,\n",
        " 'status_flag': <scipy.io.netcdf.netcdf_variable at 0x2ab38a3f3490>,\n",
        " 'status_string': <scipy.io.netcdf.netcdf_variable at 0x2ab38a37c5d0>,\n",
        " 'sum_backscatter': <scipy.io.netcdf.netcdf_variable at 0x2ab38a3996d0>,\n",
        " 'third_cbh': <scipy.io.netcdf.netcdf_variable at 0x2ab38a3c0650>,\n",
        " 'tilt_angle': <scipy.io.netcdf.netcdf_variable at 0x2ab38a399d10>,\n",
        " 'time': <scipy.io.netcdf.netcdf_variable at 0x2ab38a288ed0>,\n",
        " 'time_offset': <scipy.io.netcdf.netcdf_variable at 0x2ab38a41ba90>,\n",
        " 'vertical_visibility': <scipy.io.netcdf.netcdf_variable at 0x2ab38a3ead90>,\n",
        " 'window_transmission': <scipy.io.netcdf.netcdf_variable at 0x2ab38a376490>}"
       ]
      }
     ],
     "prompt_number": 21
    },
    {
     "cell_type": "code",
     "collapsed": false,
     "input": [
      "u = x.variables['first_cbh'].data"
     ],
     "language": "python",
     "metadata": {},
     "outputs": [],
     "prompt_number": 22
    },
    {
     "cell_type": "code",
     "collapsed": false,
     "input": [
      "u.shape"
     ],
     "language": "python",
     "metadata": {},
     "outputs": [
      {
       "metadata": {},
       "output_type": "pyout",
       "prompt_number": 23,
       "text": [
        "(5400,)"
       ]
      }
     ],
     "prompt_number": 23
    },
    {
     "cell_type": "code",
     "collapsed": false,
     "input": [
      "import matplotlib.pyplot as plt"
     ],
     "language": "python",
     "metadata": {},
     "outputs": [],
     "prompt_number": 24
    },
    {
     "cell_type": "code",
     "collapsed": false,
     "input": [
      "%matplotlib inline\n",
      "plt.figure(0)"
     ],
     "language": "python",
     "metadata": {},
     "outputs": [
      {
       "metadata": {},
       "output_type": "pyout",
       "prompt_number": 25,
       "text": [
        "<matplotlib.figure.Figure at 0x2ab384582a90>"
       ]
      },
      {
       "metadata": {},
       "output_type": "display_data",
       "text": [
        "<matplotlib.figure.Figure at 0x2ab384582a90>"
       ]
      }
     ],
     "prompt_number": 25
    },
    {
     "cell_type": "code",
     "collapsed": false,
     "input": [
      "plt.plot(u)"
     ],
     "language": "python",
     "metadata": {},
     "outputs": [
      {
       "metadata": {},
       "output_type": "pyout",
       "prompt_number": 26,
       "text": [
        "[<matplotlib.lines.Line2D at 0x2ab384b6df10>]"
       ]
      },
      {
       "metadata": {},
       "output_type": "display_data",
       "png": "[encoded data removed]",
       "text": [
        "<matplotlib.figure.Figure at 0x2ab38a399250>"
       ]
      }
     ],
     "prompt_number": 26
    },
    {
     "cell_type": "code",
     "collapsed": false,
     "input": [
      "heights.shape"
     ],
     "language": "python",
     "metadata": {},
     "outputs": [
      {
       "metadata": {},
       "output_type": "pyout",
       "prompt_number": 51,
       "text": [
        "(3, 5400)"
       ]
      }
     ],
     "prompt_number": 51
    },
    {
     "cell_type": "code",
     "collapsed": false,
     "input": [
      "f.close()"
     ],
     "language": "python",
     "metadata": {},
     "outputs": [],
     "prompt_number": 52
    },
    {
     "cell_type": "code",
     "collapsed": false,
     "input": [
      "import pyhrrr\n",
      "heights = pyhrrr.filter_mask(heights,heights,0)"
     ],
     "language": "python",
     "metadata": {},
     "outputs": [],
     "prompt_number": 58
    },
    {
     "cell_type": "code",
     "collapsed": false,
     "input": [
      "heights"
     ],
     "language": "python",
     "metadata": {},
     "outputs": [
      {
       "metadata": {},
       "output_type": "pyout",
       "prompt_number": 59,
       "text": [
        "masked_array(data =\n",
        " [[-- -- -- ..., -- -- --]\n",
        " [-- -- -- ..., -- -- --]\n",
        " [-- -- -- ..., -- -- --]],\n",
        "             mask =\n",
        " [[ True  True  True ...,  True  True  True]\n",
        " [ True  True  True ...,  True  True  True]\n",
        " [ True  True  True ...,  True  True  True]],\n",
        "       fill_value = 1e+20)"
       ]
      }
     ],
     "prompt_number": 59
    },
    {
     "cell_type": "code",
     "collapsed": false,
     "input": [
      "np.interp?"
     ],
     "language": "python",
     "metadata": {},
     "outputs": [],
     "prompt_number": 62
    },
    {
     "cell_type": "code",
     "collapsed": false,
     "input": [],
     "language": "python",
     "metadata": {},
     "outputs": []
    }
   ],
   "metadata": {}
  }
 ]
}