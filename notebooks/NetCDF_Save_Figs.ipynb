{
 "metadata": {
  "name": "",
  "signature": "sha256:c32004986befb8eb360c49c3fb7e813d82cfacce5d37b63513eeaa2f07635c96"
 },
 "nbformat": 3,
 "nbformat_minor": 0,
 "worksheets": [
  {
   "cells": [
    {
     "cell_type": "code",
     "collapsed": false,
     "input": [
      "import pyhrrr\n",
      "import datetime\n",
      "import matplotlib.pyplot as plt\n",
      "%matplotlib inline\n",
      "#import pylab"
     ],
     "language": "python",
     "metadata": {},
     "outputs": []
    },
    {
     "cell_type": "code",
     "collapsed": false,
     "input": [
      "radar_path = '/data/san_store/gmckercher/kazr2/mckercherg1/160107'\n",
      "sounding_path = '/data/san_store/soundings/sgp/mckercherg1/159821'\n",
      "ceilometer_path = '/data/san_store/gmckercher/ceilometer/sgpvceil25kC1_marchtojune'"
     ],
     "language": "python",
     "metadata": {},
     "outputs": [],
     "prompt_number": 6
    },
    {
     "cell_type": "code",
     "collapsed": false,
     "input": [
      "pyhrrr.plot_kazr(datetime.datetime(2014,3,28),radar_path,sounding_path,ceilometer_path)\n",
      "plt.savefig('foo.png')"
     ],
     "language": "python",
     "metadata": {},
     "outputs": []
    },
    {
     "cell_type": "code",
     "collapsed": false,
     "input": [],
     "language": "python",
     "metadata": {},
     "outputs": []
    }
   ],
   "metadata": {}
  }
 ]
}