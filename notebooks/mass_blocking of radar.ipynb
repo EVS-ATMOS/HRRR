{
 "metadata": {
  "name": "",
  "signature": "sha256:e42ce5e50857d7bb2d615631f11ab4b76ed0c71b5172cc2f55ff5942ca17dd47"
 },
 "nbformat": 3,
 "nbformat_minor": 0,
 "worksheets": [
  {
   "cells": [
    {
     "cell_type": "code",
     "collapsed": false,
     "input": [
      "import pyhrrr\n",
      "import datetime\n",
      "import numpy as np\n",
      "import os\n"
     ],
     "language": "python",
     "metadata": {},
     "outputs": [],
     "prompt_number": 7
    },
    {
     "cell_type": "code",
     "collapsed": false,
     "input": [
      "\n"
     ],
     "language": "python",
     "metadata": {},
     "outputs": [],
     "prompt_number": 7
    },
    {
     "cell_type": "code",
     "collapsed": false,
     "input": [
      "radar_directory = '/data/san_store/gmckercher/kazr2/mckercherg1/160107/'\n",
      "sounding_directory = '/data/san_store/soundings/sgp/mckercherg1/159821/'\n",
      "output_directory ='/home/mjohnson/python/radar_txt/'\n",
      "radar_ident = 15\n",
      "sounding_ident = 18"
     ],
     "language": "python",
     "metadata": {},
     "outputs": [],
     "prompt_number": 8
    },
    {
     "cell_type": "code",
     "collapsed": false,
     "input": [
      "ex_sounding = 'sgpsondewnpnC1.b1.20140426.233700.cdf'\n",
      "ex_radar = 'sgpkazrgeC1.a1.20140427.000000.cdf'"
     ],
     "language": "python",
     "metadata": {},
     "outputs": [],
     "prompt_number": 9
    },
    {
     "cell_type": "code",
     "collapsed": false,
     "input": [
      "ex_sounding[18]"
     ],
     "language": "python",
     "metadata": {},
     "outputs": [
      {
       "metadata": {},
       "output_type": "pyout",
       "prompt_number": 10,
       "text": [
        "'2'"
       ]
      }
     ],
     "prompt_number": 10
    },
    {
     "cell_type": "code",
     "collapsed": false,
     "input": [
      "ex_radar[15]"
     ],
     "language": "python",
     "metadata": {},
     "outputs": [
      {
       "metadata": {},
       "output_type": "pyout",
       "prompt_number": 11,
       "text": [
        "'2'"
       ]
      }
     ],
     "prompt_number": 11
    },
    {
     "cell_type": "code",
     "collapsed": false,
     "input": [
      "pyhrrr.mass_compress_radartohrrr(radar_ident=radar_ident,sounding_ident=sounding_ident,radar_directory=radar_directory,sounding_directory=sounding_directory,output_directory=output_directory)"
     ],
     "language": "python",
     "metadata": {},
     "outputs": [
      {
       "output_type": "stream",
       "stream": "stdout",
       "text": [
        "making:\n",
        "radar.20140313\n",
        "finished:"
       ]
      },
      {
       "output_type": "stream",
       "stream": "stdout",
       "text": [
        "\n",
        "radar.20140313\n",
        "making:\n",
        "radar.20140314\n",
        "finished:"
       ]
      },
      {
       "output_type": "stream",
       "stream": "stdout",
       "text": [
        "\n",
        "radar.20140314\n",
        "making:\n",
        "radar.20140315\n",
        "finished:"
       ]
      },
      {
       "output_type": "stream",
       "stream": "stdout",
       "text": [
        "\n",
        "radar.20140315\n",
        "making:\n",
        "radar.20140316\n",
        "finished:"
       ]
      },
      {
       "output_type": "stream",
       "stream": "stdout",
       "text": [
        "\n",
        "radar.20140316\n",
        "making:\n",
        "radar.20140317\n",
        "finished:"
       ]
      },
      {
       "output_type": "stream",
       "stream": "stdout",
       "text": [
        "\n",
        "radar.20140317\n",
        "making:\n",
        "radar.20140318\n",
        "finished:"
       ]
      },
      {
       "output_type": "stream",
       "stream": "stdout",
       "text": [
        "\n",
        "radar.20140318\n",
        "making:\n",
        "radar.20140319\n",
        "finished:"
       ]
      },
      {
       "output_type": "stream",
       "stream": "stdout",
       "text": [
        "\n",
        "radar.20140319\n",
        "making:\n",
        "radar.20140320\n",
        "finished:"
       ]
      },
      {
       "output_type": "stream",
       "stream": "stdout",
       "text": [
        "\n",
        "radar.20140320\n",
        "making:\n",
        "radar.20140321\n",
        "finished:"
       ]
      },
      {
       "output_type": "stream",
       "stream": "stdout",
       "text": [
        "\n",
        "radar.20140321\n",
        "making:\n",
        "radar.20140322\n",
        "finished:"
       ]
      },
      {
       "output_type": "stream",
       "stream": "stdout",
       "text": [
        "\n",
        "radar.20140322\n",
        "making:\n",
        "radar.20140323\n",
        "finished:"
       ]
      },
      {
       "output_type": "stream",
       "stream": "stdout",
       "text": [
        "\n",
        "radar.20140323\n",
        "making:\n",
        "radar.20140324\n",
        "finished:"
       ]
      },
      {
       "output_type": "stream",
       "stream": "stdout",
       "text": [
        "\n",
        "radar.20140324\n",
        "making:\n",
        "radar.20140325\n",
        "finished:"
       ]
      },
      {
       "output_type": "stream",
       "stream": "stdout",
       "text": [
        "\n",
        "radar.20140325\n",
        "making:\n",
        "radar.20140326\n",
        "finished:"
       ]
      },
      {
       "output_type": "stream",
       "stream": "stdout",
       "text": [
        "\n",
        "radar.20140326\n",
        "making:\n",
        "radar.20140327\n",
        "finished:"
       ]
      },
      {
       "output_type": "stream",
       "stream": "stdout",
       "text": [
        "\n",
        "radar.20140327\n",
        "making:\n",
        "radar.20140328\n",
        "finished:"
       ]
      },
      {
       "output_type": "stream",
       "stream": "stdout",
       "text": [
        "\n",
        "radar.20140328\n",
        "making:\n",
        "radar.20140329\n",
        "finished:"
       ]
      },
      {
       "output_type": "stream",
       "stream": "stdout",
       "text": [
        "\n",
        "radar.20140329\n",
        "making:\n",
        "radar.20140330\n",
        "finished:"
       ]
      },
      {
       "output_type": "stream",
       "stream": "stdout",
       "text": [
        "\n",
        "radar.20140330\n",
        "making:\n",
        "radar.20140331\n",
        "finished:"
       ]
      },
      {
       "output_type": "stream",
       "stream": "stdout",
       "text": [
        "\n",
        "radar.20140331\n",
        "making:\n",
        "radar.20140401\n",
        "making:\n",
        "radar.20140402\n",
        "making:\n",
        "radar.20140403\n",
        "making:\n",
        "radar.20140404\n",
        "making:\n",
        "radar.20140405\n",
        "making:\n",
        "radar.20140406\n",
        "making:\n",
        "radar.20140407\n",
        "making:\n",
        "radar.20140408\n",
        "making:\n",
        "radar.20140409\n",
        "making:\n",
        "radar.20140410\n",
        "making:\n",
        "radar.20140411\n",
        "making:\n",
        "radar.20140412\n",
        "making:\n",
        "radar.20140413\n",
        "making:\n",
        "radar.20140414\n",
        "making:\n",
        "radar.20140415\n",
        "making:\n",
        "radar.20140416\n",
        "making:\n",
        "radar.20140417\n",
        "making:\n",
        "radar.20140418\n",
        "making:\n",
        "radar.20140419\n",
        "making:\n",
        "radar.20140420\n",
        "making:\n",
        "radar.20140421\n",
        "making:\n",
        "radar.20140422\n",
        "making:\n",
        "radar.20140423\n",
        "making:\n",
        "radar.20140424\n",
        "making:\n",
        "radar.20140425\n",
        "making:\n",
        "radar.20140426\n",
        "making:\n",
        "radar.20140427\n",
        "making:\n",
        "radar.20140428\n",
        "making:\n",
        "radar.20140429\n",
        "making:\n",
        "radar.20140430\n",
        "making:\n",
        "radar.20140501\n",
        "making:\n",
        "radar.20140502\n",
        "making:\n",
        "radar.20140503\n",
        "making:\n",
        "radar.20140504\n",
        "making:\n",
        "radar.20140505\n",
        "making:\n",
        "radar.20140506\n",
        "making:\n",
        "radar.20140507\n",
        "making:\n",
        "radar.20140508\n",
        "making:\n",
        "radar.20140509\n",
        "making:\n",
        "radar.20140510\n",
        "making:\n",
        "radar.20140511\n",
        "making:\n",
        "radar.20140512\n",
        "making:\n",
        "radar.20140513\n",
        "making:\n",
        "radar.20140514\n",
        "making:\n",
        "radar.20140515\n",
        "making:\n",
        "radar.20140516\n",
        "making:\n",
        "radar.20140517\n",
        "making:\n",
        "radar.20140518\n",
        "making:\n",
        "radar.20140519\n",
        "making:\n",
        "radar.20140520\n",
        "making:\n",
        "radar.20140521\n",
        "making:\n",
        "radar.20140522\n",
        "making:\n",
        "radar.20140523\n",
        "making:\n",
        "radar.20140524\n",
        "making:\n",
        "radar.20140525\n",
        "making:\n",
        "radar.20140526\n",
        "making:\n",
        "radar.20140527\n",
        "making:\n",
        "radar.20140528\n",
        "making:\n",
        "radar.20140529\n",
        "making:\n",
        "radar.20140530\n",
        "making:\n",
        "radar.20140531\n",
        "making:\n",
        "radar.20140601\n",
        "making:\n",
        "radar.20140602\n",
        "making:\n",
        "radar.20140603\n",
        "making:\n",
        "radar.20140604\n",
        "making:\n",
        "radar.20140605\n",
        "making:\n",
        "radar.20140606\n",
        "making:\n",
        "radar.20140607\n",
        "making:\n",
        "radar.20140608\n",
        "making:\n",
        "radar.20140609\n",
        "making:\n",
        "radar.20140610\n",
        "making:\n",
        "radar.20140611\n"
       ]
      }
     ],
     "prompt_number": 12
    },
    {
     "cell_type": "code",
     "collapsed": false,
     "input": [
      "y = [[1,2,3],[4,5]]"
     ],
     "language": "python",
     "metadata": {},
     "outputs": [],
     "prompt_number": 10
    },
    {
     "cell_type": "code",
     "collapsed": false,
     "input": [
      "y = np.array(y)"
     ],
     "language": "python",
     "metadata": {},
     "outputs": [],
     "prompt_number": 11
    },
    {
     "cell_type": "code",
     "collapsed": false,
     "input": [
      "y.shape"
     ],
     "language": "python",
     "metadata": {},
     "outputs": [
      {
       "metadata": {},
       "output_type": "pyout",
       "prompt_number": 12,
       "text": [
        "(2,)"
       ]
      }
     ],
     "prompt_number": 12
    },
    {
     "cell_type": "code",
     "collapsed": false,
     "input": [
      "np.nan"
     ],
     "language": "python",
     "metadata": {},
     "outputs": [
      {
       "metadata": {},
       "output_type": "pyout",
       "prompt_number": 11,
       "text": [
        "nan"
       ]
      }
     ],
     "prompt_number": 11
    },
    {
     "cell_type": "code",
     "collapsed": false,
     "input": [
      "z = [[1,2,np.nan],[4,5,6]]"
     ],
     "language": "python",
     "metadata": {},
     "outputs": [],
     "prompt_number": 12
    },
    {
     "cell_type": "code",
     "collapsed": false,
     "input": [
      "z = np.array(z)"
     ],
     "language": "python",
     "metadata": {},
     "outputs": [],
     "prompt_number": 23
    },
    {
     "cell_type": "code",
     "collapsed": false,
     "input": [
      "indexes = np.where(z>2)"
     ],
     "language": "python",
     "metadata": {},
     "outputs": [
      {
       "output_type": "stream",
       "stream": "stderr",
       "text": [
        "-c:1: RuntimeWarning: invalid value encountered in greater\n"
       ]
      }
     ],
     "prompt_number": 24
    },
    {
     "cell_type": "code",
     "collapsed": false,
     "input": [
      "indexes = np.array(indexes)"
     ],
     "language": "python",
     "metadata": {},
     "outputs": [],
     "prompt_number": 25
    },
    {
     "cell_type": "code",
     "collapsed": false,
     "input": [
      "indexes.shape"
     ],
     "language": "python",
     "metadata": {},
     "outputs": [
      {
       "metadata": {},
       "output_type": "pyout",
       "prompt_number": 26,
       "text": [
        "(2, 3)"
       ]
      }
     ],
     "prompt_number": 26
    },
    {
     "cell_type": "code",
     "collapsed": false,
     "input": [
      "indexes"
     ],
     "language": "python",
     "metadata": {},
     "outputs": [
      {
       "metadata": {},
       "output_type": "pyout",
       "prompt_number": 32,
       "text": [
        "array([[1, 1, 1],\n",
        "       [0, 1, 2]])"
       ]
      }
     ],
     "prompt_number": 32
    },
    {
     "cell_type": "code",
     "collapsed": false,
     "input": [
      "z[indexes[0][2],indexes[1][2]]"
     ],
     "language": "python",
     "metadata": {},
     "outputs": [
      {
       "metadata": {},
       "output_type": "pyout",
       "prompt_number": 39,
       "text": [
        "6.0"
       ]
      }
     ],
     "prompt_number": 39
    },
    {
     "cell_type": "code",
     "collapsed": false,
     "input": [],
     "language": "python",
     "metadata": {},
     "outputs": [
      {
       "ename": "IndexError",
       "evalue": "index 2 is out of bounds for axis 0 with size 2",
       "output_type": "pyerr",
       "traceback": [
        "\u001b[1;31m---------------------------------------------------------------------------\u001b[0m\n\u001b[1;31mIndexError\u001b[0m                                Traceback (most recent call last)",
        "\u001b[1;32m<ipython-input-35-621e0915868a>\u001b[0m in \u001b[0;36m<module>\u001b[1;34m()\u001b[0m\n\u001b[1;32m----> 1\u001b[1;33m \u001b[0mz\u001b[0m\u001b[1;33m[\u001b[0m\u001b[0mindexes\u001b[0m\u001b[1;33m.\u001b[0m\u001b[0mT\u001b[0m\u001b[1;33m]\u001b[0m\u001b[1;33m\u001b[0m\u001b[0m\n\u001b[0m",
        "\u001b[1;31mIndexError\u001b[0m: index 2 is out of bounds for axis 0 with size 2"
       ]
      }
     ],
     "prompt_number": 35
    },
    {
     "cell_type": "code",
     "collapsed": false,
     "input": [],
     "language": "python",
     "metadata": {},
     "outputs": []
    }
   ],
   "metadata": {}
  }
 ]
}