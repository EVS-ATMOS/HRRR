{
 "metadata": {
  "name": "",
  "signature": "sha256:a72deb4b5d354265acb08f7a482aee4e31b909c23d5ad2542d64487a3233a2a7"
 },
 "nbformat": 3,
 "nbformat_minor": 0,
 "worksheets": [
  {
   "cells": [
    {
     "cell_type": "code",
     "collapsed": false,
     "input": [
      "\\"
     ],
     "language": "python",
     "metadata": {},
     "outputs": []
    }
   ],
   "metadata": {}
  }
 ]
}