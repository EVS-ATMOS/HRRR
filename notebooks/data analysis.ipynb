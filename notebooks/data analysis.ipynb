{
 "metadata": {
  "name": "",
  "signature": "sha256:5afeb2d078687a730cabd72d4852fc8cd41ce88cc6c6df1bb5d8d5687ebefef5"
 },
 "nbformat": 3,
 "nbformat_minor": 0,
 "worksheets": [
  {
   "cells": [
    {
     "cell_type": "code",
     "collapsed": false,
     "input": [
      "import pyhrrr\n",
      "import datetime"
     ],
     "language": "python",
     "metadata": {},
     "outputs": [],
     "prompt_number": 2
    },
    {
     "cell_type": "code",
     "collapsed": false,
     "input": [
      "dates = [datetime.datetime(2014,3,15)+datetime.timedelta(days=i) for i in range(90)]\n",
      "hourlists = [1]\n",
      "directory = \n",
      "filestrings = produce_hrrr_grib2strings(dates,hourlists)"
     ],
     "language": "python",
     "metadata": {},
     "outputs": []
    },
    {
     "cell_type": "code",
     "collapsed": false,
     "input": [
      "os.chdir(directory)"
     ],
     "language": "python",
     "metadata": {},
     "outputs": []
    },
    {
     "cell_type": "code",
     "collapsed": false,
     "input": [],
     "language": "python",
     "metadata": {},
     "outputs": []
    }
   ],
   "metadata": {}
  }
 ]
}